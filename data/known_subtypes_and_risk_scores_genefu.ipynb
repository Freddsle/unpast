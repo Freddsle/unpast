{
 "cells": [
  {
   "cell_type": "code",
   "execution_count": 1,
   "metadata": {},
   "outputs": [],
   "source": [
    "library(breastCancerMAINZ)\n",
    "library(breastCancerTRANSBIG)\n",
    "library(breastCancerUPP)\n",
    "library(breastCancerUNT)\n",
    "library(breastCancerNKI)\n",
    "\n",
    "suppressPackageStartupMessages(library(\"genefu\"))\n",
    "suppressPackageStartupMessages(library(\"AIMS\"))\n",
    "suppressPackageStartupMessages(library(\"caret\"))"
   ]
  },
  {
   "cell_type": "code",
   "execution_count": null,
   "metadata": {},
   "outputs": [],
   "source": []
  },
  {
   "cell_type": "code",
   "execution_count": 4,
   "metadata": {},
   "outputs": [],
   "source": [
    "data_folder <- \"preprocessed/\"\n",
    "# read the file mapping gene ids in expression matrix to Entrez ids \n",
    "#gene_annot_file <- \"../Xena_gene_info.tsv\"\n",
    "gene_annot_file <- \"gene_id_mapping.tsv\"\n",
    "\n",
    "\n",
    "### input\n",
    "\n",
    "### log2(x+1) but *not* z-score transformed expressions\n",
    "#exprs_file <- \"TCGA-BRCA_1079_17Kgenes.Xena_TCGA_PanCan.log2_exprs_v5.tsv\" \n",
    "exprs_file <-\"METABRIC_1904_17Kgenes.log2_exprs_v5.tsv\"\n",
    "\n",
    "\n",
    "### output\n",
    "#output_file <- \"TCGA-BRCA_1079_17Kgenes.Xena_TCGA_PanCan.signatures_v5.tsv\"\n",
    "output_file  <- \"METABRIC_1904_17Kgenes.signatures_v5.tsv\"\n",
    "\n",
    "\n"
   ]
  },
  {
   "cell_type": "code",
   "execution_count": null,
   "metadata": {},
   "outputs": [],
   "source": []
  },
  {
   "cell_type": "code",
   "execution_count": 5,
   "metadata": {},
   "outputs": [
    {
     "data": {
      "text/html": [
       "<table class=\"dataframe\">\n",
       "<caption>A matrix: 3 × 17158 of type dbl</caption>\n",
       "<thead>\n",
       "\t<tr><th></th><th scope=col>A1BG</th><th scope=col>A1CF</th><th scope=col>A2M</th><th scope=col>A3GALT2</th><th scope=col>A4GALT</th><th scope=col>A4GNT</th><th scope=col>AAAS</th><th scope=col>AACS</th><th scope=col>AADAC</th><th scope=col>AADACL2</th><th scope=col>⋯</th><th scope=col>ZWILCH</th><th scope=col>ZWINT</th><th scope=col>ZXDA</th><th scope=col>ZXDB</th><th scope=col>ZXDC</th><th scope=col>ZYG11A</th><th scope=col>ZYG11B</th><th scope=col>ZYX</th><th scope=col>ZZEF1</th><th scope=col>ZZZ3</th></tr>\n",
       "</thead>\n",
       "<tbody>\n",
       "\t<tr><th scope=row>MB-0000</th><td>5.369883</td><td>5.464824</td><td>9.840336</td><td>4.959595</td><td>6.651367</td><td>5.655177</td><td>5.590128</td><td>7.637542</td><td>5.632396</td><td>5.257766</td><td>⋯</td><td>5.259177</td><td>5.650032</td><td>6.279760</td><td>5.709677</td><td>6.623938</td><td>5.165483</td><td>9.003693</td><td>9.197090</td><td>7.536208</td><td>7.689014</td></tr>\n",
       "\t<tr><th scope=row>MB-0002</th><td>5.414432</td><td>5.275869</td><td>8.316607</td><td>5.366424</td><td>6.644259</td><td>5.316182</td><td>6.239036</td><td>8.702124</td><td>5.434290</td><td>5.367004</td><td>⋯</td><td>5.520065</td><td>6.825942</td><td>6.464244</td><td>6.809130</td><td>6.812159</td><td>5.357121</td><td>8.756802</td><td>8.870436</td><td>7.555341</td><td>7.873960</td></tr>\n",
       "\t<tr><th scope=row>MB-0005</th><td>5.527208</td><td>5.453274</td><td>9.924913</td><td>5.477048</td><td>6.243935</td><td>5.228924</td><td>6.086250</td><td>6.781157</td><td>5.583910</td><td>5.465849</td><td>⋯</td><td>6.265199</td><td>7.510925</td><td>6.479330</td><td>6.419635</td><td>5.744392</td><td>5.094948</td><td>9.156367</td><td>8.921823</td><td>6.446280</td><td>8.105143</td></tr>\n",
       "</tbody>\n",
       "</table>\n"
      ],
      "text/latex": [
       "A matrix: 3 × 17158 of type dbl\n",
       "\\begin{tabular}{r|lllllllllllllllllllll}\n",
       "  & A1BG & A1CF & A2M & A3GALT2 & A4GALT & A4GNT & AAAS & AACS & AADAC & AADACL2 & ⋯ & ZWILCH & ZWINT & ZXDA & ZXDB & ZXDC & ZYG11A & ZYG11B & ZYX & ZZEF1 & ZZZ3\\\\\n",
       "\\hline\n",
       "\tMB-0000 & 5.369883 & 5.464824 & 9.840336 & 4.959595 & 6.651367 & 5.655177 & 5.590128 & 7.637542 & 5.632396 & 5.257766 & ⋯ & 5.259177 & 5.650032 & 6.279760 & 5.709677 & 6.623938 & 5.165483 & 9.003693 & 9.197090 & 7.536208 & 7.689014\\\\\n",
       "\tMB-0002 & 5.414432 & 5.275869 & 8.316607 & 5.366424 & 6.644259 & 5.316182 & 6.239036 & 8.702124 & 5.434290 & 5.367004 & ⋯ & 5.520065 & 6.825942 & 6.464244 & 6.809130 & 6.812159 & 5.357121 & 8.756802 & 8.870436 & 7.555341 & 7.873960\\\\\n",
       "\tMB-0005 & 5.527208 & 5.453274 & 9.924913 & 5.477048 & 6.243935 & 5.228924 & 6.086250 & 6.781157 & 5.583910 & 5.465849 & ⋯ & 6.265199 & 7.510925 & 6.479330 & 6.419635 & 5.744392 & 5.094948 & 9.156367 & 8.921823 & 6.446280 & 8.105143\\\\\n",
       "\\end{tabular}\n"
      ],
      "text/markdown": [
       "\n",
       "A matrix: 3 × 17158 of type dbl\n",
       "\n",
       "| <!--/--> | A1BG | A1CF | A2M | A3GALT2 | A4GALT | A4GNT | AAAS | AACS | AADAC | AADACL2 | ⋯ | ZWILCH | ZWINT | ZXDA | ZXDB | ZXDC | ZYG11A | ZYG11B | ZYX | ZZEF1 | ZZZ3 |\n",
       "|---|---|---|---|---|---|---|---|---|---|---|---|---|---|---|---|---|---|---|---|---|---|\n",
       "| MB-0000 | 5.369883 | 5.464824 | 9.840336 | 4.959595 | 6.651367 | 5.655177 | 5.590128 | 7.637542 | 5.632396 | 5.257766 | ⋯ | 5.259177 | 5.650032 | 6.279760 | 5.709677 | 6.623938 | 5.165483 | 9.003693 | 9.197090 | 7.536208 | 7.689014 |\n",
       "| MB-0002 | 5.414432 | 5.275869 | 8.316607 | 5.366424 | 6.644259 | 5.316182 | 6.239036 | 8.702124 | 5.434290 | 5.367004 | ⋯ | 5.520065 | 6.825942 | 6.464244 | 6.809130 | 6.812159 | 5.357121 | 8.756802 | 8.870436 | 7.555341 | 7.873960 |\n",
       "| MB-0005 | 5.527208 | 5.453274 | 9.924913 | 5.477048 | 6.243935 | 5.228924 | 6.086250 | 6.781157 | 5.583910 | 5.465849 | ⋯ | 6.265199 | 7.510925 | 6.479330 | 6.419635 | 5.744392 | 5.094948 | 9.156367 | 8.921823 | 6.446280 | 8.105143 |\n",
       "\n"
      ],
      "text/plain": [
       "        A1BG     A1CF     A2M      A3GALT2  A4GALT   A4GNT    AAAS     AACS    \n",
       "MB-0000 5.369883 5.464824 9.840336 4.959595 6.651367 5.655177 5.590128 7.637542\n",
       "MB-0002 5.414432 5.275869 8.316607 5.366424 6.644259 5.316182 6.239036 8.702124\n",
       "MB-0005 5.527208 5.453274 9.924913 5.477048 6.243935 5.228924 6.086250 6.781157\n",
       "        AADAC    AADACL2  ⋯ ZWILCH   ZWINT    ZXDA     ZXDB     ZXDC    \n",
       "MB-0000 5.632396 5.257766 ⋯ 5.259177 5.650032 6.279760 5.709677 6.623938\n",
       "MB-0002 5.434290 5.367004 ⋯ 5.520065 6.825942 6.464244 6.809130 6.812159\n",
       "MB-0005 5.583910 5.465849 ⋯ 6.265199 7.510925 6.479330 6.419635 5.744392\n",
       "        ZYG11A   ZYG11B   ZYX      ZZEF1    ZZZ3    \n",
       "MB-0000 5.165483 9.003693 9.197090 7.536208 7.689014\n",
       "MB-0002 5.357121 8.756802 8.870436 7.555341 7.873960\n",
       "MB-0005 5.094948 9.156367 8.921823 6.446280 8.105143"
      ]
     },
     "metadata": {},
     "output_type": "display_data"
    }
   ],
   "source": [
    "exprs <- t(read.delim(paste0(data_folder,exprs_file), row.names = 1))\n",
    "rownames(exprs) <- gsub(\"\\\\.\", \"-\",rownames(exprs))\n",
    "exprs <- exprs[,sort(colnames(exprs))]\n",
    "\n",
    "head(exprs,3)"
   ]
  },
  {
   "cell_type": "code",
   "execution_count": 9,
   "metadata": {},
   "outputs": [
    {
     "data": {
      "text/html": [
       "<table class=\"dataframe\">\n",
       "<caption>A data.frame: 3 × 3</caption>\n",
       "<thead>\n",
       "\t<tr><th></th><th scope=col>probe</th><th scope=col>EntrezGene.ID</th><th scope=col>Gene.Symbol</th></tr>\n",
       "\t<tr><th></th><th scope=col>&lt;fct&gt;</th><th scope=col>&lt;dbl&gt;</th><th scope=col>&lt;fct&gt;</th></tr>\n",
       "</thead>\n",
       "<tbody>\n",
       "\t<tr><th scope=row>A1BG</th><td>A1BG</td><td>    1</td><td>A1BG</td></tr>\n",
       "\t<tr><th scope=row>A1CF</th><td>A1CF</td><td>29974</td><td>A1CF</td></tr>\n",
       "\t<tr><th scope=row>A2M</th><td>A2M </td><td>    2</td><td>A2M </td></tr>\n",
       "</tbody>\n",
       "</table>\n"
      ],
      "text/latex": [
       "A data.frame: 3 × 3\n",
       "\\begin{tabular}{r|lll}\n",
       "  & probe & EntrezGene.ID & Gene.Symbol\\\\\n",
       "  & <fct> & <dbl> & <fct>\\\\\n",
       "\\hline\n",
       "\tA1BG & A1BG &     1 & A1BG\\\\\n",
       "\tA1CF & A1CF & 29974 & A1CF\\\\\n",
       "\tA2M & A2M  &     2 & A2M \\\\\n",
       "\\end{tabular}\n"
      ],
      "text/markdown": [
       "\n",
       "A data.frame: 3 × 3\n",
       "\n",
       "| <!--/--> | probe &lt;fct&gt; | EntrezGene.ID &lt;dbl&gt; | Gene.Symbol &lt;fct&gt; |\n",
       "|---|---|---|---|\n",
       "| A1BG | A1BG |     1 | A1BG |\n",
       "| A1CF | A1CF | 29974 | A1CF |\n",
       "| A2M | A2M  |     2 | A2M  |\n",
       "\n"
      ],
      "text/plain": [
       "     probe EntrezGene.ID Gene.Symbol\n",
       "A1BG A1BG      1         A1BG       \n",
       "A1CF A1CF  29974         A1CF       \n",
       "A2M  A2M       2         A2M        "
      ]
     },
     "metadata": {},
     "output_type": "display_data"
    }
   ],
   "source": [
    "gene_anno <- read.delim(paste0(data_folder,gene_annot_file), row.names = 1,sep = \"\\t\")\n",
    "gene_anno <- gene_anno[,c(\"probe\",\"EntrezGene.ID\",\"Gene.Symbol\")]\n",
    "gene_anno <- gene_anno[colnames(exprs),]\n",
    "head(gene_anno,3)"
   ]
  },
  {
   "cell_type": "code",
   "execution_count": 10,
   "metadata": {},
   "outputs": [
    {
     "data": {
      "text/html": [
       "<style>\n",
       ".list-inline {list-style: none; margin:0; padding: 0}\n",
       ".list-inline>li {display: inline-block}\n",
       ".list-inline>li:not(:last-child)::after {content: \"\\00b7\"; padding: 0 .5ex}\n",
       "</style>\n",
       "<ol class=list-inline><li>17158</li><li>3</li></ol>\n"
      ],
      "text/latex": [
       "\\begin{enumerate*}\n",
       "\\item 17158\n",
       "\\item 3\n",
       "\\end{enumerate*}\n"
      ],
      "text/markdown": [
       "1. 17158\n",
       "2. 3\n",
       "\n",
       "\n"
      ],
      "text/plain": [
       "[1] 17158     3"
      ]
     },
     "metadata": {},
     "output_type": "display_data"
    },
    {
     "data": {
      "text/html": [
       "<style>\n",
       ".list-inline {list-style: none; margin:0; padding: 0}\n",
       ".list-inline>li {display: inline-block}\n",
       ".list-inline>li:not(:last-child)::after {content: \"\\00b7\"; padding: 0 .5ex}\n",
       "</style>\n",
       "<ol class=list-inline><li>1904</li><li>17158</li></ol>\n"
      ],
      "text/latex": [
       "\\begin{enumerate*}\n",
       "\\item 1904\n",
       "\\item 17158\n",
       "\\end{enumerate*}\n"
      ],
      "text/markdown": [
       "1. 1904\n",
       "2. 17158\n",
       "\n",
       "\n"
      ],
      "text/plain": [
       "[1]  1904 17158"
      ]
     },
     "metadata": {},
     "output_type": "display_data"
    }
   ],
   "source": [
    "dim(gene_anno)\n",
    "dim(exprs)"
   ]
  },
  {
   "cell_type": "markdown",
   "metadata": {},
   "source": [
    "## PAM50"
   ]
  },
  {
   "cell_type": "code",
   "execution_count": 11,
   "metadata": {},
   "outputs": [
    {
     "data": {
      "text/plain": [
       "pam50_subt\n",
       " Basal   Her2   LumB   LumA Normal \n",
       "   244    244    764    598     54 "
      ]
     },
     "metadata": {},
     "output_type": "display_data"
    },
    {
     "data": {
      "text/plain": [
       "pam50_subt\n",
       "     Basal       Her2       LumB       LumA     Normal \n",
       "0.12815126 0.12815126 0.40126050 0.31407563 0.02836134 "
      ]
     },
     "metadata": {},
     "output_type": "display_data"
    }
   ],
   "source": [
    "SubtypePredictions<-molecular.subtyping(sbt.model = \"pam50\",data = scale(exprs, scale = F, center = T),\n",
    "                                            annot = gene_anno,do.mapping = T, verbose = T)\n",
    "# missed genes\n",
    "#df <- pam50$centroids.map\n",
    "#df[!(df$EntrezGene.ID %in% gene_anno$EntrezGene.ID),]\n",
    "pam50_subt <- SubtypePredictions$subtype\n",
    "table(pam50_subt)\n",
    "table(pam50_subt)/dim(exprs)[[1]]"
   ]
  },
  {
   "cell_type": "code",
   "execution_count": 12,
   "metadata": {},
   "outputs": [
    {
     "data": {
      "text/html": [
       "<table class=\"dataframe\">\n",
       "<caption>A data.frame: 3 × 3</caption>\n",
       "<thead>\n",
       "\t<tr><th></th><th scope=col>probe</th><th scope=col>probe.centroids</th><th scope=col>EntrezGene.ID</th></tr>\n",
       "\t<tr><th></th><th scope=col>&lt;chr&gt;</th><th scope=col>&lt;chr&gt;</th><th scope=col>&lt;int&gt;</th></tr>\n",
       "</thead>\n",
       "<tbody>\n",
       "\t<tr><th scope=row>BAG1</th><td>BAG1   </td><td>BAG1   </td><td>   573</td></tr>\n",
       "\t<tr><th scope=row>GPR160</th><td>GPR160 </td><td>GPR160 </td><td> 26996</td></tr>\n",
       "\t<tr><th scope=row>TMEM45B</th><td>TMEM45B</td><td>TMEM45B</td><td>120224</td></tr>\n",
       "</tbody>\n",
       "</table>\n"
      ],
      "text/latex": [
       "A data.frame: 3 × 3\n",
       "\\begin{tabular}{r|lll}\n",
       "  & probe & probe.centroids & EntrezGene.ID\\\\\n",
       "  & <chr> & <chr> & <int>\\\\\n",
       "\\hline\n",
       "\tBAG1 & BAG1    & BAG1    &    573\\\\\n",
       "\tGPR160 & GPR160  & GPR160  &  26996\\\\\n",
       "\tTMEM45B & TMEM45B & TMEM45B & 120224\\\\\n",
       "\\end{tabular}\n"
      ],
      "text/markdown": [
       "\n",
       "A data.frame: 3 × 3\n",
       "\n",
       "| <!--/--> | probe &lt;chr&gt; | probe.centroids &lt;chr&gt; | EntrezGene.ID &lt;int&gt; |\n",
       "|---|---|---|---|\n",
       "| BAG1 | BAG1    | BAG1    |    573 |\n",
       "| GPR160 | GPR160  | GPR160  |  26996 |\n",
       "| TMEM45B | TMEM45B | TMEM45B | 120224 |\n",
       "\n"
      ],
      "text/plain": [
       "        probe   probe.centroids EntrezGene.ID\n",
       "BAG1    BAG1    BAG1               573       \n",
       "GPR160  GPR160  GPR160           26996       \n",
       "TMEM45B TMEM45B TMEM45B         120224       "
      ]
     },
     "metadata": {},
     "output_type": "display_data"
    }
   ],
   "source": [
    "# missed genes\n",
    "df <- pam50$centroids.map\n",
    "df[!(df$EntrezGene.ID %in% gene_anno$EntrezGene.ID),]"
   ]
  },
  {
   "cell_type": "code",
   "execution_count": 13,
   "metadata": {},
   "outputs": [
    {
     "data": {
      "text/plain": [
       "scmod2_subt\n",
       "            ER-/HER2- ER+/HER2- High Prolif  ER+/HER2- Low Prolif \n",
       "                  365                   692                   645 \n",
       "                HER2+ \n",
       "                  202 "
      ]
     },
     "metadata": {},
     "output_type": "display_data"
    },
    {
     "data": {
      "text/plain": [
       "scmod2_subt\n",
       "            ER-/HER2- ER+/HER2- High Prolif  ER+/HER2- Low Prolif \n",
       "            0.1917017             0.3634454             0.3387605 \n",
       "                HER2+ \n",
       "            0.1060924 "
      ]
     },
     "metadata": {},
     "output_type": "display_data"
    }
   ],
   "source": [
    "SubtypePredictions<-molecular.subtyping(sbt.model = \"scmod2\",data = scale(exprs, scale = F, center = T),\n",
    "                                            annot = gene_anno,do.mapping = T, verbose = TRUE)\n",
    "scmod2_subt <- SubtypePredictions$subtype\n",
    "table(scmod2_subt)\n",
    "table(scmod2_subt)/dim(exprs)[[1]]"
   ]
  },
  {
   "cell_type": "code",
   "execution_count": 14,
   "metadata": {},
   "outputs": [
    {
     "data": {
      "text/plain": [
       "scmod1_subt\n",
       "            ER-/HER2- ER+/HER2- High Prolif  ER+/HER2- Low Prolif \n",
       "                  299                   795                   562 \n",
       "                HER2+ \n",
       "                  248 "
      ]
     },
     "metadata": {},
     "output_type": "display_data"
    },
    {
     "data": {
      "text/plain": [
       "scmod1_subt\n",
       "            ER-/HER2- ER+/HER2- High Prolif  ER+/HER2- Low Prolif \n",
       "            0.1570378             0.4175420             0.2951681 \n",
       "                HER2+ \n",
       "            0.1302521 "
      ]
     },
     "metadata": {},
     "output_type": "display_data"
    }
   ],
   "source": [
    "SubtypePredictions<-molecular.subtyping(sbt.model = \"scmod1\", data = scale(exprs, scale = F, center = T),\n",
    "                                            annot = gene_anno,do.mapping = T, verbose = T)\n",
    "scmod1_subt <- SubtypePredictions$subtype\n",
    "table(scmod1_subt)\n",
    "table(scmod1_subt)/dim(exprs)[[1]]"
   ]
  },
  {
   "cell_type": "code",
   "execution_count": 15,
   "metadata": {},
   "outputs": [
    {
     "name": "stdout",
     "output_type": "stream",
     "text": [
      "Found  570  out of  612  Exp features\n",
      "running classifier with only expression...\n",
      "12345678910111213141516171819202122232425262728293012345678910Fold 1 :123456789101112131415161718192021222324252627282930\n",
      "Fold 2 :123456789101112131415161718192021222324252627282930\n",
      "Fold 3 :123456789101112131415161718192021222324252627282930\n",
      "Fold 4 :123456789101112131415161718192021222324252627282930\n",
      "Fold 5 :123456789101112131415161718192021222324252627282930\n",
      "Fold 6 :123456789101112131415161718192021222324252627282930\n",
      "Fold 7 :123456789101112131415161718192021222324252627282930\n",
      "Fold 8 :123456789101112131415161718192021222324252627282930\n",
      "Fold 9 :123456789101112131415161718192021222324252627282930\n",
      "Fold 10 :123456789101112131415161718192021222324252627282930\n"
     ]
    },
    {
     "data": {
      "text/plain": [
       "intClust_subt\n",
       " iC1  iC2  iC3  iC4  iC5  iC6  iC7  iC8  iC9 iC10 \n",
       " 126   68  340  337  176   73  189  251  122  222 "
      ]
     },
     "metadata": {},
     "output_type": "display_data"
    },
    {
     "data": {
      "text/plain": [
       "intClust_subt\n",
       "       iC1        iC2        iC3        iC4        iC5        iC6        iC7 \n",
       "0.06617647 0.03571429 0.17857143 0.17699580 0.09243697 0.03834034 0.09926471 \n",
       "       iC8        iC9       iC10 \n",
       "0.13182773 0.06407563 0.11659664 "
      ]
     },
     "metadata": {},
     "output_type": "display_data"
    }
   ],
   "source": [
    "SubtypePredictions<-molecular.subtyping(sbt.model = \"intClust\",data = scale(exprs, scale = F, center = T),\n",
    "                                            annot = gene_anno,do.mapping = T, verbose = T)\n",
    "intClust_subt <- SubtypePredictions$subtype\n",
    "table(intClust_subt)\n",
    "table(intClust_subt)/dim(exprs)[[1]]"
   ]
  },
  {
   "cell_type": "code",
   "execution_count": 16,
   "metadata": {
    "scrolled": true
   },
   "outputs": [
    {
     "name": "stderr",
     "output_type": "stream",
     "text": [
      "You are missing the pair or have more than one 1466<79682 in \n",
      "\n",
      "You are missing the pair or have more than one 29842<55765 in \n",
      "\n",
      "You are missing the pair or have more than one 18<79682 in \n",
      "\n",
      "You are missing the pair or have more than one 2330<7272 in \n",
      "\n",
      "You are missing the pair or have more than one 142<7450 in \n",
      "\n",
      "Current k = 20\n",
      "\n"
     ]
    },
    {
     "data": {
      "text/plain": [
       "AIMS_subt\n",
       " Basal   Her2   LumA   LumB Normal \n",
       "   330    269    510    543    252 "
      ]
     },
     "metadata": {},
     "output_type": "display_data"
    },
    {
     "data": {
      "text/plain": [
       "AIMS_subt\n",
       "    Basal      Her2      LumA      LumB    Normal \n",
       "0.1733193 0.1412815 0.2678571 0.2851891 0.1323529 "
      ]
     },
     "metadata": {},
     "output_type": "display_data"
    }
   ],
   "source": [
    "SubtypePredictions<-molecular.subtyping(sbt.model = \"AIMS\",data = scale(exprs, scale = F, center = F),\n",
    "                                            annot = gene_anno,do.mapping = T)\n",
    "AIMS_subt <- SubtypePredictions$subtype\n",
    "table(AIMS_subt)\n",
    "table(AIMS_subt)/dim(exprs)[[1]]\n",
    "AIMS_subt <- AIMS_subt[,\"20\"]"
   ]
  },
  {
   "cell_type": "code",
   "execution_count": null,
   "metadata": {},
   "outputs": [],
   "source": []
  },
  {
   "cell_type": "markdown",
   "metadata": {},
   "source": [
    "### Claudin-low"
   ]
  },
  {
   "cell_type": "code",
   "execution_count": 17,
   "metadata": {},
   "outputs": [
    {
     "data": {
      "text/html": [
       "745"
      ],
      "text/latex": [
       "745"
      ],
      "text/markdown": [
       "745"
      ],
      "text/plain": [
       "[1] 745"
      ]
     },
     "metadata": {},
     "output_type": "display_data"
    }
   ],
   "source": [
    "data(claudinLowData)\n",
    "\n",
    "# from https://github.com/clfougner/ClaudinLow/blob/master/Code/METABRIC_patientData.r\n",
    "entrezID_CLgenes <- claudinLowData$fnames\n",
    "# genes x samples, Entrez gene ids\n",
    "exprs_entrez <- t(exprs)\n",
    "rownames(exprs_entrez) <-gene_anno[rownames(exprs_entrez),\"EntrezGene.ID\"]\n",
    "exprs_entrez <- exprs_entrez[na.omit(rownames(exprs_entrez)),]\n",
    "\n",
    "overlappingCL_entrezID <- intersect(entrezID_CLgenes, rownames(exprs_entrez))\n",
    "length(overlappingCL_entrezID )\n"
   ]
  },
  {
   "cell_type": "code",
   "execution_count": 18,
   "metadata": {},
   "outputs": [
    {
     "data": {
      "text/html": [
       "<style>\n",
       ".list-inline {list-style: none; margin:0; padding: 0}\n",
       ".list-inline>li {display: inline-block}\n",
       ".list-inline>li:not(:last-child)::after {content: \"\\00b7\"; padding: 0 .5ex}\n",
       "</style>\n",
       "<ol class=list-inline><li>745</li><li>1904</li></ol>\n"
      ],
      "text/latex": [
       "\\begin{enumerate*}\n",
       "\\item 745\n",
       "\\item 1904\n",
       "\\end{enumerate*}\n"
      ],
      "text/markdown": [
       "1. 745\n",
       "2. 1904\n",
       "\n",
       "\n"
      ],
      "text/plain": [
       "[1]  745 1904"
      ]
     },
     "metadata": {},
     "output_type": "display_data"
    }
   ],
   "source": [
    "# Select relevant rows\n",
    "exprs_CLGenes <- exprs_entrez[row.names(exprs_entrez) %in% overlappingCL_entrezID, ]\n",
    "dim(exprs_CLGenes )\n",
    "\n",
    "# gene means = 0, sd =1\n",
    "exprs_CLGenes_scaled <- t(scale(t(exprs_CLGenes), scale = T, center = T)) \n"
   ]
  },
  {
   "cell_type": "code",
   "execution_count": 19,
   "metadata": {},
   "outputs": [
    {
     "data": {
      "text/html": [
       "<style>\n",
       ".list-inline {list-style: none; margin:0; padding: 0}\n",
       ".list-inline>li {display: inline-block}\n",
       ".list-inline>li:not(:last-child)::after {content: \"\\00b7\"; padding: 0 .5ex}\n",
       "</style>\n",
       "<ol class=list-inline><li>745</li><li>52</li></ol>\n"
      ],
      "text/latex": [
       "\\begin{enumerate*}\n",
       "\\item 745\n",
       "\\item 52\n",
       "\\end{enumerate*}\n"
      ],
      "text/markdown": [
       "1. 745\n",
       "2. 52\n",
       "\n",
       "\n"
      ],
      "text/plain": [
       "[1] 745  52"
      ]
     },
     "metadata": {},
     "output_type": "display_data"
    }
   ],
   "source": [
    "# Train centroids based on available genes\n",
    "trainingData <- claudinLowData\n",
    "trainingData$xd <- medianCtr(trainingData$xd)\n",
    "trainingData$xd <- trainingData$xd[rownames(trainingData$xd) %in% rownames(exprs_CLGenes), ]\n",
    "dim(trainingData$xd)\n",
    "\n",
    "# gene means = 0, sd =1\n",
    "trainingData_scaled <- t(scale(t(trainingData$xd), scale = TRUE, center = TRUE))"
   ]
  },
  {
   "cell_type": "code",
   "execution_count": 20,
   "metadata": {},
   "outputs": [],
   "source": [
    "#mean(exprs_CLGenes_scaled[\"6712\",])\n",
    "#sd(exprs_CLGenes_scaled[\"6712\",])\n",
    "#mean(trainingData_scaled [\"6712\",])\n",
    "#sd(trainingData_scaled  [\"6712\",])"
   ]
  },
  {
   "cell_type": "code",
   "execution_count": 21,
   "metadata": {
    "scrolled": true
   },
   "outputs": [
    {
     "name": "stdout",
     "output_type": "stream",
     "text": [
      "[1] \"Number of genes used: 745\"\n"
     ]
    },
    {
     "data": {
      "text/html": [
       "86"
      ],
      "text/latex": [
       "86"
      ],
      "text/markdown": [
       "86"
      ],
      "text/plain": [
       "[1] 86"
      ]
     },
     "metadata": {},
     "output_type": "display_data"
    }
   ],
   "source": [
    "cl_class <- claudinLow(x = trainingData_scaled, \n",
    "                       classes = as.matrix(trainingData$classes$Group, ncol = 1),\n",
    "                       y = exprs_CLGenes_scaled,\n",
    "                       distm = \"euclidean\")\n",
    "\n",
    "pred_cl <- cl_class$predictions\n",
    "pred_cl <- data.frame(sample_id = gsub(\"\\\\.\", \"-\", rownames(pred_cl)),\n",
    "                      ClaudinLow = as.character(pred_cl$Call),\n",
    "                      stringsAsFactors = FALSE)\n",
    "pred_cl[pred_cl$ClaudinLow==\"Others\",\"claudin_low\"] <- 0\n",
    "length(pred_cl[pred_cl$ClaudinLow==\"Claudin\",\"claudin_low\"])\n",
    "pred_cl[pred_cl$ClaudinLow==\"Claudin\",\"claudin_low\"] <- 1\n"
   ]
  },
  {
   "cell_type": "code",
   "execution_count": 22,
   "metadata": {},
   "outputs": [
    {
     "data": {
      "text/html": [
       "<table class=\"dataframe\">\n",
       "<caption>A matrix: 3 × 7 of type chr</caption>\n",
       "<thead>\n",
       "\t<tr><th></th><th scope=col>sample_id</th><th scope=col>PAM50</th><th scope=col>claudin_low</th><th scope=col>SCMOD2</th><th scope=col>SCMOD1</th><th scope=col>inClust</th><th scope=col>AIMS</th></tr>\n",
       "</thead>\n",
       "<tbody>\n",
       "\t<tr><th scope=row>MB-0000</th><td>MB-0000</td><td>Normal</td><td>1</td><td>ER-/HER2-            </td><td>ER-/HER2-            </td><td>4</td><td>Normal</td></tr>\n",
       "\t<tr><th scope=row>MB-0002</th><td>MB-0002</td><td>LumA  </td><td>0</td><td>ER+/HER2- Low Prolif </td><td>ER+/HER2- High Prolif</td><td>4</td><td>LumA  </td></tr>\n",
       "\t<tr><th scope=row>MB-0005</th><td>MB-0005</td><td>LumB  </td><td>0</td><td>ER+/HER2- High Prolif</td><td>ER+/HER2- Low Prolif </td><td>3</td><td>LumB  </td></tr>\n",
       "</tbody>\n",
       "</table>\n"
      ],
      "text/latex": [
       "A matrix: 3 × 7 of type chr\n",
       "\\begin{tabular}{r|lllllll}\n",
       "  & sample\\_id & PAM50 & claudin\\_low & SCMOD2 & SCMOD1 & inClust & AIMS\\\\\n",
       "\\hline\n",
       "\tMB-0000 & MB-0000 & Normal & 1 & ER-/HER2-             & ER-/HER2-             & 4 & Normal\\\\\n",
       "\tMB-0002 & MB-0002 & LumA   & 0 & ER+/HER2- Low Prolif  & ER+/HER2- High Prolif & 4 & LumA  \\\\\n",
       "\tMB-0005 & MB-0005 & LumB   & 0 & ER+/HER2- High Prolif & ER+/HER2- Low Prolif  & 3 & LumB  \\\\\n",
       "\\end{tabular}\n"
      ],
      "text/markdown": [
       "\n",
       "A matrix: 3 × 7 of type chr\n",
       "\n",
       "| <!--/--> | sample_id | PAM50 | claudin_low | SCMOD2 | SCMOD1 | inClust | AIMS |\n",
       "|---|---|---|---|---|---|---|---|\n",
       "| MB-0000 | MB-0000 | Normal | 1 | ER-/HER2-             | ER-/HER2-             | 4 | Normal |\n",
       "| MB-0002 | MB-0002 | LumA   | 0 | ER+/HER2- Low Prolif  | ER+/HER2- High Prolif | 4 | LumA   |\n",
       "| MB-0005 | MB-0005 | LumB   | 0 | ER+/HER2- High Prolif | ER+/HER2- Low Prolif  | 3 | LumB   |\n",
       "\n"
      ],
      "text/plain": [
       "        sample_id PAM50  claudin_low SCMOD2               \n",
       "MB-0000 MB-0000   Normal 1           ER-/HER2-            \n",
       "MB-0002 MB-0002   LumA   0           ER+/HER2- Low Prolif \n",
       "MB-0005 MB-0005   LumB   0           ER+/HER2- High Prolif\n",
       "        SCMOD1                inClust AIMS  \n",
       "MB-0000 ER-/HER2-             4       Normal\n",
       "MB-0002 ER+/HER2- High Prolif 4       LumA  \n",
       "MB-0005 ER+/HER2- Low Prolif  3       LumB  "
      ]
     },
     "metadata": {},
     "output_type": "display_data"
    }
   ],
   "source": [
    "sample_id <- pred_cl$sample_id\n",
    "claudin_low <- pred_cl[,\"claudin_low\"]\n",
    "pam50_subt <- as.character(pam50_subt)\n",
    "subtypes <- cbind(\"sample_id\"=sample_id,\"PAM50\"=pam50_subt,\n",
    "                  \"claudin_low\"=claudin_low,\n",
    "                  \"SCMOD2\"=scmod2_subt,\"SCMOD1\"=scmod1_subt,\n",
    "                  \"inClust\"=intClust_subt,\"AIMS\"=AIMS_subt)\n",
    "head(subtypes,3)\n",
    "#write.table(subtypes,paste0(data_folder,subtype_file),sep = \"\\t\",quote = FALSE,row.names = F)"
   ]
  },
  {
   "cell_type": "code",
   "execution_count": 23,
   "metadata": {},
   "outputs": [
    {
     "data": {
      "text/html": [
       "<style>\n",
       ".list-inline {list-style: none; margin:0; padding: 0}\n",
       ".list-inline>li {display: inline-block}\n",
       ".list-inline>li:not(:last-child)::after {content: \"\\00b7\"; padding: 0 .5ex}\n",
       "</style>\n",
       "<ol class=list-inline><li>'ER-/HER2-'</li><li>'ER+/HER2- Low Prolif'</li><li>'ER+/HER2- High Prolif'</li><li>'HER2+'</li></ol>\n"
      ],
      "text/latex": [
       "\\begin{enumerate*}\n",
       "\\item 'ER-/HER2-'\n",
       "\\item 'ER+/HER2- Low Prolif'\n",
       "\\item 'ER+/HER2- High Prolif'\n",
       "\\item 'HER2+'\n",
       "\\end{enumerate*}\n"
      ],
      "text/markdown": [
       "1. 'ER-/HER2-'\n",
       "2. 'ER+/HER2- Low Prolif'\n",
       "3. 'ER+/HER2- High Prolif'\n",
       "4. 'HER2+'\n",
       "\n",
       "\n"
      ],
      "text/plain": [
       "[1] \"ER-/HER2-\"             \"ER+/HER2- Low Prolif\"  \"ER+/HER2- High Prolif\"\n",
       "[4] \"HER2+\"                "
      ]
     },
     "metadata": {},
     "output_type": "display_data"
    }
   ],
   "source": [
    "unique(subtypes[,\"SCMOD2\"])\n",
    "#rownames(subtypes)[subtypes[,\"scmod2_subt\"]==\"HER2+\"]"
   ]
  },
  {
   "cell_type": "markdown",
   "metadata": {},
   "source": [
    "# Known signatures and risk scores "
   ]
  },
  {
   "cell_type": "code",
   "execution_count": 24,
   "metadata": {
    "scrolled": false
   },
   "outputs": [
    {
     "name": "stdout",
     "output_type": "stream",
     "text": [
      "[1] \"SCMGENE- three gene\"\n"
     ]
    },
    {
     "name": "stderr",
     "output_type": "stream",
     "text": [
      "probe candidates: 1/1\n",
      "\n",
      "probe candidates: 1/1\n",
      "\n",
      "probe candidates: 1/1\n",
      "\n",
      "probe candidates: 433/469\n",
      "\n"
     ]
    },
    {
     "name": "stdout",
     "output_type": "stream",
     "text": [
      "[1] \"Desmedt2008_ESR1\"\n"
     ]
    },
    {
     "name": "stderr",
     "output_type": "stream",
     "text": [
      "probe candidates: 28/28\n",
      "\n"
     ]
    },
    {
     "name": "stdout",
     "output_type": "stream",
     "text": [
      "[1] \"Desmedt2008_ERBB2\"\n"
     ]
    },
    {
     "name": "stderr",
     "output_type": "stream",
     "text": [
      "probe candidates: 223/229\n",
      "\n"
     ]
    },
    {
     "name": "stdout",
     "output_type": "stream",
     "text": [
      "[1] \"Desmedt2008_AURKA\"\n"
     ]
    },
    {
     "name": "stderr",
     "output_type": "stream",
     "text": [
      "probe candidates: 67/68\n",
      "\n"
     ]
    },
    {
     "name": "stdout",
     "output_type": "stream",
     "text": [
      "[1] \"Desmedt2008_PLAU\"\n"
     ]
    },
    {
     "name": "stderr",
     "output_type": "stream",
     "text": [
      "probe candidates: 13/14\n",
      "\n"
     ]
    },
    {
     "name": "stdout",
     "output_type": "stream",
     "text": [
      "[1] \"Desmedt2008_VEGF\"\n"
     ]
    },
    {
     "name": "stderr",
     "output_type": "stream",
     "text": [
      "probe candidates: 88/95\n",
      "\n"
     ]
    },
    {
     "name": "stdout",
     "output_type": "stream",
     "text": [
      "[1] \"Desmedt2008_STAT1\"\n"
     ]
    },
    {
     "name": "stderr",
     "output_type": "stream",
     "text": [
      "probe candidates: 9/10\n",
      "\n"
     ]
    },
    {
     "name": "stdout",
     "output_type": "stream",
     "text": [
      "[1] \"Desmedt2008_CASP3\"\n",
      "[1] \"GENIUS\"\n",
      "[1] \"EndoPredict\"\n"
     ]
    },
    {
     "name": "stderr",
     "output_type": "stream",
     "text": [
      "probe candidates: 7/8\n",
      "\n"
     ]
    },
    {
     "name": "stdout",
     "output_type": "stream",
     "text": [
      "[1] \"OncotypeDx - GENE21\"\n"
     ]
    },
    {
     "name": "stderr",
     "output_type": "stream",
     "text": [
      "probe candidates: 15/16\n",
      "\n"
     ]
    },
    {
     "name": "stdout",
     "output_type": "stream",
     "text": [
      "[1] \"GGI - grade index\"\n"
     ]
    },
    {
     "name": "stderr",
     "output_type": "stream",
     "text": [
      "probe candidates: 102/128\n",
      "\n"
     ]
    },
    {
     "name": "stdout",
     "output_type": "stream",
     "text": [
      "[1] \"TAMR13 - Tamoxifen response\"\n"
     ]
    },
    {
     "name": "stderr",
     "output_type": "stream",
     "text": [
      "probe candidates: 4/7\n",
      "\n",
      "probe candidates: 27/45\n",
      "\n",
      "probe candidates: 10/14\n",
      "\n",
      "probe candidates: 24/38\n",
      "\n",
      "probe candidates: 3/8\n",
      "\n",
      "probe candidates: 25/36\n",
      "\n",
      "probe candidates: 4/7\n",
      "\n",
      "probe candidates: 7/21\n",
      "\n",
      "probe candidates: 15/26\n",
      "\n",
      "probe candidates: 15/30\n",
      "\n",
      "probe candidates: 3/7\n",
      "\n"
     ]
    },
    {
     "name": "stdout",
     "output_type": "stream",
     "text": [
      "[1] \"Mammaprint - GENE70\"\n"
     ]
    },
    {
     "name": "stderr",
     "output_type": "stream",
     "text": [
      "49/70 probes are used to compute the score\n",
      "\n",
      "no standardization of the gene expressions\n",
      "\n"
     ]
    },
    {
     "name": "stdout",
     "output_type": "stream",
     "text": [
      "[1] \"PIK3CA\"\n"
     ]
    },
    {
     "name": "stderr",
     "output_type": "stream",
     "text": [
      "probe candidates: 225/278\n",
      "\n"
     ]
    },
    {
     "name": "stdout",
     "output_type": "stream",
     "text": [
      "[1] \"RorS\"\n"
     ]
    },
    {
     "data": {
      "text/html": [
       "<table class=\"dataframe\">\n",
       "<caption>A matrix: 5 × 26 of type dbl</caption>\n",
       "<thead>\n",
       "\t<tr><th></th><th scope=col>AURKA</th><th scope=col>ESR1</th><th scope=col>ERBB2</th><th scope=col>Desmedt2008_ESR1</th><th scope=col>Desmedt2008_ERBB2</th><th scope=col>Desmedt2008_AURKA</th><th scope=col>Desmedt2008_PLAU</th><th scope=col>Desmedt2008_VEGF</th><th scope=col>Desmedt2008_STAT1</th><th scope=col>Desmedt2008_CASP3</th><th scope=col>⋯</th><th scope=col>OncotypeDx</th><th scope=col>OncotypeDx_risk</th><th scope=col>GGI</th><th scope=col>TAMR13</th><th scope=col>GENE70</th><th scope=col>GENE70_risk</th><th scope=col>verbose</th><th scope=col>PIK3CA</th><th scope=col>rorS</th><th scope=col>rorS_risk</th></tr>\n",
       "</thead>\n",
       "<tbody>\n",
       "\t<tr><th scope=row>MB-0000</th><td>6.148950</td><td> 8.929817</td><td> 9.333972</td><td>1.122729</td><td>4.362967</td><td>1.069513</td><td>5.382351</td><td>-1.6399264</td><td>6.741159</td><td>-1.569133</td><td>⋯</td><td>NA</td><td>NA</td><td>4.085216</td><td>-37.47346</td><td>-0.38765306</td><td>0</td><td>1</td><td>1.478941</td><td> 0.00000</td><td>1</td></tr>\n",
       "\t<tr><th scope=row>MB-0002</th><td>7.247495</td><td>10.047059</td><td> 9.729606</td><td>1.985260</td><td>4.531835</td><td>1.714929</td><td>5.440198</td><td>-0.9928992</td><td>6.338358</td><td>-1.717078</td><td>⋯</td><td>NA</td><td>NA</td><td>4.654126</td><td>-30.25150</td><td>-0.22755102</td><td>1</td><td>1</td><td>1.367254</td><td>46.30432</td><td>2</td></tr>\n",
       "\t<tr><th scope=row>MB-0005</th><td>7.317185</td><td>10.041281</td><td> 9.725825</td><td>1.629221</td><td>4.374361</td><td>1.630036</td><td>5.730484</td><td>-1.5755017</td><td>6.810293</td><td>-1.211142</td><td>⋯</td><td>NA</td><td>NA</td><td>4.855819</td><td>-31.82141</td><td>-0.04551020</td><td>1</td><td>1</td><td>1.748682</td><td>58.47860</td><td>3</td></tr>\n",
       "\t<tr><th scope=row>MB-0006</th><td>9.283242</td><td>10.404685</td><td>10.334979</td><td>1.650139</td><td>4.581135</td><td>1.772883</td><td>5.488209</td><td>-1.7953025</td><td>7.017693</td><td>-1.322573</td><td>⋯</td><td>NA</td><td>NA</td><td>4.790510</td><td>-30.57637</td><td>-0.05163265</td><td>1</td><td>1</td><td>1.386300</td><td>58.75490</td><td>3</td></tr>\n",
       "\t<tr><th scope=row>MB-0008</th><td>8.021490</td><td>11.276581</td><td> 9.956267</td><td>1.778770</td><td>4.817622</td><td>2.014978</td><td>5.192804</td><td>-1.3017143</td><td>7.232848</td><td>-1.412366</td><td>⋯</td><td>NA</td><td>NA</td><td>5.395154</td><td>-28.44974</td><td> 0.10163265</td><td>1</td><td>1</td><td>1.453307</td><td>63.83198</td><td>3</td></tr>\n",
       "</tbody>\n",
       "</table>\n"
      ],
      "text/latex": [
       "A matrix: 5 × 26 of type dbl\n",
       "\\begin{tabular}{r|lllllllllllllllllllll}\n",
       "  & AURKA & ESR1 & ERBB2 & Desmedt2008\\_ESR1 & Desmedt2008\\_ERBB2 & Desmedt2008\\_AURKA & Desmedt2008\\_PLAU & Desmedt2008\\_VEGF & Desmedt2008\\_STAT1 & Desmedt2008\\_CASP3 & ⋯ & OncotypeDx & OncotypeDx\\_risk & GGI & TAMR13 & GENE70 & GENE70\\_risk & verbose & PIK3CA & rorS & rorS\\_risk\\\\\n",
       "\\hline\n",
       "\tMB-0000 & 6.148950 &  8.929817 &  9.333972 & 1.122729 & 4.362967 & 1.069513 & 5.382351 & -1.6399264 & 6.741159 & -1.569133 & ⋯ & NA & NA & 4.085216 & -37.47346 & -0.38765306 & 0 & 1 & 1.478941 &  0.00000 & 1\\\\\n",
       "\tMB-0002 & 7.247495 & 10.047059 &  9.729606 & 1.985260 & 4.531835 & 1.714929 & 5.440198 & -0.9928992 & 6.338358 & -1.717078 & ⋯ & NA & NA & 4.654126 & -30.25150 & -0.22755102 & 1 & 1 & 1.367254 & 46.30432 & 2\\\\\n",
       "\tMB-0005 & 7.317185 & 10.041281 &  9.725825 & 1.629221 & 4.374361 & 1.630036 & 5.730484 & -1.5755017 & 6.810293 & -1.211142 & ⋯ & NA & NA & 4.855819 & -31.82141 & -0.04551020 & 1 & 1 & 1.748682 & 58.47860 & 3\\\\\n",
       "\tMB-0006 & 9.283242 & 10.404685 & 10.334979 & 1.650139 & 4.581135 & 1.772883 & 5.488209 & -1.7953025 & 7.017693 & -1.322573 & ⋯ & NA & NA & 4.790510 & -30.57637 & -0.05163265 & 1 & 1 & 1.386300 & 58.75490 & 3\\\\\n",
       "\tMB-0008 & 8.021490 & 11.276581 &  9.956267 & 1.778770 & 4.817622 & 2.014978 & 5.192804 & -1.3017143 & 7.232848 & -1.412366 & ⋯ & NA & NA & 5.395154 & -28.44974 &  0.10163265 & 1 & 1 & 1.453307 & 63.83198 & 3\\\\\n",
       "\\end{tabular}\n"
      ],
      "text/markdown": [
       "\n",
       "A matrix: 5 × 26 of type dbl\n",
       "\n",
       "| <!--/--> | AURKA | ESR1 | ERBB2 | Desmedt2008_ESR1 | Desmedt2008_ERBB2 | Desmedt2008_AURKA | Desmedt2008_PLAU | Desmedt2008_VEGF | Desmedt2008_STAT1 | Desmedt2008_CASP3 | ⋯ | OncotypeDx | OncotypeDx_risk | GGI | TAMR13 | GENE70 | GENE70_risk | verbose | PIK3CA | rorS | rorS_risk |\n",
       "|---|---|---|---|---|---|---|---|---|---|---|---|---|---|---|---|---|---|---|---|---|---|\n",
       "| MB-0000 | 6.148950 |  8.929817 |  9.333972 | 1.122729 | 4.362967 | 1.069513 | 5.382351 | -1.6399264 | 6.741159 | -1.569133 | ⋯ | NA | NA | 4.085216 | -37.47346 | -0.38765306 | 0 | 1 | 1.478941 |  0.00000 | 1 |\n",
       "| MB-0002 | 7.247495 | 10.047059 |  9.729606 | 1.985260 | 4.531835 | 1.714929 | 5.440198 | -0.9928992 | 6.338358 | -1.717078 | ⋯ | NA | NA | 4.654126 | -30.25150 | -0.22755102 | 1 | 1 | 1.367254 | 46.30432 | 2 |\n",
       "| MB-0005 | 7.317185 | 10.041281 |  9.725825 | 1.629221 | 4.374361 | 1.630036 | 5.730484 | -1.5755017 | 6.810293 | -1.211142 | ⋯ | NA | NA | 4.855819 | -31.82141 | -0.04551020 | 1 | 1 | 1.748682 | 58.47860 | 3 |\n",
       "| MB-0006 | 9.283242 | 10.404685 | 10.334979 | 1.650139 | 4.581135 | 1.772883 | 5.488209 | -1.7953025 | 7.017693 | -1.322573 | ⋯ | NA | NA | 4.790510 | -30.57637 | -0.05163265 | 1 | 1 | 1.386300 | 58.75490 | 3 |\n",
       "| MB-0008 | 8.021490 | 11.276581 |  9.956267 | 1.778770 | 4.817622 | 2.014978 | 5.192804 | -1.3017143 | 7.232848 | -1.412366 | ⋯ | NA | NA | 5.395154 | -28.44974 |  0.10163265 | 1 | 1 | 1.453307 | 63.83198 | 3 |\n",
       "\n"
      ],
      "text/plain": [
       "        AURKA    ESR1      ERBB2     Desmedt2008_ESR1 Desmedt2008_ERBB2\n",
       "MB-0000 6.148950  8.929817  9.333972 1.122729         4.362967         \n",
       "MB-0002 7.247495 10.047059  9.729606 1.985260         4.531835         \n",
       "MB-0005 7.317185 10.041281  9.725825 1.629221         4.374361         \n",
       "MB-0006 9.283242 10.404685 10.334979 1.650139         4.581135         \n",
       "MB-0008 8.021490 11.276581  9.956267 1.778770         4.817622         \n",
       "        Desmedt2008_AURKA Desmedt2008_PLAU Desmedt2008_VEGF Desmedt2008_STAT1\n",
       "MB-0000 1.069513          5.382351         -1.6399264       6.741159         \n",
       "MB-0002 1.714929          5.440198         -0.9928992       6.338358         \n",
       "MB-0005 1.630036          5.730484         -1.5755017       6.810293         \n",
       "MB-0006 1.772883          5.488209         -1.7953025       7.017693         \n",
       "MB-0008 2.014978          5.192804         -1.3017143       7.232848         \n",
       "        Desmedt2008_CASP3 ⋯ OncotypeDx OncotypeDx_risk GGI      TAMR13   \n",
       "MB-0000 -1.569133         ⋯ NA         NA              4.085216 -37.47346\n",
       "MB-0002 -1.717078         ⋯ NA         NA              4.654126 -30.25150\n",
       "MB-0005 -1.211142         ⋯ NA         NA              4.855819 -31.82141\n",
       "MB-0006 -1.322573         ⋯ NA         NA              4.790510 -30.57637\n",
       "MB-0008 -1.412366         ⋯ NA         NA              5.395154 -28.44974\n",
       "        GENE70      GENE70_risk verbose PIK3CA   rorS     rorS_risk\n",
       "MB-0000 -0.38765306 0           1       1.478941  0.00000 1        \n",
       "MB-0002 -0.22755102 1           1       1.367254 46.30432 2        \n",
       "MB-0005 -0.04551020 1           1       1.748682 58.47860 3        \n",
       "MB-0006 -0.05163265 1           1       1.386300 58.75490 3        \n",
       "MB-0008  0.10163265 1           1       1.453307 63.83198 3        "
      ]
     },
     "metadata": {},
     "output_type": "display_data"
    }
   ],
   "source": [
    "data(mod1)\n",
    "signatures <- NULL\n",
    "# \n",
    "print(\"SCMGENE- three gene\")\n",
    "modt <- scmgene.robust$mod$AURKA\n",
    "signatures <- cbind(signatures, \"AURKA\"=sig.score(x=modt, data=exprs, annot=gene_anno,do.mapping=TRUE, verbose = TRUE)$score)\n",
    "modt <- scmgene.robust$mod$ESR1\n",
    "signatures <- cbind(signatures, \"ESR1\"=sig.score(x=modt, data=exprs, annot=gene_anno, do.mapping=TRUE, verbose = TRUE)$score)\n",
    "modt <- scmgene.robust$mod$ERBB2\n",
    "signatures <- cbind(signatures, \"ERBB2\"=sig.score(x=modt, data=exprs, annot=gene_anno, do.mapping=TRUE, verbose = TRUE)$score)\n",
    "\n",
    "# seven modules from Desmedt2008 et al\n",
    "for (module in names(mod1)){\n",
    "    x <- sig.score(mod1[[module]], exprs, gene_anno, do.mapping = TRUE, signed = TRUE, verbose = TRUE)$score\n",
    "    module_name <- paste0('Desmedt2008_',module) \n",
    "    print(module_name)\n",
    "    signatures <- cbind(signatures, x)\n",
    "    colnames(signatures)[length(colnames(signatures))] <- module_name\n",
    "}\n",
    "\n",
    "print(\"GENIUS\")\n",
    "# GENIUSM1 Risk score from the ER-/HER2- subtype signature in GENIUS model.\n",
    "# GENIUSM2 HER2+ subtype signature\n",
    "# GENIUSM3 ER+/HER2- subtype \n",
    "genius_results <- genius(data=exprs, annot=gene_anno, do.mapping=TRUE)\n",
    "signatures <- cbind(signatures, \"GENIUS\"=genius_results$score,\"GENIUSM1\"=genius_results$GENIUSM1,\n",
    "              \"GENIUSM2\"=genius_results$GENIUSM2,\n",
    "              \"GENIUSM3\"=genius_results$GENIUSM3)\n",
    "\n",
    "# Filipits et al. (2011). \"A new molecular predictor of distant recurrence in ER-positive, HER2-negative breast cancer adds independent information to conventional clinical risk factors.\" \n",
    "print(\"EndoPredict\")\n",
    "ep_results <- genefu::endoPredict(data=exprs, annot=gene_anno, do.mapping=TRUE, verbose = TRUE)\n",
    "signatures <- cbind(signatures, \"EndoPredict\"=ep_results$score, \"EndoPredict_risk\"=ep_results$risk)\n",
    "\n",
    "# Paik et al. (2004) \"A Multigene Assay to Predict Recurrence of Tamoxifen-Treated, Node-Negative Breast Cancer\"\n",
    "print(\"OncotypeDx - GENE21\")\n",
    "od_results <- genefu::oncotypedx(data=exprs, annot=gene_anno, do.mapping=TRUE, verbose = TRUE)\n",
    "signatures <- cbind(signatures, \"OncotypeDx\"=od_results$score, \"OncotypeDx_risk\"=od_results$risk)\n",
    "\n",
    "print(\"GGI - grade index\")\n",
    "signatures <- cbind(signatures, \"GGI\"=ggi(data=exprs, annot=gene_anno, do.mapping=TRUE, verbose = TRUE)$score)\n",
    "\n",
    "print(\"TAMR13 - Tamoxifen response\")\n",
    "signatures <- cbind(signatures, \"TAMR13\"=tamr13(data=exprs, annot=gene_anno, do.mapping=TRUE, verbose = TRUE)$score)\n",
    "\n",
    "# mammaPrint\n",
    "print(\"Mammaprint - GENE70\")\n",
    "gene70_results <- gene70(data=exprs, annot=gene_anno, std=\"none\",do.mapping=TRUE, verbose = TRUE)\n",
    "signatures <- cbind(signatures, \"GENE70\"=gene70_results$score,\"GENE70_risk\"=gene70_results$risk, verbose = TRUE)\n",
    "\n",
    "print(\"PIK3CA\")\n",
    "signatures <- cbind(signatures, \"PIK3CA\"=pik3cags(data=exprs, annot=gene_anno, do.mapping=TRUE, verbose = TRUE))\n",
    "print(\"RorS\")\n",
    "rors_results <- rorS(data=exprs, annot=gene_anno, do.mapping=TRUE, verbose = TRUE)\n",
    "signatures <- cbind(signatures, \"rorS\"=rors_results$score,\"rorS_risk\"=rors_results$risk)\n",
    "\n",
    "head(signatures,5)"
   ]
  },
  {
   "cell_type": "code",
   "execution_count": 25,
   "metadata": {},
   "outputs": [],
   "source": [
    "#write.table(cbind(subtypes,signatures),paste0(data_folder,output_file),sep = \"\\t\",quote = FALSE,row.names = F)"
   ]
  },
  {
   "cell_type": "markdown",
   "metadata": {},
   "source": [
    "## OncotypeDx and EndoPredict run separately because they require all genes\n",
    "- functions are modified such that it replaces NAs with 0 \n",
    "- (NAs appear due to sd=0 for added genes)"
   ]
  },
  {
   "cell_type": "code",
   "execution_count": 26,
   "metadata": {},
   "outputs": [
    {
     "data": {
      "text/html": [
       "<table class=\"dataframe\">\n",
       "<caption>A data.frame: 3 × 3</caption>\n",
       "<thead>\n",
       "\t<tr><th></th><th scope=col>probe</th><th scope=col>EntrezGene.ID</th><th scope=col>Gene.Symbol</th></tr>\n",
       "\t<tr><th></th><th scope=col>&lt;fct&gt;</th><th scope=col>&lt;dbl&gt;</th><th scope=col>&lt;fct&gt;</th></tr>\n",
       "</thead>\n",
       "<tbody>\n",
       "\t<tr><th scope=row>RERE</th><td>RERE  </td><td>   473</td><td>RERE  </td></tr>\n",
       "\t<tr><th scope=row>RNF165</th><td>RNF165</td><td>494470</td><td>RNF165</td></tr>\n",
       "\t<tr><th scope=row>PHF7</th><td>PHF7  </td><td> 51533</td><td>PHF7  </td></tr>\n",
       "</tbody>\n",
       "</table>\n"
      ],
      "text/latex": [
       "A data.frame: 3 × 3\n",
       "\\begin{tabular}{r|lll}\n",
       "  & probe & EntrezGene.ID & Gene.Symbol\\\\\n",
       "  & <fct> & <dbl> & <fct>\\\\\n",
       "\\hline\n",
       "\tRERE & RERE   &    473 & RERE  \\\\\n",
       "\tRNF165 & RNF165 & 494470 & RNF165\\\\\n",
       "\tPHF7 & PHF7   &  51533 & PHF7  \\\\\n",
       "\\end{tabular}\n"
      ],
      "text/markdown": [
       "\n",
       "A data.frame: 3 × 3\n",
       "\n",
       "| <!--/--> | probe &lt;fct&gt; | EntrezGene.ID &lt;dbl&gt; | Gene.Symbol &lt;fct&gt; |\n",
       "|---|---|---|---|\n",
       "| RERE | RERE   |    473 | RERE   |\n",
       "| RNF165 | RNF165 | 494470 | RNF165 |\n",
       "| PHF7 | PHF7   |  51533 | PHF7   |\n",
       "\n"
      ],
      "text/plain": [
       "       probe  EntrezGene.ID Gene.Symbol\n",
       "RERE   RERE      473        RERE       \n",
       "RNF165 RNF165 494470        RNF165     \n",
       "PHF7   PHF7    51533        PHF7       "
      ]
     },
     "metadata": {},
     "output_type": "display_data"
    }
   ],
   "source": [
    "# if important genes are not in expressions, add zero genes\n",
    "for (gene in c(\"BAG1\",\"DHCR7\")){\n",
    " if (!(gene %in% colnames(exprs))){ \n",
    "  e <- rep(0,dim(exprs)[[1]])\n",
    "  exprs <- cbind(exprs,e)\n",
    "  colnames(exprs)[length(colnames(exprs))] <- gene\n",
    " }\n",
    "}\n",
    "\n",
    "exprs <- exprs[,sort(colnames(exprs))]\n",
    "\n",
    "# reload gene annotation\n",
    "# read the file mapping gene ids in expression matrix to Entrez ids \n",
    "gene_anno <- read.delim(paste0(data_folder,gene_annot_file), row.names = 1,sep = \"\\t\")\n",
    "gene_anno <- gene_anno[,c(\"probe\",\"EntrezGene.ID\",\"Gene.Symbol\")]\n",
    "head(gene_anno,3)\n",
    "\n"
   ]
  },
  {
   "cell_type": "code",
   "execution_count": 27,
   "metadata": {},
   "outputs": [
    {
     "name": "stdout",
     "output_type": "stream",
     "text": [
      "[1] \"EndoPredict\"\n",
      "[1] \"OncotypeDx - GENE21\"\n"
     ]
    },
    {
     "data": {
      "text/html": [
       "<table class=\"dataframe\">\n",
       "<caption>A matrix: 5 × 26 of type dbl</caption>\n",
       "<thead>\n",
       "\t<tr><th></th><th scope=col>AURKA</th><th scope=col>ESR1</th><th scope=col>ERBB2</th><th scope=col>Desmedt2008_ESR1</th><th scope=col>Desmedt2008_ERBB2</th><th scope=col>Desmedt2008_AURKA</th><th scope=col>Desmedt2008_PLAU</th><th scope=col>Desmedt2008_VEGF</th><th scope=col>Desmedt2008_STAT1</th><th scope=col>Desmedt2008_CASP3</th><th scope=col>⋯</th><th scope=col>OncotypeDx</th><th scope=col>OncotypeDx_risk</th><th scope=col>GGI</th><th scope=col>TAMR13</th><th scope=col>GENE70</th><th scope=col>GENE70_risk</th><th scope=col>verbose</th><th scope=col>PIK3CA</th><th scope=col>rorS</th><th scope=col>rorS_risk</th></tr>\n",
       "</thead>\n",
       "<tbody>\n",
       "\t<tr><th scope=row>MB-0000</th><td>6.148950</td><td> 8.929817</td><td> 9.333972</td><td>1.122729</td><td>4.362967</td><td>1.069513</td><td>5.382351</td><td>-1.6399264</td><td>6.741159</td><td>-1.569133</td><td>⋯</td><td>43.89323</td><td>1.0</td><td>4.085216</td><td>-37.47346</td><td>-0.38765306</td><td>0</td><td>1</td><td>1.478941</td><td> 0.00000</td><td>1</td></tr>\n",
       "\t<tr><th scope=row>MB-0002</th><td>7.247495</td><td>10.047059</td><td> 9.729606</td><td>1.985260</td><td>4.531835</td><td>1.714929</td><td>5.440198</td><td>-0.9928992</td><td>6.338358</td><td>-1.717078</td><td>⋯</td><td>29.95655</td><td>0.5</td><td>4.654126</td><td>-30.25150</td><td>-0.22755102</td><td>1</td><td>1</td><td>1.367254</td><td>46.30432</td><td>2</td></tr>\n",
       "\t<tr><th scope=row>MB-0005</th><td>7.317185</td><td>10.041281</td><td> 9.725825</td><td>1.629221</td><td>4.374361</td><td>1.630036</td><td>5.730484</td><td>-1.5755017</td><td>6.810293</td><td>-1.211142</td><td>⋯</td><td>52.73028</td><td>1.0</td><td>4.855819</td><td>-31.82141</td><td>-0.04551020</td><td>1</td><td>1</td><td>1.748682</td><td>58.47860</td><td>3</td></tr>\n",
       "\t<tr><th scope=row>MB-0006</th><td>9.283242</td><td>10.404685</td><td>10.334979</td><td>1.650139</td><td>4.581135</td><td>1.772883</td><td>5.488209</td><td>-1.7953025</td><td>7.017693</td><td>-1.322573</td><td>⋯</td><td>45.10648</td><td>1.0</td><td>4.790510</td><td>-30.57637</td><td>-0.05163265</td><td>1</td><td>1</td><td>1.386300</td><td>58.75490</td><td>3</td></tr>\n",
       "\t<tr><th scope=row>MB-0008</th><td>8.021490</td><td>11.276581</td><td> 9.956267</td><td>1.778770</td><td>4.817622</td><td>2.014978</td><td>5.192804</td><td>-1.3017143</td><td>7.232848</td><td>-1.412366</td><td>⋯</td><td>38.53660</td><td>1.0</td><td>5.395154</td><td>-28.44974</td><td> 0.10163265</td><td>1</td><td>1</td><td>1.453307</td><td>63.83198</td><td>3</td></tr>\n",
       "</tbody>\n",
       "</table>\n"
      ],
      "text/latex": [
       "A matrix: 5 × 26 of type dbl\n",
       "\\begin{tabular}{r|lllllllllllllllllllll}\n",
       "  & AURKA & ESR1 & ERBB2 & Desmedt2008\\_ESR1 & Desmedt2008\\_ERBB2 & Desmedt2008\\_AURKA & Desmedt2008\\_PLAU & Desmedt2008\\_VEGF & Desmedt2008\\_STAT1 & Desmedt2008\\_CASP3 & ⋯ & OncotypeDx & OncotypeDx\\_risk & GGI & TAMR13 & GENE70 & GENE70\\_risk & verbose & PIK3CA & rorS & rorS\\_risk\\\\\n",
       "\\hline\n",
       "\tMB-0000 & 6.148950 &  8.929817 &  9.333972 & 1.122729 & 4.362967 & 1.069513 & 5.382351 & -1.6399264 & 6.741159 & -1.569133 & ⋯ & 43.89323 & 1.0 & 4.085216 & -37.47346 & -0.38765306 & 0 & 1 & 1.478941 &  0.00000 & 1\\\\\n",
       "\tMB-0002 & 7.247495 & 10.047059 &  9.729606 & 1.985260 & 4.531835 & 1.714929 & 5.440198 & -0.9928992 & 6.338358 & -1.717078 & ⋯ & 29.95655 & 0.5 & 4.654126 & -30.25150 & -0.22755102 & 1 & 1 & 1.367254 & 46.30432 & 2\\\\\n",
       "\tMB-0005 & 7.317185 & 10.041281 &  9.725825 & 1.629221 & 4.374361 & 1.630036 & 5.730484 & -1.5755017 & 6.810293 & -1.211142 & ⋯ & 52.73028 & 1.0 & 4.855819 & -31.82141 & -0.04551020 & 1 & 1 & 1.748682 & 58.47860 & 3\\\\\n",
       "\tMB-0006 & 9.283242 & 10.404685 & 10.334979 & 1.650139 & 4.581135 & 1.772883 & 5.488209 & -1.7953025 & 7.017693 & -1.322573 & ⋯ & 45.10648 & 1.0 & 4.790510 & -30.57637 & -0.05163265 & 1 & 1 & 1.386300 & 58.75490 & 3\\\\\n",
       "\tMB-0008 & 8.021490 & 11.276581 &  9.956267 & 1.778770 & 4.817622 & 2.014978 & 5.192804 & -1.3017143 & 7.232848 & -1.412366 & ⋯ & 38.53660 & 1.0 & 5.395154 & -28.44974 &  0.10163265 & 1 & 1 & 1.453307 & 63.83198 & 3\\\\\n",
       "\\end{tabular}\n"
      ],
      "text/markdown": [
       "\n",
       "A matrix: 5 × 26 of type dbl\n",
       "\n",
       "| <!--/--> | AURKA | ESR1 | ERBB2 | Desmedt2008_ESR1 | Desmedt2008_ERBB2 | Desmedt2008_AURKA | Desmedt2008_PLAU | Desmedt2008_VEGF | Desmedt2008_STAT1 | Desmedt2008_CASP3 | ⋯ | OncotypeDx | OncotypeDx_risk | GGI | TAMR13 | GENE70 | GENE70_risk | verbose | PIK3CA | rorS | rorS_risk |\n",
       "|---|---|---|---|---|---|---|---|---|---|---|---|---|---|---|---|---|---|---|---|---|---|\n",
       "| MB-0000 | 6.148950 |  8.929817 |  9.333972 | 1.122729 | 4.362967 | 1.069513 | 5.382351 | -1.6399264 | 6.741159 | -1.569133 | ⋯ | 43.89323 | 1.0 | 4.085216 | -37.47346 | -0.38765306 | 0 | 1 | 1.478941 |  0.00000 | 1 |\n",
       "| MB-0002 | 7.247495 | 10.047059 |  9.729606 | 1.985260 | 4.531835 | 1.714929 | 5.440198 | -0.9928992 | 6.338358 | -1.717078 | ⋯ | 29.95655 | 0.5 | 4.654126 | -30.25150 | -0.22755102 | 1 | 1 | 1.367254 | 46.30432 | 2 |\n",
       "| MB-0005 | 7.317185 | 10.041281 |  9.725825 | 1.629221 | 4.374361 | 1.630036 | 5.730484 | -1.5755017 | 6.810293 | -1.211142 | ⋯ | 52.73028 | 1.0 | 4.855819 | -31.82141 | -0.04551020 | 1 | 1 | 1.748682 | 58.47860 | 3 |\n",
       "| MB-0006 | 9.283242 | 10.404685 | 10.334979 | 1.650139 | 4.581135 | 1.772883 | 5.488209 | -1.7953025 | 7.017693 | -1.322573 | ⋯ | 45.10648 | 1.0 | 4.790510 | -30.57637 | -0.05163265 | 1 | 1 | 1.386300 | 58.75490 | 3 |\n",
       "| MB-0008 | 8.021490 | 11.276581 |  9.956267 | 1.778770 | 4.817622 | 2.014978 | 5.192804 | -1.3017143 | 7.232848 | -1.412366 | ⋯ | 38.53660 | 1.0 | 5.395154 | -28.44974 |  0.10163265 | 1 | 1 | 1.453307 | 63.83198 | 3 |\n",
       "\n"
      ],
      "text/plain": [
       "        AURKA    ESR1      ERBB2     Desmedt2008_ESR1 Desmedt2008_ERBB2\n",
       "MB-0000 6.148950  8.929817  9.333972 1.122729         4.362967         \n",
       "MB-0002 7.247495 10.047059  9.729606 1.985260         4.531835         \n",
       "MB-0005 7.317185 10.041281  9.725825 1.629221         4.374361         \n",
       "MB-0006 9.283242 10.404685 10.334979 1.650139         4.581135         \n",
       "MB-0008 8.021490 11.276581  9.956267 1.778770         4.817622         \n",
       "        Desmedt2008_AURKA Desmedt2008_PLAU Desmedt2008_VEGF Desmedt2008_STAT1\n",
       "MB-0000 1.069513          5.382351         -1.6399264       6.741159         \n",
       "MB-0002 1.714929          5.440198         -0.9928992       6.338358         \n",
       "MB-0005 1.630036          5.730484         -1.5755017       6.810293         \n",
       "MB-0006 1.772883          5.488209         -1.7953025       7.017693         \n",
       "MB-0008 2.014978          5.192804         -1.3017143       7.232848         \n",
       "        Desmedt2008_CASP3 ⋯ OncotypeDx OncotypeDx_risk GGI      TAMR13   \n",
       "MB-0000 -1.569133         ⋯ 43.89323   1.0             4.085216 -37.47346\n",
       "MB-0002 -1.717078         ⋯ 29.95655   0.5             4.654126 -30.25150\n",
       "MB-0005 -1.211142         ⋯ 52.73028   1.0             4.855819 -31.82141\n",
       "MB-0006 -1.322573         ⋯ 45.10648   1.0             4.790510 -30.57637\n",
       "MB-0008 -1.412366         ⋯ 38.53660   1.0             5.395154 -28.44974\n",
       "        GENE70      GENE70_risk verbose PIK3CA   rorS     rorS_risk\n",
       "MB-0000 -0.38765306 0           1       1.478941  0.00000 1        \n",
       "MB-0002 -0.22755102 1           1       1.367254 46.30432 2        \n",
       "MB-0005 -0.04551020 1           1       1.748682 58.47860 3        \n",
       "MB-0006 -0.05163265 1           1       1.386300 58.75490 3        \n",
       "MB-0008  0.10163265 1           1       1.453307 63.83198 3        "
      ]
     },
     "metadata": {},
     "output_type": "display_data"
    }
   ],
   "source": [
    "oncotypedx2 <-\n",
    "function(data, annot, do.mapping=FALSE, mapping, verbose=FALSE) {\n",
    "    \n",
    "\t## the reference genes are not taken into account due to their absence from most platforms\n",
    "\tsig2 <- sig.oncotypedx[sig.oncotypedx[ , \"group\"] != \"reference\",  , drop=FALSE]\n",
    "\tdimnames(sig2)[[1]] <- sig2[ , \"probe.affy\"]\n",
    "\tgt <- nrow(sig2)\n",
    "\tif(do.mapping) { ## not an affy HGU platform\n",
    "\t\tgid1 <- as.numeric(as.character(sig2[ ,\"EntrezGene.ID\"]))\n",
    "\t\tnames(gid1) <- dimnames(sig2)[[1]]\n",
    "\t\tgid2 <- as.numeric(as.character(annot[ ,\"EntrezGene.ID\"]))\n",
    "\t\tnames(gid2) <- dimnames(annot)[[1]]\n",
    "\t\t## remove missing and duplicated geneids from the gene list\n",
    "\t\trm.ix <- is.na(gid1) | duplicated(gid1)\n",
    "\t\tgid1 <- gid1[!rm.ix]\n",
    "\t\t## mqpping\n",
    "\t\trr <- geneid.map(geneid1=gid2, data1=data, geneid2=gid1, verbose=FALSE)\n",
    "\t\tgm <- length(rr$geneid2)\n",
    "\t\tmymapping <- c(\"mapped\"=gm, \"total\"=gt)\n",
    "        \n",
    "\t\tif(length(rr$geneid1) != gt) { ## some genes are missing\n",
    "\t\t\tres <- rep(NA, nrow(data))\n",
    "\t\t\tnames(res) <- dimnames(data)[[1]]\n",
    "\t\t\twarning(sprintf(\"Probe candidates: %i/%i\", gm, gt),\n",
    "\t\t\t\t\"\\nIncomplete overlap between the gene signature EntrezGene.IDs\",\n",
    "\t\t\t\t\" and the EntrezGene.ID column of annot... Returning all NAs.\")\n",
    "\t\t\treturn(list(\"score\"=res, \"risk\"=res, \"mapping\"=mymapping, \"probe\"=NA))\n",
    "\t\t}\n",
    "\t\tgid1 <- rr$geneid2\n",
    "\t\tgid2 <- rr$geneid1\n",
    "\t\tdata <- rr$data1\n",
    "        \n",
    "\t\tmyprobe <- cbind(\"probe\"=names(gid1), \"EntrezGene.ID\"=gid1, \"new.probe\"=names(gid2))\n",
    "        \n",
    "\t\t## change the names of probes in the data\n",
    "\t\tdimnames(data)[[2]] <- names(gid2) <- names(gid1)\n",
    "        \n",
    "\t} else {\n",
    "\t\tmyprobe <- NA\n",
    "\t\tdata <- data[ ,intersect(dimnames(sig2)[[1]], dimnames(data)[[2]])]\n",
    "\t\tgm <- ncol(data)\n",
    "\t\tmymapping <- c(\"mapped\"=gm, \"total\"=gt)\n",
    "\t\tif(nrow(sig2) != ncol(data)) { ## some genes are missing\n",
    "\t\t\tres <- rep(NA, nrow(data))\n",
    "\t\t\tnames(res) <- dimnames(data)[[1]]\n",
    "\t\t\twarning(sprintf(\"Probe candidates: %i/%i\", gm, gt),\n",
    "\t\t\t\t\"\\nIncomplete overlap between the gene signature EntrezGene.IDs\",\n",
    "\t\t\t\t\" and the colnames of data... Returning all NAs.\")\n",
    "\t\t\treturn(list(\"score\"=res, \"risk\"=res, \"mapping\"=mymapping, \"probe\"=myprobe))\n",
    "\t\t}\n",
    "\t}\n",
    "\t## rename gene names by the gene symbols\n",
    "    dimnames(data)[[2]] <- dimnames(sig2)[[1]] <- sig2[ , \"symbol\"]\n",
    "    \n",
    "\t## scaling between 0 and 15\n",
    "\tdata <- apply(data, 2, function(x) { xx <- (x - min(x, na.rm=TRUE)) / (max(x, na.rm=TRUE) - min(x, na.rm=TRUE)); return(xx * 15) })\n",
    "    ######## change 1###########\n",
    "    data[is.na(data)] <- 0\n",
    "\t\n",
    "\t## OcotypeDX recurrence score\n",
    "\t## GRB7 group score = 0.9 * GRB7 + 0.1 * HER2 if result < 8, then result = 8\n",
    "\t## ER group score = (0.8 * ER + 1.2 * PGR + BCL2 + SCUBE2) / 4\n",
    "\t## proliferation group score = ( survivin + KI67 + MYBL2 + CCNB1 + STK15) / 5 if result < 6.5, then result = 6.5\n",
    "\t## invasion group score = (CTSL2 + MMP11) / 2\n",
    "\t## RSU = + 0.47 * GRB7 group score - 0.34 * ER group score + 1.04 * proliferation group score + 0.10 * invasion group score + 0.05 * CD68 - 0.08 GSTM1 - 0.07 * BAG1 \n",
    "    \n",
    "\tcc.ix <- complete.cases(data)\n",
    "\trs <- rs.unscaled <- rsrisk <- NULL\n",
    "\tfor (i in 1:nrow(data)) {\n",
    "\t\tif(cc.ix[i]) {\n",
    "\t\t\tgrb7.gs <- 0.9 * data[i, \"GRB7\"] + 0.1 * data[i, \"ERBB2\"]\n",
    "\t\t\tif (grb7.gs < 8) { grb7.gs <- 8 }\n",
    "\n",
    "\t\t\ter.gs <- (0.8 * data[i, \"ESR1\"] + 1.2 * data[i, \"PGR\"] + data[i, \"BCL2\"] + data[i, \"SCUBE2\"]) / 4\n",
    "\n",
    "\t\t\tproliferation.gs <- (data[i, \"BIRC5\"] + data[i, \"MKI67\"] + data[i, \"MYBL2\"] + data[i, \"CCNB1\"] + data[i, \"AURKA\"]) / 5\n",
    "\t\t\tif (proliferation.gs < 6.5) { proliferation.gs <- 6.5 }\n",
    "\n",
    "\t\t\tinvasion.gs <- (data[i, \"CTSL2\"] + data[i, \"MMP11\"]) / 2\n",
    "            \n",
    "\t\t\trsu <- 0.47 * (grb7.gs) - 0.34 * (er.gs) + 1.04 * (proliferation.gs) + 0.1 * (invasion.gs) + 0.05 * data[i, \"CD68\"] - 0.08 * data[i, \"GSTM1\"] - 0.07 * data[i, \"BAG1\"]\n",
    "\t\t\t## rescale the score\n",
    "\t\t\trsu2 <- rsu\n",
    "\t\t\tif(rsu >= 0 & rsu <= 100) { rsu <- 20 * (rsu - 6.7) }\n",
    "\t\t\tif(rsu < 0) { rsu <- 0 }\n",
    "\t\t\tif(rsu > 100) { rsu <- 100 }\n",
    "\t\t\t## use of the official curoffs\n",
    "\t\t\tif(rsu < 18) { rsr <- 0 }\n",
    "\t\t\tif(rsu >= 18 & rsu < 31) { rsr <- 0.5 }\n",
    "\t\t\tif(rsu >= 31) { rsr <- 1 }\n",
    "\t\t}\n",
    "\t\telse { rsu <- rsr <- rsu2 <- NA }\n",
    "\t\trs.unscaled <- c(rs.unscaled, rsu2)\n",
    "\t\trs <- c(rs, rsu)\n",
    "\t\trsrisk <- c(rsrisk, rsr)\n",
    "\t}\n",
    "\tnames(rs) <- names(rs.unscaled) <- names(rsrisk) <- dimnames(data)[[1]]\n",
    "\treturn(list(\"score\"=rs, \"risk\"=rsrisk, \"mapping\"=mymapping, \"probe\"=myprobe))\n",
    "}\n",
    "\n",
    "endoPredict2 <-\n",
    "function(data, annot, do.mapping=FALSE, mapping, verbose=FALSE) {\n",
    "\n",
    "  ## the reference genes are not taken into account due to their absence from most platforms\n",
    "  sig2 <- sig.endoPredict[sig.endoPredict[ , \"group\"] != \"REFERENCE\", , drop=FALSE]\n",
    "\trownames(sig2) <- sig2[ , \"probe.affy\"]\n",
    "\tgt <- nrow(sig2)\n",
    "\tif(do.mapping) { ## not an affy HGU platform\n",
    "\t\tgid1 <- as.numeric(as.character(sig2[ ,\"EntrezGene.ID\"]))\n",
    "\t\tnames(gid1) <- dimnames(sig2)[[1]]\n",
    "\t\tgid2 <- as.numeric(as.character(annot[ ,\"EntrezGene.ID\"]))\n",
    "\t\tnames(gid2) <- dimnames(annot)[[1]]\n",
    "\t\t## remove missing and duplicated geneids from the gene list\n",
    "\t\trm.ix <- is.na(gid1) | duplicated(gid1)\n",
    "\t\tgid1 <- gid1[!rm.ix]\n",
    "\t\t## mqpping\n",
    "\t\trr <- geneid.map(geneid1=gid2, data1=data, geneid2=gid1, verbose=FALSE)\n",
    "\t\tgm <- length(rr$geneid2[!is.na(rr$geneid2)])\n",
    "\t\tmymapping <- c(\"mapped\"=gm, \"total\"=gt)\n",
    "\t\tif(!all(is.element(sig2[sig2[ , \"group\"] == \"GOI\", \"EntrezGene.ID\"], rr$geneid1))) { ## if genes of intesignatures are missing\n",
    "\t\t\tres <- rep(NA, nrow(data))\n",
    "\t\t\tnames(res) <- dimnames(data)[[1]]\n",
    "\t\t\twarning(sprintf(\"Probe candidates: %i/%i\", gm, gt),\n",
    "\t\t\t\t\"\\nIncomplete overlap between the gene signature EntrezGene.IDs\",\n",
    "\t\t\t\t\" and the EntrezGene.ID column of annot... Returning all NAs.\")\n",
    "\t\t\treturn(list(\"score\"=res, \"risk\"=res, \"mapping\"=mymapping, \"probe\"=NA))\n",
    "\t\t}\n",
    "\t\tgid1 <- rr$geneid2\n",
    "\t\tgid2 <- rr$geneid1\n",
    "\t\tdata <- rr$data1\n",
    "\t\tmyprobe <- cbind(\"probe\"=names(gid1), \"EntrezGene.ID\"=gid1, \"new.probe\"=names(gid2))\n",
    "\t\t## change the names of probes in the data\n",
    "\t\tcolnames(data) <- names(gid2) <- names(gid1)\n",
    "    sig2 <- sig2[colnames(data), , drop=FALSE]\n",
    "\t\tgm <- ncol(data)\n",
    "\t\tmymapping <- c(\"mapped\"=gm, \"total\"=gt)\n",
    "\t} else {\n",
    "\t\tmyprobe <- NA\n",
    "    \tnn <- intersect(dimnames(sig2)[[1]], dimnames(data)[[2]])\n",
    "\t\tdata <- data[ , nn]\n",
    "    \tsig2 <- sig2[nn, , drop=FALSE]\n",
    "\t\tgm <- ncol(data)\n",
    "\t\tmymapping <- c(\"mapped\"=gm, \"total\"=gt)\n",
    "\t\tif (length(nn) < 1) {\n",
    "\t\t\tres <- rep(NA, nrow(data))\n",
    "\t\t\tnames(res) <- dimnames(data)[[1]]\n",
    "\t\t\twarning(\"No overalp between the gene signature EntrezGene.IDs\",\n",
    "\t\t\t\t\"and the colnames of your data... Returning all NAs.\")\n",
    "\t\t\treturn(list(\"score\"=res, \"risk\"=res, \"mapping\"=mymapping, \"probe\"=NA))\n",
    "\t\t}\n",
    "\t}\n",
    "\t## rename gene names by the gene symbols\n",
    "\tcolnames(data) <- rownames(sig2) <- sig2[ , \"symbol\"]\n",
    "\t\n",
    "\tif(do.mapping) {\n",
    "    ## transform expressions so they match approximately the scale of Affymetrix data\n",
    "    data <- apply(data, 2, function(x) {\n",
    "      xx <- (x - quantile(x, probs=0.025, na.rm=TRUE)) / (quantile(x, probs=0.975, na.rm=TRUE) - quantile(x, probs=0.025, na.rm=TRUE)) \n",
    "      return((xx * 8) + 6)\n",
    "    })\n",
    "    data[!is.na(data) & data < 1] <- 1\n",
    "    data[!is.na(data) & data > 15] <- 15\n",
    "  }\n",
    "  \n",
    "  ######## change ###########\n",
    "    data[is.na(data)] <- 0\n",
    "    \n",
    "  data <- (data - apply(data, 1, mean, na.rm=TRUE)) + log2(500)\n",
    "  ## apply transformation factor and offset\n",
    "  datat <- t(apply(data, 1, function(x, a, b) {\n",
    "    return((x - b) / a)\n",
    "  }, a=sig2[ , \"a\"], b=sig2[ , \"b\"]))\n",
    "  data <- matrix(NA, nrow=nrow(data), ncol=ncol(data), dimnames=dimnames(data))\n",
    "  data[rownames(datat), colnames(datat)] <- datat\n",
    "\n",
    "\trs <- rs.unscaled <- rsrisk <- rep(NA, nrow(data))\n",
    "  rs.unscaled <- drop((sig2[ , \"weight\"] %*% t(data)) - 2.63)\n",
    "  rs <- sapply(rs.unscaled, function(x) {\n",
    "    if(!is.na(x)) {\n",
    "      x <- 1.5 * x + 18.95\n",
    "      if(x < 0) {\n",
    "        x <- 0\n",
    "      } else {\n",
    "        if(x > 15) {\n",
    "          x <- 15\n",
    "        }\n",
    "      }\n",
    "    }\n",
    "    return(x)\n",
    "  })\n",
    "  rsrisk <- ifelse(rs >= 5, 1, 0)\n",
    "\tnames(rs) <- names(rs.unscaled) <- names(rsrisk) <- dimnames(data)[[1]]\n",
    "\treturn(list(\"score\"=rs, \"risk\"=rsrisk, \"mapping\"=mymapping, \"probe\"=myprobe))\n",
    "}\n",
    "\n",
    "\n",
    "\n",
    "# Filipits et al. (2011). \"A new molecular predictor of distant recurrence in ER-positive, HER2-negative breast cancer adds independent information to conventional clinical risk factors.\" \n",
    "print(\"EndoPredict\")\n",
    "ep_results <- endoPredict2(data=exprs, annot=gene_anno, do.mapping=TRUE, verbose = TRUE)\n",
    "signatures[,\"EndoPredict\"] <- ep_results$score\n",
    "signatures[,\"EndoPredict_risk\"] <- ep_results$risk\n",
    "\n",
    "# Paik et al. (2004) \"A Multigene Assay to Predict Recurrence of Tamoxifen-Treated, Node-Negative Breast Cancer\"\n",
    "print(\"OncotypeDx - GENE21\")\n",
    "od_results <- oncotypedx2(data=exprs, annot=gene_anno, do.mapping=TRUE, verbose = TRUE)\n",
    "signatures[,\"OncotypeDx\"] <- od_results$score\n",
    "signatures[,\"OncotypeDx_risk\"] <-od_results$risk\n",
    "\n",
    "head(signatures,5)"
   ]
  },
  {
   "cell_type": "code",
   "execution_count": 28,
   "metadata": {},
   "outputs": [
    {
     "data": {
      "text/html": [
       "<style>\n",
       ".list-inline {list-style: none; margin:0; padding: 0}\n",
       ".list-inline>li {display: inline-block}\n",
       ".list-inline>li:not(:last-child)::after {content: \"\\00b7\"; padding: 0 .5ex}\n",
       "</style>\n",
       "<ol class=list-inline><li>'AURKA'</li><li>'ESR1'</li><li>'ERBB2'</li><li>'Desmedt2008_ESR1'</li><li>'Desmedt2008_ERBB2'</li><li>'Desmedt2008_AURKA'</li><li>'Desmedt2008_PLAU'</li><li>'Desmedt2008_VEGF'</li><li>'Desmedt2008_STAT1'</li><li>'Desmedt2008_CASP3'</li><li>'GENIUS'</li><li>'GENIUSM1'</li><li>'GENIUSM2'</li><li>'GENIUSM3'</li><li>'EndoPredict'</li><li>'EndoPredict_risk'</li><li>'OncotypeDx'</li><li>'OncotypeDx_risk'</li><li>'GGI'</li><li>'TAMR13'</li><li>'GENE70'</li><li>'GENE70_risk'</li><li>'verbose'</li><li>'PIK3CA'</li><li>'rorS'</li><li>'rorS_risk'</li></ol>\n"
      ],
      "text/latex": [
       "\\begin{enumerate*}\n",
       "\\item 'AURKA'\n",
       "\\item 'ESR1'\n",
       "\\item 'ERBB2'\n",
       "\\item 'Desmedt2008\\_ESR1'\n",
       "\\item 'Desmedt2008\\_ERBB2'\n",
       "\\item 'Desmedt2008\\_AURKA'\n",
       "\\item 'Desmedt2008\\_PLAU'\n",
       "\\item 'Desmedt2008\\_VEGF'\n",
       "\\item 'Desmedt2008\\_STAT1'\n",
       "\\item 'Desmedt2008\\_CASP3'\n",
       "\\item 'GENIUS'\n",
       "\\item 'GENIUSM1'\n",
       "\\item 'GENIUSM2'\n",
       "\\item 'GENIUSM3'\n",
       "\\item 'EndoPredict'\n",
       "\\item 'EndoPredict\\_risk'\n",
       "\\item 'OncotypeDx'\n",
       "\\item 'OncotypeDx\\_risk'\n",
       "\\item 'GGI'\n",
       "\\item 'TAMR13'\n",
       "\\item 'GENE70'\n",
       "\\item 'GENE70\\_risk'\n",
       "\\item 'verbose'\n",
       "\\item 'PIK3CA'\n",
       "\\item 'rorS'\n",
       "\\item 'rorS\\_risk'\n",
       "\\end{enumerate*}\n"
      ],
      "text/markdown": [
       "1. 'AURKA'\n",
       "2. 'ESR1'\n",
       "3. 'ERBB2'\n",
       "4. 'Desmedt2008_ESR1'\n",
       "5. 'Desmedt2008_ERBB2'\n",
       "6. 'Desmedt2008_AURKA'\n",
       "7. 'Desmedt2008_PLAU'\n",
       "8. 'Desmedt2008_VEGF'\n",
       "9. 'Desmedt2008_STAT1'\n",
       "10. 'Desmedt2008_CASP3'\n",
       "11. 'GENIUS'\n",
       "12. 'GENIUSM1'\n",
       "13. 'GENIUSM2'\n",
       "14. 'GENIUSM3'\n",
       "15. 'EndoPredict'\n",
       "16. 'EndoPredict_risk'\n",
       "17. 'OncotypeDx'\n",
       "18. 'OncotypeDx_risk'\n",
       "19. 'GGI'\n",
       "20. 'TAMR13'\n",
       "21. 'GENE70'\n",
       "22. 'GENE70_risk'\n",
       "23. 'verbose'\n",
       "24. 'PIK3CA'\n",
       "25. 'rorS'\n",
       "26. 'rorS_risk'\n",
       "\n",
       "\n"
      ],
      "text/plain": [
       " [1] \"AURKA\"             \"ESR1\"              \"ERBB2\"            \n",
       " [4] \"Desmedt2008_ESR1\"  \"Desmedt2008_ERBB2\" \"Desmedt2008_AURKA\"\n",
       " [7] \"Desmedt2008_PLAU\"  \"Desmedt2008_VEGF\"  \"Desmedt2008_STAT1\"\n",
       "[10] \"Desmedt2008_CASP3\" \"GENIUS\"            \"GENIUSM1\"         \n",
       "[13] \"GENIUSM2\"          \"GENIUSM3\"          \"EndoPredict\"      \n",
       "[16] \"EndoPredict_risk\"  \"OncotypeDx\"        \"OncotypeDx_risk\"  \n",
       "[19] \"GGI\"               \"TAMR13\"            \"GENE70\"           \n",
       "[22] \"GENE70_risk\"       \"verbose\"           \"PIK3CA\"           \n",
       "[25] \"rorS\"              \"rorS_risk\"        "
      ]
     },
     "metadata": {},
     "output_type": "display_data"
    }
   ],
   "source": [
    "colnames(signatures)\n",
    "write.table(cbind(subtypes,signatures),paste0(data_folder,output_file),sep = \"\\t\",quote = FALSE,row.names = F)"
   ]
  },
  {
   "cell_type": "code",
   "execution_count": 23,
   "metadata": {},
   "outputs": [],
   "source": [
    "#data(sig.endoPredict)\n",
    "#data(sig.oncotypedx)\n",
    "#data(sig.ggi)\n",
    "#data(sig.gene70)\n",
    "#data(sig.pik3cags)\n",
    "#data(mod1)"
   ]
  },
  {
   "cell_type": "code",
   "execution_count": null,
   "metadata": {},
   "outputs": [],
   "source": []
  }
 ],
 "metadata": {
  "kernelspec": {
   "display_name": "R",
   "language": "R",
   "name": "ir"
  },
  "language_info": {
   "codemirror_mode": "r",
   "file_extension": ".r",
   "mimetype": "text/x-r-source",
   "name": "R",
   "pygments_lexer": "r",
   "version": "3.6.1"
  }
 },
 "nbformat": 4,
 "nbformat_minor": 2
}
