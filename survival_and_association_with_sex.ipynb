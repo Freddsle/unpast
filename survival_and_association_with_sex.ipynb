{
 "cells": [
  {
   "cell_type": "code",
   "execution_count": 1,
   "id": "acceptable-fifteen",
   "metadata": {},
   "outputs": [],
   "source": [
    "import sys,os\n",
    "import numpy as np\n",
    "import pandas as pd\n",
    "\n",
    "from utils.method import read_bic_table\n",
    "\n",
    "import matplotlib.pyplot as plt\n",
    "%matplotlib inline"
   ]
  },
  {
   "cell_type": "code",
   "execution_count": 2,
   "id": "ruled-hopkins",
   "metadata": {},
   "outputs": [
    {
     "data": {
      "text/plain": [
       "stage_2        622.0\n",
       "stage_3        250.0\n",
       "stage_4         20.0\n",
       "stage_3+4      270.0\n",
       "age          64019.0\n",
       "sex           1086.0\n",
       "dtype: float64"
      ]
     },
     "execution_count": 2,
     "metadata": {},
     "output_type": "execute_result"
    }
   ],
   "source": [
    "# read sample annotations \n",
    "cohort = \"BRCA\"\n",
    "annot = pd.read_csv(\"data/PanCan/\"+cohort+\".annotation.tsv.gz\",sep =\"\\t\",index_col=0)\n",
    "\n",
    "annot[\"stage_3+4\"] = annot[\"stage_3\"] + annot[\"stage_4\"] \n",
    "annot.loc[:,[\"stage_2\",\"stage_3\",\"stage_4\",\"stage_3+4\",\"age\",\"sex\"]].sum()"
   ]
  },
  {
   "cell_type": "code",
   "execution_count": 3,
   "id": "popular-funds",
   "metadata": {},
   "outputs": [
    {
     "name": "stdout",
     "output_type": "stream",
     "text": [
      "All biclusters: 149\n",
      "Detected 2+ times: 110\n"
     ]
    }
   ],
   "source": [
    "# read biclusters \n",
    "fname = cohort+\".consensus_kmeans.42.bin=kmeans,pval=0.01,clust=WGCNA,ds=0,dch=0.995.biclsuters.tsv\"\n",
    "folder = \"/home/olya/Downloads/\"+cohort+\"/\"\n",
    "\n",
    "biclusters = read_bic_table(folder+fname)\n",
    "print(\"All biclusters:\", biclusters.shape[0])\n",
    "biclusters = biclusters.loc[biclusters[\"detected_n_times\"]>1,:]\n",
    "print(\"Detected 2+ times:\", biclusters.shape[0])"
   ]
  },
  {
   "cell_type": "markdown",
   "id": "communist-cookie",
   "metadata": {},
   "source": [
    "# Survival analysis"
   ]
  },
  {
   "cell_type": "code",
   "execution_count": 4,
   "id": "attached-chemical",
   "metadata": {},
   "outputs": [],
   "source": [
    "from utils.eval import  add_survival\n",
    "\n",
    "covariates =[\"age\",\"stage_2\",\"stage_3\",\"stage_4\"]"
   ]
  },
  {
   "cell_type": "code",
   "execution_count": null,
   "id": "corrected-stake",
   "metadata": {},
   "outputs": [],
   "source": []
  },
  {
   "cell_type": "code",
   "execution_count": null,
   "id": "gorgeous-sterling",
   "metadata": {
    "scrolled": true
   },
   "outputs": [
    {
     "name": "stderr",
     "output_type": "stream",
     "text": [
      "perfect separation for biclsuter of  12/1061 samples variances: 0.00 0.01\n"
     ]
    }
   ],
   "source": [
    "# add survival analysis results to bicluster table\n",
    "biclusters = add_survival(biclusters, annot, event= \"OS\",\n",
    "                          surv_time =\"OS.time\",covariates = covariates)\n",
    "biclusters = add_survival(biclusters, annot, event= \"DFI\",\n",
    "                          surv_time =\"DFI.time\",covariates = covariates)\n",
    "biclusters = add_survival(biclusters, annot, event= \"PFI\",\n",
    "                          surv_time =\"PFI.time\",covariates = covariates)\n",
    "\n",
    "biclusters"
   ]
  },
  {
   "cell_type": "code",
   "execution_count": null,
   "id": "worse-bolivia",
   "metadata": {
    "scrolled": true
   },
   "outputs": [],
   "source": [
    "# adjusted p-value for OS, DFI or PFI is < 0.05:\n",
    "biclusters[biclusters[[\"OS.p_value_BH\",\"DFI.p_value_BH\",\"PFI.p_value_BH\"]].min(axis=1)<0.05].loc[:,[\"SNR\",\"n_genes\",\"n_samples\",\"genes\",\"direction\",\n",
    "                                                                                                    \"OS.p_value_BH\",\"DFI.p_value_BH\",\"PFI.p_value_BH\"]].sort_values(by=\"OS.p_value_BH\")"
   ]
  },
  {
   "cell_type": "code",
   "execution_count": null,
   "id": "homeless-chapter",
   "metadata": {},
   "outputs": [],
   "source": [
    "#\" \".join(sorted(biclusters.loc[47,\"genes\"]))\n"
   ]
  },
  {
   "cell_type": "markdown",
   "id": "liked-serbia",
   "metadata": {},
   "source": [
    "### Associaiton with sex"
   ]
  },
  {
   "cell_type": "code",
   "execution_count": null,
   "id": "civic-dance",
   "metadata": {},
   "outputs": [],
   "source": [
    "# male samples\n",
    "males = set(annot.loc[annot[\"sex\"]==0,:].index.values) \n",
    "females = set(annot.loc[annot[\"sex\"]==1,:].index.values) \n",
    "# all samples\n",
    "N = annot.shape[0]  \n",
    "print(\"%s males, %s females\"%(len(males), len(females)))"
   ]
  },
  {
   "cell_type": "code",
   "execution_count": null,
   "id": "acknowledged-brain",
   "metadata": {},
   "outputs": [],
   "source": [
    "from utils.eval import add_sex\n",
    "\n",
    "add_sex(biclusters,males = males,females=females).sort_values(by=[\"sex.pval_BH\"])"
   ]
  },
  {
   "cell_type": "code",
   "execution_count": null,
   "id": "romance-brave",
   "metadata": {},
   "outputs": [],
   "source": []
  },
  {
   "cell_type": "code",
   "execution_count": null,
   "id": "difficult-interpretation",
   "metadata": {},
   "outputs": [],
   "source": []
  },
  {
   "cell_type": "code",
   "execution_count": null,
   "id": "according-radius",
   "metadata": {},
   "outputs": [],
   "source": [
    "from statsmodels.stats.multitest import fdrcorrection\n",
    "from utils.eval import test_sample_overlap\n",
    "\n",
    "sample_sets = {\"male\":males,\"female\":females}\n",
    "dfs =[]\n",
    "for sex in [\"male\",\"female\"]:\n",
    "    sample_set = sample_sets[sex]\n",
    "    df = biclusters.apply(lambda row: test_sample_overlap(row, sample_set, N),axis=1)\n",
    "    df.columns = [sex+\".\"+x for x in df.columns]\n",
    "    bh_res, adj_pval = fdrcorrection(df[sex+\".pval\"].values, alpha=0.05)\n",
    "    df[sex+\".pval_BH\"] =  adj_pval\n",
    "    dfs.append(df)\n",
    "biclusters = pd.concat([biclusters]+dfs,axis=1)\n",
    "biclusters[\"sex.pval_BH\"] = biclusters.loc[:,[\"male.pval_BH\",\"female.pval_BH\"]].min(axis=1)\n",
    "\n",
    "biclusters.sort_values(by=[\"sex.pval_BH\"])"
   ]
  },
  {
   "cell_type": "code",
   "execution_count": null,
   "id": "comfortable-convert",
   "metadata": {},
   "outputs": [],
   "source": []
  }
 ],
 "metadata": {
  "kernelspec": {
   "display_name": "Python 3",
   "language": "python",
   "name": "python3"
  },
  "language_info": {
   "codemirror_mode": {
    "name": "ipython",
    "version": 3
   },
   "file_extension": ".py",
   "mimetype": "text/x-python",
   "name": "python",
   "nbconvert_exporter": "python",
   "pygments_lexer": "ipython3",
   "version": "3.8.3"
  }
 },
 "nbformat": 4,
 "nbformat_minor": 5
}
