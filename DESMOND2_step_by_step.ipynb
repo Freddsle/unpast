{
 "cells": [
  {
   "cell_type": "code",
   "execution_count": 1,
   "metadata": {},
   "outputs": [],
   "source": [
    "import sys,os\n",
    "import numpy as np\n",
    "import pandas as pd\n",
    "import random\n",
    "import math\n",
    "from time import time\n",
    "from datetime import datetime\n",
    "\n",
    "import matplotlib.pyplot as plt\n",
    "\n",
    "%matplotlib inline"
   ]
  },
  {
   "cell_type": "code",
   "execution_count": 2,
   "metadata": {},
   "outputs": [],
   "source": [
    "### Binarization Step Parameters ###\n",
    "bin_method = \"GMM\" # binarization method should be \"GMM\" or \"Jenks\"\n",
    "pval = 0.001\n",
    "min_n_samples = -1 # define authomatically if -1\n",
    "\n",
    "### Feature clustering parameters ###\n",
    "clust_method = \"Louvain\" # feature clustering method \"WGCNA\" or \"DESMOND\"\n",
    "\n",
    "if clust_method == \"Louvain\":\n",
    "    r = 1/3\n",
    "\n",
    "if clust_method == \"WGCNA\":\n",
    "    p1 = 10 # power for correlation matrix [1-30]\n",
    "    p2 = 10 # power for tree cutof height \n",
    "    \n",
    "if clust_method == \"DESMOND\":\n",
    "    # PGM parameters\n",
    "    alpha = 10.0 \n",
    "    beta_K = 1.0\n",
    "\n",
    "    # convergence\n",
    "    max_n_steps= 50\n",
    "    n_steps_for_convergence = 10\n",
    "\n",
    "# seed - makes sense only for GMM and DESMOND - TBD\n",
    "seed = 975987923\n",
    "\n",
    "\n",
    "### input and output  ###\n",
    "\n",
    "verbose = True\n",
    "plot_all = True\n",
    "\n",
    "# whether to load and to save binarized data\n",
    "load = False\n",
    "save = True\n",
    "\n"
   ]
  },
  {
   "cell_type": "code",
   "execution_count": null,
   "metadata": {},
   "outputs": [],
   "source": []
  },
  {
   "cell_type": "markdown",
   "metadata": {},
   "source": [
    "# Inputs:\n",
    "\n",
    " * z-score normalized gene expressions: \n",
    "      - tab-separated (.tsv) file with gene names in rows and sample/patient names in columns\n",
    "      - row means should be 0, row std. = 1\n",
    "    \n",
    "# Outputs:\n",
    " * saves outputs to out_dir\n",
    " * binarized up- and donw- regulated genes: \n",
    "     - [basename].[GMM|Jenks].binarized_UP.tsv\n",
    "     - [basename].[GMM|Jenks].binarized_DOWN.tsv\n",
    " * if binarization method is WGCNA, the results of WGCNA run are saved:\n",
    "     - [basename].[GMM|Jenks].binarized_UP.modules.tsv\n",
    "     - [basename].[GMM|Jenks].binarized_DOWN.modules.tsv\n",
    " * a table with biclusters: \n",
    "     - [basename].bin=[GMM|Jenks],clust=[WGCNA|DESMOND].biclusters.tsv\n"
   ]
  },
  {
   "cell_type": "code",
   "execution_count": 3,
   "metadata": {},
   "outputs": [],
   "source": [
    "out_dir = os.getcwd()+\"/tmp_results/\"\n",
    "basename = \"METABRIC\"  # \"OV244\" #\"METABRIC\" #  #   \"TCGA-BRCA\" \n",
    "\n",
    "data_dir = \"/home/olya/TUM/DESMOND/datasets_DESMOND2/\"\n",
    "# z-normalized expressions \n",
    "# \"OV_norm_counts.log2.z.tsv\" \"TCGA-BRCA_945.Xena.log2RSEM_norm_z.14K_genes.tsv\" \"METABRIC_1904_14K.nolog2_exprs_z.tsv\"\n",
    "exprs_file = data_dir + \"METABRIC_1904_14K.nolog2_exprs_z.tsv\""
   ]
  },
  {
   "cell_type": "code",
   "execution_count": null,
   "metadata": {},
   "outputs": [],
   "source": []
  },
  {
   "cell_type": "code",
   "execution_count": 6,
   "metadata": {},
   "outputs": [
    {
     "name": "stdout",
     "output_type": "stream",
     "text": [
      "Save output files to: /home/olya/TUM/DESMOND/DESMOND2/tmp_results/METABRIC*\n",
      "Mininal number of samples in a bicluster: 19\n"
     ]
    }
   ],
   "source": [
    "from method import validate_input_matrix\n",
    "start_time = time()\n",
    "\n",
    "if basename:\n",
    "    basename = basename\n",
    "else: \n",
    "    [date_h,mins] = str(datetime.today()).split(\":\")[:2]\n",
    "    [date, hs] = date_h.split()\n",
    "    basename = \"results_\"+hs+\":\"+mins+\"_\"+date \n",
    "    \n",
    "if verbose:\n",
    "    print(\"Save output files to:\",out_dir + basename + \"*\", file = sys.stdout)\n",
    "    \n",
    "# read inputs\n",
    "exprs = pd.read_csv(exprs_file, sep=\"\\t\",index_col=0)\n",
    "\n",
    "# downsampling\n",
    "#np.random.seed(seed)\n",
    "#ndxs = sorted(list(set(np.random.choice(range(0,1904),200))))\n",
    "#exprs = exprs.iloc[:,ndxs]\n",
    "#print(exprs.shape)\n",
    "\n",
    "#check if z-score transformed (mean=0, std =1)\n",
    "if not validate_input_matrix(exprs):\n",
    "    print(\"Centering mean to 0 and std to 1\",file= sys.stderr)\n",
    "    m = exprs.mean(axis=1)\n",
    "    std = exprs.std(axis=1)\n",
    "    exprs = exprs.T-m\n",
    "    exprs = exprs.T\n",
    "    exprs = exprs.T/std\n",
    "    exprs = exprs.T\n",
    "# TBD:\n",
    "#  - check missing values\n",
    "#  - check min. samples: x < 40 - warning, x<=10 makes no sense \n",
    "\n",
    "# define minimal number of samples\n",
    "if min_n_samples == -1:\n",
    "    min_n_samples = round(min(0.5*exprs.shape[1],max(10,0.01*exprs.shape[1])))\n",
    "if verbose:\n",
    "    print(\"Mininal number of samples in a bicluster:\",min_n_samples ,file=sys.stdout)\n",
    "if min_n_samples < 10:\n",
    "    print(\"min_n_samples is recommended to be >= 10\", file= sys.stderr)"
   ]
  },
  {
   "cell_type": "code",
   "execution_count": 7,
   "metadata": {},
   "outputs": [
    {
     "data": {
      "text/plain": [
       "(6.306341835086247e-17, 1.0002627085291522)"
      ]
     },
     "execution_count": 7,
     "metadata": {},
     "output_type": "execute_result"
    }
   ],
   "source": [
    "exprs.mean(axis=1).abs().mean(), exprs.std(axis=1).abs().mean()"
   ]
  },
  {
   "cell_type": "markdown",
   "metadata": {},
   "source": [
    "# 1) Binarize individual features\n",
    "\n",
    "### Find the trend between SNR and bicluster size\n",
    "\n",
    "1) for all sizes [min_n_samples, int(N/2)+ min_n_samples], generate splits of random samples drawn from normal distributions\n",
    "\n",
    "2) find SNR_thr(size) for a p-value cutoff, e.g. p_val =0.01 or 0.001; get_snr_thr is a function of bicluser size \n",
    "\n",
    "\n",
    "### Binarize expressions:\n",
    "\n",
    " * Jenks or GMM binarization\n",
    " * filtering by sample nubmer and SNR\n",
    "     - n_samples =< min_n_samples, and\n",
    "     - SNR > SNR_thr(n_samples)"
   ]
  },
  {
   "cell_type": "code",
   "execution_count": 8,
   "metadata": {},
   "outputs": [],
   "source": [
    "from method import binarize\n",
    "\n",
    "# some exmaple genes\n",
    "show_fits = [ \"FOXA1\",\"ESR1\",\"GATA3\",\"ERBB2\",'APOBEC3A',\"PIK3R2\",\"ENSG00000235023\"] + [\"ENSG00000107485\",  \"ENSG00000101000\",  \"ENSG00000197380\",  \n",
    "         \"ENSG00000167779\",  \"ENSG00000105928\",  \"ENSG00000097033\", \n",
    "         \"ENSG00000148734\",  \"ENSG00000196581\"] + [\"ENSG00000134184\",\"ENSG00000183793\",\"ENSG00000278704\"] + [\"BCL2L2\",\"CDK9\",\"SPOCK3\",\"SIRT6\",\"ZNF415\"]\n",
    "#+[\"AIFM1\",\"BRINP3\",\"CATSPERB\",\"CLCA2\",\"CXCL17\",\"CYP4Z2P\",\"DNASE1\",\"DUSP10\"]"
   ]
  },
  {
   "cell_type": "code",
   "execution_count": 9,
   "metadata": {},
   "outputs": [],
   "source": [
    "show_genes = list(pd.read_csv(\"/home/olya/UHH/OV cancer/report_3/44genes.txt\",header=None)[0].values)"
   ]
  },
  {
   "cell_type": "code",
   "execution_count": 10,
   "metadata": {
    "scrolled": true
   },
   "outputs": [
    {
     "name": "stdout",
     "output_type": "stream",
     "text": [
      "\n",
      "Binarization started ....\n",
      "\n",
      "\tGenerate empirical distribuition of SNR depending on the bicluster size ...\n",
      "\t\ttotal samples: 1904,\n",
      "\t\tnumber of samples in a bicluster: 19 - 952,\n",
      "\t\tn_permutations: 5000\n",
      "snr_pval threshold: 0.001\n",
      "\t\t\tfraction: 0.02\n",
      "\tSNR thresholds for individual features computed in 947.46 seconds\n",
      "\tGMM method is chosen ...\n",
      "\t\tgenes processed: 0\n",
      "Gene APOBEC3A: SNR=1.43, pos=259, neg=0\n"
     ]
    },
    {
     "data": {
      "image/png": "[encoded data removed]",
      "text/plain": [
       "<Figure size 432x288 with 1 Axes>"
      ]
     },
     "metadata": {
      "needs_background": "light"
     },
     "output_type": "display_data"
    },
    {
     "name": "stdout",
     "output_type": "stream",
     "text": [
      "\t\tgenes processed: 1000\n",
      "Gene BCL2L2: SNR=0.6, pos=0, neg=348\n"
     ]
    },
    {
     "data": {
      "image/png": "[encoded data removed]",
      "text/plain": [
       "<Figure size 432x288 with 1 Axes>"
      ]
     },
     "metadata": {
      "needs_background": "light"
     },
     "output_type": "display_data"
    },
    {
     "name": "stdout",
     "output_type": "stream",
     "text": [
      "\t\tgenes processed: 2000\n",
      "Gene CDK9: SNR=0.3, pos=362, neg=0\n"
     ]
    },
    {
     "data": {
      "image/png": "[encoded data removed]",
      "text/plain": [
       "<Figure size 432x288 with 1 Axes>"
      ]
     },
     "metadata": {
      "needs_background": "light"
     },
     "output_type": "display_data"
    },
    {
     "name": "stdout",
     "output_type": "stream",
     "text": [
      "\t\tgenes processed: 3000\n",
      "\t\tgenes processed: 4000\n",
      "Gene ERBB2: SNR=2.42, pos=218, neg=0\n"
     ]
    },
    {
     "data": {
      "image/png": "[encoded data removed]",
      "text/plain": [
       "<Figure size 432x288 with 1 Axes>"
      ]
     },
     "metadata": {
      "needs_background": "light"
     },
     "output_type": "display_data"
    },
    {
     "name": "stdout",
     "output_type": "stream",
     "text": [
      "Gene ESR1: SNR=2.63, pos=0, neg=442\n"
     ]
    },
    {
     "data": {
      "image/png": "[encoded data removed]",
      "text/plain": [
       "<Figure size 432x288 with 1 Axes>"
      ]
     },
     "metadata": {
      "needs_background": "light"
     },
     "output_type": "display_data"
    },
    {
     "name": "stdout",
     "output_type": "stream",
     "text": [
      "Gene FOXA1: SNR=2.85, pos=0, neg=253\n"
     ]
    },
    {
     "data": {
      "image/png": "[encoded data removed]",
      "text/plain": [
       "<Figure size 432x288 with 1 Axes>"
      ]
     },
     "metadata": {
      "needs_background": "light"
     },
     "output_type": "display_data"
    },
    {
     "name": "stdout",
     "output_type": "stream",
     "text": [
      "Gene GATA3: SNR=1.88, pos=0, neg=449\n"
     ]
    },
    {
     "data": {
      "image/png": "[encoded data removed]",
      "text/plain": [
       "<Figure size 432x288 with 1 Axes>"
      ]
     },
     "metadata": {
      "needs_background": "light"
     },
     "output_type": "display_data"
    },
    {
     "name": "stdout",
     "output_type": "stream",
     "text": [
      "\t\tgenes processed: 5000\n",
      "\t\tgenes processed: 6000\n",
      "\t\tgenes processed: 7000\n",
      "\t\tgenes processed: 8000\n",
      "\t\tgenes processed: 9000\n",
      "Gene PIK3R2: SNR=1.25, pos=770, neg=0\n"
     ]
    },
    {
     "data": {
      "image/png": "[encoded data removed]",
      "text/plain": [
       "<Figure size 432x288 with 1 Axes>"
      ]
     },
     "metadata": {
      "needs_background": "light"
     },
     "output_type": "display_data"
    },
    {
     "name": "stdout",
     "output_type": "stream",
     "text": [
      "\t\tgenes processed: 10000\n",
      "\t\tgenes processed: 11000\n",
      "Gene SIRT6: SNR=0.74, pos=333, neg=0\n"
     ]
    },
    {
     "data": {
      "image/png": "[encoded data removed]",
      "text/plain": [
       "<Figure size 432x288 with 1 Axes>"
      ]
     },
     "metadata": {
      "needs_background": "light"
     },
     "output_type": "display_data"
    },
    {
     "name": "stdout",
     "output_type": "stream",
     "text": [
      "\t\tgenes processed: 12000\n",
      "Gene SPOCK3: SNR=1.24, pos=915, neg=0\n"
     ]
    },
    {
     "data": {
      "image/png": "[encoded data removed]",
      "text/plain": [
       "<Figure size 432x288 with 1 Axes>"
      ]
     },
     "metadata": {
      "needs_background": "light"
     },
     "output_type": "display_data"
    },
    {
     "name": "stdout",
     "output_type": "stream",
     "text": [
      "\t\tgenes processed: 13000\n",
      "\t\tgenes processed: 14000\n",
      "Gene ZNF415: SNR=1.47, pos=0, neg=361\n"
     ]
    },
    {
     "data": {
      "image/png": "[encoded data removed]",
      "text/plain": [
       "<Figure size 432x288 with 1 Axes>"
      ]
     },
     "metadata": {
      "needs_background": "light"
     },
     "output_type": "display_data"
    },
    {
     "name": "stdout",
     "output_type": "stream",
     "text": [
      "\tGMM binarization for 14986 features completed in 274.27 s\n",
      "\tbinarization runtime: 1221.74 s\n",
      "\t895 features passed binarization \n",
      "\t\tUP-regulated features:\t626\n",
      "\t\tDOWN-regulated features:\t283\n",
      "\t\tambiguous features:\t14\n",
      "Statistics is saved to /home/olya/TUM/DESMOND/DESMOND2/tmp_results//METABRIC.GMM.binarization_stats.tsv\n",
      "Binarized gene expressions are saved to /home/olya/TUM/DESMOND/DESMOND2/tmp_results//METABRIC.GMM.binarized_UP.tsv\n",
      "Binarized gene expressions are saved to /home/olya/TUM/DESMOND/DESMOND2/tmp_results//METABRIC.GMM.binarized_DOWN.tsv\n"
     ]
    },
    {
     "data": {
      "image/png": "[encoded data removed]",
      "text/plain": [
       "<Figure size 1440x720 with 1 Axes>"
      ]
     },
     "metadata": {
      "needs_background": "light"
     },
     "output_type": "display_data"
    }
   ],
   "source": [
    "binarized_expressions,stats,empirical_snr = binarize(out_dir+\"/\"+basename, exprs=exprs,\n",
    "                                 method=bin_method, save = save, load=load,\n",
    "                                 min_n_samples = min_n_samples,pval=pval,\n",
    "                                 plot_all = plot_all,show_fits = show_fits,\n",
    "                                 verbose= verbose,seed=seed)\n",
    "    "
   ]
  },
  {
   "cell_type": "code",
   "execution_count": 11,
   "metadata": {},
   "outputs": [],
   "source": [
    "#stats.loc[show_genes,:].loc[stats['SNR']>stats['SNR_threshold'],:].shape"
   ]
  },
  {
   "cell_type": "markdown",
   "metadata": {},
   "source": [
    "# Step 2. Group features into modules\n",
    "\n",
    "Input: binarized inputs\n",
    "Output: modules - sets of features with the same 1/0 profiles\n",
    "\n",
    " - feature clustering: choose WGCNA or DESMOND \n",
    " - runs for up- and down-regulated features separately\n",
    " \n",
    "\n"
   ]
  },
  {
   "cell_type": "markdown",
   "metadata": {},
   "source": [
    "###    WGCNA:"
   ]
  },
  {
   "cell_type": "code",
   "execution_count": 12,
   "metadata": {},
   "outputs": [],
   "source": [
    "#clust_method = \"WGCNA\"\n",
    "if clust_method == \"WGCNA\":\n",
    "    from method import run_WGCNA\n",
    "    \n",
    "    clustering_results = {}\n",
    "    for d in [\"UP\",\"DOWN\"]:\n",
    "        fname = out_dir+\"/\"+basename+ \".\"+bin_method+\".binarized_\"+d +\".tsv\"\n",
    "        clustering_results[d] = run_WGCNA(fname,p1=p1,p2=p2, verbose = verbose)"
   ]
  },
  {
   "cell_type": "code",
   "execution_count": null,
   "metadata": {},
   "outputs": [],
   "source": []
  },
  {
   "cell_type": "markdown",
   "metadata": {},
   "source": [
    "## Louvain"
   ]
  },
  {
   "cell_type": "code",
   "execution_count": 13,
   "metadata": {},
   "outputs": [
    {
     "name": "stdout",
     "output_type": "stream",
     "text": [
      "\t modules: 19 not_clustered: 207\n",
      "\t\tmodularity: 0.667 runtime: 0.02 s\n",
      "\t modules: 13 not_clustered: 66\n",
      "\t\tmodularity: 0.248 runtime: 0.01 s\n"
     ]
    }
   ],
   "source": [
    "#J = 1/3\n",
    "clust_method = \"Louvain\"\n",
    "if clust_method == \"Louvain\":\n",
    "    from method import run_Louvain, get_similarity_corr\n",
    "    \n",
    "    clustering_results = {}\n",
    "    for d in [\"UP\",\"DOWN\"]:\n",
    "        similarity = get_similarity_corr(binarized_expressions[d],r = r)\n",
    "        clustering_results[d] = run_Louvain(similarity, verbose = True) \n",
    "        #similarity2 = get_similarity_jaccard(binarized_expressions[d],J=J,qval = 0.01)\n",
    "        #clustering_results[d] = run_Louvain(similarity2, verbose = True) \n",
    "        "
   ]
  },
  {
   "cell_type": "markdown",
   "metadata": {},
   "source": [
    "## Markov Clustering"
   ]
  },
  {
   "cell_type": "code",
   "execution_count": 14,
   "metadata": {},
   "outputs": [],
   "source": [
    "#clust_method = \"MCL\"\n",
    "if clust_method == \"MCL\":\n",
    "    from method import run_MCL, get_similarity\n",
    "    r =0.33\n",
    "    for d in [\"UP\",\"DOWN\"]:\n",
    "        print(d)\n",
    "        similarity = get_similarity(binarized_expressions[d],r = r)\n",
    "        clustering_results[d] = run_MCL(similarity, r = r)#, inflations=inflations)"
   ]
  },
  {
   "cell_type": "markdown",
   "metadata": {},
   "source": [
    "### DESMOND:"
   ]
  },
  {
   "cell_type": "code",
   "execution_count": 15,
   "metadata": {
    "scrolled": false
   },
   "outputs": [],
   "source": [
    "#clust_method = \"DESMOND\"\n",
    "if clust_method == \"DESMOND\":\n",
    "    from pgm import run_sampling\n",
    "    # PGM parameters\n",
    "    alpha = 2.0 # convergence fails from 0.25; 0.33 is still Ok\n",
    "    beta_K = 1\n",
    "\n",
    "    # convergence\n",
    "    max_n_steps= 50\n",
    "    n_steps_averaged = 10\n",
    "    n_points_fit=10\n",
    "    n_steps_for_convergence = 10\n",
    "\n",
    "    clustering_results ={}\n",
    "    for d in [\"UP\",\"DOWN\"]:\n",
    "        exprs_bin = binarized_expressions[d]\n",
    "        genes = exprs_bin.columns.values\n",
    "        clustering_results[d] = run_sampling(exprs_bin,alpha=alpha,beta_K=beta_K,f=0.51,\n",
    "                    max_n_steps=max_n_steps, n_steps_averaged = n_steps_averaged,\n",
    "                    n_points_fit = n_points_fit, tol = 0.1,\n",
    "                    n_steps_for_convergence = n_steps_for_convergence,\n",
    "                    verbose =True,plot_all=plot_all)"
   ]
  },
  {
   "cell_type": "code",
   "execution_count": null,
   "metadata": {},
   "outputs": [],
   "source": []
  },
  {
   "cell_type": "markdown",
   "metadata": {},
   "source": [
    "# 3. K-means to split modules into biclusters and background"
   ]
  },
  {
   "cell_type": "code",
   "execution_count": 16,
   "metadata": {},
   "outputs": [],
   "source": [
    "from method import make_biclusters \n",
    "#from method import modules2biclusters, run_2means,add_SNR_to_biclusters\n",
    "\n"
   ]
  },
  {
   "cell_type": "code",
   "execution_count": 17,
   "metadata": {
    "scrolled": false
   },
   "outputs": [
    {
     "name": "stdout",
     "output_type": "stream",
     "text": [
      "(19, 9)\n",
      "(13, 9)\n",
      "/home/olya/TUM/DESMOND/DESMOND2/tmp_results/METABRIC.bin=GMM,clust=Louvain.biclusters.tsv\n"
     ]
    },
    {
     "data": {
      "text/html": [
       "<div>\n",
       "<style scoped>\n",
       "    .dataframe tbody tr th:only-of-type {\n",
       "        vertical-align: middle;\n",
       "    }\n",
       "\n",
       "    .dataframe tbody tr th {\n",
       "        vertical-align: top;\n",
       "    }\n",
       "\n",
       "    .dataframe thead th {\n",
       "        text-align: right;\n",
       "    }\n",
       "</style>\n",
       "<table border=\"1\" class=\"dataframe\">\n",
       "  <thead>\n",
       "    <tr style=\"text-align: right;\">\n",
       "      <th></th>\n",
       "      <th>gene_ids</th>\n",
       "      <th>n_genes</th>\n",
       "      <th>sample_ids</th>\n",
       "      <th>n_samples</th>\n",
       "      <th>avgSNR</th>\n",
       "      <th>direction</th>\n",
       "      <th>genes</th>\n",
       "      <th>samples</th>\n",
       "    </tr>\n",
       "  </thead>\n",
       "  <tbody>\n",
       "    <tr>\n",
       "      <th>1</th>\n",
       "      <td>{268, 269, 270, 271, 272}</td>\n",
       "      <td>5</td>\n",
       "      <td>{7, 18, 21, 28, 36, 46, 50, 51, 53, 58, 59, 63...</td>\n",
       "      <td>338</td>\n",
       "      <td>1.502066</td>\n",
       "      <td>UP</td>\n",
       "      <td>{HOXB4, HOXB3, HOXB5, HOXB-AS3, HOXB6}</td>\n",
       "      <td>{MB-7026, MB-5418, MB-4688, MB-4991, MB-0654, ...</td>\n",
       "    </tr>\n",
       "    <tr>\n",
       "      <th>3</th>\n",
       "      <td>{549, 360, 366, 430, 462, 177, 241, 244, 415}</td>\n",
       "      <td>9</td>\n",
       "      <td>{1536, 513, 1027, 1031, 1032, 522, 1547, 13, 1...</td>\n",
       "      <td>247</td>\n",
       "      <td>1.406142</td>\n",
       "      <td>UP</td>\n",
       "      <td>{MIEN1, MBD4, GSDMB, PGAP3, STARD3, PSMD3, GRB...</td>\n",
       "      <td>{MB-4724, MB-3488, MB-5166, MB-5418, MB-0046, ...</td>\n",
       "    </tr>\n",
       "    <tr>\n",
       "      <th>8</th>\n",
       "      <td>{162, 305, 468, 566, 55, 344, 348, 63, 127}</td>\n",
       "      <td>9</td>\n",
       "      <td>{0, 1, 2, 10, 11, 14, 16, 17, 18, 20, 23, 24, ...</td>\n",
       "      <td>397</td>\n",
       "      <td>1.170213</td>\n",
       "      <td>UP</td>\n",
       "      <td>{C1orf147, DRC7, C11orf16, LSM14B, KCNJ14, TEC...</td>\n",
       "      <td>{MB-4017, MB-3488, MB-7026, MB-2614, MB-3536, ...</td>\n",
       "    </tr>\n",
       "    <tr>\n",
       "      <th>10</th>\n",
       "      <td>{408, 298, 409, 410, 499, 278, 279, 280, 281, ...</td>\n",
       "      <td>13</td>\n",
       "      <td>{3, 4, 11, 12, 14, 16, 17, 19, 22, 23, 27, 32,...</td>\n",
       "      <td>714</td>\n",
       "      <td>1.091564</td>\n",
       "      <td>UP</td>\n",
       "      <td>{IFI6, CDA, IFI44L, IFIT3, MX1, OASL, RSAD2, I...</td>\n",
       "      <td>{MB-0147, MB-3381, MB-3488, MB-4688, MB-0006, ...</td>\n",
       "    </tr>\n",
       "    <tr>\n",
       "      <th>14</th>\n",
       "      <td>{257, 258, 259, 260, 261, 262}</td>\n",
       "      <td>6</td>\n",
       "      <td>{1, 2, 4, 5, 10, 11, 16, 18, 21, 23, 24, 27, 2...</td>\n",
       "      <td>583</td>\n",
       "      <td>1.051728</td>\n",
       "      <td>UP</td>\n",
       "      <td>{HIST1H4E, HIST2H4B, HIST1H3H, HIST1H3D, HIST1...</td>\n",
       "      <td>{MB-3381, MB-4017, MB-3488, MB-7026, MB-2614, ...</td>\n",
       "    </tr>\n",
       "    <tr>\n",
       "      <th>15</th>\n",
       "      <td>{0, 1, 256, 257, 4, 133, 10, 12, 269, 14, 272,...</td>\n",
       "      <td>55</td>\n",
       "      <td>{513, 1538, 1030, 520, 1033, 522, 1034, 12, 15...</td>\n",
       "      <td>275</td>\n",
       "      <td>1.028781</td>\n",
       "      <td>DOWN</td>\n",
       "      <td>{AREG, RET, C9orf152, RORC, CAPN13, WFS1, DEGS...</td>\n",
       "      <td>{MB-0259, MB-6223, MB-2857, MB-0446, MB-7081, ...</td>\n",
       "    </tr>\n",
       "    <tr>\n",
       "      <th>17</th>\n",
       "      <td>{137, 266, 267, 12, 141, 394, 143, 395, 17, 14...</td>\n",
       "      <td>67</td>\n",
       "      <td>{7, 12, 14, 17, 19, 20, 22, 25, 27, 30, 31, 32...</td>\n",
       "      <td>650</td>\n",
       "      <td>0.911392</td>\n",
       "      <td>UP</td>\n",
       "      <td>{CD7, CXCR3, LAG3, GIMAP5, GNLY, SLC2A6, CXCL9...</td>\n",
       "      <td>{MB-3381, MB-6223, MB-3536, MB-4688, MB-5424, ...</td>\n",
       "    </tr>\n",
       "    <tr>\n",
       "      <th>18</th>\n",
       "      <td>{232, 562, 445}</td>\n",
       "      <td>3</td>\n",
       "      <td>{2, 5, 6, 7, 8, 9, 10, 13, 15, 17, 19, 20, 21,...</td>\n",
       "      <td>889</td>\n",
       "      <td>0.910291</td>\n",
       "      <td>UP</td>\n",
       "      <td>{TBCE, PMF1-BGLAP, GNPAT}</td>\n",
       "      <td>{MB-3488, MB-7026, MB-5224, MB-5290, MB-5418, ...</td>\n",
       "    </tr>\n",
       "    <tr>\n",
       "      <th>20</th>\n",
       "      <td>{138, 107, 253}</td>\n",
       "      <td>3</td>\n",
       "      <td>{1, 4, 6, 7, 8, 10, 11, 14, 16, 17, 18, 20, 21...</td>\n",
       "      <td>758</td>\n",
       "      <td>0.832215</td>\n",
       "      <td>DOWN</td>\n",
       "      <td>{KRT7, TEAD2, GRAMD2}</td>\n",
       "      <td>{MB-4234, MB-3381, MB-4017, MB-4688, MB-4591, ...</td>\n",
       "    </tr>\n",
       "    <tr>\n",
       "      <th>21</th>\n",
       "      <td>{5, 6, 7, 135, 136, 268, 13, 143, 16, 144, 146...</td>\n",
       "      <td>76</td>\n",
       "      <td>{0, 3, 9, 12, 14, 19, 20, 24, 30, 35, 38, 41, ...</td>\n",
       "      <td>606</td>\n",
       "      <td>0.830696</td>\n",
       "      <td>DOWN</td>\n",
       "      <td>{CLSTN2, C17orf97, SERPINA3, LRRC56, IL6ST, CC...</td>\n",
       "      <td>{MB-3488, MB-6223, MB-0639, MB-0006, MB-0460, ...</td>\n",
       "    </tr>\n",
       "    <tr>\n",
       "      <th>22</th>\n",
       "      <td>{230, 492, 494, 496, 598}</td>\n",
       "      <td>5</td>\n",
       "      <td>{2, 3, 4, 6, 7, 8, 10, 14, 17, 18, 22, 26, 28,...</td>\n",
       "      <td>879</td>\n",
       "      <td>0.785935</td>\n",
       "      <td>DOWN</td>\n",
       "      <td>{RPS10, GNB2L1, RPL32, RPLP2, UBA52}</td>\n",
       "      <td>{MB-3381, MB-0531, MB-3488, MB-4017, MB-7026, ...</td>\n",
       "    </tr>\n",
       "    <tr>\n",
       "      <th>23</th>\n",
       "      <td>{18, 261, 132, 90}</td>\n",
       "      <td>4</td>\n",
       "      <td>{1, 4, 5, 8, 10, 11, 18, 21, 22, 23, 26, 27, 2...</td>\n",
       "      <td>855</td>\n",
       "      <td>0.782735</td>\n",
       "      <td>DOWN</td>\n",
       "      <td>{FAT1, KCNK1, ASS1, UBE2E3}</td>\n",
       "      <td>{MB-0147, MB-4234, MB-4017, MB-7026, MB-5224, ...</td>\n",
       "    </tr>\n",
       "    <tr>\n",
       "      <th>24</th>\n",
       "      <td>{130, 258, 9, 11, 267, 15, 147, 153, 35, 165, ...</td>\n",
       "      <td>26</td>\n",
       "      <td>{69, 83, 89, 138, 168, 180, 192, 260, 274, 299...</td>\n",
       "      <td>671</td>\n",
       "      <td>0.730344</td>\n",
       "      <td>DOWN</td>\n",
       "      <td>{TTC8, AKIP1, EIF4H, GNG12, SON, SPTLC1, ISY1-...</td>\n",
       "      <td>{MB-0147, MB-4234, MB-3488, MB-2614, MB-3536, ...</td>\n",
       "    </tr>\n",
       "    <tr>\n",
       "      <th>25</th>\n",
       "      <td>{388, 516, 144, 407, 539, 542, 297, 46, 48, 18...</td>\n",
       "      <td>32</td>\n",
       "      <td>{0, 12, 15, 20, 30, 33, 41, 52, 54, 57, 62, 70...</td>\n",
       "      <td>461</td>\n",
       "      <td>0.713862</td>\n",
       "      <td>UP</td>\n",
       "      <td>{PROM1, SLPI, TUBB2B, GSTP1, GABRP, BCL11A, LA...</td>\n",
       "      <td>{MB-0531, MB-3536, MB-0639, MB-7159, MB-3062, ...</td>\n",
       "    </tr>\n",
       "    <tr>\n",
       "      <th>26</th>\n",
       "      <td>{0, 512, 520, 9, 11, 524, 14, 18, 534, 536, 31...</td>\n",
       "      <td>88</td>\n",
       "      <td>{4, 5, 13, 19, 20, 24, 30, 32, 34, 36, 39, 41,...</td>\n",
       "      <td>658</td>\n",
       "      <td>0.668544</td>\n",
       "      <td>UP</td>\n",
       "      <td>{COQ9, SHARPIN, CMC2, GPRIN2, S100A8, TRIP13, ...</td>\n",
       "      <td>{MB-4017, MB-3488, MB-6223, MB-0046, MB-4688, ...</td>\n",
       "    </tr>\n",
       "    <tr>\n",
       "      <th>27</th>\n",
       "      <td>{65, 129, 202, 140, 206, 47, 177, 278, 156}</td>\n",
       "      <td>9</td>\n",
       "      <td>{1, 2, 3, 4, 5, 6, 7, 8, 11, 12, 14, 16, 17, 1...</td>\n",
       "      <td>913</td>\n",
       "      <td>0.618938</td>\n",
       "      <td>DOWN</td>\n",
       "      <td>{LAMC1, ZNF311, IQGAP2, RASEF, PARP3, MLF2, CF...</td>\n",
       "      <td>{MB-4017, MB-3488, MB-6223, MB-3536, MB-4688, ...</td>\n",
       "    </tr>\n",
       "    <tr>\n",
       "      <th>28</th>\n",
       "      <td>{32, 66, 387, 446, 580, 135, 397, 461, 335, 58...</td>\n",
       "      <td>14</td>\n",
       "      <td>{32, 35, 69, 76, 89, 138, 140, 168, 180, 186, ...</td>\n",
       "      <td>940</td>\n",
       "      <td>0.614644</td>\n",
       "      <td>DOWN</td>\n",
       "      <td>{LIN52, C4B, PMVK, PSEN1, TNFRSF12A, SCAMP1, C...</td>\n",
       "      <td>{MB-0147, MB-4234, MB-4017, MB-3488, MB-2614, ...</td>\n",
       "    </tr>\n",
       "    <tr>\n",
       "      <th>29</th>\n",
       "      <td>{3, 131, 8, 137, 141, 270, 149, 26, 159, 160, ...</td>\n",
       "      <td>32</td>\n",
       "      <td>{8, 9, 11, 13, 16, 19, 20, 21, 28, 29, 34, 35,...</td>\n",
       "      <td>822</td>\n",
       "      <td>0.567555</td>\n",
       "      <td>DOWN</td>\n",
       "      <td>{FOS, SPOCK1, CCL5, MSRB3, WLS, SFRP4, MS4A6A,...</td>\n",
       "      <td>{MB-0147, MB-4234, MB-4017, MB-3488, MB-5290, ...</td>\n",
       "    </tr>\n",
       "    <tr>\n",
       "      <th>30</th>\n",
       "      <td>{1, 4, 519, 10, 522, 13, 16, 530, 533, 546, 54...</td>\n",
       "      <td>84</td>\n",
       "      <td>{0, 2, 3, 4, 5, 7, 9, 12, 14, 17, 19, 20, 24, ...</td>\n",
       "      <td>834</td>\n",
       "      <td>0.563171</td>\n",
       "      <td>DOWN</td>\n",
       "      <td>{LRRC48, CCDC74A, CHRD, TTC12, SREBF1, LRRN2, ...</td>\n",
       "      <td>{MB-3381, MB-0531, MB-3488, MB-6223, MB-3536, ...</td>\n",
       "    </tr>\n",
       "    <tr>\n",
       "      <th>31</th>\n",
       "      <td>{2, 130, 132, 6, 518, 8, 140, 142, 145, 276, 1...</td>\n",
       "      <td>72</td>\n",
       "      <td>{0, 1, 2, 3, 4, 5, 6, 7, 10, 12, 14, 15, 16, 1...</td>\n",
       "      <td>762</td>\n",
       "      <td>0.535373</td>\n",
       "      <td>UP</td>\n",
       "      <td>{CH25H, C1QTNF3, ITGA11, IL33, FOS, WISP2, MEO...</td>\n",
       "      <td>{MB-3381, MB-0531, MB-7026, MB-5224, MB-2614, ...</td>\n",
       "    </tr>\n",
       "  </tbody>\n",
       "</table>\n",
       "</div>"
      ],
      "text/plain": [
       "                                             gene_ids n_genes  \\\n",
       "1                           {268, 269, 270, 271, 272}       5   \n",
       "3       {549, 360, 366, 430, 462, 177, 241, 244, 415}       9   \n",
       "8         {162, 305, 468, 566, 55, 344, 348, 63, 127}       9   \n",
       "10  {408, 298, 409, 410, 499, 278, 279, 280, 281, ...      13   \n",
       "14                     {257, 258, 259, 260, 261, 262}       6   \n",
       "15  {0, 1, 256, 257, 4, 133, 10, 12, 269, 14, 272,...      55   \n",
       "17  {137, 266, 267, 12, 141, 394, 143, 395, 17, 14...      67   \n",
       "18                                    {232, 562, 445}       3   \n",
       "20                                    {138, 107, 253}       3   \n",
       "21  {5, 6, 7, 135, 136, 268, 13, 143, 16, 144, 146...      76   \n",
       "22                          {230, 492, 494, 496, 598}       5   \n",
       "23                                 {18, 261, 132, 90}       4   \n",
       "24  {130, 258, 9, 11, 267, 15, 147, 153, 35, 165, ...      26   \n",
       "25  {388, 516, 144, 407, 539, 542, 297, 46, 48, 18...      32   \n",
       "26  {0, 512, 520, 9, 11, 524, 14, 18, 534, 536, 31...      88   \n",
       "27        {65, 129, 202, 140, 206, 47, 177, 278, 156}       9   \n",
       "28  {32, 66, 387, 446, 580, 135, 397, 461, 335, 58...      14   \n",
       "29  {3, 131, 8, 137, 141, 270, 149, 26, 159, 160, ...      32   \n",
       "30  {1, 4, 519, 10, 522, 13, 16, 530, 533, 546, 54...      84   \n",
       "31  {2, 130, 132, 6, 518, 8, 140, 142, 145, 276, 1...      72   \n",
       "\n",
       "                                           sample_ids n_samples    avgSNR  \\\n",
       "1   {7, 18, 21, 28, 36, 46, 50, 51, 53, 58, 59, 63...       338  1.502066   \n",
       "3   {1536, 513, 1027, 1031, 1032, 522, 1547, 13, 1...       247  1.406142   \n",
       "8   {0, 1, 2, 10, 11, 14, 16, 17, 18, 20, 23, 24, ...       397  1.170213   \n",
       "10  {3, 4, 11, 12, 14, 16, 17, 19, 22, 23, 27, 32,...       714  1.091564   \n",
       "14  {1, 2, 4, 5, 10, 11, 16, 18, 21, 23, 24, 27, 2...       583  1.051728   \n",
       "15  {513, 1538, 1030, 520, 1033, 522, 1034, 12, 15...       275  1.028781   \n",
       "17  {7, 12, 14, 17, 19, 20, 22, 25, 27, 30, 31, 32...       650  0.911392   \n",
       "18  {2, 5, 6, 7, 8, 9, 10, 13, 15, 17, 19, 20, 21,...       889  0.910291   \n",
       "20  {1, 4, 6, 7, 8, 10, 11, 14, 16, 17, 18, 20, 21...       758  0.832215   \n",
       "21  {0, 3, 9, 12, 14, 19, 20, 24, 30, 35, 38, 41, ...       606  0.830696   \n",
       "22  {2, 3, 4, 6, 7, 8, 10, 14, 17, 18, 22, 26, 28,...       879  0.785935   \n",
       "23  {1, 4, 5, 8, 10, 11, 18, 21, 22, 23, 26, 27, 2...       855  0.782735   \n",
       "24  {69, 83, 89, 138, 168, 180, 192, 260, 274, 299...       671  0.730344   \n",
       "25  {0, 12, 15, 20, 30, 33, 41, 52, 54, 57, 62, 70...       461  0.713862   \n",
       "26  {4, 5, 13, 19, 20, 24, 30, 32, 34, 36, 39, 41,...       658  0.668544   \n",
       "27  {1, 2, 3, 4, 5, 6, 7, 8, 11, 12, 14, 16, 17, 1...       913  0.618938   \n",
       "28  {32, 35, 69, 76, 89, 138, 140, 168, 180, 186, ...       940  0.614644   \n",
       "29  {8, 9, 11, 13, 16, 19, 20, 21, 28, 29, 34, 35,...       822  0.567555   \n",
       "30  {0, 2, 3, 4, 5, 7, 9, 12, 14, 17, 19, 20, 24, ...       834  0.563171   \n",
       "31  {0, 1, 2, 3, 4, 5, 6, 7, 10, 12, 14, 15, 16, 1...       762  0.535373   \n",
       "\n",
       "   direction                                              genes  \\\n",
       "1         UP             {HOXB4, HOXB3, HOXB5, HOXB-AS3, HOXB6}   \n",
       "3         UP  {MIEN1, MBD4, GSDMB, PGAP3, STARD3, PSMD3, GRB...   \n",
       "8         UP  {C1orf147, DRC7, C11orf16, LSM14B, KCNJ14, TEC...   \n",
       "10        UP  {IFI6, CDA, IFI44L, IFIT3, MX1, OASL, RSAD2, I...   \n",
       "14        UP  {HIST1H4E, HIST2H4B, HIST1H3H, HIST1H3D, HIST1...   \n",
       "15      DOWN  {AREG, RET, C9orf152, RORC, CAPN13, WFS1, DEGS...   \n",
       "17        UP  {CD7, CXCR3, LAG3, GIMAP5, GNLY, SLC2A6, CXCL9...   \n",
       "18        UP                          {TBCE, PMF1-BGLAP, GNPAT}   \n",
       "20      DOWN                              {KRT7, TEAD2, GRAMD2}   \n",
       "21      DOWN  {CLSTN2, C17orf97, SERPINA3, LRRC56, IL6ST, CC...   \n",
       "22      DOWN               {RPS10, GNB2L1, RPL32, RPLP2, UBA52}   \n",
       "23      DOWN                        {FAT1, KCNK1, ASS1, UBE2E3}   \n",
       "24      DOWN  {TTC8, AKIP1, EIF4H, GNG12, SON, SPTLC1, ISY1-...   \n",
       "25        UP  {PROM1, SLPI, TUBB2B, GSTP1, GABRP, BCL11A, LA...   \n",
       "26        UP  {COQ9, SHARPIN, CMC2, GPRIN2, S100A8, TRIP13, ...   \n",
       "27      DOWN  {LAMC1, ZNF311, IQGAP2, RASEF, PARP3, MLF2, CF...   \n",
       "28      DOWN  {LIN52, C4B, PMVK, PSEN1, TNFRSF12A, SCAMP1, C...   \n",
       "29      DOWN  {FOS, SPOCK1, CCL5, MSRB3, WLS, SFRP4, MS4A6A,...   \n",
       "30      DOWN  {LRRC48, CCDC74A, CHRD, TTC12, SREBF1, LRRN2, ...   \n",
       "31        UP  {CH25H, C1QTNF3, ITGA11, IL33, FOS, WISP2, MEO...   \n",
       "\n",
       "                                              samples  \n",
       "1   {MB-7026, MB-5418, MB-4688, MB-4991, MB-0654, ...  \n",
       "3   {MB-4724, MB-3488, MB-5166, MB-5418, MB-0046, ...  \n",
       "8   {MB-4017, MB-3488, MB-7026, MB-2614, MB-3536, ...  \n",
       "10  {MB-0147, MB-3381, MB-3488, MB-4688, MB-0006, ...  \n",
       "14  {MB-3381, MB-4017, MB-3488, MB-7026, MB-2614, ...  \n",
       "15  {MB-0259, MB-6223, MB-2857, MB-0446, MB-7081, ...  \n",
       "17  {MB-3381, MB-6223, MB-3536, MB-4688, MB-5424, ...  \n",
       "18  {MB-3488, MB-7026, MB-5224, MB-5290, MB-5418, ...  \n",
       "20  {MB-4234, MB-3381, MB-4017, MB-4688, MB-4591, ...  \n",
       "21  {MB-3488, MB-6223, MB-0639, MB-0006, MB-0460, ...  \n",
       "22  {MB-3381, MB-0531, MB-3488, MB-4017, MB-7026, ...  \n",
       "23  {MB-0147, MB-4234, MB-4017, MB-7026, MB-5224, ...  \n",
       "24  {MB-0147, MB-4234, MB-3488, MB-2614, MB-3536, ...  \n",
       "25  {MB-0531, MB-3536, MB-0639, MB-7159, MB-3062, ...  \n",
       "26  {MB-4017, MB-3488, MB-6223, MB-0046, MB-4688, ...  \n",
       "27  {MB-4017, MB-3488, MB-6223, MB-3536, MB-4688, ...  \n",
       "28  {MB-0147, MB-4234, MB-4017, MB-3488, MB-2614, ...  \n",
       "29  {MB-0147, MB-4234, MB-4017, MB-3488, MB-5290, ...  \n",
       "30  {MB-3381, MB-0531, MB-3488, MB-6223, MB-3536, ...  \n",
       "31  {MB-3381, MB-0531, MB-7026, MB-5224, MB-2614, ...  "
      ]
     },
     "execution_count": 17,
     "metadata": {},
     "output_type": "execute_result"
    }
   ],
   "source": [
    "from method import make_biclusters \n",
    "filtered_bics = make_biclusters(clustering_results,binarized_expressions,exprs,\n",
    "                                min_n_samples=min_n_samples, min_n_genes=2,\n",
    "                                seed = seed,\n",
    "                                save=True, out_dir=out_dir,basename=basename,\n",
    "                                bin_method=bin_method,clust_method=clust_method)\n",
    "\n",
    "filtered_bics.loc[filtered_bics[\"n_genes\"]>2,:]"
   ]
  },
  {
   "cell_type": "code",
   "execution_count": 25,
   "metadata": {},
   "outputs": [
    {
     "data": {
      "text/plain": [
       "'CASC3 ERBB2 GRB7 MIEN1 ORMDL3 PGAP3 PSMD3 STARD3'"
      ]
     },
     "execution_count": 25,
     "metadata": {},
     "output_type": "execute_result"
    }
   ],
   "source": [
    "\" \".join(sorted(filtered_bics.loc[7,\"genes\"]))"
   ]
  },
  {
   "cell_type": "code",
   "execution_count": 18,
   "metadata": {},
   "outputs": [
    {
     "name": "stdout",
     "output_type": "stream",
     "text": [
      "1 ERBB2\n",
      "n_genes             9\n",
      "n_samples         247\n",
      "avgSNR       1.406142\n",
      "direction          UP\n",
      "Name: 3, dtype: object\n",
      "genes    {MIEN1, MBD4, GSDMB, PGAP3, STARD3, PSMD3, GRB...\n",
      "Name: 3, dtype: object\n",
      "\n",
      "1 IFIT1\n",
      "n_genes            13\n",
      "n_samples         714\n",
      "avgSNR       1.091564\n",
      "direction          UP\n",
      "Name: 10, dtype: object\n",
      "genes    {IFI6, CDA, IFI44L, IFIT3, MX1, OASL, RSAD2, I...\n",
      "Name: 10, dtype: object\n",
      "\n",
      "1 FOXA1\n",
      "n_genes            55\n",
      "n_samples         275\n",
      "avgSNR       1.028781\n",
      "direction        DOWN\n",
      "Name: 15, dtype: object\n",
      "genes    {AREG, RET, C9orf152, RORC, CAPN13, WFS1, DEGS...\n",
      "Name: 15, dtype: object\n",
      "\n",
      "1 GZMA\n",
      "n_genes            67\n",
      "n_samples         650\n",
      "avgSNR       0.911392\n",
      "direction          UP\n",
      "Name: 17, dtype: object\n",
      "genes    {CD7, CXCR3, LAG3, GIMAP5, GNLY, SLC2A6, CXCL9...\n",
      "Name: 17, dtype: object\n",
      "\n",
      "2 ESR1 GATA3\n",
      "n_genes            76\n",
      "n_samples         606\n",
      "avgSNR       0.830696\n",
      "direction        DOWN\n",
      "Name: 21, dtype: object\n",
      "genes    {CLSTN2, C17orf97, SERPINA3, LRRC56, IL6ST, CC...\n",
      "Name: 21, dtype: object\n",
      "\n"
     ]
    }
   ],
   "source": [
    "show_genes = [\"ERBB2\",\"ESR1\",\"FOXA1\",\"GATA3\",\"IFIT1\",\"GZMB\"]\n",
    "for i in filtered_bics.index:\n",
    "    gset = filtered_bics.loc[i,\"genes\"]\n",
    "    o = gset.intersection(show_genes)\n",
    "    if len(o)>0:\n",
    "        print(len(o),\" \".join(o))\n",
    "        print(filtered_bics.loc[i,[\"n_genes\",\"n_samples\",\"avgSNR\",\"direction\"]])\n",
    "        print(filtered_bics.loc[i,[\"genes\"]])\n",
    "        print()"
   ]
  },
  {
   "cell_type": "code",
   "execution_count": 20,
   "metadata": {},
   "outputs": [
    {
     "name": "stdout",
     "output_type": "stream",
     "text": [
      "1 ERBB2\n",
      "n_genes             8\n",
      "n_samples         109\n",
      "avgSNR       1.441826\n",
      "direction          UP\n",
      "Name: 7, dtype: object\n",
      "genes    {CASC3, ERBB2, PGAP3, STARD3, ORMDL3, MIEN1, P...\n",
      "Name: 7, dtype: object\n",
      "\n",
      "1 FOXA1\n",
      "n_genes           157\n",
      "n_samples         169\n",
      "avgSNR       0.975473\n",
      "direction        DOWN\n",
      "Name: 25, dtype: object\n",
      "genes    {TOX3, TTC6, DACH1, PAX2, CCDC125, MKRN2OS, F7...\n",
      "Name: 25, dtype: object\n",
      "\n",
      "2 GATA3 ESR1\n",
      "n_genes           165\n",
      "n_samples         260\n",
      "avgSNR       0.806449\n",
      "direction        DOWN\n",
      "Name: 24, dtype: object\n",
      "genes    {FRMPD2, PRRT3, ABAT, IGSF9B, WDR19, IGFALS, R...\n",
      "Name: 24, dtype: object\n",
      "\n",
      "1 IFIT1\n",
      "n_genes            26\n",
      "n_samples         382\n",
      "avgSNR       0.726822\n",
      "direction          UP\n",
      "Name: 4, dtype: object\n",
      "genes    {CLEC17A, ZBED2, CD1B, STAT1, IL12B, CR2, LCNL...\n",
      "Name: 4, dtype: object\n",
      "\n"
     ]
    }
   ],
   "source": [
    "show_genes = [\"ERBB2\",\"ESR1\",\"FOXA1\",\"GATA3\",\"IFIT1\",\"GZMA\"]\n",
    "for i in filtered_bics.index:\n",
    "    gset = filtered_bics.loc[i,\"genes\"]\n",
    "    o = gset.intersection(show_genes)\n",
    "    if len(o)>0:\n",
    "        print(len(o),\" \".join(o))\n",
    "        print(filtered_bics.loc[i,[\"n_genes\",\"n_samples\",\"avgSNR\",\"direction\"]])\n",
    "        print(filtered_bics.loc[i,[\"genes\"]])\n",
    "        print()"
   ]
  },
  {
   "cell_type": "markdown",
   "metadata": {},
   "source": [
    "# All steps in one function\n",
    "\n",
    "* Input:  expression matrix (genes x samples); z-normalized for between-sample comparison \n",
    "* Can start from binarized data if binarized = \"binarized_data_file_prefix\", e.g. \n",
    "  \"path/to/results/TCGA\" for files \"TCGA.GMM.binarized_UP.tsv\" and \"TCGA.GMM.binarized_DOWN.tsv\" \n",
    "  and bin_mehtod=\"GMM\"\n",
    "* Output: \n",
    "     - biclusters: {\"UP\":df_biclusters_up, \"DOWN\":df_biclusters_down}\n",
    "     - biclusters are also save to files\n",
    "     - lists of not clustered genes:   {\"UP\":df_biclusters_up, \"DOWN\":df_biclusters_down}"
   ]
  },
  {
   "cell_type": "code",
   "execution_count": 19,
   "metadata": {},
   "outputs": [],
   "source": [
    "def run_DESMOND(exprs_file, basename, out_dir=\"\",  \n",
    "                binarized_data = None, save=True, load = False,\n",
    "                bin_method = \"GMM\", clust_method = \"Louvain\", \n",
    "                min_n_samples = -1,\n",
    "                pval = 0.001,\n",
    "                r = 1/3, # Louvain - cutoff for similarity matrix\n",
    "                p1=10,p2=10, # WGCNA\n",
    "                alpha=1,beta_K = 1, # DESMOND\n",
    "                max_n_steps= 50, n_steps_for_convergence = 10,\n",
    "                seed = 42,\n",
    "                verbose = True, plot_all = False):\n",
    "    \n",
    "    start_time = time()\n",
    "\n",
    "    if basename:\n",
    "        basename = basename\n",
    "    else: \n",
    "        [date_h,mins] = str(datetime.today()).split(\":\")[:2]\n",
    "        [date, hs] = date_h.split()\n",
    "        basename = \"results_\"+hs+\":\"+mins+\"_\"+date \n",
    "        \n",
    "    # read inputs\n",
    "    exprs = pd.read_csv(exprs_file, sep=\"\\t\",index_col=0)\n",
    "    if verbose:\n",
    "        print(\"Read input from:\",exprs_file ,file=sys.stdout)\n",
    "        print(\"\\t{} features x {} samples\".format(exprs.shape[0],exprs.shape[1]) ,file=sys.stdout)\n",
    "\n",
    "    #check if expressions are standardized (mean=0, std =1)\n",
    "    if not validate_input_matrix(exprs):\n",
    "        print(\"Centering mean to 0 and std to 1\",file= sys.stderr)\n",
    "        m = exprs.mean(axis=1)\n",
    "        std = exprs.std(axis=1)\n",
    "        exprs = exprs.T-m\n",
    "        exprs = exprs.T\n",
    "        exprs = exprs.T/std\n",
    "        exprs = exprs.T\n",
    "\n",
    "    # define minimal number of samples\n",
    "    if min_n_samples == -1:\n",
    "        min_n_samples = round(min(0.5*exprs.shape[1],max(10,0.01*exprs.shape[1])))\n",
    "    if verbose:\n",
    "        print(\"Mininal number of samples in a bicluster:\",min_n_samples ,file=sys.stdout)\n",
    "    if min_n_samples < 10:\n",
    "        print(\"min_n_samples is recommended to be >= 10\", file= sys.stderr)    \n",
    "    \n",
    "    ######### binarization #########\n",
    "    from method import binarize\n",
    "    binarized_expressions,stats,empirical_snr = binarize(out_dir+\"/\"+basename, exprs=exprs,\n",
    "                                 method=bin_method, save = save, load=load,\n",
    "                                 min_n_samples = min_n_samples,pval=pval,\n",
    "                                 plot_all = plot_all,show_fits = show_fits,\n",
    "                                 verbose= verbose,seed=seed)\n",
    "    \n",
    "    ######### gene clustering #########\n",
    "    if clust_method == \"Louvain\":\n",
    "        from method import run_Louvain, get_similarity_corr\n",
    "\n",
    "        clustering_results = {}\n",
    "        for d in [\"UP\",\"DOWN\"]:\n",
    "            similarity = get_similarity_corr(binarized_expressions[d],r = r)\n",
    "            clustering_results[d] = run_Louvain(similarity, verbose = True) \n",
    "\n",
    "    elif clust_method == \"WGCNA\":\n",
    "        from method import run_WGCNA\n",
    "\n",
    "        clustering_results = {}\n",
    "        for d in [\"UP\",\"DOWN\"]:\n",
    "            fname = out_dir+\"/\"+basename+ \".\"+bin_method+\".binarized_\"+d +\".tsv\"\n",
    "            clustering_results[d] = run_WGCNA(fname,p1=p1,p2=p2, verbose = verbose)\n",
    "            \n",
    "    elif clust_method == \"DESMOND\":\n",
    "        from pgm import run_sampling\n",
    "        \n",
    "        # convergence\n",
    "        n_steps_averaged = 10\n",
    "        n_points_fit=10\n",
    "\n",
    "        clustering_results ={}\n",
    "        for d in [\"UP\",\"DOWN\"]:\n",
    "            exprs_bin = binarized_expressions[d]\n",
    "            genes = exprs_bin.columns.values\n",
    "            clustering_results[d] = run_sampling(exprs_bin,alpha=alpha,beta_K=beta_K,f=0.51,\n",
    "                        max_n_steps=max_n_steps, n_steps_averaged = n_steps_averaged,\n",
    "                        n_points_fit = n_points_fit, tol = 0.1,\n",
    "                        n_steps_for_convergence = n_steps_for_convergence,\n",
    "                        verbose =verbose,plot_all=plot_all)\n",
    "    else:\n",
    "        print(\"'clust_method' must be 'WGCNA' or 'DESMOND'.\",file=sys.stderr)\n",
    "        \n",
    "    ######### making biclusters #########\n",
    "    from method import make_biclusters \n",
    "    \n",
    "    biclusters = make_biclusters(clustering_results,binarized_expressions,exprs,\n",
    "                                min_n_samples=min_n_samples, min_n_genes=2,\n",
    "                                seed = seed,\n",
    "                                save=True, out_dir=out_dir,basename=basename,\n",
    "                                bin_method=bin_method,clust_method=clust_method)\n",
    "    \n",
    "    print(\"Total runtime: {:.2f} s\".format(time()-start_time ),file = sys.stdout)\n",
    "    \n",
    "    return biclusters"
   ]
  },
  {
   "cell_type": "markdown",
   "metadata": {},
   "source": [
    "### Run with GMM binarization and WGCNA clustering"
   ]
  },
  {
   "cell_type": "code",
   "execution_count": null,
   "metadata": {},
   "outputs": [],
   "source": []
  },
  {
   "cell_type": "code",
   "execution_count": 20,
   "metadata": {
    "scrolled": true
   },
   "outputs": [
    {
     "name": "stdout",
     "output_type": "stream",
     "text": [
      "run: 0 seed: 430020\n",
      "Read input from: /home/olya/TUM/DESMOND/datasets_14K/TCGA-BRCA_945.Xena.log2RSEM_norm_z.14K_genes.tsv\n",
      "\t14986 features x 945 samples\n",
      "Mininal number of samples in a bicluster: 10\n",
      "\n",
      "Binarization started ....\n",
      "\n",
      "\tGenerate empirical distribuition of SNR depending on the bicluster size ...\n",
      "\t\ttotal samples: 945,\n",
      "\t\tnumber of samples in a bicluster: 10 - 472,\n",
      "\t\tn_permutations: 5000\n",
      "snr_pval threshold: 0.001\n",
      "\t\t\tfraction: 0.03\n",
      "\tSNR thresholds for individual features computed in 316.37 seconds\n",
      "\tGMM method is chosen ...\n",
      "\t\tgenes processed: 0\n",
      "\t\tgenes processed: 1000\n",
      "\t\tgenes processed: 2000\n",
      "\t\tgenes processed: 3000\n",
      "\t\tgenes processed: 4000\n",
      "\t\tgenes processed: 5000\n",
      "\t\tgenes processed: 6000\n",
      "\t\tgenes processed: 7000\n",
      "\t\tgenes processed: 8000\n",
      "\t\tgenes processed: 9000\n",
      "\t\tgenes processed: 10000\n",
      "\t\tgenes processed: 11000\n",
      "\t\tgenes processed: 12000\n",
      "\t\tgenes processed: 13000\n",
      "\t\tgenes processed: 14000\n",
      "\tGMM binarization for 14986 features completed in 147.24 s\n",
      "\tbinarization runtime: 463.62 s\n",
      "\t1425 features passed binarization \n",
      "\t\tUP-regulated features:\t710\n",
      "\t\tDOWN-regulated features:\t738\n",
      "\t\tambiguous features:\t23\n",
      "Statistics is saved to /home/olya/TUM/DESMOND/DESMOND2/tmp_results//TCGA-BRCA_945.seed_430020.GMM.binarization_stats.tsv\n",
      "Binarized gene expressions are saved to /home/olya/TUM/DESMOND/DESMOND2/tmp_results//TCGA-BRCA_945.seed_430020.GMM.binarized_UP.tsv\n",
      "Binarized gene expressions are saved to /home/olya/TUM/DESMOND/DESMOND2/tmp_results//TCGA-BRCA_945.seed_430020.GMM.binarized_DOWN.tsv\n",
      "\t modules: 26 not_clustered: 233\n",
      "\t\tmodularity: 0.314 runtime: 0.01 s\n",
      "\t modules: 18 not_clustered: 220\n",
      "\t\tmodularity: 0.174 runtime: 0.02 s\n",
      "(26, 9)\n",
      "(18, 9)\n",
      "/home/olya/TUM/DESMOND/DESMOND2/tmp_results/TCGA-BRCA_945.seed_430020.bin=GMM,clust=Louvain.biclusters.tsv\n",
      "Total runtime: 472.39 s\n",
      "run: 1 seed: 807295\n",
      "Read input from: /home/olya/TUM/DESMOND/datasets_14K/TCGA-BRCA_945.Xena.log2RSEM_norm_z.14K_genes.tsv\n",
      "\t14986 features x 945 samples\n",
      "Mininal number of samples in a bicluster: 10\n",
      "\n",
      "Binarization started ....\n",
      "\n",
      "\tGenerate empirical distribuition of SNR depending on the bicluster size ...\n",
      "\t\ttotal samples: 945,\n",
      "\t\tnumber of samples in a bicluster: 10 - 472,\n",
      "\t\tn_permutations: 5000\n",
      "snr_pval threshold: 0.001\n",
      "\t\t\tfraction: 0.03\n",
      "\tSNR thresholds for individual features computed in 311.34 seconds\n",
      "\tGMM method is chosen ...\n",
      "\t\tgenes processed: 0\n",
      "\t\tgenes processed: 1000\n",
      "\t\tgenes processed: 2000\n",
      "\t\tgenes processed: 3000\n",
      "\t\tgenes processed: 4000\n",
      "\t\tgenes processed: 5000\n",
      "\t\tgenes processed: 6000\n",
      "\t\tgenes processed: 7000\n",
      "\t\tgenes processed: 8000\n",
      "\t\tgenes processed: 9000\n",
      "\t\tgenes processed: 10000\n",
      "\t\tgenes processed: 11000\n",
      "\t\tgenes processed: 12000\n",
      "\t\tgenes processed: 13000\n",
      "\t\tgenes processed: 14000\n",
      "\tGMM binarization for 14986 features completed in 148.01 s\n",
      "\tbinarization runtime: 459.36 s\n",
      "\t1426 features passed binarization \n",
      "\t\tUP-regulated features:\t719\n",
      "\t\tDOWN-regulated features:\t735\n",
      "\t\tambiguous features:\t28\n",
      "Statistics is saved to /home/olya/TUM/DESMOND/DESMOND2/tmp_results//TCGA-BRCA_945.seed_807295.GMM.binarization_stats.tsv\n",
      "Binarized gene expressions are saved to /home/olya/TUM/DESMOND/DESMOND2/tmp_results//TCGA-BRCA_945.seed_807295.GMM.binarized_UP.tsv\n",
      "Binarized gene expressions are saved to /home/olya/TUM/DESMOND/DESMOND2/tmp_results//TCGA-BRCA_945.seed_807295.GMM.binarized_DOWN.tsv\n",
      "\t modules: 27 not_clustered: 240\n",
      "\t\tmodularity: 0.327 runtime: 0.02 s\n",
      "\t modules: 18 not_clustered: 218\n",
      "\t\tmodularity: 0.175 runtime: 0.02 s\n",
      "(27, 9)\n",
      "(18, 9)\n",
      "/home/olya/TUM/DESMOND/DESMOND2/tmp_results/TCGA-BRCA_945.seed_807295.bin=GMM,clust=Louvain.biclusters.tsv\n",
      "Total runtime: 468.67 s\n",
      "run: 2 seed: 296866\n",
      "Read input from: /home/olya/TUM/DESMOND/datasets_14K/TCGA-BRCA_945.Xena.log2RSEM_norm_z.14K_genes.tsv\n",
      "\t14986 features x 945 samples\n",
      "Mininal number of samples in a bicluster: 10\n",
      "\n",
      "Binarization started ....\n",
      "\n",
      "\tGenerate empirical distribuition of SNR depending on the bicluster size ...\n",
      "\t\ttotal samples: 945,\n",
      "\t\tnumber of samples in a bicluster: 10 - 472,\n",
      "\t\tn_permutations: 5000\n",
      "snr_pval threshold: 0.001\n",
      "\t\t\tfraction: 0.03\n",
      "\tSNR thresholds for individual features computed in 320.13 seconds\n",
      "\tGMM method is chosen ...\n",
      "\t\tgenes processed: 0\n",
      "\t\tgenes processed: 1000\n",
      "\t\tgenes processed: 2000\n",
      "\t\tgenes processed: 3000\n",
      "\t\tgenes processed: 4000\n",
      "\t\tgenes processed: 5000\n",
      "\t\tgenes processed: 6000\n",
      "\t\tgenes processed: 7000\n",
      "\t\tgenes processed: 8000\n",
      "\t\tgenes processed: 9000\n",
      "\t\tgenes processed: 10000\n",
      "\t\tgenes processed: 11000\n",
      "\t\tgenes processed: 12000\n",
      "\t\tgenes processed: 13000\n",
      "\t\tgenes processed: 14000\n",
      "\tGMM binarization for 14986 features completed in 378.13 s\n",
      "\tbinarization runtime: 698.27 s\n",
      "\t1425 features passed binarization \n",
      "\t\tUP-regulated features:\t707\n",
      "\t\tDOWN-regulated features:\t741\n",
      "\t\tambiguous features:\t23\n",
      "Statistics is saved to /home/olya/TUM/DESMOND/DESMOND2/tmp_results//TCGA-BRCA_945.seed_296866.GMM.binarization_stats.tsv\n",
      "Binarized gene expressions are saved to /home/olya/TUM/DESMOND/DESMOND2/tmp_results//TCGA-BRCA_945.seed_296866.GMM.binarized_UP.tsv\n",
      "Binarized gene expressions are saved to /home/olya/TUM/DESMOND/DESMOND2/tmp_results//TCGA-BRCA_945.seed_296866.GMM.binarized_DOWN.tsv\n",
      "\t modules: 25 not_clustered: 233\n",
      "\t\tmodularity: 0.316 runtime: 0.01 s\n",
      "\t modules: 17 not_clustered: 219\n",
      "\t\tmodularity: 0.175 runtime: 0.02 s\n",
      "(25, 9)\n",
      "(17, 9)\n",
      "/home/olya/TUM/DESMOND/DESMOND2/tmp_results/TCGA-BRCA_945.seed_296866.bin=GMM,clust=Louvain.biclusters.tsv\n",
      "Total runtime: 752.88 s\n",
      "run: 3 seed: 781471\n",
      "Read input from: /home/olya/TUM/DESMOND/datasets_14K/TCGA-BRCA_945.Xena.log2RSEM_norm_z.14K_genes.tsv\n",
      "\t14986 features x 945 samples\n",
      "Mininal number of samples in a bicluster: 10\n",
      "\n",
      "Binarization started ....\n",
      "\n",
      "\tGenerate empirical distribuition of SNR depending on the bicluster size ...\n",
      "\t\ttotal samples: 945,\n",
      "\t\tnumber of samples in a bicluster: 10 - 472,\n",
      "\t\tn_permutations: 5000\n",
      "snr_pval threshold: 0.001\n",
      "\t\t\tfraction: 0.03\n",
      "\tSNR thresholds for individual features computed in 899.18 seconds\n",
      "\tGMM method is chosen ...\n",
      "\t\tgenes processed: 0\n",
      "\t\tgenes processed: 1000\n",
      "\t\tgenes processed: 2000\n",
      "\t\tgenes processed: 3000\n",
      "\t\tgenes processed: 4000\n",
      "\t\tgenes processed: 5000\n",
      "\t\tgenes processed: 6000\n",
      "\t\tgenes processed: 7000\n",
      "\t\tgenes processed: 8000\n",
      "\t\tgenes processed: 9000\n",
      "\t\tgenes processed: 10000\n",
      "\t\tgenes processed: 11000\n",
      "\t\tgenes processed: 12000\n",
      "\t\tgenes processed: 13000\n",
      "\t\tgenes processed: 14000\n",
      "\tGMM binarization for 14986 features completed in 424.93 s\n",
      "\tbinarization runtime: 1324.12 s\n",
      "\t1420 features passed binarization \n",
      "\t\tUP-regulated features:\t714\n",
      "\t\tDOWN-regulated features:\t737\n",
      "\t\tambiguous features:\t31\n",
      "Statistics is saved to /home/olya/TUM/DESMOND/DESMOND2/tmp_results//TCGA-BRCA_945.seed_781471.GMM.binarization_stats.tsv\n",
      "Binarized gene expressions are saved to /home/olya/TUM/DESMOND/DESMOND2/tmp_results//TCGA-BRCA_945.seed_781471.GMM.binarized_UP.tsv\n",
      "Binarized gene expressions are saved to /home/olya/TUM/DESMOND/DESMOND2/tmp_results//TCGA-BRCA_945.seed_781471.GMM.binarized_DOWN.tsv\n",
      "\t modules: 24 not_clustered: 238\n",
      "\t\tmodularity: 0.313 runtime: 0.02 s\n",
      "\t modules: 18 not_clustered: 222\n",
      "\t\tmodularity: 0.172 runtime: 0.02 s\n",
      "(24, 9)\n",
      "(18, 9)\n",
      "/home/olya/TUM/DESMOND/DESMOND2/tmp_results/TCGA-BRCA_945.seed_781471.bin=GMM,clust=Louvain.biclusters.tsv\n",
      "Total runtime: 1331.40 s\n",
      "run: 4 seed: 803927\n",
      "Read input from: /home/olya/TUM/DESMOND/datasets_14K/TCGA-BRCA_945.Xena.log2RSEM_norm_z.14K_genes.tsv\n",
      "\t14986 features x 945 samples\n",
      "Mininal number of samples in a bicluster: 10\n",
      "\n",
      "Binarization started ....\n",
      "\n",
      "\tGenerate empirical distribuition of SNR depending on the bicluster size ...\n",
      "\t\ttotal samples: 945,\n",
      "\t\tnumber of samples in a bicluster: 10 - 472,\n",
      "\t\tn_permutations: 5000\n",
      "snr_pval threshold: 0.001\n",
      "\t\t\tfraction: 0.03\n",
      "\tSNR thresholds for individual features computed in 893.05 seconds\n",
      "\tGMM method is chosen ...\n",
      "\t\tgenes processed: 0\n",
      "\t\tgenes processed: 1000\n",
      "\t\tgenes processed: 2000\n",
      "\t\tgenes processed: 3000\n",
      "\t\tgenes processed: 4000\n",
      "\t\tgenes processed: 5000\n",
      "\t\tgenes processed: 6000\n",
      "\t\tgenes processed: 7000\n",
      "\t\tgenes processed: 8000\n",
      "\t\tgenes processed: 9000\n",
      "\t\tgenes processed: 10000\n",
      "\t\tgenes processed: 11000\n",
      "\t\tgenes processed: 12000\n",
      "\t\tgenes processed: 13000\n",
      "\t\tgenes processed: 14000\n",
      "\tGMM binarization for 14986 features completed in 421.69 s\n",
      "\tbinarization runtime: 1314.74 s\n",
      "\t1430 features passed binarization \n",
      "\t\tUP-regulated features:\t720\n",
      "\t\tDOWN-regulated features:\t741\n",
      "\t\tambiguous features:\t31\n",
      "Statistics is saved to /home/olya/TUM/DESMOND/DESMOND2/tmp_results//TCGA-BRCA_945.seed_803927.GMM.binarization_stats.tsv\n",
      "Binarized gene expressions are saved to /home/olya/TUM/DESMOND/DESMOND2/tmp_results//TCGA-BRCA_945.seed_803927.GMM.binarized_UP.tsv\n",
      "Binarized gene expressions are saved to /home/olya/TUM/DESMOND/DESMOND2/tmp_results//TCGA-BRCA_945.seed_803927.GMM.binarized_DOWN.tsv\n"
     ]
    },
    {
     "name": "stdout",
     "output_type": "stream",
     "text": [
      "\t modules: 26 not_clustered: 237\n",
      "\t\tmodularity: 0.318 runtime: 0.01 s\n",
      "\t modules: 17 not_clustered: 227\n",
      "\t\tmodularity: 0.171 runtime: 0.02 s\n",
      "(26, 9)\n",
      "(17, 9)\n",
      "/home/olya/TUM/DESMOND/DESMOND2/tmp_results/TCGA-BRCA_945.seed_803927.bin=GMM,clust=Louvain.biclusters.tsv\n",
      "Total runtime: 1372.96 s\n"
     ]
    }
   ],
   "source": [
    "data_dir = \"/home/olya/TUM/DESMOND/datasets_14K/\"\n",
    "exprs_file = data_dir + \"TCGA-BRCA_945.Xena.log2RSEM_norm_z.14K_genes.tsv\"#\"OV_norm_counts.log2.z.tsv\"\n",
    "\n",
    "out_dir = os.getcwd()+\"/tmp_results/\"\n",
    "\n",
    "for i in range(0,5):\n",
    "    seed = random.randint(0,1000000)\n",
    "    print(\"run:\",i,\"seed:\",seed)\n",
    "    basename = \"TCGA-BRCA_945.seed_\"+str(seed)\n",
    "    biclusters = run_DESMOND(exprs_file,basename,seed=seed, out_dir=out_dir, plot_all=False)"
   ]
  },
  {
   "cell_type": "code",
   "execution_count": 21,
   "metadata": {},
   "outputs": [
    {
     "name": "stdout",
     "output_type": "stream",
     "text": [
      "run: 0 seed: 699268\n",
      "Read input from: /home/olya/TUM/DESMOND/datasets_14K/METABRIC_1904_14K.nolog2_exprs_z.tsv\n",
      "\t14986 features x 1904 samples\n",
      "Mininal number of samples in a bicluster: 19\n",
      "\n",
      "Binarization started ....\n",
      "\n",
      "\tGenerate empirical distribuition of SNR depending on the bicluster size ...\n",
      "\t\ttotal samples: 1904,\n",
      "\t\tnumber of samples in a bicluster: 19 - 952,\n",
      "\t\tn_permutations: 5000\n",
      "snr_pval threshold: 0.001\n",
      "\t\t\tfraction: 0.02\n",
      "\tSNR thresholds for individual features computed in 2755.92 seconds\n",
      "\tGMM method is chosen ...\n",
      "\t\tgenes processed: 0\n",
      "\t\tgenes processed: 1000\n",
      "\t\tgenes processed: 2000\n",
      "\t\tgenes processed: 3000\n",
      "\t\tgenes processed: 4000\n",
      "\t\tgenes processed: 5000\n",
      "\t\tgenes processed: 6000\n",
      "\t\tgenes processed: 7000\n",
      "\t\tgenes processed: 8000\n",
      "\t\tgenes processed: 9000\n",
      "\t\tgenes processed: 10000\n",
      "\t\tgenes processed: 11000\n",
      "\t\tgenes processed: 12000\n",
      "\t\tgenes processed: 13000\n",
      "\t\tgenes processed: 14000\n",
      "\tGMM binarization for 14986 features completed in 24821.76 s\n",
      "\tbinarization runtime: 27577.69 s\n",
      "\t905 features passed binarization \n",
      "\t\tUP-regulated features:\t635\n",
      "\t\tDOWN-regulated features:\t285\n",
      "\t\tambiguous features:\t15\n",
      "Statistics is saved to /home/olya/TUM/DESMOND/DESMOND2/tmp_results//METABRIC.seed_699268.GMM.binarization_stats.tsv\n",
      "Binarized gene expressions are saved to /home/olya/TUM/DESMOND/DESMOND2/tmp_results//METABRIC.seed_699268.GMM.binarized_UP.tsv\n",
      "Binarized gene expressions are saved to /home/olya/TUM/DESMOND/DESMOND2/tmp_results//METABRIC.seed_699268.GMM.binarized_DOWN.tsv\n",
      "\t modules: 20 not_clustered: 203\n",
      "\t\tmodularity: 0.677 runtime: 0.02 s\n",
      "\t modules: 9 not_clustered: 66\n",
      "\t\tmodularity: 0.266 runtime: 0.01 s\n",
      "(19, 9)\n",
      "(9, 9)\n",
      "/home/olya/TUM/DESMOND/DESMOND2/tmp_results/METABRIC.seed_699268.bin=GMM,clust=Louvain.biclusters.tsv\n",
      "Total runtime: 27600.73 s\n",
      "run: 1 seed: 257395\n",
      "Read input from: /home/olya/TUM/DESMOND/datasets_14K/METABRIC_1904_14K.nolog2_exprs_z.tsv\n",
      "\t14986 features x 1904 samples\n",
      "Mininal number of samples in a bicluster: 19\n",
      "\n",
      "Binarization started ....\n",
      "\n",
      "\tGenerate empirical distribuition of SNR depending on the bicluster size ...\n",
      "\t\ttotal samples: 1904,\n",
      "\t\tnumber of samples in a bicluster: 19 - 952,\n",
      "\t\tn_permutations: 5000\n",
      "snr_pval threshold: 0.001\n",
      "\t\t\tfraction: 0.02\n",
      "\tSNR thresholds for individual features computed in 917.98 seconds\n",
      "\tGMM method is chosen ...\n",
      "\t\tgenes processed: 0\n",
      "\t\tgenes processed: 1000\n",
      "\t\tgenes processed: 2000\n",
      "\t\tgenes processed: 3000\n",
      "\t\tgenes processed: 4000\n",
      "\t\tgenes processed: 5000\n",
      "\t\tgenes processed: 6000\n",
      "\t\tgenes processed: 7000\n",
      "\t\tgenes processed: 8000\n",
      "\t\tgenes processed: 9000\n",
      "\t\tgenes processed: 10000\n",
      "\t\tgenes processed: 11000\n",
      "\t\tgenes processed: 12000\n",
      "\t\tgenes processed: 13000\n",
      "\t\tgenes processed: 14000\n",
      "\tGMM binarization for 14986 features completed in 249.35 s\n",
      "\tbinarization runtime: 1167.34 s\n",
      "\t899 features passed binarization \n",
      "\t\tUP-regulated features:\t635\n",
      "\t\tDOWN-regulated features:\t283\n",
      "\t\tambiguous features:\t19\n",
      "Statistics is saved to /home/olya/TUM/DESMOND/DESMOND2/tmp_results//METABRIC.seed_257395.GMM.binarization_stats.tsv\n",
      "Binarized gene expressions are saved to /home/olya/TUM/DESMOND/DESMOND2/tmp_results//METABRIC.seed_257395.GMM.binarized_UP.tsv\n",
      "Binarized gene expressions are saved to /home/olya/TUM/DESMOND/DESMOND2/tmp_results//METABRIC.seed_257395.GMM.binarized_DOWN.tsv\n",
      "\t modules: 20 not_clustered: 206\n",
      "\t\tmodularity: 0.675 runtime: 0.02 s\n",
      "\t modules: 11 not_clustered: 67\n",
      "\t\tmodularity: 0.261 runtime: 0.01 s\n",
      "(19, 9)\n",
      "(11, 9)\n",
      "/home/olya/TUM/DESMOND/DESMOND2/tmp_results/METABRIC.seed_257395.bin=GMM,clust=Louvain.biclusters.tsv\n",
      "Total runtime: 1189.09 s\n",
      "run: 2 seed: 904829\n",
      "Read input from: /home/olya/TUM/DESMOND/datasets_14K/METABRIC_1904_14K.nolog2_exprs_z.tsv\n",
      "\t14986 features x 1904 samples\n",
      "Mininal number of samples in a bicluster: 19\n",
      "\n",
      "Binarization started ....\n",
      "\n",
      "\tGenerate empirical distribuition of SNR depending on the bicluster size ...\n",
      "\t\ttotal samples: 1904,\n",
      "\t\tnumber of samples in a bicluster: 19 - 952,\n",
      "\t\tn_permutations: 5000\n",
      "snr_pval threshold: 0.001\n",
      "\t\t\tfraction: 0.02\n",
      "\tSNR thresholds for individual features computed in 944.41 seconds\n",
      "\tGMM method is chosen ...\n",
      "\t\tgenes processed: 0\n",
      "\t\tgenes processed: 1000\n",
      "\t\tgenes processed: 2000\n",
      "\t\tgenes processed: 3000\n",
      "\t\tgenes processed: 4000\n",
      "\t\tgenes processed: 5000\n",
      "\t\tgenes processed: 6000\n",
      "\t\tgenes processed: 7000\n",
      "\t\tgenes processed: 8000\n",
      "\t\tgenes processed: 9000\n",
      "\t\tgenes processed: 10000\n",
      "\t\tgenes processed: 11000\n",
      "\t\tgenes processed: 12000\n",
      "\t\tgenes processed: 13000\n",
      "\t\tgenes processed: 14000\n",
      "\tGMM binarization for 14986 features completed in 251.12 s\n",
      "\tbinarization runtime: 1195.54 s\n",
      "\t907 features passed binarization \n",
      "\t\tUP-regulated features:\t637\n",
      "\t\tDOWN-regulated features:\t284\n",
      "\t\tambiguous features:\t14\n",
      "Statistics is saved to /home/olya/TUM/DESMOND/DESMOND2/tmp_results//METABRIC.seed_904829.GMM.binarization_stats.tsv\n",
      "Binarized gene expressions are saved to /home/olya/TUM/DESMOND/DESMOND2/tmp_results//METABRIC.seed_904829.GMM.binarized_UP.tsv\n",
      "Binarized gene expressions are saved to /home/olya/TUM/DESMOND/DESMOND2/tmp_results//METABRIC.seed_904829.GMM.binarized_DOWN.tsv\n",
      "\t modules: 20 not_clustered: 203\n",
      "\t\tmodularity: 0.68 runtime: 0.01 s\n",
      "\t modules: 11 not_clustered: 70\n",
      "\t\tmodularity: 0.259 runtime: 0.01 s\n",
      "(19, 9)\n",
      "(11, 9)\n",
      "/home/olya/TUM/DESMOND/DESMOND2/tmp_results/METABRIC.seed_904829.bin=GMM,clust=Louvain.biclusters.tsv\n",
      "Total runtime: 1217.65 s\n",
      "run: 3 seed: 56131\n",
      "Read input from: /home/olya/TUM/DESMOND/datasets_14K/METABRIC_1904_14K.nolog2_exprs_z.tsv\n",
      "\t14986 features x 1904 samples\n",
      "Mininal number of samples in a bicluster: 19\n",
      "\n",
      "Binarization started ....\n",
      "\n",
      "\tGenerate empirical distribuition of SNR depending on the bicluster size ...\n",
      "\t\ttotal samples: 1904,\n",
      "\t\tnumber of samples in a bicluster: 19 - 952,\n",
      "\t\tn_permutations: 5000\n",
      "snr_pval threshold: 0.001\n",
      "\t\t\tfraction: 0.02\n",
      "\tSNR thresholds for individual features computed in 940.64 seconds\n",
      "\tGMM method is chosen ...\n",
      "\t\tgenes processed: 0\n",
      "\t\tgenes processed: 1000\n",
      "\t\tgenes processed: 2000\n",
      "\t\tgenes processed: 3000\n",
      "\t\tgenes processed: 4000\n",
      "\t\tgenes processed: 5000\n",
      "\t\tgenes processed: 6000\n",
      "\t\tgenes processed: 7000\n",
      "\t\tgenes processed: 8000\n",
      "\t\tgenes processed: 9000\n",
      "\t\tgenes processed: 10000\n",
      "\t\tgenes processed: 11000\n",
      "\t\tgenes processed: 12000\n",
      "\t\tgenes processed: 13000\n",
      "\t\tgenes processed: 14000\n",
      "\tGMM binarization for 14986 features completed in 256.58 s\n",
      "\tbinarization runtime: 1197.23 s\n",
      "\t908 features passed binarization \n",
      "\t\tUP-regulated features:\t636\n",
      "\t\tDOWN-regulated features:\t285\n",
      "\t\tambiguous features:\t13\n",
      "Statistics is saved to /home/olya/TUM/DESMOND/DESMOND2/tmp_results//METABRIC.seed_56131.GMM.binarization_stats.tsv\n",
      "Binarized gene expressions are saved to /home/olya/TUM/DESMOND/DESMOND2/tmp_results//METABRIC.seed_56131.GMM.binarized_UP.tsv\n",
      "Binarized gene expressions are saved to /home/olya/TUM/DESMOND/DESMOND2/tmp_results//METABRIC.seed_56131.GMM.binarized_DOWN.tsv\n",
      "\t modules: 21 not_clustered: 203\n",
      "\t\tmodularity: 0.665 runtime: 0.02 s\n",
      "\t modules: 12 not_clustered: 67\n",
      "\t\tmodularity: 0.263 runtime: 0.01 s\n",
      "(20, 9)\n",
      "(12, 9)\n",
      "/home/olya/TUM/DESMOND/DESMOND2/tmp_results/METABRIC.seed_56131.bin=GMM,clust=Louvain.biclusters.tsv\n",
      "Total runtime: 1219.94 s\n",
      "run: 4 seed: 324678\n",
      "Read input from: /home/olya/TUM/DESMOND/datasets_14K/METABRIC_1904_14K.nolog2_exprs_z.tsv\n",
      "\t14986 features x 1904 samples\n",
      "Mininal number of samples in a bicluster: 19\n",
      "\n",
      "Binarization started ....\n",
      "\n",
      "\tGenerate empirical distribuition of SNR depending on the bicluster size ...\n",
      "\t\ttotal samples: 1904,\n",
      "\t\tnumber of samples in a bicluster: 19 - 952,\n",
      "\t\tn_permutations: 5000\n",
      "snr_pval threshold: 0.001\n",
      "\t\t\tfraction: 0.02\n",
      "\tSNR thresholds for individual features computed in 944.63 seconds\n",
      "\tGMM method is chosen ...\n",
      "\t\tgenes processed: 0\n",
      "\t\tgenes processed: 1000\n",
      "\t\tgenes processed: 2000\n",
      "\t\tgenes processed: 3000\n",
      "\t\tgenes processed: 4000\n",
      "\t\tgenes processed: 5000\n",
      "\t\tgenes processed: 6000\n",
      "\t\tgenes processed: 7000\n",
      "\t\tgenes processed: 8000\n",
      "\t\tgenes processed: 9000\n",
      "\t\tgenes processed: 10000\n",
      "\t\tgenes processed: 11000\n",
      "\t\tgenes processed: 12000\n",
      "\t\tgenes processed: 13000\n",
      "\t\tgenes processed: 14000\n",
      "\tGMM binarization for 14986 features completed in 255.78 s\n",
      "\tbinarization runtime: 1200.42 s\n",
      "\t898 features passed binarization \n",
      "\t\tUP-regulated features:\t632\n",
      "\t\tDOWN-regulated features:\t280\n",
      "\t\tambiguous features:\t14\n",
      "Statistics is saved to /home/olya/TUM/DESMOND/DESMOND2/tmp_results//METABRIC.seed_324678.GMM.binarization_stats.tsv\n",
      "Binarized gene expressions are saved to /home/olya/TUM/DESMOND/DESMOND2/tmp_results//METABRIC.seed_324678.GMM.binarized_UP.tsv\n",
      "Binarized gene expressions are saved to /home/olya/TUM/DESMOND/DESMOND2/tmp_results//METABRIC.seed_324678.GMM.binarized_DOWN.tsv\n"
     ]
    },
    {
     "name": "stdout",
     "output_type": "stream",
     "text": [
      "\t modules: 20 not_clustered: 206\n",
      "\t\tmodularity: 0.664 runtime: 0.01 s\n",
      "\t modules: 12 not_clustered: 66\n",
      "\t\tmodularity: 0.248 runtime: 0.01 s\n",
      "(19, 9)\n",
      "(12, 9)\n",
      "/home/olya/TUM/DESMOND/DESMOND2/tmp_results/METABRIC.seed_324678.bin=GMM,clust=Louvain.biclusters.tsv\n",
      "Total runtime: 1221.99 s\n"
     ]
    }
   ],
   "source": [
    "data_dir = \"/home/olya/TUM/DESMOND/datasets_14K/\"\n",
    "exprs_file = data_dir + \"METABRIC_1904_14K.nolog2_exprs_z.tsv\"\n",
    "\n",
    "out_dir = os.getcwd()+\"/tmp_results/\"\n",
    "\n",
    "for i in range(0,5):\n",
    "    seed = random.randint(0,1000000)\n",
    "    print(\"run:\",i,\"seed:\",seed)\n",
    "    basename = \"METABRIC.seed_\"+str(seed)\n",
    "    biclusters = run_DESMOND(exprs_file,basename,seed=seed, out_dir=out_dir, plot_all=False)"
   ]
  },
  {
   "cell_type": "markdown",
   "metadata": {},
   "source": [
    "### Once again from binarized data with different methods"
   ]
  },
  {
   "cell_type": "code",
   "execution_count": 22,
   "metadata": {
    "scrolled": false
   },
   "outputs": [
    {
     "name": "stdout",
     "output_type": "stream",
     "text": [
      "Read input from: /home/olya/TUM/DESMOND/datasets_14K/METABRIC_1904_14K.nolog2_exprs_z.tsv\n",
      "\t14986 features x 1904 samples\n",
      "Mininal number of samples in a bicluster: 19\n",
      "\n",
      "Binarization started ....\n",
      "\n",
      "\tGenerate empirical distribuition of SNR depending on the bicluster size ...\n",
      "\t\ttotal samples: 1904,\n",
      "\t\tnumber of samples in a bicluster: 19 - 952,\n",
      "\t\tn_permutations: 5000\n",
      "snr_pval threshold: 0.001\n",
      "\t\t\tfraction: 0.02\n",
      "\tSNR thresholds for individual features computed in 979.87 seconds\n",
      "\tJenks method is chosen ...\n",
      "\t\tgenes processed: 0\n",
      "Gene APOBEC3A: SNR=1.32, pos=342, neg=1562\n"
     ]
    },
    {
     "data": {
      "image/png": "[encoded data removed]",
      "text/plain": [
       "<Figure size 432x288 with 1 Axes>"
      ]
     },
     "metadata": {
      "needs_background": "light"
     },
     "output_type": "display_data"
    },
    {
     "name": "stdout",
     "output_type": "stream",
     "text": [
      "\t\tgenes processed: 1000\n",
      "Gene BCL2L2: SNR=1.23, pos=1098, neg=806\n"
     ]
    },
    {
     "data": {
      "image/png": "[encoded data removed]",
      "text/plain": [
       "<Figure size 432x288 with 1 Axes>"
      ]
     },
     "metadata": {
      "needs_background": "light"
     },
     "output_type": "display_data"
    },
    {
     "name": "stdout",
     "output_type": "stream",
     "text": [
      "\t\tgenes processed: 2000\n",
      "Gene CDK9: SNR=1.11, pos=892, neg=1012\n"
     ]
    },
    {
     "data": {
      "image/png": "[encoded data removed]",
      "text/plain": [
       "<Figure size 432x288 with 1 Axes>"
      ]
     },
     "metadata": {
      "needs_background": "light"
     },
     "output_type": "display_data"
    },
    {
     "name": "stdout",
     "output_type": "stream",
     "text": [
      "\t\tgenes processed: 3000\n",
      "\t\tgenes processed: 4000\n",
      "Gene ERBB2: SNR=1.84, pos=303, neg=1601\n"
     ]
    },
    {
     "data": {
      "image/png": "[encoded data removed]",
      "text/plain": [
       "<Figure size 432x288 with 1 Axes>"
      ]
     },
     "metadata": {
      "needs_background": "light"
     },
     "output_type": "display_data"
    },
    {
     "name": "stdout",
     "output_type": "stream",
     "text": [
      "Gene ESR1: SNR=2.29, pos=1380, neg=524\n"
     ]
    },
    {
     "data": {
      "image/png": "[encoded data removed]",
      "text/plain": [
       "<Figure size 432x288 with 1 Axes>"
      ]
     },
     "metadata": {
      "needs_background": "light"
     },
     "output_type": "display_data"
    },
    {
     "name": "stdout",
     "output_type": "stream",
     "text": [
      "Gene FOXA1: SNR=3.25, pos=1667, neg=237\n"
     ]
    },
    {
     "data": {
      "image/png": "[encoded data removed]",
      "text/plain": [
       "<Figure size 432x288 with 1 Axes>"
      ]
     },
     "metadata": {
      "needs_background": "light"
     },
     "output_type": "display_data"
    },
    {
     "name": "stdout",
     "output_type": "stream",
     "text": [
      "Gene GATA3: SNR=1.82, pos=1429, neg=475\n"
     ]
    },
    {
     "data": {
      "image/png": "[encoded data removed]",
      "text/plain": [
       "<Figure size 432x288 with 1 Axes>"
      ]
     },
     "metadata": {
      "needs_background": "light"
     },
     "output_type": "display_data"
    },
    {
     "name": "stdout",
     "output_type": "stream",
     "text": [
      "\t\tgenes processed: 5000\n",
      "\t\tgenes processed: 6000\n",
      "\t\tgenes processed: 7000\n",
      "\t\tgenes processed: 8000\n",
      "\t\tgenes processed: 9000\n",
      "Gene PIK3R2: SNR=1.24, pos=901, neg=1003\n"
     ]
    },
    {
     "data": {
      "image/png": "[encoded data removed]",
      "text/plain": [
       "<Figure size 432x288 with 1 Axes>"
      ]
     },
     "metadata": {
      "needs_background": "light"
     },
     "output_type": "display_data"
    },
    {
     "name": "stdout",
     "output_type": "stream",
     "text": [
      "\t\tgenes processed: 10000\n",
      "\t\tgenes processed: 11000\n",
      "Gene SIRT6: SNR=1.18, pos=780, neg=1124\n"
     ]
    },
    {
     "data": {
      "image/png": "[encoded data removed]",
      "text/plain": [
       "<Figure size 432x288 with 1 Axes>"
      ]
     },
     "metadata": {
      "needs_background": "light"
     },
     "output_type": "display_data"
    },
    {
     "name": "stdout",
     "output_type": "stream",
     "text": [
      "\t\tgenes processed: 12000\n",
      "Gene SPOCK3: SNR=1.24, pos=952, neg=952\n"
     ]
    },
    {
     "data": {
      "image/png": "[encoded data removed]",
      "text/plain": [
       "<Figure size 432x288 with 1 Axes>"
      ]
     },
     "metadata": {
      "needs_background": "light"
     },
     "output_type": "display_data"
    },
    {
     "name": "stdout",
     "output_type": "stream",
     "text": [
      "\t\tgenes processed: 13000\n",
      "\t\tgenes processed: 14000\n",
      "Gene ZNF415: SNR=1.31, pos=1301, neg=603\n"
     ]
    },
    {
     "data": {
      "image/png": "[encoded data removed]",
      "text/plain": [
       "<Figure size 432x288 with 1 Axes>"
      ]
     },
     "metadata": {
      "needs_background": "light"
     },
     "output_type": "display_data"
    },
    {
     "name": "stdout",
     "output_type": "stream",
     "text": [
      "\tJenks binarization for 14986 features completed in 105.32 s\n",
      "\tbinarization runtime: 1085.19 s\n",
      "\t1084 features passed binarization \n",
      "\t\tUP-regulated features:\t912\n",
      "\t\tDOWN-regulated features:\t190\n",
      "\t\tambiguous features:\t18\n",
      "Statistics is saved to /home/olya/TUM/DESMOND/DESMOND2/tmp_results//METABRIC.seed_324678.Jenks.binarization_stats.tsv\n",
      "Binarized gene expressions are saved to /home/olya/TUM/DESMOND/DESMOND2/tmp_results//METABRIC.seed_324678.Jenks.binarized_UP.tsv\n",
      "Binarized gene expressions are saved to /home/olya/TUM/DESMOND/DESMOND2/tmp_results//METABRIC.seed_324678.Jenks.binarized_DOWN.tsv\n",
      "time:\tInitial state created in 3.4 s.\n",
      "\t\tLP memory, 6.35 M\n",
      "\t\tstep  1 8.7 s\n",
      "\t\tstep  2 4.0 s\n",
      "\t\tstep  3 2.7 s\n",
      "\t\tstep  4 2.1 s\n",
      "\t\tstep  5 2.0 s\n",
      "\t\tstep  6 1.5 s\n",
      "\t\tstep  7 0.9 s\n",
      "\t\tstep  8 0.9 s\n",
      "\t\tstep  9 1.0 s\n",
      "\t\tstep  10 1.0 s\n",
      "\t\tstep  11 0.7 s\n",
      "\t\t\tfeatures oscilating in the last 10 steps: 210\n",
      "\t\tstep  12 0.8 s\n",
      "\t\t\tfeatures oscilating in the last 10 steps: 84\n",
      "\t\tstep  13 0.8 s\n",
      "\t\t\tfeatures oscilating in the last 10 steps: 44\n",
      "\t\tstep  14 0.9 s\n",
      "\t\t\tfeatures oscilating in the last 10 steps: 27\n",
      "\t\tstep  15 0.7 s\n",
      "\t\t\tfeatures oscilating in the last 10 steps: 14\n",
      "\t\tstep  16 1.1 s\n",
      "\t\t\tfeatures oscilating in the last 10 steps: 9\n",
      "\t\tstep  17 1.1 s\n",
      "\t\t\tfeatures oscilating in the last 10 steps: 8\n",
      "\t\tstep  18 1.2 s\n",
      "\t\t\tfeatures oscilating in the last 10 steps: 8\n",
      "\t\tstep  19 0.8 s\n",
      "\t\t\tfeatures oscilating in the last 10 steps: 7\n",
      "\t\tstep  20 0.8 s\n",
      "\t\t\tfeatures oscilating in the last 10 steps: 7\n",
      "\t\t\tconvergence condition: False ; curve slope: -0.20\n",
      "\t\tstep  21 0.8 s\n",
      "\t\t\tfeatures oscilating in the last 10 steps: 7\n",
      "\t\t\tconvergence condition: True ; curve slope: -0.08\n",
      "\t\tstep  22 0.9 s\n",
      "\t\t\tfeatures oscilating in the last 10 steps: 8\n",
      "\t\t\tconvergence condition: True ; curve slope: -0.04\n",
      "\t\tstep  23 0.9 s\n",
      "\t\t\tfeatures oscilating in the last 10 steps: 8\n",
      "\t\t\tconvergence condition: True ; curve slope: -0.02\n",
      "\t\tstep  24 0.9 s\n",
      "\t\t\tfeatures oscilating in the last 10 steps: 7\n",
      "\t\t\tconvergence condition: True ; curve slope: -0.01\n",
      "\t\tstep  25 0.7 s\n",
      "\t\t\tfeatures oscilating in the last 10 steps: 7\n",
      "\t\t\tconvergence condition: True ; curve slope: -0.00\n",
      "\t\tstep  26 0.6 s\n",
      "\t\t\tfeatures oscilating in the last 10 steps: 7\n",
      "\t\t\tconvergence condition: True ; curve slope: -0.00\n",
      "\t\tstep  27 0.6 s\n",
      "\t\t\tfeatures oscilating in the last 10 steps: 6\n",
      "\t\t\tconvergence condition: True ; curve slope: -0.00\n",
      "\t\tstep  28 0.6 s\n",
      "\t\t\tfeatures oscilating in the last 10 steps: 3\n",
      "\t\t\tconvergence condition: True ; curve slope: -0.00\n",
      "\t\tstep  29 0.8 s\n",
      "\t\t\tfeatures oscilating in the last 10 steps: 3\n",
      "\t\t\tconvergence condition: True ; curve slope: -0.01\n",
      "\t\tstep  30 0.8 s\n",
      "\t\t\tfeatures oscilating in the last 10 steps: 3\n",
      "\t\t\tconvergence condition: True ; curve slope: -0.01\n",
      "\t\tstep  31 0.8 s\n",
      "\t\t\tfeatures oscilating in the last 10 steps: 3\n",
      "\t\t\tconvergence condition: True ; curve slope: -0.01\n",
      "The model converged after 32 steps.\n",
      "Consensus of last 10 states will be taken\n",
      "Sampling runtime 42.3 s\n",
      "time:\tSampling (32 steps) fininshed in 42.34 s.\n",
      "\n",
      "size(genes)\tn_modules\n",
      "0 \t\t 641\n",
      "1 \t\t 61\n",
      "2 \t\t 188\n",
      "3 \t\t 6\n",
      "4 \t\t 4\n",
      "5 \t\t 2\n",
      "7 \t\t 2\n",
      "9 \t\t 1\n",
      "10 \t\t 1\n",
      "11 \t\t 1\n",
      "12 \t\t 1\n",
      "15 \t\t 1\n",
      "23 \t\t 1\n",
      "53 \t\t 1\n",
      "81 \t\t 2\n",
      "124 \t\t 1\n",
      "\t212 modules and 61 not clustered genes\n",
      "time\tmodules detected in in 42.36 s.\n",
      "time:\tInitial state created in 0.1 s.\n",
      "\t\tLP memory, 0.28 M\n",
      "\t\tstep  1 0.3 s\n",
      "\t\tstep  2 0.1 s\n",
      "\t\tstep  3 0.1 s\n",
      "\t\tstep  4 0.1 s\n",
      "\t\tstep  5 0.1 s\n",
      "\t\tstep  6 0.1 s\n",
      "\t\tstep  7 0.1 s\n",
      "\t\tstep  8 0.1 s\n",
      "\t\tstep  9 0.1 s\n",
      "\t\tstep  10 0.0 s\n",
      "\t\tstep  11 0.0 s\n",
      "\t\t\tfeatures oscilating in the last 10 steps: 7\n",
      "\t\tstep  12 0.0 s\n",
      "\t\t\tfeatures oscilating in the last 10 steps: 2\n",
      "\t\tstep  13 0.0 s\n",
      "\t\t\tfeatures oscilating in the last 10 steps: 0\n",
      "\t\tstep  14 0.0 s\n",
      "\t\t\tfeatures oscilating in the last 10 steps: 0\n",
      "\t\tstep  15 0.0 s\n",
      "\t\t\tfeatures oscilating in the last 10 steps: 0\n",
      "\t\tstep  16 0.0 s\n",
      "\t\t\tfeatures oscilating in the last 10 steps: 0\n",
      "\t\tstep  17 0.0 s\n",
      "\t\t\tfeatures oscilating in the last 10 steps: 0\n",
      "\t\tstep  18 0.0 s\n",
      "\t\t\tfeatures oscilating in the last 10 steps: 0\n",
      "\t\tstep  19 0.0 s\n",
      "\t\t\tfeatures oscilating in the last 10 steps: 0\n",
      "\t\tstep  20 0.0 s\n",
      "\t\t\tfeatures oscilating in the last 10 steps: 0\n",
      "\t\t\tconvergence condition: True ; curve slope: -0.03\n",
      "\t\tstep  21 0.0 s\n",
      "\t\t\tfeatures oscilating in the last 10 steps: 0\n",
      "\t\t\tconvergence condition: True ; curve slope: -0.01\n",
      "\t\tstep  22 0.0 s\n",
      "\t\t\tfeatures oscilating in the last 10 steps: 0\n",
      "The model converged after 23 steps.\n",
      "Consensus of last 10 states will be taken\n",
      "Sampling runtime 1.5 s\n",
      "time:\tSampling (23 steps) fininshed in 1.55 s.\n",
      "\n",
      "size(genes)\tn_modules\n",
      "0 \t\t 102\n",
      "1 \t\t 3\n",
      "2 \t\t 83\n",
      "3 \t\t 1\n",
      "18 \t\t 1\n",
      "\t85 modules and 3 not clustered genes\n",
      "time\tmodules detected in in 1.55 s.\n",
      "(212, 9)\n",
      "(85, 9)\n",
      "/home/olya/TUM/DESMOND/DESMOND2/tmp_results/METABRIC.seed_324678.bin=Jenks,clust=DESMOND.biclusters.tsv\n",
      "Total runtime: 1163.41 s\n"
     ]
    }
   ],
   "source": [
    "biclusters2 = run_DESMOND(exprs_file,basename,out_dir=out_dir,\n",
    "                          bin_method=\"Jenks\",clust_method=\"DESMOND\")"
   ]
  },
  {
   "cell_type": "code",
   "execution_count": null,
   "metadata": {},
   "outputs": [],
   "source": []
  }
 ],
 "metadata": {
  "kernelspec": {
   "display_name": "Python [conda env:root] *",
   "language": "python",
   "name": "conda-root-py"
  },
  "language_info": {
   "codemirror_mode": {
    "name": "ipython",
    "version": 3
   },
   "file_extension": ".py",
   "mimetype": "text/x-python",
   "name": "python",
   "nbconvert_exporter": "python",
   "pygments_lexer": "ipython3",
   "version": "3.8.3"
  }
 },
 "nbformat": 4,
 "nbformat_minor": 2
}
