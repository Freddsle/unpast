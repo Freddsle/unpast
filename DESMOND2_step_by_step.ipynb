{
 "cells": [
  {
   "cell_type": "code",
   "execution_count": 1,
   "metadata": {},
   "outputs": [],
   "source": [
    "import sys,os\n",
    "import numpy as np\n",
    "import pandas as pd\n",
    "import random\n",
    "import math\n",
    "from time import time\n",
    "from datetime import datetime\n",
    "\n",
    "\n",
    "import jenkspy\n",
    "\n",
    "import matplotlib.pyplot as plt\n",
    "\n",
    "%matplotlib inline"
   ]
  },
  {
   "cell_type": "code",
   "execution_count": 2,
   "metadata": {},
   "outputs": [],
   "source": [
    "### Binarization Step Parameters ###\n",
    "bin_method = \"GMM\" # \"GMM\", \"Jenks\", \"kmeans\"\n",
    "snr_pval = 0.01\n",
    "min_n_samples = -1 # define authomatically if -1\n",
    "\n",
    "### Feature clustering parameters ###\n",
    "min_SNR = 0.5\n",
    "clust_method = \"DESMOND\"\n",
    "\n",
    "if clust_method == \"WGCNA\":\n",
    "    p1 = 10 # power for correlation matrix [1-30]\n",
    "    p2 = 10 # power for tree cutof height \n",
    "    \n",
    "if clust_method == \"DESMOND\":\n",
    "    # PGM parameters\n",
    "    alpha = 10.0 \n",
    "    beta_K = 1.0\n",
    "\n",
    "    # convergence\n",
    "    max_n_steps= 50\n",
    "    n_steps_averaged = 10\n",
    "    n_points_fit=10\n",
    "    n_steps_for_convergence = 10\n",
    "\n",
    "# seed - makes sense only for GMM and DESMOND - TBA\n",
    "seed = 42\n",
    "\n",
    "\n",
    "### input and output  ###\n",
    "\n",
    "verbose = True\n",
    "plot_all = True\n",
    "\n",
    "# whether to load and to save binarized data\n",
    "load = True\n",
    "save = True\n",
    "\n",
    "out_dir = os.getcwd()+\"/tmp_results/\"\n",
    "basename = \"TCGA-BRCA\"#\n",
    "\n",
    "data_dir = \"/home/olya/TUM/DESMOND/datasets_14K/\"\n",
    "exprs_file = data_dir + \"TCGA-BRCA_945.Xena.log2RSEM_norm_z.14K_genes.tsv\"\n",
    "#exprs_file = data_dir + \"METABRIC_1904_14K.nolog2_exprs_z.tsv\"\n",
    "#exprs_file = data_dir + \"METABRIC_299TNBC_14K.nolog2_exprs_z.tsv\"\n",
    "#exprs_file = \"/home/olya/TUM/DESMOND/DESMOND2/OV_cancer/OV_norm_counts.log2.z.tsv\""
   ]
  },
  {
   "cell_type": "code",
   "execution_count": null,
   "metadata": {},
   "outputs": [],
   "source": []
  },
  {
   "cell_type": "code",
   "execution_count": 3,
   "metadata": {},
   "outputs": [
    {
     "name": "stdout",
     "output_type": "stream",
     "text": [
      "Will save output files to: /home/olya/TUM/DESMOND/DESMOND2/tmp_results/TCGA-BRCA*\n",
      "Mininal number of samples in a module: 20\n"
     ]
    }
   ],
   "source": [
    "start_time = time()\n",
    "\n",
    "if basename:\n",
    "    basename = basename\n",
    "else: \n",
    "    [date_h,mins] = str(datetime.today()).split(\":\")[:2]\n",
    "    [date, hs] = date_h.split()\n",
    "    basename = \"results_\"+hs+\":\"+mins+\"_\"+date \n",
    "    \n",
    "if verbose:\n",
    "    print(\"Will save output files to:\",out_dir + basename + \"*\", file = sys.stdout)\n",
    "    \n",
    "# read inputs\n",
    "exprs = pd.read_csv(exprs_file, sep=\"\\t\",index_col=0)\n",
    "\n",
    "# define minimal number of samples\n",
    "if min_n_samples == -1:\n",
    "    min_n_samples = int(max(20,0.01*exprs.shape[1])) # set to max(10, 5% of the cohort) \n",
    "if verbose:\n",
    "    print(\"Mininal number of samples in a module:\",min_n_samples ,file=sys.stdout)"
   ]
  },
  {
   "cell_type": "markdown",
   "metadata": {},
   "source": [
    "# 0) Find the trend between SNR and bicluster size\n",
    "\n",
    "1) for all sizes [min_n_samples, int(N/2)+ min_n_samples], generate splits of random samples drawn from normal distributions\n",
    "\n",
    "2) find SNR_thr(size) for a p-value cutoff, e.g. p_val =0.05; get_snr_thr is a function of bicluser size \n",
    "\n",
    "\n",
    "# 1) Binarize individual features\n",
    "\n",
    " * Jenks or GMM binariation\n",
    " * filtering by sample nubmer and SNR\n",
    "     - n_samples =< min_n_samples, and\n",
    "     - SNR > SNR_thr(n_samples)"
   ]
  },
  {
   "cell_type": "code",
   "execution_count": 4,
   "metadata": {
    "scrolled": true
   },
   "outputs": [
    {
     "name": "stdout",
     "output_type": "stream",
     "text": [
      "Load binarized gene expressions from /home/olya/TUM/DESMOND/DESMOND2/tmp_results//TCGA-BRCA.pv=0.01,method=GMM,direction=UP.bin_exprs.tsv\n",
      "Load binarized gene expressions from /home/olya/TUM/DESMOND/DESMOND2/tmp_results//TCGA-BRCA.pv=0.01,method=GMM,direction=DOWN.bin_exprs.tsv\n"
     ]
    }
   ],
   "source": [
    "from method import binarize\n",
    "\n",
    "show_fits = [ \"FOXA1\",\"ESR1\",\"ERBB2\",'APOBEC3A',\"PIK3R2\"] # some exmaple genes \n",
    "binarized_expressions = binarize(exprs, method=bin_method, \n",
    "                                       load=load, save = save, prefix = out_dir+\"/\"+basename,\n",
    "                                       min_n_samples = min_n_samples, snr_pval = snr_pval,\n",
    "                                       plot_all = plot_all,plot_SNR_thr= 10.0,show_fits =show_fits,\n",
    "                                       verbose= verbose,seed=seed)\n",
    "\n",
    "    "
   ]
  },
  {
   "cell_type": "markdown",
   "metadata": {},
   "source": [
    "# Step 2. Group features into modules\n",
    " \n",
    " * feature clustering: choose WGCNA or DESMOND \n",
    " - features with the same 1/0 profiles are grouped to modules\n",
    " - runs for up- and down-regulated features separately\n",
    " \n",
    "  "
   ]
  },
  {
   "cell_type": "markdown",
   "metadata": {},
   "source": [
    "##    WGCNA:"
   ]
  },
  {
   "cell_type": "code",
   "execution_count": 5,
   "metadata": {},
   "outputs": [],
   "source": [
    "if clust_method == \"WGCNA\":\n",
    "    from method3 import run_WGCNA\n",
    "    \n",
    "    clustering_results = {}\n",
    "    for d in [\"UP\",\"DOWN\"]:\n",
    "        suffix  = \".pv=\"+str(snr_pval)+\",method=\"+bin_method+\",direction=\"+d\n",
    "        fname = out_dir+\"/\"+basename+ suffix +\".bin_exprs.tsv\"\n",
    "        clustering_results[d] = run_WGCNA(fname,p1=p1,p2=p2, verbose = verbose)"
   ]
  },
  {
   "cell_type": "markdown",
   "metadata": {},
   "source": [
    "## DESMOND:"
   ]
  },
  {
   "cell_type": "code",
   "execution_count": 6,
   "metadata": {
    "scrolled": true
   },
   "outputs": [
    {
     "name": "stdout",
     "output_type": "stream",
     "text": [
      "time:\tInitial state created in 5.2 s.\n",
      "\t\tLP memory, 12.04 M\n",
      "\t\tstep  1 16.9 s\n",
      "\t\tstep  2 7.5 s\n",
      "\t\tstep  3 5.9 s\n",
      "\t\tstep  4 4.8 s\n",
      "\t\tstep  5 3.9 s\n",
      "\t\tstep  6 3.7 s\n",
      "\t\tstep  7 2.9 s\n",
      "\t\tstep  8 3.1 s\n",
      "\t\tstep  9 3.1 s\n",
      "\t\tstep  10 2.7 s\n",
      "\t\tstep  11 2.7 s\n",
      "\t\t\tfeatures oscilating in the last 10 steps: 355\n",
      "\t\tstep  12 2.7 s\n",
      "\t\t\tfeatures oscilating in the last 10 steps: 174\n",
      "\t\tstep  13 3.0 s\n",
      "\t\t\tfeatures oscilating in the last 10 steps: 96\n",
      "\t\tstep  14 2.8 s\n",
      "\t\t\tfeatures oscilating in the last 10 steps: 65\n",
      "\t\tstep  15 3.0 s\n",
      "\t\t\tfeatures oscilating in the last 10 steps: 47\n",
      "\t\tstep  16 2.6 s\n",
      "\t\t\tfeatures oscilating in the last 10 steps: 42\n",
      "\t\tstep  17 2.7 s\n",
      "\t\t\tfeatures oscilating in the last 10 steps: 42\n",
      "\t\tstep  18 2.9 s\n",
      "\t\t\tfeatures oscilating in the last 10 steps: 41\n",
      "\t\tstep  19 2.6 s\n",
      "\t\t\tfeatures oscilating in the last 10 steps: 40\n",
      "\t\tstep  20 2.6 s\n",
      "\t\t\tfeatures oscilating in the last 10 steps: 42\n",
      "\t\t\tconvergence condition: False ; curve slope: -0.21\n",
      "\t\tstep  21 3.0 s\n",
      "\t\t\tfeatures oscilating in the last 10 steps: 39\n",
      "\t\t\tconvergence condition: True ; curve slope: -0.09\n",
      "\t\tstep  22 2.8 s\n",
      "\t\t\tfeatures oscilating in the last 10 steps: 41\n",
      "\t\t\tconvergence condition: True ; curve slope: -0.04\n",
      "\t\tstep  23 2.8 s\n",
      "\t\t\tfeatures oscilating in the last 10 steps: 40\n",
      "\t\t\tconvergence condition: True ; curve slope: -0.01\n",
      "\t\tstep  24 2.8 s\n",
      "\t\t\tfeatures oscilating in the last 10 steps: 40\n",
      "\t\t\tconvergence condition: True ; curve slope: -0.00\n",
      "\t\tstep  25 2.8 s\n",
      "\t\t\tfeatures oscilating in the last 10 steps: 42\n",
      "\t\t\tconvergence condition: True ; curve slope: -0.00\n",
      "\t\tstep  26 2.8 s\n",
      "\t\t\tfeatures oscilating in the last 10 steps: 43\n",
      "\t\t\tconvergence condition: True ; curve slope: 0.00\n",
      "\t\tstep  27 3.2 s\n",
      "\t\t\tfeatures oscilating in the last 10 steps: 43\n",
      "\t\t\tconvergence condition: True ; curve slope: 0.00\n",
      "\t\tstep  28 2.7 s\n",
      "\t\t\tfeatures oscilating in the last 10 steps: 44\n",
      "\t\t\tconvergence condition: True ; curve slope: 0.00\n",
      "\t\tstep  29 2.9 s\n",
      "\t\t\tfeatures oscilating in the last 10 steps: 44\n",
      "\t\t\tconvergence condition: True ; curve slope: 0.00\n",
      "\t\tstep  30 2.7 s\n",
      "\t\t\tfeatures oscilating in the last 10 steps: 45\n",
      "\t\t\tconvergence condition: True ; curve slope: 0.01\n",
      "\t\tstep  31 2.8 s\n",
      "\t\t\tfeatures oscilating in the last 10 steps: 46\n",
      "\t\t\tconvergence condition: True ; curve slope: 0.01\n",
      "The model converged after 32 steps.\n",
      "Consensus of last 10 states will be taken\n",
      "Sampling runtime 114.2 s\n",
      "time:\tSampling (32 steps) fininshed in 114.22 s.\n",
      "\n",
      "size(genes)\tn_modules\n",
      "0 \t\t 1119\n",
      "1 \t\t 116\n",
      "2 \t\t 50\n",
      "3 \t\t 6\n",
      "4 \t\t 1\n",
      "13 \t\t 1\n",
      "36 \t\t 1\n",
      "38 \t\t 1\n",
      "68 \t\t 1\n",
      "97 \t\t 1\n",
      "100 \t\t 1\n",
      "122 \t\t 1\n",
      "137 \t\t 1\n",
      "187 \t\t 1\n",
      "244 \t\t 1\n",
      "\t67 modules and 116 not clustered genes\n",
      "time\tmodules detected in in 114.34 s.\n"
     ]
    },
    {
     "name": "stderr",
     "output_type": "stream",
     "text": [
      "Genes assigned to more than 1 module: 1\n"
     ]
    },
    {
     "name": "stdout",
     "output_type": "stream",
     "text": [
      "time:\tInitial state created in 3.0 s.\n",
      "\t\tLP memory, 10.20 M\n",
      "\t\tstep  1 12.9 s\n",
      "\t\tstep  2 7.9 s\n",
      "\t\tstep  3 4.7 s\n",
      "\t\tstep  4 4.3 s\n",
      "\t\tstep  5 4.1 s\n",
      "\t\tstep  6 3.5 s\n",
      "\t\tstep  7 3.8 s\n",
      "\t\tstep  8 3.3 s\n",
      "\t\tstep  9 2.9 s\n",
      "\t\tstep  10 2.5 s\n",
      "\t\tstep  11 2.7 s\n",
      "\t\t\tfeatures oscilating in the last 10 steps: 481\n",
      "\t\tstep  12 2.3 s\n",
      "\t\t\tfeatures oscilating in the last 10 steps: 282\n",
      "\t\tstep  13 2.3 s\n",
      "\t\t\tfeatures oscilating in the last 10 steps: 218\n",
      "\t\tstep  14 2.3 s\n",
      "\t\t\tfeatures oscilating in the last 10 steps: 178\n",
      "\t\tstep  15 2.2 s\n",
      "\t\t\tfeatures oscilating in the last 10 steps: 134\n",
      "\t\tstep  16 2.3 s\n",
      "\t\t\tfeatures oscilating in the last 10 steps: 109\n",
      "\t\tstep  17 2.3 s\n",
      "\t\t\tfeatures oscilating in the last 10 steps: 84\n",
      "\t\tstep  18 2.3 s\n",
      "\t\t\tfeatures oscilating in the last 10 steps: 66\n",
      "\t\tstep  19 2.4 s\n",
      "\t\t\tfeatures oscilating in the last 10 steps: 52\n",
      "\t\tstep  20 2.3 s\n",
      "\t\t\tfeatures oscilating in the last 10 steps: 45\n",
      "\t\t\tconvergence condition: False ; curve slope: -0.37\n",
      "\t\tstep  21 2.4 s\n",
      "\t\t\tfeatures oscilating in the last 10 steps: 37\n",
      "\t\t\tconvergence condition: False ; curve slope: -0.23\n",
      "\t\tstep  22 2.4 s\n",
      "\t\t\tfeatures oscilating in the last 10 steps: 36\n",
      "\t\t\tconvergence condition: False ; curve slope: -0.18\n",
      "\t\tstep  23 2.1 s\n",
      "\t\t\tfeatures oscilating in the last 10 steps: 33\n",
      "\t\t\tconvergence condition: False ; curve slope: -0.14\n",
      "\t\tstep  24 2.2 s\n",
      "\t\t\tfeatures oscilating in the last 10 steps: 31\n",
      "\t\t\tconvergence condition: True ; curve slope: -0.10\n",
      "\t\tstep  25 2.4 s\n",
      "\t\t\tfeatures oscilating in the last 10 steps: 31\n",
      "\t\t\tconvergence condition: True ; curve slope: -0.07\n",
      "\t\tstep  26 2.5 s\n",
      "\t\t\tfeatures oscilating in the last 10 steps: 33\n",
      "\t\t\tconvergence condition: True ; curve slope: -0.05\n",
      "\t\tstep  27 2.3 s\n",
      "\t\t\tfeatures oscilating in the last 10 steps: 35\n",
      "\t\t\tconvergence condition: True ; curve slope: -0.03\n",
      "\t\tstep  28 2.6 s\n",
      "\t\t\tfeatures oscilating in the last 10 steps: 36\n",
      "\t\t\tconvergence condition: True ; curve slope: -0.01\n",
      "\t\tstep  29 2.2 s\n",
      "\t\t\tfeatures oscilating in the last 10 steps: 36\n",
      "\t\t\tconvergence condition: True ; curve slope: -0.01\n",
      "\t\tstep  30 2.3 s\n",
      "\t\t\tfeatures oscilating in the last 10 steps: 37\n",
      "\t\t\tconvergence condition: True ; curve slope: 0.00\n",
      "\t\tstep  31 2.5 s\n",
      "\t\t\tfeatures oscilating in the last 10 steps: 37\n",
      "\t\t\tconvergence condition: True ; curve slope: 0.00\n",
      "\t\tstep  32 2.1 s\n",
      "\t\t\tfeatures oscilating in the last 10 steps: 39\n",
      "\t\t\tconvergence condition: True ; curve slope: 0.01\n",
      "\t\tstep  33 2.4 s\n",
      "\t\t\tfeatures oscilating in the last 10 steps: 39\n",
      "\t\t\tconvergence condition: True ; curve slope: 0.01\n",
      "\t\tstep  34 2.6 s\n",
      "\t\t\tfeatures oscilating in the last 10 steps: 41\n",
      "\t\t\tconvergence condition: True ; curve slope: 0.01\n",
      "The model converged after 35 steps.\n",
      "Consensus of last 10 states will be taken\n",
      "Sampling runtime 107.0 s\n",
      "time:\tSampling (35 steps) fininshed in 106.98 s.\n",
      "\n",
      "size(genes)\tn_modules\n",
      "0 \t\t 1042\n",
      "1 \t\t 102\n",
      "2 \t\t 35\n",
      "3 \t\t 3\n",
      "4 \t\t 2\n",
      "8 \t\t 1\n",
      "25 \t\t 1\n",
      "31 \t\t 1\n",
      "38 \t\t 1\n",
      "46 \t\t 1\n",
      "62 \t\t 1\n",
      "76 \t\t 1\n",
      "89 \t\t 1\n",
      "163 \t\t 1\n",
      "180 \t\t 1\n",
      "264 \t\t 1\n",
      "\t51 modules and 102 not clustered genes\n",
      "time\tmodules detected in in 107.11 s.\n"
     ]
    },
    {
     "name": "stderr",
     "output_type": "stream",
     "text": [
      "Genes assigned to more than 1 module: 0\n"
     ]
    },
    {
     "data": {
      "image/png": "[encoded data removed]",
      "text/plain": [
       "<Figure size 1080x360 with 1 Axes>"
      ]
     },
     "metadata": {
      "needs_background": "light"
     },
     "output_type": "display_data"
    },
    {
     "data": {
      "image/png": "[encoded data removed]",
      "text/plain": [
       "<Figure size 1080x360 with 1 Axes>"
      ]
     },
     "metadata": {
      "needs_background": "light"
     },
     "output_type": "display_data"
    }
   ],
   "source": [
    "if clust_method == \"DESMOND\":\n",
    "    from pgm import run_sampling\n",
    "    # PGM parameters\n",
    "    alpha = 10 # convergence fails from 0.25; 0.33 is still Ok\n",
    "    beta_K = 1.0\n",
    "\n",
    "    # convergence\n",
    "    max_n_steps= 50\n",
    "    n_steps_averaged = 10\n",
    "    n_points_fit=10\n",
    "    n_steps_for_convergence = 10\n",
    "    from method2 import set_initial_conditions, sampling, get_consensus_modules\n",
    "\n",
    "    clustering_results ={}\n",
    "    for d in [\"UP\",\"DOWN\"]:\n",
    "        exprs_bin = binarized_expressions[d]\n",
    "        genes = exprs_bin.columns.values\n",
    "        clustering_results[d] = run_sampling(exprs_bin,alpha=alpha,beta_K=beta_K,f=0.5,\n",
    "                    max_n_steps=max_n_steps, n_steps_averaged = n_steps_averaged,\n",
    "                    n_points_fit = n_points_fit, tol = 0.1,\n",
    "                    n_steps_for_convergence = n_steps_for_convergence,\n",
    "                    verbose =verbose,plot_all=plot_all)"
   ]
  },
  {
   "cell_type": "code",
   "execution_count": null,
   "metadata": {},
   "outputs": [],
   "source": []
  },
  {
   "cell_type": "markdown",
   "metadata": {},
   "source": [
    "# 3. Split each module to bicluster and background\n",
    "\n",
    " * Jenks is th only option, GMM makes no sense for small biclusters of 2-3-5 genes \n",
    " * based on 1/0 profile\n",
    " * if min_SNR is set, remove genes not matching with the rest of bicluster"
   ]
  },
  {
   "cell_type": "code",
   "execution_count": 8,
   "metadata": {
    "scrolled": true
   },
   "outputs": [
    {
     "name": "stdout",
     "output_type": "stream",
     "text": [
      "UP : 718 features clustered into 66 modules, 562 - not clustered.\n",
      "DOWN : 690 features clustered into 50 modules, 481 - not clustered.\n"
     ]
    }
   ],
   "source": [
    "from method import modules2biclsuters_jenks\n",
    "\n",
    "biclusters, not_clustered = modules2biclsuters_jenks(clustering_results,exprs,binarized_expressions,\n",
    "                                                     min_SNR = min_SNR,min_n_samples=min_n_samples,\n",
    "                                                     snr_pval=snr_pval,\n",
    "                                                     bin_method = bin_method, clust_method = clust_method,\n",
    "                                                     result_file_name = out_dir+basename,\n",
    "                                                     directions=[\"UP\",\"DOWN\"],\n",
    "                                                     plot=False,verbose = False)"
   ]
  },
  {
   "cell_type": "code",
   "execution_count": null,
   "metadata": {},
   "outputs": [],
   "source": []
  }
 ],
 "metadata": {
  "kernelspec": {
   "display_name": "Python [conda env:root] *",
   "language": "python",
   "name": "conda-root-py"
  },
  "language_info": {
   "codemirror_mode": {
    "name": "ipython",
    "version": 3
   },
   "file_extension": ".py",
   "mimetype": "text/x-python",
   "name": "python",
   "nbconvert_exporter": "python",
   "pygments_lexer": "ipython3",
   "version": "3.8.3"
  }
 },
 "nbformat": 4,
 "nbformat_minor": 2
}
