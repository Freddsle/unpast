{
 "cells": [
  {
   "cell_type": "code",
   "execution_count": 7,
   "metadata": {},
   "outputs": [],
   "source": [
    "import sys,os\n",
    "import numpy as np\n",
    "import pandas as pd\n",
    "import time, datetime\n",
    "import random\n",
    "import argparse\n",
    "import math\n",
    "\n",
    "import matplotlib.pyplot as plt\n",
    "\n",
    "\n",
    "%matplotlib inline"
   ]
  },
  {
   "cell_type": "markdown",
   "metadata": {},
   "source": [
    "### Modifications\n",
    " * pre-clustering of binary matrix reduces initial number of gene clusters\n",
    " * create UP- and DOWN- regulated matrice when run GMM binarization"
   ]
  },
  {
   "cell_type": "code",
   "execution_count": 8,
   "metadata": {},
   "outputs": [],
   "source": [
    "min_n_samples = -1\n",
    "direction = \"DOWN\"\n",
    "out_dir = os.getcwd()+\"/tmp_results/\"\n",
    "basename = \"results\"\n",
    "seed = 42\n",
    "alpha = 1.0\n",
    "beta_K = 1.0\n",
    "snr_pval = 0.05\n",
    "\n",
    "# convergence\n",
    "max_n_steps= 200\n",
    "n_steps_averaged = 20\n",
    "n_steps_for_convergence = 5\n",
    "min_pletau_steps = 20\n",
    "n_points_fit=10\n",
    "\n",
    "verbose = True\n",
    "plot_all = True\n",
    "\n",
    "random.seed(seed)\n",
    "\n",
    "\n",
    "#exprs_file = \"../../Expression/Harmonized_final/TCGA_RNAseq.RSEM.log2.z.13K_common.tsv\"\n",
    "#exprs_file = root+\"/Expression/Harmonized_final/TCGA_micro_nolog2.z.13K_common.tsv\"\n",
    "#exprs_file = \"../datasets/METABRIC_1904.nolog2_exprs_z.tsv\"\n",
    "#exprs_file = \"../datasets/METABRIC_299TNBC.nolog2_exprs_z.tsv\"\n",
    "#exprs_file = \"../datasets/TCGA-BRCA_139TNBC.Xena.log2RSEM_norm_z.24K_genes.tsv\"\n",
    "#exprs_file = \"../datasets/TCGA-BRCA_945.Xena.log2RSEM_norm_z.24K_genes.tsv\"\n",
    "exprs_file = \"../../../SFU/Breast_cancer/Expression/Harmonized_final/TCGA_micro_nolog2.z.13K_common.tsv\""
   ]
  },
  {
   "cell_type": "code",
   "execution_count": null,
   "metadata": {},
   "outputs": [],
   "source": []
  },
  {
   "cell_type": "code",
   "execution_count": 9,
   "metadata": {},
   "outputs": [
    {
     "name": "stdout",
     "output_type": "stream",
     "text": [
      "Will save output files to: /home/olya/TUM/DESMOND/DESMOND2/tmp_results/METABRIC_24K.alpha=1.0,beta_K=1.0,direction=DOWN\n",
      "Mininal number of samples in a module: 26\n"
     ]
    }
   ],
   "source": [
    "start_time = time.time()\n",
    "\n",
    "if basename:\n",
    "    basename = basename\n",
    "else: \n",
    "    [date_h,mins] = str(datetime.datetime.today()).split(\":\")[:2]\n",
    "    [date, hs] = date_h.split()\n",
    "    basename = \"results_\"+hs+\":\"+mins+\"_\"+date \n",
    "    \n",
    "suffix  = \".alpha=\"+str(alpha)+\",beta_K=\"+str(beta_K)+\",direction=\"+direction\n",
    "if verbose:\n",
    "    print(\"Will save output files to:\",out_dir + basename + suffix, file = sys.stdout)\n",
    "    \n",
    "# read inputs\n",
    "exprs = pd.read_csv(exprs_file, sep=\"\\t\",index_col=0)\n",
    "\n",
    "# define minimal number of patients in a module\n",
    "if min_n_samples == -1:\n",
    "    min_n_samples = int(max(5,0.05*exprs.shape[1])) # set to max(10, 5% of the cohort) \n",
    "if verbose:\n",
    "    print(\"Mininal number of samples in a module:\",min_n_samples ,file=sys.stdout)"
   ]
  },
  {
   "cell_type": "markdown",
   "metadata": {},
   "source": [
    "# 0) Find the trend between SNR and bicluster size\n",
    "\n",
    "1) generate random splits for all bicluster sizes [min_n_samples, N/2]\n",
    "\n",
    "2) find SNR_thr(size) for a p-value cutoff, e.g. p_val =0.05\n",
    "\n",
    "get_snr_thr is a function of bicluser size \n"
   ]
  },
  {
   "cell_type": "code",
   "execution_count": 10,
   "metadata": {},
   "outputs": [],
   "source": [
    "from method2 import rand_norm_splits, get_trend"
   ]
  },
  {
   "cell_type": "code",
   "execution_count": 11,
   "metadata": {
    "scrolled": true
   },
   "outputs": [
    {
     "name": "stdout",
     "output_type": "stream",
     "text": [
      "total samples: 529, min_n_samples: 26, n_permutations: 189\n"
     ]
    },
    {
     "data": {
      "image/png": "[encoded data removed]",
      "text/plain": [
       "<Figure size 432x288 with 1 Axes>"
      ]
     },
     "metadata": {
      "needs_background": "light"
     },
     "output_type": "display_data"
    }
   ],
   "source": [
    "sizes,thresholds = rand_norm_splits(exprs.shape[1], snr_pval = snr_pval,seed=seed)\n",
    "get_min_snr = get_trend(sizes,thresholds, plot = plot_all)"
   ]
  },
  {
   "cell_type": "markdown",
   "metadata": {},
   "source": [
    "# 1) Assign patients to edges\n",
    " * GMM\n",
    " * filtering by sample nubmer and SNR"
   ]
  },
  {
   "cell_type": "code",
   "execution_count": 12,
   "metadata": {
    "scrolled": true
   },
   "outputs": [
    {
     "name": "stdout",
     "output_type": "stream",
     "text": [
      "\t\tgenes processed: 0\n",
      "Gene SIDT1: SNR=2.03, pos=0, neg=92\n"
     ]
    },
    {
     "data": {
      "image/png": "[encoded data removed]",
      "text/plain": [
       "<Figure size 432x288 with 1 Axes>"
      ]
     },
     "metadata": {
      "needs_background": "light"
     },
     "output_type": "display_data"
    },
    {
     "name": "stdout",
     "output_type": "stream",
     "text": [
      "Gene CLIC6: SNR=-2.01, pos=186, neg=0\n"
     ]
    },
    {
     "data": {
      "image/png": "[encoded data removed]",
      "text/plain": [
       "<Figure size 432x288 with 1 Axes>"
      ]
     },
     "metadata": {
      "needs_background": "light"
     },
     "output_type": "display_data"
    },
    {
     "name": "stdout",
     "output_type": "stream",
     "text": [
      "\t\tgenes processed: 1000\n",
      "\t\tgenes processed: 2000\n",
      "\t\tgenes processed: 3000\n",
      "Gene GRB7: SNR=2.56, pos=53, neg=0\n"
     ]
    },
    {
     "data": {
      "image/png": "[encoded data removed]",
      "text/plain": [
       "<Figure size 432x288 with 1 Axes>"
      ]
     },
     "metadata": {
      "needs_background": "light"
     },
     "output_type": "display_data"
    },
    {
     "name": "stdout",
     "output_type": "stream",
     "text": [
      "\t\tgenes processed: 4000\n",
      "\t\tgenes processed: 5000\n",
      "Gene ESR1: SNR=2.21, pos=0, neg=134\n"
     ]
    },
    {
     "data": {
      "image/png": "[encoded data removed]",
      "text/plain": [
       "<Figure size 432x288 with 1 Axes>"
      ]
     },
     "metadata": {
      "needs_background": "light"
     },
     "output_type": "display_data"
    },
    {
     "name": "stdout",
     "output_type": "stream",
     "text": [
      "\t\tgenes processed: 6000\n",
      "\t\tgenes processed: 7000\n",
      "\t\tgenes processed: 8000\n",
      "Gene ERBB2: SNR=2.19, pos=57, neg=0\n"
     ]
    },
    {
     "data": {
      "image/png": "[encoded data removed]",
      "text/plain": [
       "<Figure size 432x288 with 1 Axes>"
      ]
     },
     "metadata": {
      "needs_background": "light"
     },
     "output_type": "display_data"
    },
    {
     "name": "stdout",
     "output_type": "stream",
     "text": [
      "Gene GATA3: SNR=1.73, pos=0, neg=125\n"
     ]
    },
    {
     "data": {
      "image/png": "[encoded data removed]",
      "text/plain": [
       "<Figure size 432x288 with 1 Axes>"
      ]
     },
     "metadata": {
      "needs_background": "light"
     },
     "output_type": "display_data"
    },
    {
     "name": "stdout",
     "output_type": "stream",
     "text": [
      "\t\tgenes processed: 9000\n",
      "Gene FOXA1: SNR=2.57, pos=0, neg=94\n"
     ]
    },
    {
     "data": {
      "image/png": "[encoded data removed]",
      "text/plain": [
       "<Figure size 432x288 with 1 Axes>"
      ]
     },
     "metadata": {
      "needs_background": "light"
     },
     "output_type": "display_data"
    },
    {
     "name": "stdout",
     "output_type": "stream",
     "text": [
      "\t\tgenes processed: 10000\n",
      "\t\tgenes processed: 11000\n",
      "Gene BMPR1B: SNR=-2.16, pos=241, neg=288\n"
     ]
    },
    {
     "data": {
      "image/png": "[encoded data removed]",
      "text/plain": [
       "<Figure size 432x288 with 1 Axes>"
      ]
     },
     "metadata": {
      "needs_background": "light"
     },
     "output_type": "display_data"
    },
    {
     "name": "stdout",
     "output_type": "stream",
     "text": [
      "\t\tgenes processed: 12000\n",
      "\t\tgenes processed: 13000\n",
      "Total runtime 314.45 s for  13361 genes\n",
      "\tup-regulated genes: 1563\n",
      "\tdown-regulated genes: 1012\n",
      "\tinexplicit genes: 378\n"
     ]
    }
   ],
   "source": [
    "from method2 import GM_binarization\n",
    "sele_genes = [\"SIDT1\",\"CLIC6\",\"BMPR1B\", \"FOXA1\",\"GATA3\",\"ESR1\",\"ERBB2\",\"GRB7\"]\n",
    "binarized_expressions = GM_binarization(exprs,get_min_snr,min_n_samples,verbose = True, \n",
    "                                        plot=True, plot_SNR_thr= 3.0, show_fits = sele_genes,seed = seed)\n"
   ]
  },
  {
   "cell_type": "code",
   "execution_count": null,
   "metadata": {},
   "outputs": [],
   "source": []
  },
  {
   "cell_type": "markdown",
   "metadata": {},
   "source": [
    "# Step 2. Sample module memberships"
   ]
  },
  {
   "cell_type": "code",
   "execution_count": 13,
   "metadata": {},
   "outputs": [],
   "source": [
    "from method2 import set_initial_conditions, sampling, get_consensus_modules"
   ]
  },
  {
   "cell_type": "code",
   "execution_count": 14,
   "metadata": {},
   "outputs": [
    {
     "name": "stdout",
     "output_type": "stream",
     "text": [
      "(529, 1563)\n"
     ]
    },
    {
     "data": {
      "text/plain": [
       "Index(['ASS1', 'ZNF707', 'CEACAM5', 'NUP93', 'SP5', 'GTSE1', 'UGCG', 'ITGA7',\n",
       "       'FBXL13', 'SDK1',\n",
       "       ...\n",
       "       'RGS13', 'LANCL3', 'IGFL2', 'ELF5', 'CAND2', 'LDHB', 'LDHC', 'SLC7A10',\n",
       "       'FOLR1', 'GNGT1'],\n",
       "      dtype='object', name='Hugo_Symbol', length=1563)"
      ]
     },
     "execution_count": 14,
     "metadata": {},
     "output_type": "execute_result"
    }
   ],
   "source": [
    "direction = \"UP\"\n",
    "exprs_bin = binarized_expressions[direction]\n",
    "print(exprs_bin.shape)\n",
    "exprs_bin.columns"
   ]
  },
  {
   "cell_type": "code",
   "execution_count": 15,
   "metadata": {},
   "outputs": [],
   "source": [
    "# simplifying probability calculations\n",
    "N = exprs.shape[1]\n",
    "max_log_float = np.log(np.finfo(np.float64).max)\n",
    "n_exp_orders = 7 # ~1000 times \n",
    "p0 = N*np.log(0.5)+np.log(beta_K)\n",
    "match_score = np.log((alpha*0.5+1)/(alpha))\n",
    "mismatch_score = np.log((alpha*0.5+0)/alpha)\n",
    "bK_1 = math.log(1+beta_K)\n",
    "genes = exprs_bin.columns.values"
   ]
  },
  {
   "cell_type": "code",
   "execution_count": 16,
   "metadata": {},
   "outputs": [
    {
     "name": "stdout",
     "output_type": "stream",
     "text": [
      "Direction: UP\n",
      "\t\tKxN=1563x529\n",
      "\t\tp0= -366.67485851621103\n",
      "\t 1000 genes processed in  7.3 s\n",
      "time:\tInitial state created in 8.1 s.\n",
      "\t\tLP memory, 18.64 M\n"
     ]
    }
   ],
   "source": [
    "print(\"Direction:\",direction)\n",
    "moduleSizes, gene2Samples, nOnesPerSampleInModules, gene2Module, moduleOneFreqs, LP  = set_initial_conditions(exprs_bin, alpha,beta_K,verbose = True)\n",
    "K = len(moduleSizes)\n",
    "N = gene2Samples.shape[1]\n",
    "print(\"\\t\\tLP memory, {:.2f} M\".format(LP.nbytes/(1024*1024)),file = sys.stdout)\n"
   ]
  },
  {
   "cell_type": "code",
   "execution_count": 17,
   "metadata": {
    "scrolled": true
   },
   "outputs": [
    {
     "name": "stdout",
     "output_type": "stream",
     "text": [
      "step 1\n",
      "1000 \t\tgenes processed in 36.7 s runtime...\n",
      "\tstep  1 54.1 s\n",
      "step 2\n",
      "1000 \t\tgenes processed in 9.3 s runtime...\n",
      "\tstep  2 16.6 s\n",
      "step 3\n",
      "1000 \t\tgenes processed in 6.7 s runtime...\n",
      "\tstep  3 10.6 s\n",
      "step 4\n",
      "1000 \t\tgenes processed in 4.4 s runtime...\n",
      "\tstep  4 8.4 s\n",
      "step 5\n",
      "1000 \t\tgenes processed in 3.0 s runtime...\n",
      "\tstep  5 5.4 s\n",
      "step 6\n",
      "1000 \t\tgenes processed in 3.0 s runtime...\n",
      "\tstep  6 5.8 s\n",
      "step 7\n",
      "1000 \t\tgenes processed in 3.7 s runtime...\n",
      "\tstep  7 7.3 s\n",
      "step 8\n",
      "1000 \t\tgenes processed in 3.6 s runtime...\n",
      "\tstep  8 5.8 s\n",
      "step 9\n",
      "1000 \t\tgenes processed in 4.0 s runtime...\n",
      "\tstep  9 7.0 s\n",
      "step 10\n",
      "1000 \t\tgenes processed in 3.3 s runtime...\n",
      "\tstep  10 6.2 s\n",
      "step 11\n",
      "1000 \t\tgenes processed in 3.4 s runtime...\n",
      "\tstep  11 6.3 s\n",
      "step 12\n",
      "1000 \t\tgenes processed in 3.3 s runtime...\n",
      "\tstep  12 5.6 s\n",
      "step 13\n",
      "1000 \t\tgenes processed in 2.8 s runtime...\n",
      "\tstep  13 5.2 s\n",
      "step 14\n",
      "1000 \t\tgenes processed in 3.7 s runtime...\n",
      "\tstep  14 7.9 s\n",
      "step 15\n",
      "1000 \t\tgenes processed in 3.4 s runtime...\n",
      "\tstep  15 6.1 s\n",
      "step 16\n",
      "1000 \t\tgenes processed in 3.3 s runtime...\n",
      "\tstep  16 5.7 s\n",
      "step 17\n",
      "1000 \t\tgenes processed in 3.1 s runtime...\n",
      "\tstep  17 5.1 s\n",
      "step 18\n",
      "1000 \t\tgenes processed in 3.4 s runtime...\n",
      "\tstep  18 5.3 s\n",
      "step 19\n",
      "1000 \t\tgenes processed in 2.8 s runtime...\n",
      "\tstep  19 4.7 s\n",
      "step 20\n",
      "1000 \t\tgenes processed in 3.0 s runtime...\n",
      "\tstep  20 4.8 s\n",
      "step 21\n",
      "1000 \t\tgenes processed in 2.8 s runtime...\n",
      "\tstep  21 4.7 s\n",
      "step 22\n",
      "1000 \t\tgenes processed in 3.2 s runtime...\n",
      "\tstep  22 5.0 s\n",
      "step 23\n",
      "1000 \t\tgenes processed in 3.4 s runtime...\n",
      "\tstep  23 5.3 s\n",
      "step 24\n",
      "1000 \t\tgenes processed in 2.9 s runtime...\n",
      "\tstep  24 4.6 s\n",
      "step 25\n",
      "1000 \t\tgenes processed in 2.8 s runtime...\n",
      "\tstep  25 4.5 s\n",
      "step 26\n",
      "1000 \t\tgenes processed in 2.8 s runtime...\n",
      "\tstep  26 4.3 s\n",
      "step 27\n",
      "1000 \t\tgenes processed in 2.9 s runtime...\n",
      "\tstep  27 4.4 s\n",
      "step 28\n",
      "1000 \t\tgenes processed in 2.6 s runtime...\n",
      "\tstep  28 4.6 s\n",
      "step 29\n",
      "1000 \t\tgenes processed in 2.5 s runtime...\n",
      "\tstep  29 4.3 s\n",
      "step 30\n",
      "1000 \t\tgenes processed in 2.3 s runtime...\n",
      "\tstep  30 3.8 s\n",
      "\tConverged: False #skipping edges slope: -0.17823\n",
      "step 31\n",
      "1000 \t\tgenes processed in 2.6 s runtime...\n",
      "\tstep  31 4.3 s\n",
      "\tConverged: False #skipping edges slope: -0.10063\n",
      "step 32\n",
      "1000 \t\tgenes processed in 2.6 s runtime...\n",
      "\tstep  32 4.3 s\n",
      "\tConverged: True #skipping edges slope: -0.07018\n",
      "step 33\n",
      "1000 \t\tgenes processed in 2.7 s runtime...\n",
      "\tstep  33 4.5 s\n",
      "\tConverged: True #skipping edges slope: -0.06061\n",
      "step 34\n",
      "1000 \t\tgenes processed in 2.9 s runtime...\n",
      "\tstep  34 5.0 s\n",
      "\tConverged: True #skipping edges slope: -0.06182\n",
      "step 35\n",
      "1000 \t\tgenes processed in 2.9 s runtime...\n",
      "\tstep  35 5.1 s\n",
      "\tConverged: True #skipping edges slope: -0.06091\n",
      "step 36\n",
      "1000 \t\tgenes processed in 2.6 s runtime...\n",
      "\tstep  36 4.3 s\n",
      "\tConverged: True #skipping edges slope: -0.05869\n",
      "The model converged after 36 steps.\n",
      "Consensus of last 15 states will be taken\n",
      "Sampling runtime 258.2 s\n",
      "time:\tSampling (37 steps) fininshed in 258.23 s.\n"
     ]
    }
   ],
   "source": [
    "t0 = time.time()\n",
    "gene2Module_history,n_final_steps,n_skipping_genes,P_diffs = sampling(LP,gene2Module, gene2Samples, nOnesPerSampleInModules,moduleSizes,moduleOneFreqs, p0, match_score,mismatch_score, bK_1, alpha, beta_K, \n",
    "                                                                          max_n_steps=max_n_steps, n_steps_averaged = n_steps_averaged, n_points_fit = n_points_fit, tol = 0.1, \n",
    "                                                                          n_steps_for_convergence = n_steps_for_convergence, verbose=True)\n",
    "\n",
    "print(\"time:\\tSampling (%s steps) fininshed in %s s.\" %(len(gene2Module_history),round(time.time()-t0,2)), file = sys.stdout)\n"
   ]
  },
  {
   "cell_type": "code",
   "execution_count": 18,
   "metadata": {},
   "outputs": [
    {
     "data": {
      "image/png": "[encoded data removed]",
      "text/plain": [
       "<Figure size 1080x504 with 2 Axes>"
      ]
     },
     "metadata": {
      "needs_background": "light"
     },
     "output_type": "display_data"
    }
   ],
   "source": [
    "if plot_all:\n",
    "    from method2 import plot_convergence\n",
    "    plot_outfile = out_dir + basename +suffix+\",ns_max=\" + str(max_n_steps)+ \",ns_avg=\" + str(n_steps_averaged) + \",ns_c=\"+str(n_steps_for_convergence) + \".convergence.svg\"\n",
    "    plot_convergence(n_skipping_genes, P_diffs,len(gene2Module_history)-n_final_steps,\n",
    "                     n_steps_averaged, outfile=plot_outfile)\n"
   ]
  },
  {
   "cell_type": "code",
   "execution_count": null,
   "metadata": {},
   "outputs": [],
   "source": []
  },
  {
   "cell_type": "code",
   "execution_count": 19,
   "metadata": {},
   "outputs": [
    {
     "name": "stdout",
     "output_type": "stream",
     "text": [
      "Warning: less than 50% of time in the most frequent module\n",
      "\tedge: 914 counts: [2 6 6 1] \n",
      "\tlabels: 719,934,1290,1392\n",
      "Warning: less than 50% of time in the most frequent module\n",
      "\tedge: 1496 counts: [4 4 7] \n",
      "\tlabels: 882,1190,1496\n",
      "17 genes changed their module membership after taking consensus.\n",
      "\tEmpty modules: 952 \n",
      "\tNon-empty modules: 611\n",
      "size(genes)\tn_modules\n",
      "0 \t\t 952\n",
      "1 \t\t 123\n",
      "2 \t\t 456\n",
      "3 \t\t 10\n",
      "4 \t\t 6\n",
      "5 \t\t 3\n",
      "7 \t\t 1\n",
      "8 \t\t 2\n",
      "12 \t\t 1\n",
      "13 \t\t 1\n",
      "16 \t\t 1\n",
      "84 \t\t 1\n",
      "21 \t\t 1\n",
      "20 \t\t 1\n",
      "154 \t\t 1\n",
      "27 \t\t 2\n",
      "62 \t\t 1\n"
     ]
    }
   ],
   "source": [
    "consensus, nOnesPerSampleInModules, moduleSizes, moduleOneFreqs = get_consensus_modules(gene2Module_history[-n_final_steps:], LP,  gene2Samples, gene2Module,\n",
    "                      nOnesPerSampleInModules,moduleSizes, moduleOneFreqs, p0, match_score,mismatch_score,\n",
    "                      bK_1,alpha,beta_K,N, K)\n",
    "\n",
    "print(\"\\tEmpty modules:\", len([x for x in moduleSizes if x == 0]),\n",
    "  \"\\n\\tNon-empty modules:\",len([x for x in moduleSizes if x > 0]),file = sys.stdout)\n",
    "\n",
    "print(\"size(genes)\\tn_modules\")\n",
    "for m in set(moduleSizes):\n",
    "    print(m, \"\\t\\t\",len([x for x in moduleSizes if x==m]))"
   ]
  },
  {
   "cell_type": "markdown",
   "metadata": {},
   "source": [
    "# 3) Define biclusters"
   ]
  },
  {
   "cell_type": "code",
   "execution_count": 20,
   "metadata": {},
   "outputs": [],
   "source": [
    "exprs_np = exprs.loc[genes,:]\n",
    "ints2g_names = exprs_np.index.values\n",
    "ints2s_names = exprs_np.columns.values\n",
    "exprs_np = exprs_np.values\n",
    "exprs_sums = exprs_np.sum(axis=1)\n",
    "exprs_sq_sums = np.square(exprs_np).sum(axis=1)\n",
    "N = exprs.shape[1]\n",
    "exprs_data = N, exprs_sums, exprs_sq_sums"
   ]
  },
  {
   "cell_type": "code",
   "execution_count": 21,
   "metadata": {},
   "outputs": [
    {
     "name": "stdout",
     "output_type": "stream",
     "text": [
      "time:\tIdentified optimal sample sets for 1563 modules in 69.02 s.\n",
      "\tEmpty modules: 123\n",
      "\tModules with just 1 edge: 123\n",
      "\tModules with not enough or too many samples: 0\n",
      "\tModules not passed avg. |SNR| threshold: 2\n",
      "Passed modules with >= 2 genes and >= 26 samples: 486\n",
      "\n",
      "8x232\t0.883\tAPRT KATNB1 NUDT21 NIP7 AP1G1 DHODH SF3B3 DDX28\n",
      "4x131\t1.401\tS100A7 S100A7A S100A9 S100A8\n",
      "5x188\t1.059\tSCRIB COMMD5 ADCK5 HSF1 ZNF707\n",
      "5x213\t1.188\tHIST1H2AM HIST1H1C HIST1H1E HIST1H3H HIST1H4H\n",
      "3x193\t1.013\tTSLP SPRY2 PAK7\n",
      "16x239\t1.013\tMELK AURKB CENPI CDCA8 CENPO KIF18A MCM4 CHEK1 UBE2C CENPN BLM PDSS1 GPSM2 TTK RFC4 ATAD2\n",
      "27x151\t1.035\tGRIN3A P2RX5 CD79B PDCD1 FCRL5 PNOC PTPN7 CD7 IL2RG LY9 XCL1 PRF1 SLA2 IFNG PKHD1L1 CD79A CD200R1 IRF4 BTLA KRT81 PTPRCAP KLHL6 CD19 CD72 AIM2 CTSW IGLL1\n",
      "12x234\t1.172\tEOMES SIRPG GPR18 SAMD3 FASLG NKG7 GPR171 PYHIN1 SLAMF1 CCR2 IL18RAP CXCR6\n",
      "3x182\t1.181\tAPOBEC3A LAG3 ICOS\n",
      "21x109\t0.977\tGYPC LCN6 PDE2A FXYD1 CA4 CDO1 CPA1 MAP1LC3C HSPB6 LYVE1 KCNIP2 ITIH5 GLYAT ITGA7 TSPAN7 CHRDL1 NPR1 PENK HSPB7 PPARG FHL1\n",
      "7x235\t1.117\tIGF1 CCL15 TPO C7 MEOX1 IL33 ABCA8\n",
      "3x165\t1.275\tGSTM1 GSTM2 GSTM5\n",
      "62x99\t1.149\tRGMA B3GNT5 BCL11A KCNK5 S100B SOX10 MRAS VGLL1 C21orf91 UGT8 LY6D GPRC5B ROPN1B ST8SIA1 IFRD1 SYT8 MATN4 CHST4 KRT16 MAPK4 KLK6 HIST1H1A YEATS2 OGFRL1 LDHB PLCG2 EN1 BPI FGFBP1 SCRG1 STOX2 ZNF454 PELI1 PPP1R14C CDK6 PRKY PSAT1 PTCHD1 ETS1 TMEM71 TRIM2 TTLL4 SHC4 KCNN4 TTYH1 STAC CHODL SFT2D2 FOXC1 FZD9 ART3 HAPLN3 PIWIL4 HORMAD1 MTHFD1L EPHB1 ROPN1 SERPINB5 SMOC1 LEMD1 USP6NL FOXL1\n",
      "4x204\t0.886\tIGSF10 MAMDC2 MAB21L1 PROS1\n",
      "3x257\t1.493\tC10orf82 WNT4 HSPA12A\n",
      "5x103\t0.742\tORAOV1 WDR72 RSF1 MRPL21 PPFIA1\n",
      "13x118\t1.169\tALDH1L1 PCK1 HPR AQP7 SLC7A10 CIDEC CD36 LPL LGALS12 TNMD ACVR1C GPD1 GPX3\n",
      "154x101\t0.647\tLCT TMPRSS5 UCHL1 STRA8 ABCD1 SOX8 SMOX STAR C12orf56 DMRT1 SLCO5A1 CPA4 FAM19A3 SEC14L4 PCDH8 PRSS12 PI3 CDH19 PGBD5 GINS4 ENO1 ZIC4 SLC26A9 ATOH7 EPHB6 NRTN GSTA3 APCDD1L QPCT RRP1B MSLN ARNTL2 SLC10A4 PRTFDC1 SLC16A8 SH3TC2 CHST2 PEG3 NFE2L3 B3GAT1 CCKBR NUDT5 SNTB1 ALX3 SCHIP1 NKX2-5 C8orf46 KRT83 KYNU INGX CHRM3 GPI DSG1 KCNB1 POLD1 ADD2 ODAM RASGEF1C RETN CCDC67 FOXG1 MAP7D2 DYNC1I1 MAGEB1 OCA2 RBM38 LPIN1 CALCB GJB3 WARS CA9 POU4F1 RRP1 SBSN AADAT KALRN CIB4 FSD1 SPINK1 CLPS RDH10 WBSCR17 FBXL13 FOLR1 UQCRH STK33 USP1 SOX11 GART MAP2 GSTA5 OGDHL ZMIZ2 DLX6 CSTA PITPNM2 RGS20 RASGRF1 TMCC2 ABCC4 KRT86 MALL LANCL3 SHMT2 PTH2R PART1 BNC1 HRK ANKS6 GPR161 ACTR3B GABBR2 SLCO1A2 WNT6 DLX5 CSN3 GAL GJB6 IL12A ETV6 PNMA5 DMRTA1 RYR1 GNG4 SOD2 PCBP3 CIB2 INPP4A OPRK1 FAM58A TUBB2B C1QL2 PAX6 TGM1 RBM15 CDKN2A ELAVL2 ACE2 KLHL34 ATP11A CEBPG SLC6A15 C11orf16 KIRREL2 RGS6 SLC6A16 SLC16A10 FABP5 IGF2BP2 SKP2 KHDRBS3 SLURP1 CCNE1 SEPHS1\n",
      "4x189\t0.994\tBOP1 PTDSS1 TOP1MT PABPC1\n",
      "20x139\t0.5\tPROSC LSM1 TRIM7 KCNC1 APLP1 HMP19 BRF2 MYT1 GDPD3 RAMP1 SLC46A1 LRTM2 DUSP13 ASCL1 NPC1L1 CACNG6 RRM2B TRH ZG16 TPPP\n",
      "3x281\t1.321\tHIST1H2BE HIST1H2BF HIST1H2BJ\n",
      "3x107\t1.751\tCDX2 HOXB6 HOXB5\n",
      "3x243\t1.18\tCEACAM3 CEACAM8 CEACAM5\n",
      "4x156\t0.937\tSAMD5 CNTNAP3 KCNJ16 IRX1\n",
      "8x227\t1.162\tXAF1 STAT1 RTP4 IFIT1 IFI44 OAS2 ISG15 IFI6\n",
      "3x99\t1.548\tUGT2B28 UGT2B11 UGT2B7\n",
      "4x124\t1.155\tFOXN4 ROPN1L C20orf85 TMEM190\n",
      "3x197\t0.983\tMGC72080 LYNX1 OR7E24\n",
      "4x158\t0.841\tKCNE1 EFCAB1 IL17B AK5\n"
     ]
    }
   ],
   "source": [
    "from method2 import genesets2biclusters,  write_bic_table\n",
    "\n",
    "# Identify optimal patient sets for each module: split patients into two sets in a subspace of each module\n",
    "# Filter out bad biclusters with too few genes or samples, or with low SNR\n",
    "filtered_bics = genesets2biclusters(exprs_np, exprs_data,moduleSizes,consensus,\n",
    "                        min_SNR = 0.5,direction=direction,min_n_samples=min_n_samples,\n",
    "                        verbose = verbose)\n",
    "i =0\n",
    "print()\n",
    "for bic in filtered_bics:\n",
    "    bic[\"id\"] = i\n",
    "    i+=1\n",
    "    bic[\"genes\"] = set(sorted([ints2g_names[x] for x in bic[\"genes\"]]) )\n",
    "    bic[\"samples\"] = set(sorted([ints2s_names[x] for x in bic[\"samples\"]]))\n",
    "    if len(bic[\"genes\"])>2:\n",
    "        print(\"\\t\".join(map(str,[str(bic[\"n_genes\"])+\"x\"+str(bic[\"n_samples\"]),\n",
    "                                 round(bic[\"avgSNR\"],3),\" \".join(bic[\"genes\"])])),file = sys.stdout)"
   ]
  },
  {
   "cell_type": "code",
   "execution_count": 22,
   "metadata": {},
   "outputs": [
    {
     "name": "stdout",
     "output_type": "stream",
     "text": [
      "Total runtime: 670.01\n"
     ]
    }
   ],
   "source": [
    "result_file_name = out_dir+basename+suffix\n",
    "write_bic_table(filtered_bics,\n",
    "                result_file_name+\".biclusters.tsv\")\n",
    "\n",
    "\n",
    "print(\"Total runtime:\",round(time.time()-start_time,2),file = sys.stdout)"
   ]
  },
  {
   "cell_type": "code",
   "execution_count": 23,
   "metadata": {},
   "outputs": [
    {
     "name": "stdout",
     "output_type": "stream",
     "text": [
      "/home/olya/TUM/DESMOND/DESMOND2/tmp_results/METABRIC_24K.alpha=1.0,beta_K=1.0,direction=DOWN\n"
     ]
    }
   ],
   "source": [
    "print(result_file_name)"
   ]
  },
  {
   "cell_type": "markdown",
   "metadata": {},
   "source": [
    "# All steps in one function"
   ]
  },
  {
   "cell_type": "code",
   "execution_count": 1,
   "metadata": {},
   "outputs": [],
   "source": [
    "import sys,os\n",
    "import numpy as np\n",
    "import pandas as pd\n",
    "import time, datetime\n",
    "import random\n",
    "import argparse\n",
    "import math\n",
    "\n",
    "import matplotlib.pyplot as plt\n",
    "%matplotlib inline"
   ]
  },
  {
   "cell_type": "code",
   "execution_count": 2,
   "metadata": {},
   "outputs": [],
   "source": [
    "from method2 import rand_norm_splits, get_trend, GM_binarization\n",
    "from method2 import set_initial_conditions, sampling, get_consensus_modules\n",
    "from method2 import genesets2biclusters,  write_bic_table"
   ]
  },
  {
   "cell_type": "code",
   "execution_count": 3,
   "metadata": {
    "scrolled": true
   },
   "outputs": [],
   "source": [
    "def run_DESMOND(exprs_file, out_dir = \"./\",basename = False,\n",
    "                min_n_samples = -1,\n",
    "                alpha=1.0 ,beta_K=1.0, snr_pval = 0.05,\n",
    "                max_n_steps= 200, n_steps_averaged = 20, n_steps_for_convergence = 5, n_points_fit=10,\n",
    "                plot_all=True, verbose = True, seed= 42):\n",
    "    \n",
    "    biclusters = {} # UP and DOWN\n",
    "    start_time = time.time()\n",
    "\n",
    "    if basename:\n",
    "        basename = basename\n",
    "    else: \n",
    "        [date_h,mins] = str(datetime.datetime.today()).split(\":\")[:2]\n",
    "        [date, hs] = date_h.split()\n",
    "        basename = \"results_\"+hs+\":\"+mins+\"_\"+date \n",
    "\n",
    "    suffix  = \".alpha=\"+str(alpha)+\",beta_K=\"+str(beta_K)\n",
    "    if verbose:\n",
    "        print(\"Will save output files to: %s*.\"% (out_dir + basename + suffix), file = sys.stdout)\n",
    "\n",
    "    # read inputs\n",
    "    exprs = pd.read_csv(exprs_file, sep=\"\\t\",index_col=0)\n",
    "\n",
    "    # define minimal number of patients in a module\n",
    "    if min_n_samples == -1:\n",
    "        min_n_samples = int(max(5,0.05*exprs.shape[1])) # set to max(10, 5% of the cohort) \n",
    "    if verbose:\n",
    "        print(\"Mininal number of samples in a module:\",min_n_samples ,file=sys.stdout)\n",
    "    \n",
    "    #### Computing min_SNR(size) ###\n",
    "    sizes,thresholds = rand_norm_splits(exprs.shape[1], snr_pval = snr_pval,seed=seed)\n",
    "    get_min_snr = get_trend(sizes,thresholds, plot = plot_all)\n",
    "    \n",
    "    ####1. Binarization ####\n",
    "    sele_genes = [\"SIDT1\",\"CLIC6\",\"BMPR1B\", \"FOXA1\",\"GATA3\",\"ESR1\",\"ERBB2\",\"GRB7\"]\n",
    "    binarized_expressions = GM_binarization(exprs,get_min_snr,min_n_samples,verbose = True, \n",
    "                                        plot=True, plot_SNR_thr= 3.0, show_fits = sele_genes,seed = seed)    \n",
    "    ### 2. Edge clustering ###\n",
    "    \n",
    "    # simplifying probability calculations\n",
    "    N = exprs.shape[1]\n",
    "    max_log_float = np.log(np.finfo(np.float64).max)\n",
    "    n_exp_orders = 7 # ~1000 times \n",
    "    p0 = N*np.log(0.5)+np.log(beta_K)\n",
    "    match_score = np.log((alpha*0.5+1)/(alpha))\n",
    "    mismatch_score = np.log((alpha*0.5+0)/alpha)\n",
    "    bK_1 = math.log(1+beta_K)\n",
    "    \n",
    "    i = 0\n",
    "    for direction in [\"UP\",\"DOWN\"]:\n",
    "        t1 = time.time()\n",
    "        exprs_bin = binarized_expressions[direction]\n",
    "        genes = exprs_bin.columns.values\n",
    "        # setting initial model state\n",
    "        print(\"Searching for %s-regulated biclusters ...\"%direction)\n",
    "        moduleSizes, gene2Samples, nOnesPerSampleInModules, gene2Module, moduleOneFreqs, LP  = set_initial_conditions(exprs_bin, alpha,beta_K,verbose = verbose)\n",
    "        K = len(moduleSizes)\n",
    "        N = gene2Samples.shape[1]\n",
    "        print(\"\\t\\tLP matrix memory usage: {:.2f}M\".format(LP.nbytes/(1024*1024)),file = sys.stdout)\n",
    "\n",
    "        # sampling\n",
    "        t0 = time.time()\n",
    "        gene2Module_history,n_final_steps,n_skipping_genes,P_diffs = sampling(LP,gene2Module, gene2Samples, nOnesPerSampleInModules,\n",
    "                                                                              moduleSizes,moduleOneFreqs, p0, match_score,mismatch_score,\n",
    "                                                                              bK_1, alpha, beta_K, max_n_steps=max_n_steps, tol = 0.1,\n",
    "                                                                              n_steps_averaged = n_steps_averaged, n_points_fit = n_points_fit, \n",
    "                                                                              n_steps_for_convergence = n_steps_for_convergence, verbose=True)\n",
    "\n",
    "        print(\"time:\\tSampling (%s steps) fininshed in %s s.\" %(len(gene2Module_history),round(time.time()-t0,2)), file = sys.stdout)\n",
    "        if plot_all:\n",
    "            from method2 import plot_convergence\n",
    "            plot_outfile = out_dir + basename +suffix+\",ns_max=\" + str(max_n_steps)+ \",ns_avg=\" + str(n_steps_averaged) + \",ns_c=\"+str(n_steps_for_convergence) + \".convergence.svg\"\n",
    "            plot_convergence(n_skipping_genes, P_diffs,len(gene2Module_history)-n_final_steps,\n",
    "                             n_steps_averaged, outfile=plot_outfile)\n",
    "\n",
    "        # take the last (n_points_fit+n_steps_for_convergence) steps modules:\n",
    "        # and get consensus edge-to-module membership\n",
    "        consensus, nOnesPerSampleInModules, moduleSizes, moduleOneFreqs = get_consensus_modules(gene2Module_history[-n_final_steps:], \n",
    "                                                                                                LP, gene2Samples, gene2Module,\n",
    "                                                                                                nOnesPerSampleInModules,moduleSizes, \n",
    "                                                                                                moduleOneFreqs, p0, \n",
    "                                                                                                match_score,mismatch_score,\n",
    "                                                                                                bK_1,alpha,beta_K,N,K)\n",
    "\n",
    "        print(\"\\tEmpty modules:\", len([x for x in moduleSizes if x == 0]),\n",
    "              \"\\n\\tNon-empty modules:\",len([x for x in moduleSizes if x > 0]),file = sys.stdout)\n",
    "        #### 3. Define biclusters and merge modules  ####\n",
    "        exprs_np = exprs.loc[genes,:]\n",
    "        ints2g_names = exprs_np.index.values\n",
    "        ints2s_names = exprs_np.columns.values\n",
    "        exprs_np = exprs_np.values\n",
    "        exprs_sums = exprs_np.sum(axis=1)\n",
    "        exprs_sq_sums = np.square(exprs_np).sum(axis=1)\n",
    "        N = exprs.shape[1]\n",
    "        exprs_data = N, exprs_sums, exprs_sq_sums\n",
    "        # Identify optimal patient sets for each module: split patients into two sets in a subspace of each module\n",
    "        # Filter out bad biclusters with too few genes or samples, or with low SNR\n",
    "        filtered_bics = genesets2biclusters(exprs_np, exprs_data,moduleSizes,consensus,\n",
    "                                min_SNR = 0.5,direction=direction,min_n_samples=min_n_samples,\n",
    "                                verbose = verbose)\n",
    "        # print info on found biclusters\n",
    "        if verbose:\n",
    "            for bic in filtered_bics:\n",
    "                bic[\"id\"] = i\n",
    "                i+=1\n",
    "                bic[\"genes\"] = sorted([ints2g_names[x] for x in bic[\"genes\"]])\n",
    "                bic[\"samples\"] = sorted([ints2s_names[x] for x in bic[\"samples\"]])\n",
    "                if len(bic[\"genes\"])>2:\n",
    "                    print(\"\\t\".join(map(str,[str(bic[\"n_genes\"])+\"x\"+str(bic[\"n_samples\"]),\n",
    "                                             round(bic[\"avgSNR\"],3),\" \".join(bic[\"genes\"])])),file = sys.stdout)\n",
    "                        \n",
    "        # save results \n",
    "        result_file_name = out_dir+basename+suffix+\",direction=\"+direction\n",
    "        write_bic_table(filtered_bics,result_file_name+\".biclusters.tsv\")\n",
    "        if verbose:\n",
    "            print(\"Runtime for %s-regulated biclusters: %s\"%(direction, round(time.time()-t1,2)),file = sys.stdout)\n",
    "        biclusters[direction] = filtered_bics\n",
    "    \n",
    "    biclusters = biclusters[\"UP\"] + biclusters[\"DOWN\"]\n",
    "    result_file_name = out_dir+basename+suffix\n",
    "    write_bic_table(biclusters,result_file_name+\".biclusters.tsv\")\n",
    "    if verbose:\n",
    "        print(\"Total runtime:\",round(time.time()-start_time,2),file = sys.stdout)\n",
    "        \n",
    "    return biclusters\n",
    "\n",
    "\n",
    "max_n_steps= 200\n",
    "n_steps_averaged = 20\n",
    "n_steps_for_convergence = 5\n",
    "min_pletau_steps = 20\n",
    "n_points_fit=10\n",
    "seed = 42\n",
    "\n",
    "#snr_pval = 0.05\n",
    "snr_pval = 0.01\n",
    "\n",
    "out_dir = \"tmp_results/\""
   ]
  },
  {
   "cell_type": "code",
   "execution_count": null,
   "metadata": {
    "scrolled": true
   },
   "outputs": [
    {
     "name": "stdout",
     "output_type": "stream",
     "text": [
      "Will save output files to: tmp_results/METABRIC_13K_pv0.005.alpha=1.0,beta_K=1.0*.\n",
      "Mininal number of samples in a module: 95\n",
      "total samples: 1904, min_n_samples: 95, n_permutations: 1000\n"
     ]
    },
    {
     "data": {
      "image/png": "[encoded data removed]",
      "text/plain": [
       "<Figure size 432x288 with 1 Axes>"
      ]
     },
     "metadata": {
      "needs_background": "light"
     },
     "output_type": "display_data"
    },
    {
     "name": "stdout",
     "output_type": "stream",
     "text": [
      "\t\tgenes processed: 0\n",
      "Gene SIDT1: SNR=1.37, pos=0, neg=0\n"
     ]
    },
    {
     "data": {
      "image/png": "[encoded data removed]",
      "text/plain": [
       "<Figure size 432x288 with 1 Axes>"
      ]
     },
     "metadata": {
      "needs_background": "light"
     },
     "output_type": "display_data"
    },
    {
     "name": "stdout",
     "output_type": "stream",
     "text": [
      "Gene CLIC6: SNR=-1.95, pos=762, neg=0\n"
     ]
    },
    {
     "data": {
      "image/png": "[encoded data removed]",
      "text/plain": [
       "<Figure size 432x288 with 1 Axes>"
      ]
     },
     "metadata": {
      "needs_background": "light"
     },
     "output_type": "display_data"
    },
    {
     "name": "stdout",
     "output_type": "stream",
     "text": [
      "\t\tgenes processed: 1000\n",
      "\t\tgenes processed: 2000\n",
      "Gene HLA-A: SNR=3.75, pos=0, neg=464\n"
     ]
    },
    {
     "data": {
      "image/png": "[encoded data removed]",
      "text/plain": [
       "<Figure size 432x288 with 1 Axes>"
      ]
     },
     "metadata": {
      "needs_background": "light"
     },
     "output_type": "display_data"
    },
    {
     "name": "stdout",
     "output_type": "stream",
     "text": [
      "\t\tgenes processed: 3000\n",
      "Gene GRB7: SNR=-2.14, pos=254, neg=0\n"
     ]
    },
    {
     "data": {
      "image/png": "[encoded data removed]",
      "text/plain": [
       "<Figure size 432x288 with 1 Axes>"
      ]
     },
     "metadata": {
      "needs_background": "light"
     },
     "output_type": "display_data"
    },
    {
     "name": "stdout",
     "output_type": "stream",
     "text": [
      "\t\tgenes processed: 4000\n",
      "\t\tgenes processed: 5000\n",
      "Gene ESR1: SNR=2.64, pos=0, neg=443\n"
     ]
    },
    {
     "data": {
      "image/png": "[encoded data removed]",
      "text/plain": [
       "<Figure size 432x288 with 1 Axes>"
      ]
     },
     "metadata": {
      "needs_background": "light"
     },
     "output_type": "display_data"
    },
    {
     "name": "stdout",
     "output_type": "stream",
     "text": [
      "\t\tgenes processed: 6000\n",
      "\t\tgenes processed: 7000\n",
      "\t\tgenes processed: 8000\n",
      "Gene ERBB2: SNR=2.48, pos=217, neg=0\n"
     ]
    },
    {
     "data": {
      "image/png": "[encoded data removed]",
      "text/plain": [
       "<Figure size 432x288 with 1 Axes>"
      ]
     },
     "metadata": {
      "needs_background": "light"
     },
     "output_type": "display_data"
    },
    {
     "name": "stdout",
     "output_type": "stream",
     "text": [
      "Gene GSTT1: SNR=-3.42, pos=0, neg=355\n"
     ]
    },
    {
     "data": {
      "image/png": "[encoded data removed]",
      "text/plain": [
       "<Figure size 432x288 with 1 Axes>"
      ]
     },
     "metadata": {
      "needs_background": "light"
     },
     "output_type": "display_data"
    },
    {
     "name": "stdout",
     "output_type": "stream",
     "text": [
      "Gene GATA3: SNR=1.9, pos=0, neg=438\n"
     ]
    },
    {
     "data": {
      "image/png": "[encoded data removed]",
      "text/plain": [
       "<Figure size 432x288 with 1 Axes>"
      ]
     },
     "metadata": {
      "needs_background": "light"
     },
     "output_type": "display_data"
    },
    {
     "name": "stdout",
     "output_type": "stream",
     "text": [
      "\t\tgenes processed: 9000\n",
      "Gene FOXA1: SNR=2.83, pos=0, neg=254\n"
     ]
    },
    {
     "data": {
      "image/png": "[encoded data removed]",
      "text/plain": [
       "<Figure size 432x288 with 1 Axes>"
      ]
     },
     "metadata": {
      "needs_background": "light"
     },
     "output_type": "display_data"
    },
    {
     "name": "stdout",
     "output_type": "stream",
     "text": [
      "\t\tgenes processed: 10000\n",
      "\t\tgenes processed: 11000\n",
      "Gene BMPR1B: SNR=2.07, pos=887, neg=1017\n"
     ]
    },
    {
     "data": {
      "image/png": "[encoded data removed]",
      "text/plain": [
       "<Figure size 432x288 with 1 Axes>"
      ]
     },
     "metadata": {
      "needs_background": "light"
     },
     "output_type": "display_data"
    },
    {
     "name": "stdout",
     "output_type": "stream",
     "text": [
      "\t\tgenes processed: 12000\n"
     ]
    }
   ],
   "source": [
    "exprs_file = \"../../../SFU/Breast_cancer/Expression/Harmonized_final/METABRIC_micro_nolog2.z.13K_common.tsv\"\n",
    "basename= \"METABRIC_13K_pv0.005\"\n",
    "bics3 = run_DESMOND(exprs_file, out_dir = out_dir,basename = basename,\n",
    "                min_n_samples = -1, plot_all=True, verbose = True, seed= seed, snr_pval=0.005)"
   ]
  },
  {
   "cell_type": "code",
   "execution_count": null,
   "metadata": {},
   "outputs": [],
   "source": []
  }
 ],
 "metadata": {
  "kernelspec": {
   "display_name": "Python [conda env:root] *",
   "language": "python",
   "name": "conda-root-py"
  },
  "language_info": {
   "codemirror_mode": {
    "name": "ipython",
    "version": 3
   },
   "file_extension": ".py",
   "mimetype": "text/x-python",
   "name": "python",
   "nbconvert_exporter": "python",
   "pygments_lexer": "ipython3",
   "version": "3.8.3"
  }
 },
 "nbformat": 4,
 "nbformat_minor": 2
}
