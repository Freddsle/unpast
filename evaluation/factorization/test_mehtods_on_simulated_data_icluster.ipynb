{
 "cells": [
  {
   "cell_type": "markdown",
   "id": "a2b056df",
   "metadata": {},
   "source": [
    "### iCluster needs a separate environment due to dependency issues"
   ]
  },
  {
   "cell_type": "code",
   "execution_count": 1,
   "id": "f0e62948",
   "metadata": {},
   "outputs": [
    {
     "name": "stdout",
     "output_type": "stream",
     "text": [
      "Running /home/hartung/data/simulated/results/iClusterPlus/A/5/random_state=0/n_cluster=4/type=gaussian/n_burnin=200/n_draw=200/lambda_n=null/maxiter=20/sdev=0.05/eps=0.0001/lambda_scale=1...\n"
     ]
    },
    {
     "name": "stderr",
     "output_type": "stream",
     "text": [
      "/bin/sh: /usr/bin/Rscript: No such file or directory\n"
     ]
    },
    {
     "name": "stdout",
     "output_type": "stream",
     "text": [
      "Running /home/hartung/data/simulated/results/iClusterPlus/A/5/random_state=1/n_cluster=6/type=gaussian/n_burnin=200/n_draw=200/lambda_n=null/maxiter=20/sdev=0.05/eps=0.0001/lambda_scale=1...\n"
     ]
    },
    {
     "name": "stderr",
     "output_type": "stream",
     "text": [
      "/bin/sh: /usr/bin/Rscript: No such file or directory\n"
     ]
    },
    {
     "name": "stdout",
     "output_type": "stream",
     "text": [
      "Running /home/hartung/data/simulated/results/iClusterPlus/A/5/random_state=2/n_cluster=8/type=gaussian/n_burnin=200/n_draw=200/lambda_n=null/maxiter=20/sdev=0.05/eps=0.0001/lambda_scale=1...\n"
     ]
    },
    {
     "name": "stderr",
     "output_type": "stream",
     "text": [
      "/bin/sh: /usr/bin/Rscript: No such file or directory\n"
     ]
    },
    {
     "name": "stdout",
     "output_type": "stream",
     "text": [
      "Running /home/hartung/data/simulated/results/iClusterPlus/A/5/random_state=3/n_cluster=10/type=gaussian/n_burnin=200/n_draw=200/lambda_n=null/maxiter=20/sdev=0.05/eps=0.0001/lambda_scale=1...\n"
     ]
    },
    {
     "name": "stderr",
     "output_type": "stream",
     "text": [
      "/bin/sh: /usr/bin/Rscript: No such file or directory\n"
     ]
    },
    {
     "ename": "FileNotFoundError",
     "evalue": "[Errno 2] No such file or directory: '/home/hartung/data/simulated/results/iClusterPlus/A/5/random_state=0/n_cluster=4/type=gaussian/n_burnin=200/n_draw=200/lambda_n=null/maxiter=20/sdev=0.05/eps=0.0001/lambda_scale=1/iclusterplus_result.csv'",
     "output_type": "error",
     "traceback": [
      "\u001b[0;31m---------------------------------------------------------------------------\u001b[0m",
      "\u001b[0;31mRemoteTraceback\u001b[0m                           Traceback (most recent call last)",
      "\u001b[0;31mRemoteTraceback\u001b[0m: \n\"\"\"\nTraceback (most recent call last):\n  File \"/home/hartung/anaconda3/envs/encore2/lib/python3.8/multiprocessing/pool.py\", line 125, in worker\n    result = (True, func(*args, **kwds))\n  File \"/home/hartung/anaconda3/envs/encore2/lib/python3.8/multiprocessing/pool.py\", line 48, in mapstar\n    return list(map(*args))\n  File \"/home/hartung/Projects/encore/DESMOND2/evaluation/factorization/methods/iClusterPlus.py\", line 82, in run_simulated\n    result, runtime = run_method(execute_algorithm, args)\n  File \"/home/hartung/Projects/encore/DESMOND2/evaluation/factorization/methods/utils/miscellaneous.py\", line 7, in run_method\n    result, runtime = method(**args)\n  File \"/home/hartung/Projects/encore/DESMOND2/evaluation/factorization/methods/iClusterPlus.py\", line 75, in execute_algorithm\n    return format_output(output_path, n_cluster), read_runtime(output_path)\n  File \"/home/hartung/Projects/encore/DESMOND2/evaluation/factorization/methods/iClusterPlus.py\", line 52, in format_output\n    df_mocluster_cluster = pd.read_csv(os.path.join(output_path, 'iclusterplus_result.csv'))\n  File \"/home/hartung/anaconda3/envs/encore2/lib/python3.8/site-packages/pandas/util/_decorators.py\", line 311, in wrapper\n    return func(*args, **kwargs)\n  File \"/home/hartung/anaconda3/envs/encore2/lib/python3.8/site-packages/pandas/io/parsers/readers.py\", line 680, in read_csv\n    return _read(filepath_or_buffer, kwds)\n  File \"/home/hartung/anaconda3/envs/encore2/lib/python3.8/site-packages/pandas/io/parsers/readers.py\", line 575, in _read\n    parser = TextFileReader(filepath_or_buffer, **kwds)\n  File \"/home/hartung/anaconda3/envs/encore2/lib/python3.8/site-packages/pandas/io/parsers/readers.py\", line 933, in __init__\n    self._engine = self._make_engine(f, self.engine)\n  File \"/home/hartung/anaconda3/envs/encore2/lib/python3.8/site-packages/pandas/io/parsers/readers.py\", line 1217, in _make_engine\n    self.handles = get_handle(  # type: ignore[call-overload]\n  File \"/home/hartung/anaconda3/envs/encore2/lib/python3.8/site-packages/pandas/io/common.py\", line 789, in get_handle\n    handle = open(\nFileNotFoundError: [Errno 2] No such file or directory: '/home/hartung/data/simulated/results/iClusterPlus/A/5/random_state=0/n_cluster=4/type=gaussian/n_burnin=200/n_draw=200/lambda_n=null/maxiter=20/sdev=0.05/eps=0.0001/lambda_scale=1/iclusterplus_result.csv'\n\"\"\"",
      "\nThe above exception was the direct cause of the following exception:\n",
      "\u001b[0;31mFileNotFoundError\u001b[0m                         Traceback (most recent call last)",
      "Input \u001b[0;32mIn [1]\u001b[0m, in \u001b[0;36m<cell line: 27>\u001b[0;34m()\u001b[0m\n\u001b[1;32m     48\u001b[0m \u001b[38;5;66;03m#### run algorithm\u001b[39;00m\n\u001b[1;32m     49\u001b[0m \u001b[38;5;28;01mwith\u001b[39;00m mp\u001b[38;5;241m.\u001b[39mPool(\u001b[38;5;241m1\u001b[39m) \u001b[38;5;28;01mas\u001b[39;00m pool:\n\u001b[0;32m---> 50\u001b[0m     \u001b[43mpool\u001b[49m\u001b[38;5;241;43m.\u001b[39;49m\u001b[43mmap\u001b[49m\u001b[43m(\u001b[49m\u001b[43mMETHOD\u001b[49m\u001b[38;5;241;43m.\u001b[39;49m\u001b[43mrun_simulated\u001b[49m\u001b[43m,\u001b[49m\u001b[43m \u001b[49m\u001b[43mcombinations\u001b[49m\u001b[43m)\u001b[49m\n",
      "File \u001b[0;32m~/anaconda3/envs/encore2/lib/python3.8/multiprocessing/pool.py:364\u001b[0m, in \u001b[0;36mPool.map\u001b[0;34m(self, func, iterable, chunksize)\u001b[0m\n\u001b[1;32m    359\u001b[0m \u001b[38;5;28;01mdef\u001b[39;00m \u001b[38;5;21mmap\u001b[39m(\u001b[38;5;28mself\u001b[39m, func, iterable, chunksize\u001b[38;5;241m=\u001b[39m\u001b[38;5;28;01mNone\u001b[39;00m):\n\u001b[1;32m    360\u001b[0m     \u001b[38;5;124;03m'''\u001b[39;00m\n\u001b[1;32m    361\u001b[0m \u001b[38;5;124;03m    Apply `func` to each element in `iterable`, collecting the results\u001b[39;00m\n\u001b[1;32m    362\u001b[0m \u001b[38;5;124;03m    in a list that is returned.\u001b[39;00m\n\u001b[1;32m    363\u001b[0m \u001b[38;5;124;03m    '''\u001b[39;00m\n\u001b[0;32m--> 364\u001b[0m     \u001b[38;5;28;01mreturn\u001b[39;00m \u001b[38;5;28;43mself\u001b[39;49m\u001b[38;5;241;43m.\u001b[39;49m\u001b[43m_map_async\u001b[49m\u001b[43m(\u001b[49m\u001b[43mfunc\u001b[49m\u001b[43m,\u001b[49m\u001b[43m \u001b[49m\u001b[43miterable\u001b[49m\u001b[43m,\u001b[49m\u001b[43m \u001b[49m\u001b[43mmapstar\u001b[49m\u001b[43m,\u001b[49m\u001b[43m \u001b[49m\u001b[43mchunksize\u001b[49m\u001b[43m)\u001b[49m\u001b[38;5;241;43m.\u001b[39;49m\u001b[43mget\u001b[49m\u001b[43m(\u001b[49m\u001b[43m)\u001b[49m\n",
      "File \u001b[0;32m~/anaconda3/envs/encore2/lib/python3.8/multiprocessing/pool.py:771\u001b[0m, in \u001b[0;36mApplyResult.get\u001b[0;34m(self, timeout)\u001b[0m\n\u001b[1;32m    769\u001b[0m     \u001b[38;5;28;01mreturn\u001b[39;00m \u001b[38;5;28mself\u001b[39m\u001b[38;5;241m.\u001b[39m_value\n\u001b[1;32m    770\u001b[0m \u001b[38;5;28;01melse\u001b[39;00m:\n\u001b[0;32m--> 771\u001b[0m     \u001b[38;5;28;01mraise\u001b[39;00m \u001b[38;5;28mself\u001b[39m\u001b[38;5;241m.\u001b[39m_value\n",
      "\u001b[0;31mFileNotFoundError\u001b[0m: [Errno 2] No such file or directory: '/home/hartung/data/simulated/results/iClusterPlus/A/5/random_state=0/n_cluster=4/type=gaussian/n_burnin=200/n_draw=200/lambda_n=null/maxiter=20/sdev=0.05/eps=0.0001/lambda_scale=1/iclusterplus_result.csv'"
     ]
    }
   ],
   "source": [
    "import os\n",
    "os.environ[\"OMP_NUM_THREADS\"] = \"1\"\n",
    "\n",
    "import numpy as np\n",
    "import pandas as pd\n",
    "import sys,os\n",
    "import random\n",
    "import copy\n",
    "\n",
    "import matplotlib.pyplot as plt\n",
    "import seaborn as sns\n",
    "\n",
    "from utils.eval import find_best_matches, generate_exprs\n",
    "\n",
    "from methods import iClusterPlus\n",
    "\n",
    "from methods.utils import interpret_results, resultsHandler\n",
    "\n",
    "from pathlib import Path\n",
    "import multiprocessing as mp\n",
    "\n",
    "\n",
    "# Settings for simulated data\n",
    "N_GENES_LIST = ['5', '50', '500']\n",
    "SCENARIOS = ['A', 'B', 'C']\n",
    "\n",
    "for METHOD in [iClusterPlus]:\n",
    "    for SCENARIO in SCENARIOS:\n",
    "        for N_GENES in N_GENES_LIST:\n",
    "\n",
    "            #### prep file paths\n",
    "            # data files\n",
    "            data_path = f'/home/hartung/data/simulated/{SCENARIO}'\n",
    "            FILE = f'{SCENARIO}.n_genes={N_GENES},m=4,std=1,overlap=yes.exprs_z.tsv'\n",
    "            file_path = os.path.join(data_path, FILE)\n",
    "            # output folder\n",
    "            output_path = os.path.join('/home/hartung/data/simulated/results', METHOD.__name__.split('.')[1], SCENARIO, N_GENES)\n",
    "            # ground truth file\n",
    "            ground_truth_file = os.path.join(data_path, f'{SCENARIO}.n_genes={N_GENES},m=4,std=1,overlap=yes.biclusters.tsv')\n",
    "\n",
    "            if SCENARIO == 'A':\n",
    "                file_path = file_path.replace('overlap=yes', 'overlap=no')\n",
    "                ground_truth_file= ground_truth_file.replace('overlap=yes', 'overlap=no')\n",
    "            \n",
    "            #### prep params\n",
    "            combinations = METHOD.generate_arg_list(file_path, output_path, ground_truth_file)\n",
    "            \n",
    "            #### run algorithm\n",
    "            with mp.Pool(1) as pool:\n",
    "                pool.map(METHOD.run_simulated, combinations)\n",
    "\n"
   ]
  },
  {
   "cell_type": "code",
   "execution_count": null,
   "id": "c8f8444b",
   "metadata": {},
   "outputs": [],
   "source": []
  },
  {
   "cell_type": "code",
   "execution_count": null,
   "id": "86d2d1a7",
   "metadata": {},
   "outputs": [],
   "source": []
  },
  {
   "cell_type": "code",
   "execution_count": null,
   "id": "7bf95757",
   "metadata": {},
   "outputs": [],
   "source": []
  },
  {
   "cell_type": "code",
   "execution_count": null,
   "id": "12dbe3ab",
   "metadata": {},
   "outputs": [],
   "source": [
    "for METHOD in [NMF, sparse_PCA]:  # MOFA2\n",
    "    for SCENARIO in SCENCARIOS:\n",
    "        for N_GENES in N_GENES_LIST:\n",
    "            \n",
    "            combinations = METHOD.generate_arg_list(file_path, output_path, ground_truth_file)\n",
    "            \n",
    "            scores = []\n",
    "            for comb in combinations:\n",
    "                try:\n",
    "                    score, runtime = resultsHandler.evaluate_simulated(**comb)\n",
    "                    scores.append(score)\n",
    "                except:\n",
    "                    continue\n",
    "            max(scores)"
   ]
  },
  {
   "cell_type": "code",
   "execution_count": null,
   "id": "d9ab42b6",
   "metadata": {},
   "outputs": [],
   "source": [
    "scores = []\n",
    "for comb in combinations:\n",
    "    score, runtime = resultsHandler.evaluate_simulated(**comb)\n",
    "    scores.append(score)\n",
    "max(scores)"
   ]
  },
  {
   "cell_type": "code",
   "execution_count": null,
   "id": "f54914eb",
   "metadata": {},
   "outputs": [],
   "source": []
  },
  {
   "cell_type": "code",
   "execution_count": null,
   "id": "b7d78bf8",
   "metadata": {},
   "outputs": [],
   "source": []
  },
  {
   "cell_type": "code",
   "execution_count": null,
   "id": "4e41695c",
   "metadata": {},
   "outputs": [],
   "source": []
  }
 ],
 "metadata": {
  "kernelspec": {
   "display_name": "encore2",
   "language": "python",
   "name": "encore2"
  },
  "language_info": {
   "codemirror_mode": {
    "name": "ipython",
    "version": 3
   },
   "file_extension": ".py",
   "mimetype": "text/x-python",
   "name": "python",
   "nbconvert_exporter": "python",
   "pygments_lexer": "ipython3",
   "version": "3.8.13"
  }
 },
 "nbformat": 4,
 "nbformat_minor": 5
}
