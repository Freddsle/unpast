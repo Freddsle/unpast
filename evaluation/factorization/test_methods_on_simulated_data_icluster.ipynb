{
 "cells": [
  {
   "cell_type": "markdown",
   "id": "3b772af2",
   "metadata": {},
   "source": [
    "### iCluster needs a separate environment due to dependency issues"
   ]
  },
  {
   "cell_type": "code",
   "execution_count": null,
   "id": "f0e62948",
   "metadata": {},
   "outputs": [],
   "source": [
    "import os\n",
    "os.environ[\"OMP_NUM_THREADS\"] = \"1\"\n",
    "\n",
    "import numpy as np\n",
    "import pandas as pd\n",
    "import sys,os\n",
    "import random\n",
    "import copy\n",
    "\n",
    "from utils.eval import find_best_matches, generate_exprs\n",
    "\n",
    "from methods import iClusterPlus\n",
    "\n",
    "from methods.utils import interpret_results, resultsHandler\n",
    "\n",
    "from pathlib import Path\n",
    "import multiprocessing as mp\n",
    "\n",
    "\n",
    "# Settings for simulated data\n",
    "N_GENES_LIST = ['5', '50', '500']\n",
    "SCENARIOS = ['A', 'B', 'C']\n",
    "\n",
    "for METHOD in [iClusterPlus]:\n",
    "    for SCENARIO in SCENARIOS:\n",
    "        for N_GENES in N_GENES_LIST:\n",
    "\n",
    "            #### prep file paths\n",
    "            # data files\n",
    "            data_path = f'/local/DESMOND2_data_simulated/simulated/{SCENARIO}'\n",
    "            FILE = f'{SCENARIO}.n_genes={N_GENES},m=4,std=1,overlap=yes.exprs_z.tsv'\n",
    "            file_path = os.path.join(data_path, FILE)\n",
    "            # output folder\n",
    "            output_path = os.path.join('/home/bba1401/data/unpast_simluated', METHOD.__name__.split('.')[1], SCENARIO, N_GENES)\n",
    "            # ground truth file\n",
    "            ground_truth_file = os.path.join(data_path, f'{SCENARIO}.n_genes={N_GENES},m=4,std=1,overlap=yes.biclusters.tsv')\n",
    "\n",
    "            if SCENARIO == 'A':\n",
    "                file_path = file_path.replace('overlap=yes', 'overlap=no')\n",
    "                ground_truth_file= ground_truth_file.replace('overlap=yes', 'overlap=no')\n",
    "            \n",
    "            #### prep params\n",
    "            combinations = METHOD.generate_arg_list(file_path, output_path, ground_truth_file)\n",
    "            #### run algorithm\n",
    "            with mp.Pool(10) as pool:\n",
    "                pool.map(METHOD.run_simulated, combinations)\n",
    "\n"
   ]
  },
  {
   "cell_type": "code",
   "execution_count": null,
   "id": "b7d78bf8",
   "metadata": {},
   "outputs": [],
   "source": []
  },
  {
   "cell_type": "code",
   "execution_count": null,
   "id": "4e41695c",
   "metadata": {},
   "outputs": [],
   "source": []
  }
 ],
 "metadata": {
  "kernelspec": {
   "display_name": "encore",
   "language": "python",
   "name": "encore"
  },
  "language_info": {
   "codemirror_mode": {
    "name": "ipython",
    "version": 3
   },
   "file_extension": ".py",
   "mimetype": "text/x-python",
   "name": "python",
   "nbconvert_exporter": "python",
   "pygments_lexer": "ipython3",
   "version": "3.8.13"
  }
 },
 "nbformat": 4,
 "nbformat_minor": 5
}
