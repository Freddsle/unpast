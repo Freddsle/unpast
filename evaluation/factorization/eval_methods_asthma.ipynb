{
 "cells": [
  {
   "cell_type": "code",
   "execution_count": 1,
   "metadata": {},
   "outputs": [
    {
     "name": "stdout",
     "output_type": "stream",
     "text": [
      "method_name: iClusterPlus\n",
      "Returning existing results: /home/bba1401/data/unpast_real/asthma/iClusterPlus/GSE4302/1\n",
      "Returning existing results: /home/bba1401/data/unpast_real/asthma/iClusterPlus/GSE4302/2\n",
      "Returning existing results: /home/bba1401/data/unpast_real/asthma/iClusterPlus/GSE4302/3\n",
      "Returning existing results: /home/bba1401/data/unpast_real/asthma/iClusterPlus/GSE4302/4\n",
      "Returning existing results: /home/bba1401/data/unpast_real/asthma/iClusterPlus/GSE4302/5\n"
     ]
    }
   ],
   "source": [
    "import os\n",
    "os.environ[\"OMP_NUM_THREADS\"] = \"1\"\n",
    "import best_parameters\n",
    "\n",
    "import pandas as pd\n",
    "\n",
    "from methods import MOFA2, NMF, PCA, sparse_PCA, moCluster, iClusterPlus\n",
    "\n",
    "\n",
    "from pathlib import Path\n",
    "import multiprocessing as mp\n",
    "\n",
    "import numpy as np\n",
    "import pandas as pd\n",
    "import sys,os\n",
    "\n",
    "\n",
    "p = '/local/DESMOND2_data/asthma/asthma_GSE4302.RMA.maxRowVariance.log2exprs.tsv'\n",
    "exprs = pd.read_csv(p, sep='\\t', index_col=0)\n",
    "\n",
    "\n",
    "METHODS = [iClusterPlus] # [NMF, sparse_PCA, moCluster, MOFA2]\n",
    "for METHOD in METHODS:\n",
    "    method_name = METHOD.__name__.split('.')[-1]\n",
    "    \n",
    "    print('method_name:', method_name)\n",
    "    \n",
    "    if method_name == 'moCluster':\n",
    "        out_dir = os.path.join('/home/bba1401/data/unpast_real/asthma', method_name, 'GSE4302')\n",
    "\n",
    "        comb = best_parameters.mocluster\n",
    "        comb['exprs_file'] = p\n",
    "        comb['output_path'] = out_dir\n",
    "        result_m, runtime_m = METHOD.run_real(comb)\n",
    "    else:\n",
    "        for seed in range(1, 6):\n",
    "            out_dir = os.path.join('/home/bba1401/data/unpast_real/asthma', method_name, 'GSE4302', str(seed))\n",
    "\n",
    "            comb = best_parameters.iclusterplus\n",
    "            comb['exprs_file'] = p\n",
    "            comb['output_path'] = out_dir\n",
    "            comb['random_state'] = seed\n",
    "            result_m, runtime_m = METHOD.run_real(comb)\n",
    "    \n",
    "\n",
    "\n",
    "\n"
   ]
  },
  {
   "cell_type": "code",
   "execution_count": 2,
   "metadata": {},
   "outputs": [
    {
     "name": "stdout",
     "output_type": "stream",
     "text": [
      "method_name: iClusterPlus\n",
      "Returning existing results: /home/bba1401/data/unpast_real/asthma/iClusterPlus/GSE76226/1\n",
      "Returning existing results: /home/bba1401/data/unpast_real/asthma/iClusterPlus/GSE76226/2\n",
      "Returning existing results: /home/bba1401/data/unpast_real/asthma/iClusterPlus/GSE76226/3\n",
      "Returning existing results: /home/bba1401/data/unpast_real/asthma/iClusterPlus/GSE76226/4\n",
      "Returning existing results: /home/bba1401/data/unpast_real/asthma/iClusterPlus/GSE76226/5\n"
     ]
    }
   ],
   "source": [
    "\n",
    "\n",
    "p = '/local/DESMOND2_data/asthma/asthma_GSE76226.RMA.maxRowVariance.log2exprs.tsv'\n",
    "exprs = pd.read_csv(p, sep='\\t', index_col=0)\n",
    "\n",
    "\n",
    "METHODS = [iClusterPlus] # [NMF, sparse_PCA, moCluster, MOFA2]\n",
    "for METHOD in METHODS:\n",
    "    method_name = METHOD.__name__.split('.')[-1]\n",
    "    \n",
    "    print('method_name:', method_name)\n",
    "    \n",
    "    if method_name == 'moCluster':\n",
    "        out_dir = os.path.join('/home/bba1401/data/unpast_real/asthma', method_name, 'GSE76226')\n",
    "\n",
    "        comb = best_parameters.mocluster\n",
    "        comb['exprs_file'] = p\n",
    "        comb['output_path'] = out_dir\n",
    "        result_m, runtime_m = METHOD.run_real(comb)\n",
    "    else:\n",
    "        for seed in range(1, 6):\n",
    "            out_dir = os.path.join('/home/bba1401/data/unpast_real/asthma', method_name, 'GSE76226', str(seed))\n",
    "\n",
    "            comb = best_parameters.iclusterplus\n",
    "            comb['exprs_file'] = p\n",
    "            comb['output_path'] = out_dir\n",
    "            comb['random_state'] = seed\n",
    "            result_m, runtime_m = METHOD.run_real(comb)\n",
    "    \n"
   ]
  },
  {
   "cell_type": "code",
   "execution_count": 3,
   "metadata": {},
   "outputs": [
    {
     "name": "stdout",
     "output_type": "stream",
     "text": [
      "method_name: iClusterPlus\n",
      "Returning existing results: /home/bba1401/data/unpast_real/asthma/iClusterPlus/GSE89809/1\n",
      "Returning existing results: /home/bba1401/data/unpast_real/asthma/iClusterPlus/GSE89809/2\n",
      "Returning existing results: /home/bba1401/data/unpast_real/asthma/iClusterPlus/GSE89809/3\n",
      "Returning existing results: /home/bba1401/data/unpast_real/asthma/iClusterPlus/GSE89809/4\n",
      "Returning existing results: /home/bba1401/data/unpast_real/asthma/iClusterPlus/GSE89809/5\n"
     ]
    }
   ],
   "source": [
    "\n",
    "\n",
    "p = '/local/DESMOND2_data/asthma/asthma_GSE89809_epithelial.RMA.maxRowVariance.log2exprs.tsv'\n",
    "exprs = pd.read_csv(p, sep='\\t', index_col=0)\n",
    "\n",
    "\n",
    "METHODS = [iClusterPlus] # [NMF, sparse_PCA, moCluster, MOFA2]\n",
    "for METHOD in METHODS:\n",
    "    method_name = METHOD.__name__.split('.')[-1]\n",
    "    \n",
    "    print('method_name:', method_name)\n",
    "    \n",
    "    if method_name == 'moCluster':\n",
    "        out_dir = os.path.join('/home/bba1401/data/unpast_real/asthma', method_name, 'GSE89809')\n",
    "\n",
    "        comb = best_parameters.mocluster\n",
    "        comb['exprs_file'] = p\n",
    "        comb['output_path'] = out_dir\n",
    "        result_m, runtime_m = METHOD.run_real(comb)\n",
    "    else:\n",
    "        for seed in range(1, 6):\n",
    "            out_dir = os.path.join('/home/bba1401/data/unpast_real/asthma', method_name, 'GSE89809', str(seed))\n",
    "\n",
    "            comb = best_parameters.iclusterplus\n",
    "            comb['exprs_file'] = p\n",
    "            comb['output_path'] = out_dir\n",
    "            comb['random_state'] = seed\n",
    "            result_m, runtime_m = METHOD.run_real(comb)\n",
    "    \n"
   ]
  },
  {
   "cell_type": "code",
   "execution_count": null,
   "metadata": {},
   "outputs": [],
   "source": []
  }
 ],
 "metadata": {
  "kernelspec": {
   "display_name": "encore2",
   "language": "python",
   "name": "encore2"
  },
  "orig_nbformat": 4
 },
 "nbformat": 4,
 "nbformat_minor": 2
}
