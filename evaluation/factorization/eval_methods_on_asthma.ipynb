{
 "cells": [
  {
   "cell_type": "code",
   "execution_count": 4,
   "id": "24f69917",
   "metadata": {
    "scrolled": true
   },
   "outputs": [
    {
     "name": "stdout",
     "output_type": "stream",
     "text": [
      "method_name: sparse_PCA\n",
      "Running /home/bba1401/llaima_data/data/unpast_real/asthma/sparse_PCA/GSE4302/1...\n",
      "Saved /home/bba1401/llaima_data/data/unpast_real/asthma/sparse_PCA/GSE4302/1.\n",
      "Running /home/bba1401/llaima_data/data/unpast_real/asthma/sparse_PCA/GSE4302/2...\n",
      "Saved /home/bba1401/llaima_data/data/unpast_real/asthma/sparse_PCA/GSE4302/2.\n",
      "Running /home/bba1401/llaima_data/data/unpast_real/asthma/sparse_PCA/GSE4302/3...\n",
      "Saved /home/bba1401/llaima_data/data/unpast_real/asthma/sparse_PCA/GSE4302/3.\n",
      "Running /home/bba1401/llaima_data/data/unpast_real/asthma/sparse_PCA/GSE4302/4...\n",
      "Saved /home/bba1401/llaima_data/data/unpast_real/asthma/sparse_PCA/GSE4302/4.\n",
      "Running /home/bba1401/llaima_data/data/unpast_real/asthma/sparse_PCA/GSE4302/5...\n",
      "Saved /home/bba1401/llaima_data/data/unpast_real/asthma/sparse_PCA/GSE4302/5.\n"
     ]
    }
   ],
   "source": [
    "import os\n",
    "os.environ[\"OMP_NUM_THREADS\"] = \"1\"\n",
    "import best_parameters\n",
    "\n",
    "import pandas as pd\n",
    "\n",
    "from methods import MOFA2, NMF, PCA, sparse_PCA, moCluster\n",
    "\n",
    "\n",
    "from pathlib import Path\n",
    "import multiprocessing as mp\n",
    "\n",
    "import numpy as np\n",
    "import pandas as pd\n",
    "import sys,os\n",
    "\n",
    "\n",
    "gene_sets_are_defined = ['NMF', 'sparse_PCA', ]\n",
    "\n",
    "p = '/home/bba1401/llaima_data/asthma/asthma_GSE4302.RMA.maxRowVariance.log2exprs.tsv'\n",
    "exprs = pd.read_csv(p, sep='\\t', index_col=0)\n",
    "\n",
    "\n",
    "METHODS = [sparse_PCA] # [NMF, sparse_PCA, moCluster, MOFA2]\n",
    "for METHOD in METHODS:\n",
    "    method_name = METHOD.__name__.split('.')[-1]\n",
    "    \n",
    "    print('method_name:', method_name)\n",
    "    \n",
    "    if method_name == 'moCluster':\n",
    "        out_dir = os.path.join('/home/bba1401/llaima_data/data/unpast_real/asthma', method_name, 'GSE4302')\n",
    "\n",
    "        comb = best_parameters.mocluster\n",
    "        comb['exprs_file'] = p\n",
    "        comb['output_path'] = out_dir\n",
    "        result_m, runtime_m = METHOD.run_real(comb)\n",
    "    else:\n",
    "        for seed in range(1, 6):\n",
    "            out_dir = os.path.join('/home/bba1401/llaima_data/data/unpast_real/asthma', method_name, 'GSE4302', str(seed))\n",
    "\n",
    "            comb = best_parameters.sparse_pca\n",
    "            comb['exprs_file'] = p\n",
    "            comb['output_path'] = out_dir\n",
    "            comb['random_state'] = seed\n",
    "            result_m, runtime_m = METHOD.run_real(comb)\n",
    "    \n",
    "\n",
    "\n",
    "\n"
   ]
  },
  {
   "cell_type": "code",
   "execution_count": 2,
   "id": "f7c9a1b7",
   "metadata": {},
   "outputs": [
    {
     "data": {
      "text/plain": [
       "{'exprs_file': '/home/bba1401/llaima_data/asthma/asthma_GSE4302.RMA.maxRowVariance.log2exprs.tsv',\n",
       " 'output_path': '/home/bba1401/llaima_data/data/unpast_real/asthma/sparse_PCA/GSE4302/1',\n",
       " 'ground_truth_file': '',\n",
       " 'n_factors': 19,\n",
       " 'n_cluster': 1,\n",
       " 'random_state': 1,\n",
       " 'likelihoods': 'gaussian',\n",
       " 'spikeslab_factors': False,\n",
       " 'spikeslab_weights': True,\n",
       " 'ard_factors': False,\n",
       " 'ard_weights': True,\n",
       " 'likelihood': 'gaussian',\n",
       " 'exprs': sample_id  A1BG-AS1      A1CF       A2M   A2M-AS1     A2ML1    A4GALT  \\\n",
       " GSM98141   7.612184  4.682592  9.225908  6.231211  4.956659  7.302991   \n",
       " GSM98142   7.630648  4.623521  6.781881  6.018268  5.041325  7.655835   \n",
       " GSM98143   7.745230  4.511636  6.690950  6.086028  4.786012  7.890694   \n",
       " GSM98144   7.767486  4.456646  7.507865  6.324442  4.851109  7.857825   \n",
       " GSM98145   7.780671  4.617625  6.762022  5.372831  5.145217  7.737292   \n",
       " ...             ...       ...       ...       ...       ...       ...   \n",
       " GSM98254   7.441556  4.703985  6.747587  5.686413  5.028460  7.651646   \n",
       " GSM98255   7.781975  4.648087  6.765865  5.793001  4.849258  7.811320   \n",
       " GSM98256   7.803822  4.848966  6.900185  5.694354  5.264472  7.979993   \n",
       " GSM98257   7.727408  4.777701  7.279503  5.661540  5.180733  7.823724   \n",
       " GSM98258   7.863529  4.546692  6.290003  5.563559  5.028377  7.415775   \n",
       " \n",
       " sample_id     A4GNT      AAAS      AACS    AACSP1  ...      ZW10    ZWILCH  \\\n",
       " GSM98141   4.423585  6.113314  7.333992  6.324471  ...  5.729610  8.198767   \n",
       " GSM98142   4.414444  6.334549  7.487898  6.474921  ...  5.673413  8.422676   \n",
       " GSM98143   4.551870  6.296222  7.736392  6.040314  ...  5.236555  8.532615   \n",
       " GSM98144   4.582121  6.089191  7.402450  6.665129  ...  5.880152  8.473460   \n",
       " GSM98145   4.603651  6.723079  7.392563  6.081295  ...  6.231629  8.430683   \n",
       " ...             ...       ...       ...       ...  ...       ...       ...   \n",
       " GSM98254   4.545798  6.652233  7.582564  6.538284  ...  5.773040  8.437487   \n",
       " GSM98255   4.416924  6.454561  7.658780  6.324387  ...  5.613319  8.197040   \n",
       " GSM98256   4.644428  6.515964  7.575172  6.496206  ...  5.561619  8.203702   \n",
       " GSM98257   4.705112  6.589132  7.411759  6.504067  ...  6.011209  7.913868   \n",
       " GSM98258   4.650346  6.592846  7.024298  6.406052  ...  5.934085  8.017875   \n",
       " \n",
       " sample_id     ZWINT      ZXDA      ZXDB      ZXDC    ZYG11A    ZYG11B  \\\n",
       " GSM98141   7.831623  8.131308  6.278790  7.582233  6.820893  7.421690   \n",
       " GSM98142   8.368504  7.752219  6.223441  7.678215  6.643503  7.112968   \n",
       " GSM98143   7.772217  7.809081  6.202362  7.867099  6.622365  7.645301   \n",
       " GSM98144   7.583551  7.449097  6.264661  7.762186  6.182147  7.924583   \n",
       " GSM98145   7.603384  7.813459  6.330153  7.781399  6.586612  8.581993   \n",
       " ...             ...       ...       ...       ...       ...       ...   \n",
       " GSM98254   7.319458  7.830983  6.403283  7.979035  6.668388  8.396834   \n",
       " GSM98255   7.568847  7.473540  6.192367  7.665166  6.429029  8.229077   \n",
       " GSM98256   7.844661  7.444521  5.674594  7.957275  6.567642  8.866363   \n",
       " GSM98257   7.635968  8.140803  6.298065  7.856305  7.007445  8.886425   \n",
       " GSM98258   7.275142  7.999810  6.419362  7.789150  6.583409  8.994059   \n",
       " \n",
       " sample_id     ZZEF1      ZZZ3  \n",
       " GSM98141   7.636070  7.121718  \n",
       " GSM98142   7.679983  7.584776  \n",
       " GSM98143   7.898157  7.116855  \n",
       " GSM98144   8.067740  7.198493  \n",
       " GSM98145   8.176134  7.603522  \n",
       " ...             ...       ...  \n",
       " GSM98254   7.841082  7.188430  \n",
       " GSM98255   7.653444  7.489391  \n",
       " GSM98256   7.756362  7.400770  \n",
       " GSM98257   7.678975  8.166769  \n",
       " GSM98258   7.820585  7.758511  \n",
       " \n",
       " [118 rows x 18317 columns]}"
      ]
     },
     "execution_count": 2,
     "metadata": {},
     "output_type": "execute_result"
    }
   ],
   "source": [
    "comb"
   ]
  },
  {
   "cell_type": "code",
   "execution_count": null,
   "id": "33743043",
   "metadata": {},
   "outputs": [],
   "source": []
  },
  {
   "cell_type": "code",
   "execution_count": 5,
   "id": "68621462",
   "metadata": {},
   "outputs": [
    {
     "name": "stdout",
     "output_type": "stream",
     "text": [
      "Running /home/bba1401/llaima_data/data/unpast_real/asthma/sparse_PCA/GSE76226/1...\n",
      "Saved /home/bba1401/llaima_data/data/unpast_real/asthma/sparse_PCA/GSE76226/1.\n",
      "Running /home/bba1401/llaima_data/data/unpast_real/asthma/sparse_PCA/GSE76226/2...\n",
      "Saved /home/bba1401/llaima_data/data/unpast_real/asthma/sparse_PCA/GSE76226/2.\n",
      "Running /home/bba1401/llaima_data/data/unpast_real/asthma/sparse_PCA/GSE76226/3...\n",
      "Saved /home/bba1401/llaima_data/data/unpast_real/asthma/sparse_PCA/GSE76226/3.\n",
      "Running /home/bba1401/llaima_data/data/unpast_real/asthma/sparse_PCA/GSE76226/4...\n",
      "Saved /home/bba1401/llaima_data/data/unpast_real/asthma/sparse_PCA/GSE76226/4.\n",
      "Running /home/bba1401/llaima_data/data/unpast_real/asthma/sparse_PCA/GSE76226/5...\n",
      "Saved /home/bba1401/llaima_data/data/unpast_real/asthma/sparse_PCA/GSE76226/5.\n"
     ]
    }
   ],
   "source": [
    "\n",
    "p = '/home/bba1401/llaima_data/asthma/asthma_GSE76226.RMA.maxRowVariance.log2exprs.tsv'\n",
    "exprs = pd.read_csv(p, sep='\\t', index_col=0)\n",
    "\n",
    "\n",
    "METHODS = [sparse_PCA] # [NMF, sparse_PCA, moCluster, MOFA2]\n",
    "for METHOD in METHODS:\n",
    "    method_name = METHOD.__name__.split('.')[-1]\n",
    "    \n",
    "    if method_name == 'moCluster':\n",
    "        out_dir = os.path.join('/home/bba1401/llaima_data/data/unpast_real/asthma', method_name, 'GSE76226')\n",
    "\n",
    "        comb = best_parameters.mocluster\n",
    "        comb['exprs_file'] = p\n",
    "        comb['output_path'] = out_dir\n",
    "        result_m, runtime_m = METHOD.run_real(comb)\n",
    "    else:\n",
    "        for seed in range(1, 6):\n",
    "            out_dir = os.path.join('/home/bba1401/llaima_data/data/unpast_real/asthma', method_name, 'GSE76226', str(seed))\n",
    "\n",
    "            comb = best_parameters.sparse_pca\n",
    "            comb['exprs_file'] = p\n",
    "            comb['output_path'] = out_dir\n",
    "            comb['random_state'] = seed\n",
    "            result_m, runtime_m = METHOD.run_real(comb)\n",
    "    "
   ]
  },
  {
   "cell_type": "code",
   "execution_count": 6,
   "id": "d9baa588",
   "metadata": {},
   "outputs": [
    {
     "name": "stdout",
     "output_type": "stream",
     "text": [
      "Running /home/bba1401/llaima_data/data/unpast_real/asthma/sparse_PCA/GSE89809/1...\n",
      "Saved /home/bba1401/llaima_data/data/unpast_real/asthma/sparse_PCA/GSE89809/1.\n",
      "Running /home/bba1401/llaima_data/data/unpast_real/asthma/sparse_PCA/GSE89809/2...\n",
      "Saved /home/bba1401/llaima_data/data/unpast_real/asthma/sparse_PCA/GSE89809/2.\n",
      "Running /home/bba1401/llaima_data/data/unpast_real/asthma/sparse_PCA/GSE89809/3...\n",
      "Saved /home/bba1401/llaima_data/data/unpast_real/asthma/sparse_PCA/GSE89809/3.\n",
      "Running /home/bba1401/llaima_data/data/unpast_real/asthma/sparse_PCA/GSE89809/4...\n",
      "Saved /home/bba1401/llaima_data/data/unpast_real/asthma/sparse_PCA/GSE89809/4.\n",
      "Running /home/bba1401/llaima_data/data/unpast_real/asthma/sparse_PCA/GSE89809/5...\n",
      "Saved /home/bba1401/llaima_data/data/unpast_real/asthma/sparse_PCA/GSE89809/5.\n"
     ]
    }
   ],
   "source": [
    "\n",
    "p = '/home/bba1401/llaima_data/asthma/asthma_GSE89809_epithelial.RMA.maxRowVariance.log2exprs.tsv'\n",
    "exprs = pd.read_csv(p, sep='\\t', index_col=0)\n",
    "\n",
    "\n",
    "METHODS = [sparse_PCA] # [NMF, sparse_PCA, moCluster, MOFA2]\n",
    "for METHOD in METHODS:\n",
    "    method_name = METHOD.__name__.split('.')[-1]\n",
    "       \n",
    "    if method_name == 'moCluster':\n",
    "        out_dir = os.path.join('/home/bba1401/llaima_data/data/unpast_real/asthma', method_name, 'GSE89809')\n",
    "\n",
    "        comb = best_parameters.mocluster\n",
    "        comb['exprs_file'] = p\n",
    "        comb['output_path'] = out_dir\n",
    "        result_m, runtime_m = METHOD.run_real(comb)\n",
    "    else:\n",
    "        for seed in range(1, 6):\n",
    "            out_dir = os.path.join('/home/bba1401/llaima_data/data/unpast_real/asthma', method_name, 'GSE89809', str(seed))\n",
    "\n",
    "            comb = best_parameters.sparse_pca\n",
    "            comb['exprs_file'] = p\n",
    "            comb['output_path'] = out_dir\n",
    "            comb['random_state'] = seed\n",
    "            result_m, runtime_m = METHOD.run_real(comb)"
   ]
  },
  {
   "cell_type": "code",
   "execution_count": 13,
   "id": "7538f7b7",
   "metadata": {},
   "outputs": [],
   "source": []
  },
  {
   "cell_type": "code",
   "execution_count": null,
   "id": "34e8cd72",
   "metadata": {},
   "outputs": [],
   "source": []
  },
  {
   "cell_type": "code",
   "execution_count": null,
   "id": "4eb0bbdf",
   "metadata": {},
   "outputs": [],
   "source": []
  },
  {
   "cell_type": "code",
   "execution_count": null,
   "id": "da8d8396",
   "metadata": {},
   "outputs": [],
   "source": []
  },
  {
   "cell_type": "code",
   "execution_count": null,
   "id": "cd471c9e",
   "metadata": {},
   "outputs": [
    {
     "name": "stdout",
     "output_type": "stream",
     "text": [
      "Running /home/bba1401/llaima_data/data/unpast_real/METABRIC/NMF/k=None/init=random/tol=0.0001/random_state=1/alpha_W=0.0/alpha_H=0.2/shuffle=False/solver=cd/beta_loss=frobenius/max_iter=200...\n"
     ]
    }
   ],
   "source": [
    "METHOD.run_real(missing[1])"
   ]
  },
  {
   "cell_type": "code",
   "execution_count": null,
   "id": "fc62c3a3",
   "metadata": {},
   "outputs": [
    {
     "data": {
      "text/plain": [
       "30000"
      ]
     },
     "execution_count": 3,
     "metadata": {},
     "output_type": "execute_result"
    }
   ],
   "source": [
    "len(combinations_m)"
   ]
  },
  {
   "cell_type": "code",
   "execution_count": null,
   "id": "eb45eb8e",
   "metadata": {},
   "outputs": [],
   "source": []
  },
  {
   "cell_type": "code",
   "execution_count": null,
   "id": "1b791263",
   "metadata": {},
   "outputs": [],
   "source": []
  }
 ],
 "metadata": {
  "kernelspec": {
   "display_name": "unpast",
   "language": "python",
   "name": "python3"
  },
  "language_info": {
   "codemirror_mode": {
    "name": "ipython",
    "version": 3
   },
   "file_extension": ".py",
   "mimetype": "text/x-python",
   "name": "python",
   "nbconvert_exporter": "python",
   "pygments_lexer": "ipython3",
   "version": "3.8.16"
  }
 },
 "nbformat": 4,
 "nbformat_minor": 5
}
