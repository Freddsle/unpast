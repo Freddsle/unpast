{
 "cells": [
  {
   "cell_type": "code",
   "execution_count": 38,
   "metadata": {},
   "outputs": [],
   "source": [
    "# add genes to algoithms without genes\n",
    "\n",
    "import os\n",
    "import numpy as np\n",
    "import pandas as pd\n",
    "import sys,os\n",
    "import random\n",
    "import copy\n",
    "\n",
    "import subprocess\n",
    "\n",
    "import matplotlib.pyplot as plt\n",
    "import seaborn as sns\n",
    "\n",
    "from utils.eval import find_best_matches, generate_exprs\n",
    "\n",
    "from methods import NMF, PCA, sparse_PCA, moCluster, MOFA2, iClusterPlus\n",
    "\n",
    "gene_sets_are_defined = ['NMF', 'sparse_PCA']\n",
    "\n",
    "\n",
    "classifications={\"Intrinsic\":[\"Luminal\",\"Basal\",\"Her2\",\"Normal\",\"Claudin-low\"],\n",
    "                \"SCMOD2\":[\"ER-/HER2-\",\"ER+/HER2- Low Prolif\",\"ER+/HER2- High Prolif\",\"HER2+\"],\n",
    "                \"IHC\":[\"IHC_TNBC\",\"IHC_ER\",\"IHC_HER2\",\"IHC_PR\"]}\n",
    "\n",
    "file_metabric_annotation = '/local/DESMOND2_data/v6/preprocessed_v6/METABRIC_1904.annotation_v6.tsv'\n",
    "file_metabric_expression = '/local/DESMOND2_data/v6/preprocessed_v6/METABRIC_1904_17Kgenes.log2_exprs_z_v6.tsv'\n",
    "file_metabric_subtypes = '/local/DESMOND2_data/v6/preprocessed_v6/METABRIC_1904_17Kgenes.subtypes_and_signatures_v6.tsv'\n",
    "file_tcga_annotation = '/local/DESMOND2_data/v6/preprocessed_v6/TCGA-BRCA_1079.Xena_TCGA_PanCan.annotation_v6.tsv'\n",
    "file_tcga_expression = '/local/DESMOND2_data/v6/preprocessed_v6/TCGA-BRCA_1079_17Kgenes.Xena_TCGA_PanCan.log2_exprs_z_v6.tsv'\n",
    "file_tcga_subtypes = '/local/DESMOND2_data/v6/preprocessed_v6/TCGA-BRCA_1079_17Kgenes.Xena_TCGA_PanCan.subtypes_and_signatures_v6.tsv'\n",
    "file_gene_mapping = '/local/DESMOND2_data/v6/preprocessed_v6/gene_id_mapping.tsv'\n",
    "\n",
    "out_dir = '/cosybio/project/hartung/unpast/unpast_real'\n",
    "\n",
    "basename_t = \"TCGA\"\n",
    "basename_m = \"METABRIC\" \n",
    "result_m = None\n",
    "\n",
    "def add_genes(METHOD):\n",
    "    global result_m\n",
    "    \n",
    "    method_name = METHOD.__name__.split('.')[-1]\n",
    "    print('method_name:', method_name)\n",
    "\n",
    "    #### Preparation\n",
    "    # METABRIC\n",
    "    file_path_m = file_metabric_expression\n",
    "    output_path_m = os.path.join(out_dir, basename_m, method_name)\n",
    "    ground_truth_file_m = file_metabric_annotation\n",
    "    combinations_m = METHOD.generate_arg_list(file_path_m, output_path_m, ground_truth_file_m)\n",
    "    # TCGA\n",
    "    file_path_t = file_tcga_expression\n",
    "    output_path_t = os.path.join(out_dir, basename_t, method_name)\n",
    "    ground_truth_file_t = file_tcga_annotation\n",
    "    combinations_t = METHOD.generate_arg_list(file_path_t, output_path_t, ground_truth_file_t)\n",
    "    \n",
    "    for _iteration, (comb_m, comb_t) in enumerate(zip(combinations_m, combinations_t)):\n",
    "        \n",
    "        exprs_file = comb_m['exprs_file']\n",
    "        result_m, _ = METHOD.run_real(comb_m, is_terminated=True)\n",
    "        \n",
    "        # save result as tsv for add genes input\n",
    "        output_file = os.path.join(comb_m['output_path'], 'result.tsv')\n",
    "        \n",
    "        result_m['samples'] = result_m['samples'].map(list)\n",
    "        result_m.to_csv(output_file, sep='\\t', index=0)\n",
    "        \n",
    "        print('output_file', output_file)\n",
    "\n",
    "        process_m = subprocess.Popen([f\"Rscript\", \"/home/bba1401/Projects/unpast/DESMOND2/utils/add_genes.R\", output_file, file_metabric_expression, \"FALSE\"])\n",
    "        process_m.wait()\n",
    "        \n",
    "        \n",
    "        \n",
    "        result_t, _ = METHOD.run_real(comb_t, is_terminated=True)\n",
    "        \n",
    "        # save result as tsv for add genes input\n",
    "        output_file = os.path.join(comb_t['output_path'], 'result.tsv')\n",
    "        \n",
    "        result_t['samples'] = result_t['samples'].map(list)\n",
    "        \n",
    "        result_t.to_csv(output_file, sep='\\t', index=0)\n",
    "        print('output_file', output_file)\n",
    "\n",
    "        process_t = subprocess.Popen([f\"Rscript\", \"/home/bba1401/Projects/unpast/DESMOND2/utils/add_genes.R\", output_file, file_tcga_expression, \"TRUE\"])\n",
    "        process_t.wait()\n",
    "        "
   ]
  },
  {
   "cell_type": "code",
   "execution_count": 39,
   "metadata": {},
   "outputs": [
    {
     "name": "stdout",
     "output_type": "stream",
     "text": [
      "method_name: moCluster\n",
      "output_file /cosybio/project/hartung/unpast/unpast_real/METABRIC/moCluster/n_dimensions=1/n_cluster=2/random_state=1/solver=fast/center=True/method=globalScore/option=lambda1/scale=False/k=0.1/result.tsv\n",
      "Coefficients not estimable: bic \n"
     ]
    },
    {
     "name": "stderr",
     "output_type": "stream",
     "text": [
      "Error in contrasts.fit(fit, contrasts_matrix) : \n",
      "  trying to take contrast of non-estimable coefficient\n",
      "Calls: apply -> FUN -> find_DE_genes -> contrasts.fit\n",
      "In addition: Warning message:\n",
      "Partial NA coefficients for 17158 probe(s) \n",
      "Execution halted\n"
     ]
    },
    {
     "name": "stdout",
     "output_type": "stream",
     "text": [
      "output_file /cosybio/project/hartung/unpast/unpast_real/TCGA/moCluster/n_dimensions=1/n_cluster=2/random_state=1/solver=fast/center=True/method=globalScore/option=lambda1/scale=False/k=0.1/result.tsv\n"
     ]
    },
    {
     "name": "stderr",
     "output_type": "stream",
     "text": [
      "Error: Negative counts not allowed\n",
      "Execution halted\n"
     ]
    },
    {
     "name": "stdout",
     "output_type": "stream",
     "text": [
      "output_file /cosybio/project/hartung/unpast/unpast_real/METABRIC/moCluster/n_dimensions=1/n_cluster=2/random_state=1/solver=fast/center=True/method=globalScore/option=lambda1/scale=False/k=1/result.tsv\n",
      "Coefficients not estimable: bic \n"
     ]
    },
    {
     "name": "stderr",
     "output_type": "stream",
     "text": [
      "Error in contrasts.fit(fit, contrasts_matrix) : \n",
      "  trying to take contrast of non-estimable coefficient\n",
      "Calls: apply -> FUN -> find_DE_genes -> contrasts.fit\n",
      "In addition: Warning message:\n",
      "Partial NA coefficients for 17158 probe(s) \n",
      "Execution halted\n"
     ]
    },
    {
     "name": "stdout",
     "output_type": "stream",
     "text": [
      "output_file /cosybio/project/hartung/unpast/unpast_real/TCGA/moCluster/n_dimensions=1/n_cluster=2/random_state=1/solver=fast/center=True/method=globalScore/option=lambda1/scale=False/k=1/result.tsv\n"
     ]
    }
   ],
   "source": [
    "method = moCluster\n",
    "add_genes(method)"
   ]
  },
  {
   "cell_type": "code",
   "execution_count": null,
   "metadata": {},
   "outputs": [
    {
     "name": "stdout",
     "output_type": "stream",
     "text": [
      "method_name: iClusterPlus\n",
      "output_file /cosybio/project/hartung/unpast/unpast_real/METABRIC/iClusterPlus/random_state=1/n_cluster=2/type=gaussian/n_burnin=200/n_draw=200/lambda_n=5/maxiter=20/sdev=0.05/eps=0.0001/lambda_scale=1/result.tsv\n",
      "Coefficients not estimable: bic \n"
     ]
    },
    {
     "name": "stderr",
     "output_type": "stream",
     "text": [
      "Error in contrasts.fit(fit, contrasts_matrix) : \n",
      "  trying to take contrast of non-estimable coefficient\n",
      "Calls: apply -> FUN -> find_DE_genes -> contrasts.fit\n",
      "In addition: Warning message:\n",
      "Partial NA coefficients for 17158 probe(s) \n",
      "Execution halted\n"
     ]
    },
    {
     "name": "stdout",
     "output_type": "stream",
     "text": [
      "output_file /cosybio/project/hartung/unpast/unpast_real/TCGA/iClusterPlus/random_state=1/n_cluster=2/type=gaussian/n_burnin=200/n_draw=200/lambda_n=5/maxiter=20/sdev=0.05/eps=0.0001/lambda_scale=1/result.tsv\n"
     ]
    },
    {
     "name": "stderr",
     "output_type": "stream",
     "text": [
      "Error: Negative counts not allowed\n",
      "Execution halted\n"
     ]
    }
   ],
   "source": [
    "add_genes(iClusterPlus)"
   ]
  },
  {
   "cell_type": "code",
   "execution_count": null,
   "metadata": {},
   "outputs": [
    {
     "name": "stdout",
     "output_type": "stream",
     "text": [
      "method_name: MOFA2\n",
      "output_file /cosybio/project/hartung/unpast/unpast_real/METABRIC/MOFA2/n_factors=1/n_cluster=2/random_state=1/ard_weights=True/ard_factors=False/likelihood=gaussian/spikeslab_weights=True/spikeslab_factors=False/result.tsv\n",
      "Coefficients not estimable: bic \n"
     ]
    },
    {
     "name": "stderr",
     "output_type": "stream",
     "text": [
      "Error in contrasts.fit(fit, contrasts_matrix) : \n",
      "  trying to take contrast of non-estimable coefficient\n",
      "Calls: apply -> FUN -> find_DE_genes -> contrasts.fit\n",
      "In addition: Warning message:\n",
      "Partial NA coefficients for 17158 probe(s) \n",
      "Execution halted\n"
     ]
    },
    {
     "name": "stdout",
     "output_type": "stream",
     "text": [
      "output_file /cosybio/project/hartung/unpast/unpast_real/TCGA/MOFA2/n_factors=1/n_cluster=2/random_state=1/ard_weights=True/ard_factors=False/likelihood=gaussian/spikeslab_weights=True/spikeslab_factors=False/result.tsv\n"
     ]
    },
    {
     "name": "stderr",
     "output_type": "stream",
     "text": [
      "Error: Negative counts not allowed\n",
      "Execution halted\n"
     ]
    }
   ],
   "source": [
    "add_genes(MOFA2)"
   ]
  },
  {
   "cell_type": "code",
   "execution_count": null,
   "metadata": {},
   "outputs": [
    {
     "data": {
      "text/plain": [
       "1    [MB-7256, MB-4724, MB-7249, MB-0243, MB-0884, ...\n",
       "2    [MB-5360, MB-6012, MB-4343, MB-5174, MB-6019, ...\n",
       "Name: samples, dtype: object"
      ]
     },
     "execution_count": 30,
     "metadata": {},
     "output_type": "execute_result"
    }
   ],
   "source": [
    "result_m['samples'].map(list)"
   ]
  },
  {
   "cell_type": "code",
   "execution_count": 37,
   "metadata": {},
   "outputs": [
    {
     "data": {
      "text/html": [
       "<div>\n",
       "<style scoped>\n",
       "    .dataframe tbody tr th:only-of-type {\n",
       "        vertical-align: middle;\n",
       "    }\n",
       "\n",
       "    .dataframe tbody tr th {\n",
       "        vertical-align: top;\n",
       "    }\n",
       "\n",
       "    .dataframe thead th {\n",
       "        text-align: right;\n",
       "    }\n",
       "</style>\n",
       "<table border=\"1\" class=\"dataframe\">\n",
       "  <thead>\n",
       "    <tr style=\"text-align: right;\">\n",
       "      <th></th>\n",
       "      <th>samples</th>\n",
       "    </tr>\n",
       "  </thead>\n",
       "  <tbody>\n",
       "    <tr>\n",
       "      <th>0</th>\n",
       "      <td>['MB-7256', 'MB-4724', 'MB-7249', 'MB-0243', '...</td>\n",
       "    </tr>\n",
       "    <tr>\n",
       "      <th>1</th>\n",
       "      <td>['MB-4046', 'MB-6012', 'MB-4343', 'MB-5174', '...</td>\n",
       "    </tr>\n",
       "  </tbody>\n",
       "</table>\n",
       "</div>"
      ],
      "text/plain": [
       "                                             samples\n",
       "0  ['MB-7256', 'MB-4724', 'MB-7249', 'MB-0243', '...\n",
       "1  ['MB-4046', 'MB-6012', 'MB-4343', 'MB-5174', '..."
      ]
     },
     "execution_count": 37,
     "metadata": {},
     "output_type": "execute_result"
    },
    {
     "name": "stderr",
     "output_type": "stream",
     "text": [
      "Error: Negative counts not allowed\n",
      "Execution halted\n"
     ]
    },
    {
     "name": "stdout",
     "output_type": "stream",
     "text": [
      "Coefficients not estimable: bic \n"
     ]
    },
    {
     "name": "stderr",
     "output_type": "stream",
     "text": [
      "Error in contrasts.fit(fit, contrasts_matrix) : \n",
      "  trying to take contrast of non-estimable coefficient\n",
      "Calls: apply -> FUN -> find_DE_genes -> contrasts.fit\n",
      "In addition: Warning message:\n",
      "Partial NA coefficients for 17158 probe(s) \n",
      "Execution halted\n"
     ]
    },
    {
     "name": "stdout",
     "output_type": "stream",
     "text": [
      "Coefficients not estimable: bic \n"
     ]
    },
    {
     "name": "stderr",
     "output_type": "stream",
     "text": [
      "Error in contrasts.fit(fit, contrasts_matrix) : \n",
      "  trying to take contrast of non-estimable coefficient\n",
      "Calls: apply -> FUN -> find_DE_genes -> contrasts.fit\n",
      "In addition: Warning message:\n",
      "Partial NA coefficients for 17158 probe(s) \n",
      "Execution halted\n"
     ]
    }
   ],
   "source": [
    "pd.read_csv('/cosybio/project/hartung/unpast/unpast_real/METABRIC/moCluster/n_dimensions=1/n_cluster=2/random_state=1/solver=fast/center=True/method=globalScore/option=lambda1/scale=False/k=0.1/result.tsv', sep='\\t')"
   ]
  },
  {
   "cell_type": "code",
   "execution_count": null,
   "metadata": {},
   "outputs": [
    {
     "data": {
      "text/html": [
       "<div>\n",
       "<style scoped>\n",
       "    .dataframe tbody tr th:only-of-type {\n",
       "        vertical-align: middle;\n",
       "    }\n",
       "\n",
       "    .dataframe tbody tr th {\n",
       "        vertical-align: top;\n",
       "    }\n",
       "\n",
       "    .dataframe thead th {\n",
       "        text-align: right;\n",
       "    }\n",
       "</style>\n",
       "<table border=\"1\" class=\"dataframe\">\n",
       "  <thead>\n",
       "    <tr style=\"text-align: right;\">\n",
       "      <th></th>\n",
       "      <th>samples</th>\n",
       "      <th>n_samples</th>\n",
       "    </tr>\n",
       "  </thead>\n",
       "  <tbody>\n",
       "    <tr>\n",
       "      <th>0</th>\n",
       "      <td>{'TCGA-B6-A1KC-01', 'TCGA-AC-A4ZE-01', 'TCGA-A...</td>\n",
       "      <td>983</td>\n",
       "    </tr>\n",
       "    <tr>\n",
       "      <th>1</th>\n",
       "      <td>{'TCGA-GM-A5PX-01', 'TCGA-A7-A425-01', 'TCGA-U...</td>\n",
       "      <td>96</td>\n",
       "    </tr>\n",
       "  </tbody>\n",
       "</table>\n",
       "</div>"
      ],
      "text/plain": [
       "                                             samples  n_samples\n",
       "0  {'TCGA-B6-A1KC-01', 'TCGA-AC-A4ZE-01', 'TCGA-A...        983\n",
       "1  {'TCGA-GM-A5PX-01', 'TCGA-A7-A425-01', 'TCGA-U...         96"
      ]
     },
     "execution_count": 25,
     "metadata": {},
     "output_type": "execute_result"
    }
   ],
   "source": [
    "pd.read_csv('/cosybio/project/hartung/unpast/unpast_real/TCGA/moCluster/n_dimensions=1/n_cluster=2/random_state=1/solver=fast/center=True/method=globalScore/option=lambda1/scale=False/k=0.1/result.tsv', sep='\\t')"
   ]
  },
  {
   "cell_type": "code",
   "execution_count": null,
   "metadata": {},
   "outputs": [],
   "source": []
  }
 ],
 "metadata": {
  "kernelspec": {
   "display_name": "encore2",
   "language": "python",
   "name": "encore2"
  },
  "language_info": {
   "codemirror_mode": {
    "name": "ipython",
    "version": 3
   },
   "file_extension": ".py",
   "mimetype": "text/x-python",
   "name": "python",
   "nbconvert_exporter": "python",
   "pygments_lexer": "ipython3",
   "version": "3.8.13"
  },
  "orig_nbformat": 4
 },
 "nbformat": 4,
 "nbformat_minor": 2
}
