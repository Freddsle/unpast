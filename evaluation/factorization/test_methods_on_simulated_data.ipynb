{
 "cells": [
  {
   "cell_type": "code",
   "execution_count": null,
   "id": "c50af28b",
   "metadata": {},
   "outputs": [],
   "source": [
    "import os\n",
    "os.environ[\"OMP_NUM_THREADS\"] = \"1\"\n",
    "\n",
    "import numpy as np\n",
    "import pandas as pd\n",
    "import sys,os\n",
    "import random\n",
    "import copy\n",
    "\n",
    "import matplotlib.pyplot as plt\n",
    "import seaborn as sns\n",
    "\n",
    "from utils.eval import find_best_matches, generate_exprs\n",
    "\n",
    "from methods import NMF, PCA, sparse_PCA, moCluster, MOFA2, iClusterPlus\n",
    "\n",
    "from methods.utils import interpret_results, resultsHandler\n",
    "\n",
    "from pathlib import Path\n",
    "import multiprocessing as mp\n",
    "\n",
    "\n",
    "# Settings for simulated data\n",
    "N_GENES_LIST = ['5', '50', '500']\n",
    "SCENARIOS = ['A', 'B', 'C']\n"
   ]
  },
  {
   "cell_type": "code",
   "execution_count": null,
   "id": "f0e62948",
   "metadata": {},
   "outputs": [],
   "source": [
    "for METHOD in [NMF]:  # NMF, MOFA2, moCluster, sparse_PCA, iClusterPlus\n",
    "    for SCENARIO in SCENARIOS:\n",
    "        for N_GENES in N_GENES_LIST:\n",
    "\n",
    "            #### prep file paths\n",
    "            # data files\n",
    "            data_path = f'/home/hartung/data/simulated/{SCENARIO}'\n",
    "            FILE = f'{SCENARIO}.n_genes={N_GENES},m=4,std=1,overlap=yes.exprs_z.tsv'\n",
    "            file_path = os.path.join(data_path, FILE)\n",
    "            # output folder\n",
    "            output_path = os.path.join('/home/hartung/data/simulated/results', METHOD.__name__.split('.')[1], SCENARIO, N_GENES)\n",
    "            # ground truth file\n",
    "            ground_truth_file = os.path.join(data_path, f'{SCENARIO}.n_genes={N_GENES},m=4,std=1,overlap=yes.biclusters.tsv')\n",
    "\n",
    "            if SCENARIO == 'A':\n",
    "                file_path = file_path.replace('overlap=yes', 'overlap=no')\n",
    "                ground_truth_file= ground_truth_file.replace('overlap=yes', 'overlap=no')\n",
    "            \n",
    "            #### prep params\n",
    "            combinations = METHOD.generate_arg_list(file_path, output_path, ground_truth_file)\n",
    "            \n",
    "            #### run algorithm\n",
    "            with mp.Pool(1) as pool:\n",
    "                pool.map(METHOD.run_simulated, combinations)\n",
    "\n"
   ]
  },
  {
   "cell_type": "code",
   "execution_count": null,
   "id": "c8f8444b",
   "metadata": {},
   "outputs": [],
   "source": []
  },
  {
   "cell_type": "code",
   "execution_count": null,
   "id": "86d2d1a7",
   "metadata": {},
   "outputs": [],
   "source": []
  },
  {
   "cell_type": "markdown",
   "id": "4cc76ca5",
   "metadata": {},
   "source": [
    "## Collect results"
   ]
  },
  {
   "cell_type": "code",
   "execution_count": null,
   "id": "12dbe3ab",
   "metadata": {},
   "outputs": [],
   "source": [
    "# Settings for simulated data\n",
    "N_GENES_LIST = ['5', '50', '500']\n",
    "SCENARIOS = ['A', 'B', 'C']\n",
    "\n",
    "scores = []\n",
    "for METHOD in [MOFA2, moCluster, NMF, sparse_PCA, iClusterPlus]:  # MOFA2, moCluster, NMF, sparse_PCA, iClusterPlus\n",
    "    method_name = METHOD.__name__.split('.')[1]\n",
    "    for SCENARIO in SCENARIOS:\n",
    "        for N_GENES in N_GENES_LIST:\n",
    "            \n",
    "             #### prep file paths\n",
    "            # data files\n",
    "            data_path = f'/local/DESMOND2_data_simulated/simulated/{SCENARIO}'\n",
    "            FILE = f'{SCENARIO}.n_genes={N_GENES},m=4,std=1,overlap=yes.exprs_z.tsv'\n",
    "            file_path = os.path.join(data_path, FILE)\n",
    "            # output folder\n",
    "            output_path = os.path.join(f'/home/bba1401/data/unpast_simluated/{method_name}/{SCENARIO}/{N_GENES}')\n",
    "            # ground truth file\n",
    "            ground_truth_file = os.path.join(data_path, f'{SCENARIO}.n_genes={N_GENES},m=4,std=1,overlap=yes.biclusters.tsv')\n",
    "\n",
    "            if SCENARIO == 'A':\n",
    "                file_path = file_path.replace('overlap=yes', 'overlap=no')\n",
    "                ground_truth_file= ground_truth_file.replace('overlap=yes', 'overlap=no')\n",
    "            \n",
    "            #### prep params\n",
    "            combinations = METHOD.generate_arg_list(file_path, output_path, ground_truth_file)\n",
    "            print(len(combinations), 'combinations')\n",
    "            for i, comb in enumerate(combinations):\n",
    "                if not i % 1000:\n",
    "                    print(i)\n",
    "                try:\n",
    "                    performance, runtime = resultsHandler.evaluate_simulated(**comb)\n",
    "                    scores.append({**performance, 'runtime': runtime, 'parameters': comb['output_path'], 'scenario': SCENARIO, 'gsize':N_GENES, 'run':comb['random_state'], 'seed':comb['random_state']})\n",
    "                except Exception as e:\n",
    "                    print(e)\n",
    "                    continue\n",
    "            \n",
    "pd.DataFrame(scores).to_csv(f'/home/bba1401/data/unpast_simluated/{method_name}/{method_name}_ABC.tsv', sep='\\t')"
   ]
  },
  {
   "cell_type": "code",
   "execution_count": null,
   "id": "ed5b50ef",
   "metadata": {},
   "outputs": [],
   "source": []
  }
 ],
 "metadata": {
  "kernelspec": {
   "display_name": "encore2",
   "language": "python",
   "name": "encore2"
  },
  "language_info": {
   "codemirror_mode": {
    "name": "ipython",
    "version": 3
   },
   "file_extension": ".py",
   "mimetype": "text/x-python",
   "name": "python",
   "nbconvert_exporter": "python",
   "pygments_lexer": "ipython3",
   "version": "3.8.13"
  }
 },
 "nbformat": 4,
 "nbformat_minor": 5
}
