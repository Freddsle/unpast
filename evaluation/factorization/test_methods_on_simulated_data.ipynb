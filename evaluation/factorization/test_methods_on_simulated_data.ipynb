{
 "cells": [
  {
   "cell_type": "code",
   "execution_count": 1,
   "metadata": {},
   "outputs": [],
   "source": [
    "import os\n",
    "os.environ[\"OMP_NUM_THREADS\"] = \"1\"\n",
    "\n",
    "import numpy as np\n",
    "import pandas as pd\n",
    "import sys,os\n",
    "import random\n",
    "import copy\n",
    "\n",
    "import matplotlib.pyplot as plt\n",
    "import seaborn as sns\n",
    "\n",
    "from utils.eval import find_best_matches, generate_exprs\n",
    "\n",
    "from methods import NMF, PCA, sparse_PCA, moCluster, MOFA2, iClusterPlus\n",
    "\n",
    "from methods.utils import interpret_results, resultsHandler\n",
    "\n",
    "from pathlib import Path\n",
    "import multiprocessing as mp\n",
    "\n",
    "from contextlib import redirect_stdout\n",
    "# Settings for simulated data\n",
    "N_GENES_LIST = ['5', '50', '500']\n",
    "SCENARIOS = ['A', 'B', 'C']\n"
   ]
  },
  {
   "cell_type": "code",
   "execution_count": null,
   "metadata": {
    "scrolled": true
   },
   "outputs": [
    {
     "name": "stderr",
     "output_type": "stream",
     "text": [
      "/home/bba1401/anaconda3/envs/encore2/lib/python3.8/site-packages/sklearn/linear_model/_coordinate_descent.py:634: ConvergenceWarning: Objective did not converge. You might want to increase the number of iterations. Duality gap: 0.023825278219668178, tolerance: 0.0199\n",
      "  model = cd_fast.enet_coordinate_descent_gram(\n"
     ]
    }
   ],
   "source": [
    "with open('test_methods_simulated_log.txt', 'w') as f:\n",
    "    with redirect_stdout(f):\n",
    "        \n",
    "        for METHOD in [sparse_PCA, NMF]:  # NMF, MOFA2, moCluster, sparse_PCA, iClusterPlus\n",
    "            for SCENARIO in SCENARIOS:\n",
    "                for N_GENES in N_GENES_LIST:\n",
    "\n",
    "                    #### prep file paths\n",
    "                    # data files\n",
    "                    data_path = f'/local/DESMOND2_data_simulated/simulated/{SCENARIO}'\n",
    "                    FILE = f'{SCENARIO}.n_genes={N_GENES},m=4,std=1,overlap=yes.exprs_z.tsv'\n",
    "                    file_path = os.path.join(data_path, FILE)\n",
    "                    # output folder\n",
    "                    output_path = os.path.join('/home/bba1401/data/unpast_simluated', METHOD.__name__.split('.')[1], SCENARIO, N_GENES)\n",
    "                    # ground truth file\n",
    "                    ground_truth_file = os.path.join(data_path, f'{SCENARIO}.n_genes={N_GENES},m=4,std=1,overlap=yes.biclusters.tsv')\n",
    "\n",
    "                    if SCENARIO == 'A':\n",
    "                        file_path = file_path.replace('overlap=yes', 'overlap=no')\n",
    "                        ground_truth_file= ground_truth_file.replace('overlap=yes', 'overlap=no')\n",
    "\n",
    "                    #### prep params\n",
    "                    combinations = METHOD.generate_arg_list(file_path, output_path, ground_truth_file)\n",
    "                    print(len(combinations))\n",
    "                    #### run algorithm\n",
    "                    with mp.Pool(20) as pool:\n",
    "                        pool.map(METHOD.run_simulated, combinations)\n",
    "\n"
   ]
  },
  {
   "cell_type": "code",
   "execution_count": null,
   "metadata": {},
   "outputs": [],
   "source": []
  },
  {
   "cell_type": "markdown",
   "metadata": {},
   "source": [
    "## Collect results"
   ]
  },
  {
   "cell_type": "code",
   "execution_count": 14,
   "metadata": {},
   "outputs": [
    {
     "name": "stdout",
     "output_type": "stream",
     "text": [
      "NMF\n",
      "14250 combinations\n",
      "0\n"
     ]
    },
    {
     "name": "stderr",
     "output_type": "stream",
     "text": [
      "\n",
      "KeyboardInterrupt\n",
      "\n"
     ]
    }
   ],
   "source": [
    "# Settings for simulated data\n",
    "N_GENES_LIST = ['5', '50', '500']\n",
    "SCENARIOS = ['A', 'B', 'C']\n",
    "\n",
    "for METHOD in [NMF, sparse_PCA]:  # MOFA2, moCluster, NMF, sparse_PCA, iClusterPlus\n",
    "    method_name = METHOD.__name__.split('.')[1]\n",
    "    print(method_name)\n",
    "    scores = []\n",
    "    for SCENARIO in SCENARIOS:\n",
    "        for N_GENES in N_GENES_LIST:\n",
    "            \n",
    "             #### prep file paths\n",
    "            # data files\n",
    "            data_path = f'/local/DESMOND2_data_simulated/simulated/{SCENARIO}'\n",
    "            FILE = f'{SCENARIO}.n_genes={N_GENES},m=4,std=1,overlap=yes.exprs_z.tsv'\n",
    "            file_path = os.path.join(data_path, FILE)\n",
    "            # output folder\n",
    "            output_path = os.path.join(f'/home/bba1401/data/unpast_simluated/{method_name}/{SCENARIO}/{N_GENES}')\n",
    "            # ground truth file\n",
    "            ground_truth_file = os.path.join(data_path, f'{SCENARIO}.n_genes={N_GENES},m=4,std=1,overlap=yes.biclusters.tsv')\n",
    "\n",
    "            if SCENARIO == 'A':\n",
    "                file_path = file_path.replace('overlap=yes', 'overlap=no')\n",
    "                ground_truth_file= ground_truth_file.replace('overlap=yes', 'overlap=no')\n",
    "            \n",
    "            #### prep params\n",
    "            combinations = METHOD.generate_arg_list(file_path, output_path, ground_truth_file)\n",
    "            print(len(combinations), 'combinations')\n",
    "            for i, comb in enumerate(combinations):\n",
    "                if not i % 1000:\n",
    "                    print(i)\n",
    "                try:\n",
    "                    performance, runtime = resultsHandler.evaluate_simulated(**comb)\n",
    "                    scores.append({**performance, 'runtime': runtime, 'parameters': comb['output_path'], 'scenario': SCENARIO, 'gsize':N_GENES, 'run':comb['random_state'], 'seed':comb['random_state']})\n",
    "                except Exception as e:\n",
    "                    print(e)\n",
    "                    continue\n",
    "            \n",
    "    pd.DataFrame(scores).to_csv(f'/home/bba1401/data/unpast_simluated/{method_name}/{method_name}_ABC.tsv', sep='\\t')"
   ]
  },
  {
   "cell_type": "code",
   "execution_count": 10,
   "metadata": {},
   "outputs": [],
   "source": [
    "import glob\n",
    "import os"
   ]
  },
  {
   "cell_type": "code",
   "execution_count": 54,
   "metadata": {},
   "outputs": [],
   "source": [
    "files = glob.glob('/home/bba1401/data/unpast_simluated/NMF/*/*/*/*/*/*/*/*/*/*/*/max_iter=200/*', recursive=True)"
   ]
  },
  {
   "cell_type": "code",
   "execution_count": 55,
   "metadata": {},
   "outputs": [],
   "source": [
    "# files = glob.glob('/home/bba1401/data/unpast_real/METABRIC/NMF/*/*/*/*/*/*/*/*/*/*', recursive=True)"
   ]
  },
  {
   "cell_type": "code",
   "execution_count": 56,
   "metadata": {},
   "outputs": [
    {
     "data": {
      "text/plain": [
       "[]"
      ]
     },
     "execution_count": 56,
     "metadata": {},
     "output_type": "execute_result"
    }
   ],
   "source": [
    "files"
   ]
  },
  {
   "cell_type": "code",
   "execution_count": 7,
   "metadata": {},
   "outputs": [],
   "source": [
    "comb = [x for x in combinations if x['k'] is None][0]"
   ]
  },
  {
   "cell_type": "code",
   "execution_count": null,
   "metadata": {},
   "outputs": [],
   "source": []
  },
  {
   "cell_type": "code",
   "execution_count": null,
   "metadata": {},
   "outputs": [],
   "source": []
  },
  {
   "cell_type": "code",
   "execution_count": 42,
   "metadata": {},
   "outputs": [],
   "source": [
    "# defaults = 'max_iter=5000'\n",
    "\n",
    "# for f in files:\n",
    "#     splitted = f.split('/')\n",
    "#     splitted = [*splitted[:-1], defaults, splitted[-1]]\n",
    "#     dirpath = [*f.split('/')[:-1], defaults]\n",
    "#     os.makedirs('/'.join(dirpath), exist_ok=True)\n",
    "#     f_new = '/'.join(splitted)\n",
    "#     os.rename(f, f_new)"
   ]
  },
  {
   "cell_type": "code",
   "execution_count": 52,
   "metadata": {},
   "outputs": [
    {
     "data": {
      "text/plain": [
       "'/home/bba1401/data/unpast_real/METABRIC/NMF/k=3/init=nndsvd/tol=0.0001/random_state=5/alpha_W=0.2/alpha_H=0.2/shuffle=False/solver=cd/beta_loss=frobenius/max_iter=5000/runtime.txt'"
      ]
     },
     "execution_count": 52,
     "metadata": {},
     "output_type": "execute_result"
    }
   ],
   "source": [
    "f_new"
   ]
  },
  {
   "cell_type": "code",
   "execution_count": null,
   "metadata": {},
   "outputs": [],
   "source": []
  },
  {
   "cell_type": "code",
   "execution_count": 10,
   "metadata": {},
   "outputs": [],
   "source": [
    "m = np.zeros([2, 5])"
   ]
  },
  {
   "cell_type": "code",
   "execution_count": 34,
   "metadata": {},
   "outputs": [
    {
     "ename": "ValueError",
     "evalue": "low >= high",
     "output_type": "error",
     "traceback": [
      "\u001b[0;31m---------------------------------------------------------------------------\u001b[0m",
      "\u001b[0;31mValueError\u001b[0m                                Traceback (most recent call last)",
      "Input \u001b[0;32mIn [34]\u001b[0m, in \u001b[0;36m<cell line: 1>\u001b[0;34m()\u001b[0m\n\u001b[0;32m----> 1\u001b[0m \u001b[43mnp\u001b[49m\u001b[38;5;241;43m.\u001b[39;49m\u001b[43mrandom\u001b[49m\u001b[38;5;241;43m.\u001b[39;49m\u001b[43mrandint\u001b[49m\u001b[43m(\u001b[49m\u001b[43m[\u001b[49m\u001b[38;5;241;43m5\u001b[39;49m\u001b[43m,\u001b[49m\u001b[43m \u001b[49m\u001b[38;5;241;43m5\u001b[39;49m\u001b[43m,\u001b[49m\u001b[43m \u001b[49m\u001b[38;5;241;43m5\u001b[39;49m\u001b[43m]\u001b[49m\u001b[43m,\u001b[49m\u001b[43m \u001b[49m\u001b[38;5;241;43m5\u001b[39;49m\u001b[43m)\u001b[49m\n",
      "File \u001b[0;32mmtrand.pyx:748\u001b[0m, in \u001b[0;36mnumpy.random.mtrand.RandomState.randint\u001b[0;34m()\u001b[0m\n",
      "File \u001b[0;32m_bounded_integers.pyx:1262\u001b[0m, in \u001b[0;36mnumpy.random._bounded_integers._rand_int64\u001b[0;34m()\u001b[0m\n",
      "File \u001b[0;32m_bounded_integers.pyx:686\u001b[0m, in \u001b[0;36mnumpy.random._bounded_integers._rand_int64_broadcast\u001b[0;34m()\u001b[0m\n",
      "\u001b[0;31mValueError\u001b[0m: low >= high"
     ]
    }
   ],
   "source": [
    "np.random.randint([5, 5, 5], 5)"
   ]
  },
  {
   "cell_type": "code",
   "execution_count": 11,
   "metadata": {},
   "outputs": [],
   "source": [
    "import numpy as np\n",
    "X = np.array([[1, 1], [2, 1], [3, 1.2], [4, 1], [5, 0.8], [6, 1]])\n",
    "from sklearn.decomposition import NMF\n",
    "model = NMF(n_components=2, init='random', random_state=0)\n",
    "W = model.fit_transform(X)\n",
    "H = model.components_"
   ]
  },
  {
   "cell_type": "code",
   "execution_count": 12,
   "metadata": {},
   "outputs": [],
   "source": [
    "import json\n",
    "\n"
   ]
  },
  {
   "cell_type": "code",
   "execution_count": 16,
   "metadata": {},
   "outputs": [
    {
     "data": {
      "text/html": [
       "<div>\n",
       "<style scoped>\n",
       "    .dataframe tbody tr th:only-of-type {\n",
       "        vertical-align: middle;\n",
       "    }\n",
       "\n",
       "    .dataframe tbody tr th {\n",
       "        vertical-align: top;\n",
       "    }\n",
       "\n",
       "    .dataframe thead th {\n",
       "        text-align: right;\n",
       "    }\n",
       "</style>\n",
       "<table border=\"1\" class=\"dataframe\">\n",
       "  <thead>\n",
       "    <tr style=\"text-align: right;\">\n",
       "      <th></th>\n",
       "      <th>0</th>\n",
       "      <th>1</th>\n",
       "    </tr>\n",
       "  </thead>\n",
       "  <tbody>\n",
       "    <tr>\n",
       "      <th>0</th>\n",
       "      <td>0.000000</td>\n",
       "      <td>0.468807</td>\n",
       "    </tr>\n",
       "    <tr>\n",
       "      <th>1</th>\n",
       "      <td>0.556995</td>\n",
       "      <td>0.389415</td>\n",
       "    </tr>\n",
       "    <tr>\n",
       "      <th>2</th>\n",
       "      <td>1.003316</td>\n",
       "      <td>0.419254</td>\n",
       "    </tr>\n",
       "    <tr>\n",
       "      <th>3</th>\n",
       "      <td>1.673400</td>\n",
       "      <td>0.229269</td>\n",
       "    </tr>\n",
       "    <tr>\n",
       "      <th>4</th>\n",
       "      <td>2.343493</td>\n",
       "      <td>0.039280</td>\n",
       "    </tr>\n",
       "    <tr>\n",
       "      <th>5</th>\n",
       "      <td>2.789815</td>\n",
       "      <td>0.069118</td>\n",
       "    </tr>\n",
       "  </tbody>\n",
       "</table>\n",
       "</div>"
      ],
      "text/plain": [
       "          0         1\n",
       "0  0.000000  0.468807\n",
       "1  0.556995  0.389415\n",
       "2  1.003316  0.419254\n",
       "3  1.673400  0.229269\n",
       "4  2.343493  0.039280\n",
       "5  2.789815  0.069118"
      ]
     },
     "execution_count": 16,
     "metadata": {},
     "output_type": "execute_result"
    }
   ],
   "source": [
    "pd.DataFrame(W)"
   ]
  },
  {
   "cell_type": "code",
   "execution_count": 15,
   "metadata": {},
   "outputs": [
    {
     "data": {
      "text/plain": [
       "array([[2.09783018, 0.30560234],\n",
       "       [2.13443044, 2.13171694]])"
      ]
     },
     "execution_count": 15,
     "metadata": {},
     "output_type": "execute_result"
    }
   ],
   "source": [
    "H"
   ]
  },
  {
   "cell_type": "code",
   "execution_count": null,
   "metadata": {},
   "outputs": [],
   "source": []
  }
 ],
 "metadata": {
  "kernelspec": {
   "display_name": "encore2",
   "language": "python",
   "name": "encore2"
  },
  "language_info": {
   "codemirror_mode": {
    "name": "ipython",
    "version": 3
   },
   "file_extension": ".py",
   "mimetype": "text/x-python",
   "name": "python",
   "nbconvert_exporter": "python",
   "pygments_lexer": "ipython3",
   "version": "3.8.13"
  },
  "vscode": {
   "interpreter": {
    "hash": "cdd14d06cfdef9951654badc0574ef8f0c956e4db53d7d1258d47d7723f02c3f"
   }
  }
 },
 "nbformat": 4,
 "nbformat_minor": 5
}
