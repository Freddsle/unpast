{
 "cells": [
  {
   "cell_type": "code",
   "execution_count": 1,
   "id": "invisible-matter",
   "metadata": {},
   "outputs": [],
   "source": [
    "import numpy as np\n",
    "import pandas as pd\n",
    "import sys,os\n",
    "import random\n",
    "import copy\n",
    "from time import time\n",
    "\n",
    "import matplotlib.pyplot as plt\n",
    "import seaborn as sns\n",
    "\n",
    "\n",
    "sys.path.append('/home/olya/TUM/DESMOND/DESMOND2/')\n",
    "\n",
    "from run_unpast import run\n",
    "\n",
    "from utils.method import read_bic_table\n",
    "from utils.eval import calculate_perfromance"
   ]
  },
  {
   "cell_type": "markdown",
   "id": "exceptional-montgomery",
   "metadata": {},
   "source": [
    "### Reading annotation and expression,\n",
    "prepareing inputs for calculate_perfromance()"
   ]
  },
  {
   "cell_type": "code",
   "execution_count": 2,
   "id": "piano-expert",
   "metadata": {},
   "outputs": [
    {
     "data": {
      "text/html": [
       "<div>\n",
       "<style scoped>\n",
       "    .dataframe tbody tr th:only-of-type {\n",
       "        vertical-align: middle;\n",
       "    }\n",
       "\n",
       "    .dataframe tbody tr th {\n",
       "        vertical-align: top;\n",
       "    }\n",
       "\n",
       "    .dataframe thead th {\n",
       "        text-align: right;\n",
       "    }\n",
       "</style>\n",
       "<table border=\"1\" class=\"dataframe\">\n",
       "  <thead>\n",
       "    <tr style=\"text-align: right;\">\n",
       "      <th></th>\n",
       "      <th>asthma</th>\n",
       "      <th>individual</th>\n",
       "      <th>is_smoker</th>\n",
       "      <th>Flovent</th>\n",
       "      <th>sample type:ch1</th>\n",
       "      <th>Th2 asthma</th>\n",
       "    </tr>\n",
       "  </thead>\n",
       "  <tbody>\n",
       "    <tr>\n",
       "      <th>GSM98141</th>\n",
       "      <td>1</td>\n",
       "      <td>01SAGEA</td>\n",
       "      <td>0</td>\n",
       "      <td>0</td>\n",
       "      <td>Asthmatic at baseline</td>\n",
       "      <td>0</td>\n",
       "    </tr>\n",
       "    <tr>\n",
       "      <th>GSM98142</th>\n",
       "      <td>1</td>\n",
       "      <td>01SAGEA</td>\n",
       "      <td>0</td>\n",
       "      <td>1</td>\n",
       "      <td>Asthmatic after Flovent</td>\n",
       "      <td>0</td>\n",
       "    </tr>\n",
       "    <tr>\n",
       "      <th>GSM98143</th>\n",
       "      <td>1</td>\n",
       "      <td>02SAGEA</td>\n",
       "      <td>0</td>\n",
       "      <td>0</td>\n",
       "      <td>Asthmatic after Placebo</td>\n",
       "      <td>0</td>\n",
       "    </tr>\n",
       "  </tbody>\n",
       "</table>\n",
       "</div>"
      ],
      "text/plain": [
       "          asthma individual  is_smoker  Flovent          sample type:ch1  \\\n",
       "GSM98141       1    01SAGEA          0        0    Asthmatic at baseline   \n",
       "GSM98142       1    01SAGEA          0        1  Asthmatic after Flovent   \n",
       "GSM98143       1    02SAGEA          0        0  Asthmatic after Placebo   \n",
       "\n",
       "          Th2 asthma  \n",
       "GSM98141           0  \n",
       "GSM98142           0  \n",
       "GSM98143           0  "
      ]
     },
     "execution_count": 2,
     "metadata": {},
     "output_type": "execute_result"
    }
   ],
   "source": [
    "exprs_file = \"exprs/asthma_GSE4302.RMA.maxRowVariance.log2exprs.tsv\"\n",
    "exprs = pd.read_csv(exprs_file, sep=\"\\t\",index_col=0)\n",
    "\n",
    "anno  = pd.read_csv(\"exprs/asthma_GSE4302.annot.tsv\",sep=\"\\t\",index_col=0)\n",
    "anno.head(3)"
   ]
  },
  {
   "cell_type": "code",
   "execution_count": 3,
   "id": "forced-deputy",
   "metadata": {
    "scrolled": true
   },
   "outputs": [
    {
     "data": {
      "text/plain": [
       "dict_keys(['Th2-high'])"
      ]
     },
     "execution_count": 3,
     "metadata": {},
     "output_type": "execute_result"
    }
   ],
   "source": [
    "known_groups = {\"Th2 asthma\":{\"Th2-high\": set(anno.loc[anno[\"Th2 asthma\"]==1,:].index.values)}}\n",
    "#known_groups[\"Th2 asthma\"][\"Th2-low\"] = set(anno.index.values).difference(known_groups[\"Th2 asthma\"][\"Th2-high\"])\n",
    "known_groups[\"Th2 asthma\"].keys()"
   ]
  },
  {
   "cell_type": "code",
   "execution_count": 4,
   "id": "greek-compiler",
   "metadata": {},
   "outputs": [
    {
     "data": {
      "text/plain": [
       "(47.2, 37)"
      ]
     },
     "execution_count": 4,
     "metadata": {},
     "output_type": "execute_result"
    }
   ],
   "source": [
    "anno.shape[0]*0.4, anno[\"Th2 asthma\"].sum()"
   ]
  },
  {
   "cell_type": "code",
   "execution_count": 5,
   "id": "concrete-madison",
   "metadata": {},
   "outputs": [
    {
     "data": {
      "text/plain": [
       "37"
      ]
     },
     "execution_count": 5,
     "metadata": {},
     "output_type": "execute_result"
    }
   ],
   "source": [
    "len(known_groups[\"Th2 asthma\"][\"Th2-high\"] )"
   ]
  },
  {
   "cell_type": "markdown",
   "id": "aggressive-segment",
   "metadata": {},
   "source": [
    "### UnPaSt example"
   ]
  },
  {
   "cell_type": "code",
   "execution_count": 6,
   "id": "closed-behavior",
   "metadata": {},
   "outputs": [
    {
     "data": {
      "text/html": [
       "<div>\n",
       "<style scoped>\n",
       "    .dataframe tbody tr th:only-of-type {\n",
       "        vertical-align: middle;\n",
       "    }\n",
       "\n",
       "    .dataframe tbody tr th {\n",
       "        vertical-align: top;\n",
       "    }\n",
       "\n",
       "    .dataframe thead th {\n",
       "        text-align: right;\n",
       "    }\n",
       "</style>\n",
       "<table border=\"1\" class=\"dataframe\">\n",
       "  <thead>\n",
       "    <tr style=\"text-align: right;\">\n",
       "      <th></th>\n",
       "      <th>SNR</th>\n",
       "      <th>n_genes</th>\n",
       "      <th>n_samples</th>\n",
       "      <th>genes</th>\n",
       "      <th>samples</th>\n",
       "      <th>genes_up</th>\n",
       "      <th>genes_down</th>\n",
       "      <th>gene_indexes</th>\n",
       "      <th>sample_indexes</th>\n",
       "      <th>direction</th>\n",
       "      <th>detected_n_times</th>\n",
       "    </tr>\n",
       "    <tr>\n",
       "      <th>id</th>\n",
       "      <th></th>\n",
       "      <th></th>\n",
       "      <th></th>\n",
       "      <th></th>\n",
       "      <th></th>\n",
       "      <th></th>\n",
       "      <th></th>\n",
       "      <th></th>\n",
       "      <th></th>\n",
       "      <th></th>\n",
       "      <th></th>\n",
       "    </tr>\n",
       "  </thead>\n",
       "  <tbody>\n",
       "    <tr>\n",
       "      <th>0</th>\n",
       "      <td>7.693274</td>\n",
       "      <td>8</td>\n",
       "      <td>58</td>\n",
       "      <td>{RPS4Y1, ARSL, TTTY14, KDM5D, DDX3Y, ZFY, UTY,...</td>\n",
       "      <td>{GSM98255, GSM98167, GSM98252, GSM98221, GSM98...</td>\n",
       "      <td>{RPS4Y1, ARSL, TTTY14, KDM5D, DDX3Y, ZFY, UTY,...</td>\n",
       "      <td>{}</td>\n",
       "      <td>{7521, 3781, 17737, 16813, 1006, 13549, 4440, ...</td>\n",
       "      <td>{6, 7, 16, 17, 22, 23, 26, 27, 28, 29, 30, 31,...</td>\n",
       "      <td>UP</td>\n",
       "      <td>5</td>\n",
       "    </tr>\n",
       "    <tr>\n",
       "      <th>1</th>\n",
       "      <td>3.690024</td>\n",
       "      <td>17</td>\n",
       "      <td>11</td>\n",
       "      <td>{CCNC, SLC26A2, SMARCC2, PKN2, TNKS2, ZBTB43, ...</td>\n",
       "      <td>{GSM98224, GSM98189, GSM98200, GSM98204, GSM98...</td>\n",
       "      <td>{CCNC, SLC26A2, SMARCC2, PKN2, TNKS2, ZBTB43, ...</td>\n",
       "      <td>{}</td>\n",
       "      <td>{7232, 17505, 7490, 16799, 14409, 10505, 17611...</td>\n",
       "      <td>{64, 48, 83, 116, 117, 115, 58, 59, 61, 62, 63}</td>\n",
       "      <td>UP</td>\n",
       "      <td>6</td>\n",
       "    </tr>\n",
       "    <tr>\n",
       "      <th>59</th>\n",
       "      <td>1.883604</td>\n",
       "      <td>3</td>\n",
       "      <td>37</td>\n",
       "      <td>{CDH26, POSTN, SERPINB2}</td>\n",
       "      <td>{GSM98149, GSM98215, GSM98167, GSM98193, GSM98...</td>\n",
       "      <td>{CDH26, POSTN, SERPINB2}</td>\n",
       "      <td>{}</td>\n",
       "      <td>{2481, 12148, 13998}</td>\n",
       "      <td>{4, 6, 7, 8, 9, 11, 12, 13, 16, 17, 22, 26, 30...</td>\n",
       "      <td>UP</td>\n",
       "      <td>4</td>\n",
       "    </tr>\n",
       "  </tbody>\n",
       "</table>\n",
       "</div>"
      ],
      "text/plain": [
       "         SNR  n_genes  n_samples  \\\n",
       "id                                 \n",
       "0   7.693274        8         58   \n",
       "1   3.690024       17         11   \n",
       "59  1.883604        3         37   \n",
       "\n",
       "                                                genes  \\\n",
       "id                                                      \n",
       "0   {RPS4Y1, ARSL, TTTY14, KDM5D, DDX3Y, ZFY, UTY,...   \n",
       "1   {CCNC, SLC26A2, SMARCC2, PKN2, TNKS2, ZBTB43, ...   \n",
       "59                           {CDH26, POSTN, SERPINB2}   \n",
       "\n",
       "                                              samples  \\\n",
       "id                                                      \n",
       "0   {GSM98255, GSM98167, GSM98252, GSM98221, GSM98...   \n",
       "1   {GSM98224, GSM98189, GSM98200, GSM98204, GSM98...   \n",
       "59  {GSM98149, GSM98215, GSM98167, GSM98193, GSM98...   \n",
       "\n",
       "                                             genes_up genes_down  \\\n",
       "id                                                                 \n",
       "0   {RPS4Y1, ARSL, TTTY14, KDM5D, DDX3Y, ZFY, UTY,...         {}   \n",
       "1   {CCNC, SLC26A2, SMARCC2, PKN2, TNKS2, ZBTB43, ...         {}   \n",
       "59                           {CDH26, POSTN, SERPINB2}         {}   \n",
       "\n",
       "                                         gene_indexes  \\\n",
       "id                                                      \n",
       "0   {7521, 3781, 17737, 16813, 1006, 13549, 4440, ...   \n",
       "1   {7232, 17505, 7490, 16799, 14409, 10505, 17611...   \n",
       "59                               {2481, 12148, 13998}   \n",
       "\n",
       "                                       sample_indexes direction  \\\n",
       "id                                                                \n",
       "0   {6, 7, 16, 17, 22, 23, 26, 27, 28, 29, 30, 31,...        UP   \n",
       "1     {64, 48, 83, 116, 117, 115, 58, 59, 61, 62, 63}        UP   \n",
       "59  {4, 6, 7, 8, 9, 11, 12, 13, 16, 17, 22, 26, 30...        UP   \n",
       "\n",
       "    detected_n_times  \n",
       "id                    \n",
       "0                  5  \n",
       "1                  6  \n",
       "59                 4  "
      ]
     },
     "execution_count": 6,
     "metadata": {},
     "output_type": "execute_result"
    }
   ],
   "source": [
    "unpast_biclusters = read_bic_table(\"../../bicluster_examples/asthma_GSE4302.seed=42.consensus.biclusters.tsv\")\n",
    "unpast_biclusters.loc[[0,1,59],:]"
   ]
  },
  {
   "cell_type": "code",
   "execution_count": null,
   "id": "acting-skiing",
   "metadata": {},
   "outputs": [],
   "source": []
  },
  {
   "cell_type": "code",
   "execution_count": 7,
   "id": "concrete-preservation",
   "metadata": {},
   "outputs": [
    {
     "data": {
      "text/plain": [
       "Th2 asthma    0.897436\n",
       "dtype: float64"
      ]
     },
     "execution_count": 7,
     "metadata": {},
     "output_type": "execute_result"
    }
   ],
   "source": [
    "performance, best_matches = calculate_perfromance(unpast_biclusters, known_groups, set(anno.index.values))\n",
    "performance"
   ]
  },
  {
   "cell_type": "code",
   "execution_count": 8,
   "id": "forced-portsmouth",
   "metadata": {},
   "outputs": [
    {
     "data": {
      "text/html": [
       "<div>\n",
       "<style scoped>\n",
       "    .dataframe tbody tr th:only-of-type {\n",
       "        vertical-align: middle;\n",
       "    }\n",
       "\n",
       "    .dataframe tbody tr th {\n",
       "        vertical-align: top;\n",
       "    }\n",
       "\n",
       "    .dataframe thead th {\n",
       "        text-align: right;\n",
       "    }\n",
       "</style>\n",
       "<table border=\"1\" class=\"dataframe\">\n",
       "  <thead>\n",
       "    <tr style=\"text-align: right;\">\n",
       "      <th></th>\n",
       "      <th>J</th>\n",
       "      <th>adj_pval</th>\n",
       "      <th>bm_id</th>\n",
       "      <th>is_enriched</th>\n",
       "      <th>weight</th>\n",
       "      <th>classification</th>\n",
       "    </tr>\n",
       "  </thead>\n",
       "  <tbody>\n",
       "    <tr>\n",
       "      <th>Th2-high</th>\n",
       "      <td>0.897436</td>\n",
       "      <td>0.0</td>\n",
       "      <td>59</td>\n",
       "      <td>True</td>\n",
       "      <td>1.0</td>\n",
       "      <td>Th2 asthma</td>\n",
       "    </tr>\n",
       "  </tbody>\n",
       "</table>\n",
       "</div>"
      ],
      "text/plain": [
       "                 J adj_pval bm_id is_enriched weight classification\n",
       "Th2-high  0.897436      0.0    59        True    1.0     Th2 asthma"
      ]
     },
     "execution_count": 8,
     "metadata": {},
     "output_type": "execute_result"
    }
   ],
   "source": [
    "best_matches"
   ]
  },
  {
   "cell_type": "code",
   "execution_count": 9,
   "id": "hindu-stations",
   "metadata": {
    "scrolled": true
   },
   "outputs": [
    {
     "data": {
      "text/plain": [
       "SNR                                                          1.883604\n",
       "n_genes                                                             3\n",
       "n_samples                                                          37\n",
       "genes                                        {CDH26, POSTN, SERPINB2}\n",
       "samples             {GSM98149, GSM98215, GSM98167, GSM98193, GSM98...\n",
       "genes_up                                     {CDH26, POSTN, SERPINB2}\n",
       "genes_down                                                         {}\n",
       "gene_indexes                                     {2481, 12148, 13998}\n",
       "sample_indexes      {4, 6, 7, 8, 9, 11, 12, 13, 16, 17, 22, 26, 30...\n",
       "direction                                                          UP\n",
       "detected_n_times                                                    4\n",
       "Name: 59, dtype: object"
      ]
     },
     "execution_count": 9,
     "metadata": {},
     "output_type": "execute_result"
    }
   ],
   "source": [
    "unpast_biclusters.loc[59,:]"
   ]
  },
  {
   "cell_type": "markdown",
   "id": "false-climate",
   "metadata": {},
   "source": [
    "### QUBIC exmaple"
   ]
  },
  {
   "cell_type": "code",
   "execution_count": 10,
   "id": "filled-watch",
   "metadata": {},
   "outputs": [
    {
     "data": {
      "text/html": [
       "<div>\n",
       "<style scoped>\n",
       "    .dataframe tbody tr th:only-of-type {\n",
       "        vertical-align: middle;\n",
       "    }\n",
       "\n",
       "    .dataframe tbody tr th {\n",
       "        vertical-align: top;\n",
       "    }\n",
       "\n",
       "    .dataframe thead th {\n",
       "        text-align: right;\n",
       "    }\n",
       "</style>\n",
       "<table border=\"1\" class=\"dataframe\">\n",
       "  <thead>\n",
       "    <tr style=\"text-align: right;\">\n",
       "      <th></th>\n",
       "      <th>samples</th>\n",
       "      <th>genes</th>\n",
       "    </tr>\n",
       "  </thead>\n",
       "  <tbody>\n",
       "    <tr>\n",
       "      <th>0</th>\n",
       "      <td>{GSM98255, GSM98167, GSM98252, GSM98221, GSM98...</td>\n",
       "      <td>{ZNF326, ZIC3, UBIAD1, OR4D2, SNRPD1, KIF3B, S...</td>\n",
       "    </tr>\n",
       "    <tr>\n",
       "      <th>1</th>\n",
       "      <td>{GSM98255, GSM98167, GSM98252, GSM98221, GSM98...</td>\n",
       "      <td>{ZNF326, ZIC3, UBIAD1, OR4D2, SNRPD1, SLC1A1, ...</td>\n",
       "    </tr>\n",
       "    <tr>\n",
       "      <th>2</th>\n",
       "      <td>{GSM98255, GSM98167, GSM98252, GSM98221, GSM98...</td>\n",
       "      <td>{ZNF326, ZIC3, UBIAD1, OR4D2, SNRPD1, KIF3B, S...</td>\n",
       "    </tr>\n",
       "  </tbody>\n",
       "</table>\n",
       "</div>"
      ],
      "text/plain": [
       "                                             samples  \\\n",
       "0  {GSM98255, GSM98167, GSM98252, GSM98221, GSM98...   \n",
       "1  {GSM98255, GSM98167, GSM98252, GSM98221, GSM98...   \n",
       "2  {GSM98255, GSM98167, GSM98252, GSM98221, GSM98...   \n",
       "\n",
       "                                               genes  \n",
       "0  {ZNF326, ZIC3, UBIAD1, OR4D2, SNRPD1, KIF3B, S...  \n",
       "1  {ZNF326, ZIC3, UBIAD1, OR4D2, SNRPD1, SLC1A1, ...  \n",
       "2  {ZNF326, ZIC3, UBIAD1, OR4D2, SNRPD1, KIF3B, S...  "
      ]
     },
     "execution_count": 10,
     "metadata": {},
     "output_type": "execute_result"
    }
   ],
   "source": [
    "qubic_biclusters = pd.read_csv(\"../../bicluster_examples/GSE4302.qubic.tsv\",sep = \"\\t\",index_col=0)\n",
    "qubic_biclusters['genes'] = qubic_biclusters['genes'].apply(lambda row: eval(row))\n",
    "qubic_biclusters['samples'] = qubic_biclusters['samples'].apply(lambda row: eval(row))\n",
    "qubic_biclusters.head(3)"
   ]
  },
  {
   "cell_type": "code",
   "execution_count": 11,
   "id": "joined-blocking",
   "metadata": {},
   "outputs": [
    {
     "data": {
      "text/plain": [
       "Th2 asthma    0.512821\n",
       "dtype: float64"
      ]
     },
     "execution_count": 11,
     "metadata": {},
     "output_type": "execute_result"
    }
   ],
   "source": [
    "performance, best_matches = calculate_perfromance(qubic_biclusters, \n",
    "                                                  known_groups, set(anno.index.values),adjust_pvals=True)\n",
    "performance"
   ]
  },
  {
   "cell_type": "code",
   "execution_count": 12,
   "id": "minus-auditor",
   "metadata": {},
   "outputs": [
    {
     "data": {
      "text/html": [
       "<div>\n",
       "<style scoped>\n",
       "    .dataframe tbody tr th:only-of-type {\n",
       "        vertical-align: middle;\n",
       "    }\n",
       "\n",
       "    .dataframe tbody tr th {\n",
       "        vertical-align: top;\n",
       "    }\n",
       "\n",
       "    .dataframe thead th {\n",
       "        text-align: right;\n",
       "    }\n",
       "</style>\n",
       "<table border=\"1\" class=\"dataframe\">\n",
       "  <thead>\n",
       "    <tr style=\"text-align: right;\">\n",
       "      <th></th>\n",
       "      <th>J</th>\n",
       "      <th>adj_pval</th>\n",
       "      <th>bm_id</th>\n",
       "      <th>is_enriched</th>\n",
       "      <th>weight</th>\n",
       "      <th>classification</th>\n",
       "    </tr>\n",
       "  </thead>\n",
       "  <tbody>\n",
       "    <tr>\n",
       "      <th>Th2-high</th>\n",
       "      <td>0.512821</td>\n",
       "      <td>0.0</td>\n",
       "      <td>934</td>\n",
       "      <td>True</td>\n",
       "      <td>1.0</td>\n",
       "      <td>Th2 asthma</td>\n",
       "    </tr>\n",
       "  </tbody>\n",
       "</table>\n",
       "</div>"
      ],
      "text/plain": [
       "                 J adj_pval bm_id is_enriched weight classification\n",
       "Th2-high  0.512821      0.0   934        True    1.0     Th2 asthma"
      ]
     },
     "execution_count": 12,
     "metadata": {},
     "output_type": "execute_result"
    }
   ],
   "source": [
    "best_matches"
   ]
  },
  {
   "cell_type": "code",
   "execution_count": 13,
   "id": "saved-islam",
   "metadata": {},
   "outputs": [
    {
     "data": {
      "text/plain": [
       "1.251236007783351e-07"
      ]
     },
     "execution_count": 13,
     "metadata": {},
     "output_type": "execute_result"
    }
   ],
   "source": [
    "best_matches[\"adj_pval\"][\"Th2-high\"] "
   ]
  },
  {
   "cell_type": "code",
   "execution_count": 14,
   "id": "opposed-development",
   "metadata": {},
   "outputs": [
    {
     "data": {
      "text/plain": [
       "'GSM98255 GSM98167 GSM98157 GSM98189 GSM98164 GSM98148 GSM98177 GSM98158 GSM98171 GSM98195 GSM98163 GSM98178 GSM98227 GSM98192 GSM98186 GSM98182 GSM98196 GSM98181 GSM98185 GSM98172 GSM98191 GSM98180'"
      ]
     },
     "execution_count": 14,
     "metadata": {},
     "output_type": "execute_result"
    }
   ],
   "source": [
    "\" \".join(qubic_biclusters.loc[934,\"samples\"])"
   ]
  },
  {
   "cell_type": "code",
   "execution_count": 15,
   "id": "velvet-record",
   "metadata": {},
   "outputs": [
    {
     "data": {
      "text/plain": [
       "'ADA2 CLCA1 CST1 CST4 DDX3Y DYNC2I1 EIF1AY EOLA1-DT ERVK13-1 FOLR1 IL6R KDM5D LOXL4 MOBP POU2AF1 RAI2 RPS4Y1 SCGB1A1 SLIT2 SNCAIP TTTY14 UTY ZFY'"
      ]
     },
     "execution_count": 15,
     "metadata": {},
     "output_type": "execute_result"
    }
   ],
   "source": [
    "\" \".join(sorted(qubic_biclusters.loc[934,\"genes\"]))"
   ]
  },
  {
   "cell_type": "markdown",
   "id": "helpful-rabbit",
   "metadata": {},
   "source": [
    "### k-means example"
   ]
  },
  {
   "cell_type": "code",
   "execution_count": 16,
   "id": "absent-minnesota",
   "metadata": {},
   "outputs": [
    {
     "data": {
      "text/html": [
       "<div>\n",
       "<style scoped>\n",
       "    .dataframe tbody tr th:only-of-type {\n",
       "        vertical-align: middle;\n",
       "    }\n",
       "\n",
       "    .dataframe tbody tr th {\n",
       "        vertical-align: top;\n",
       "    }\n",
       "\n",
       "    .dataframe thead th {\n",
       "        text-align: right;\n",
       "    }\n",
       "</style>\n",
       "<table border=\"1\" class=\"dataframe\">\n",
       "  <thead>\n",
       "    <tr style=\"text-align: right;\">\n",
       "      <th></th>\n",
       "      <th>samples</th>\n",
       "      <th>n_samples</th>\n",
       "      <th>frac_samples</th>\n",
       "    </tr>\n",
       "  </thead>\n",
       "  <tbody>\n",
       "    <tr>\n",
       "      <th>0</th>\n",
       "      <td>{GSM98176, GSM98206, GSM98157, GSM98213, GSM98...</td>\n",
       "      <td>46</td>\n",
       "      <td>0.389831</td>\n",
       "    </tr>\n",
       "    <tr>\n",
       "      <th>1</th>\n",
       "      <td>{GSM98239, GSM98179, GSM98234, GSM98196, GSM98...</td>\n",
       "      <td>72</td>\n",
       "      <td>0.610169</td>\n",
       "    </tr>\n",
       "  </tbody>\n",
       "</table>\n",
       "</div>"
      ],
      "text/plain": [
       "                                             samples  n_samples  frac_samples\n",
       "0  {GSM98176, GSM98206, GSM98157, GSM98213, GSM98...         46      0.389831\n",
       "1  {GSM98239, GSM98179, GSM98234, GSM98196, GSM98...         72      0.610169"
      ]
     },
     "execution_count": 16,
     "metadata": {},
     "output_type": "execute_result"
    }
   ],
   "source": [
    "kmeans_clusters = pd.read_csv(\"../../bicluster_examples/GSE4302.kmeans_defaults.run_1.tsv.csv\",sep =\"\\t\")\n",
    "kmeans_clusters[\"samples\"] = kmeans_clusters[\"samples\"].apply(lambda row: set(row.split(\" \")))\n",
    "kmeans_clusters "
   ]
  },
  {
   "cell_type": "code",
   "execution_count": 17,
   "id": "transparent-cancellation",
   "metadata": {},
   "outputs": [
    {
     "data": {
      "text/plain": [
       "Th2 asthma    0.0\n",
       "dtype: float64"
      ]
     },
     "execution_count": 17,
     "metadata": {},
     "output_type": "execute_result"
    }
   ],
   "source": [
    "performance, best_matches =  calculate_perfromance(kmeans_clusters, known_groups, set(anno.index.values))\n",
    "performance"
   ]
  },
  {
   "cell_type": "code",
   "execution_count": 18,
   "id": "starting-colony",
   "metadata": {},
   "outputs": [
    {
     "data": {
      "text/html": [
       "<div>\n",
       "<style scoped>\n",
       "    .dataframe tbody tr th:only-of-type {\n",
       "        vertical-align: middle;\n",
       "    }\n",
       "\n",
       "    .dataframe tbody tr th {\n",
       "        vertical-align: top;\n",
       "    }\n",
       "\n",
       "    .dataframe thead th {\n",
       "        text-align: right;\n",
       "    }\n",
       "</style>\n",
       "<table border=\"1\" class=\"dataframe\">\n",
       "  <thead>\n",
       "    <tr style=\"text-align: right;\">\n",
       "      <th></th>\n",
       "      <th>J</th>\n",
       "      <th>adj_pval</th>\n",
       "      <th>bm_id</th>\n",
       "      <th>is_enriched</th>\n",
       "      <th>weight</th>\n",
       "      <th>classification</th>\n",
       "    </tr>\n",
       "  </thead>\n",
       "  <tbody>\n",
       "    <tr>\n",
       "      <th>Th2-high</th>\n",
       "      <td>0.0</td>\n",
       "      <td>NaN</td>\n",
       "      <td>NaN</td>\n",
       "      <td>NaN</td>\n",
       "      <td>1.0</td>\n",
       "      <td>Th2 asthma</td>\n",
       "    </tr>\n",
       "  </tbody>\n",
       "</table>\n",
       "</div>"
      ],
      "text/plain": [
       "            J  adj_pval  bm_id  is_enriched  weight classification\n",
       "Th2-high  0.0       NaN    NaN          NaN     1.0     Th2 asthma"
      ]
     },
     "execution_count": 18,
     "metadata": {},
     "output_type": "execute_result"
    }
   ],
   "source": [
    "best_matches"
   ]
  },
  {
   "cell_type": "code",
   "execution_count": 19,
   "id": "annoying-omega",
   "metadata": {},
   "outputs": [],
   "source": [
    "#\" \".join(kmeans_clusters.loc[0,\"samples\"])"
   ]
  },
  {
   "cell_type": "code",
   "execution_count": 20,
   "id": "aware-product",
   "metadata": {},
   "outputs": [],
   "source": [
    "#\" \".join(kmeans_clusters.loc[1,\"samples\"])"
   ]
  }
 ],
 "metadata": {
  "kernelspec": {
   "display_name": "Python 3",
   "language": "python",
   "name": "python3"
  },
  "language_info": {
   "codemirror_mode": {
    "name": "ipython",
    "version": 3
   },
   "file_extension": ".py",
   "mimetype": "text/x-python",
   "name": "python",
   "nbconvert_exporter": "python",
   "pygments_lexer": "ipython3",
   "version": "3.8.3"
  }
 },
 "nbformat": 4,
 "nbformat_minor": 5
}
