{
 "cells": [
  {
   "cell_type": "markdown",
   "metadata": {},
   "source": [
    "# DESMOND2 \n",
    "Method demo on random data"
   ]
  },
  {
   "cell_type": "code",
   "execution_count": null,
   "metadata": {},
   "outputs": [],
   "source": [
    "# colab initialization\n",
    "!git clone https://github.com/ozolotareva/DESMOND2\n",
    "!pip3 install fisher"
   ]
  },
  {
   "cell_type": "code",
   "execution_count": null,
   "metadata": {},
   "outputs": [],
   "source": [
    "import sys,os\n",
    "import numpy as np\n",
    "import pandas as pd\n",
    "import random\n",
    "import math\n",
    "from time import time\n",
    "from datetime import datetime\n",
    "import matplotlib\n",
    "import matplotlib.pyplot as plt\n",
    "\n",
    "from DESMOND2 import method2  # DESMOND2 functions \n"
   ]
  },
  {
   "cell_type": "markdown",
   "metadata": {},
   "source": [
    "# Load exprs data (generate some random matrix)"
   ]
  },
  {
   "cell_type": "code",
   "execution_count": null,
   "metadata": {},
   "outputs": [],
   "source": [
    "def make_random_df(seed=0):\n",
    "    np.random.seed(seed)\n",
    "    rand_matrix = np.random.normal(size=(30, 20)).round(3)\n",
    "\n",
    "    diff = 5\n",
    "#     inds_up = np.s_[1:10, 1:10]\n",
    "#     rand_matrix[inds_up] += diff\n",
    "    \n",
    "    rand_matrix[1:10, 1:10] += diff\n",
    "    rand_matrix[22:28, 2:7] += diff\n",
    "    rand_matrix[12:26:2, 8:15] += diff\n",
    "    \n",
    "    inds_down = np.s_[11:25:2, 13:19]\n",
    "    rand_matrix[inds_down] -= diff\n",
    "\n",
    "\n",
    "    df = pd.DataFrame(rand_matrix)\n",
    "    df = df.rename(lambda x: f'col {x}', axis=1)\n",
    "    df = df.rename(lambda x: f'row {x}', axis=0)\n",
    "\n",
    "    return df\n",
    "    \n",
    "\n",
    "exprs = make_random_df()\n",
    "\n",
    "# for real data use smth like\n",
    "# exprs = pd.read_csv(\"TCGA_micro_nolog2.z.13K_common.tsv\", sep=\"\\t\",index_col=0)\n",
    "\n",
    "exprs.style.background_gradient(axis=None, low=0, high=2).format('{:.3f}')\n"
   ]
  },
  {
   "cell_type": "markdown",
   "metadata": {},
   "source": [
    "## Setting default metaparams"
   ]
  },
  {
   "cell_type": "code",
   "execution_count": null,
   "metadata": {},
   "outputs": [],
   "source": [
    "min_n_samples = -1\n",
    "alpha = 0.1\n",
    "beta_K = 100.0\n",
    "snr_pval = 0.05 \n",
    "f = 0.25 # min % of time in a module\n",
    "\n",
    "# convergence\n",
    "max_n_steps= 100\n",
    "n_steps_averaged = 10\n",
    "n_points_fit=20\n",
    "n_steps_for_convergence = 10\n",
    "\n",
    "verbose = True\n",
    "plot_all = True\n",
    "\n",
    "seed = 0"
   ]
  },
  {
   "cell_type": "markdown",
   "metadata": {},
   "source": [
    "# 0) Find the trend between SNR and bicluster size\n",
    "\n",
    "1) generate random splits for all bicluster sizes [min_n_samples, N/2]\n",
    "\n",
    "2) find SNR_thr(size) for a p-value cutoff, e.g. p_val =0.05\n",
    "\n",
    "get_snr_thr is a function of bicluser size \n"
   ]
  },
  {
   "cell_type": "code",
   "execution_count": null,
   "metadata": {},
   "outputs": [],
   "source": [
    "sizes, thresholds = method2.rand_norm_splits(\n",
    "    exprs.shape[1], \n",
    "    snr_pval = snr_pval,\n",
    "    seed = seed\n",
    ")\n",
    "get_min_snr = method2.get_trend(\n",
    "    sizes,\n",
    "    thresholds, \n",
    "    plot = plot_all\n",
    ")"
   ]
  },
  {
   "cell_type": "markdown",
   "metadata": {},
   "source": [
    "# 1) Assign patients to edges\n",
    " * GMM\n",
    " * filtering by sample nubmer and SNR"
   ]
  },
  {
   "cell_type": "code",
   "execution_count": null,
   "metadata": {
    "scrolled": false
   },
   "outputs": [],
   "source": [
    "binarized_expressions = method2.GM_binarization(\n",
    "    exprs,\n",
    "    get_min_snr,\n",
    "    min_n_samples,\n",
    "    verbose = True, \n",
    "    plot = True, \n",
    "    plot_SNR_thr = 3.0, \n",
    "    show_fits = [],\n",
    "    seed = seed\n",
    ")"
   ]
  },
  {
   "cell_type": "markdown",
   "metadata": {},
   "source": [
    "# Step 2. Sample module memberships"
   ]
  },
  {
   "cell_type": "code",
   "execution_count": null,
   "metadata": {},
   "outputs": [],
   "source": [
    "direction = \"UP\"\n",
    "# direction = \"DOWN\"\n",
    "exprs_bin = binarized_expressions[direction]\n",
    "exprs_bin.T"
   ]
  },
  {
   "cell_type": "code",
   "execution_count": null,
   "metadata": {
    "scrolled": true
   },
   "outputs": [],
   "source": [
    "print(\"Direction:\", direction)\n",
    "\n",
    "(\n",
    "    moduleSizes, \n",
    "    gene2Samples, \n",
    "    nOnesPerSampleInModules, \n",
    "    gene2Module, \n",
    "    moduleOneFreqs, \n",
    "    LP\n",
    ") = method2.set_initial_conditions(exprs_bin, alpha, beta_K, verbose=True)\n",
    "\n",
    "K = len(moduleSizes)\n",
    "N = gene2Samples.shape[1]\n",
    "print(\"\\t\\tLP memory, {:.2f} M\".format(LP.nbytes/(1024*1024)), file=sys.stdout)"
   ]
  },
  {
   "cell_type": "code",
   "execution_count": null,
   "metadata": {
    "scrolled": true
   },
   "outputs": [],
   "source": [
    "# init some often used vars\n",
    "p0 = N*np.log(0.5) + np.log(beta_K)\n",
    "match_score    = np.log((0.5*alpha + 1) / alpha)\n",
    "mismatch_score = np.log((0.5*alpha + 0) / alpha)\n",
    "bK_1 = math.log(1 + beta_K)\n",
    "\n",
    "t0 = time()\n",
    "gene2Module_history, sampling_steps, n_skipping_genes = method2.sampling(\n",
    "    LP,\n",
    "    gene2Module, \n",
    "    gene2Samples, \n",
    "    nOnesPerSampleInModules,\n",
    "    moduleSizes,\n",
    "    moduleOneFreqs, \n",
    "    p0, \n",
    "    match_score,\n",
    "    mismatch_score, \n",
    "    bK_1, \n",
    "    alpha, \n",
    "    beta_K,\n",
    "    max_n_steps = max_n_steps, \n",
    "    n_steps_averaged = n_steps_averaged, \n",
    "    n_points_fit = n_points_fit, \n",
    "    tol = 0.1,\n",
    "    n_steps_for_convergence = n_steps_for_convergence, \n",
    "    verbose = True\n",
    ")\n",
    "print(\"time:\\tSampling (%s steps) fininshed in %s s.\" %(len(gene2Module_history),round(time()-t0,2)), file = sys.stdout)\n"
   ]
  },
  {
   "cell_type": "code",
   "execution_count": null,
   "metadata": {},
   "outputs": [],
   "source": [
    "method2.plot_convergence(\n",
    "    n_skipping_genes[0:], \n",
    "    len(gene2Module_history) - sampling_steps - 0,\n",
    "    alpha = alpha, \n",
    "    beta_K = beta_K,\n",
    "    n_steps_averaged = n_steps_averaged,\n",
    "    n_points_fit = n_points_fit, \n",
    "    n_steps_for_convergence = n_steps_for_convergence,\n",
    "    save_plot = False\n",
    ")\n"
   ]
  },
  {
   "cell_type": "code",
   "execution_count": null,
   "metadata": {},
   "outputs": [],
   "source": [
    "consensus = method2.get_consensus_modules(gene2Module_history[-sampling_steps:], verbose=True)"
   ]
  },
  {
   "cell_type": "markdown",
   "metadata": {},
   "source": [
    "# 3) Define biclusters"
   ]
  },
  {
   "cell_type": "code",
   "execution_count": null,
   "metadata": {},
   "outputs": [],
   "source": [
    "genes = exprs_bin.columns.values\n",
    "exprs_np = exprs.loc[genes,:]\n",
    "ints2g_names = exprs_np.index.values\n",
    "ints2s_names = exprs_np.columns.values\n",
    "exprs_np = exprs_np.values\n",
    "exprs_sums = exprs_np.sum(axis=1)\n",
    "exprs_sq_sums = np.square(exprs_np).sum(axis=1)\n",
    "N = exprs.shape[1]\n",
    "exprs_data = N, exprs_sums, exprs_sq_sums"
   ]
  },
  {
   "cell_type": "code",
   "execution_count": null,
   "metadata": {},
   "outputs": [],
   "source": [
    "filtered_bics = method2.genesets2biclusters(\n",
    "    consensus, \n",
    "    exprs_np, \n",
    "    exprs_data,\n",
    "    ints2g_names,\n",
    "    ints2s_names,\n",
    "    min_SNR = 0,\n",
    "    min_n_samples = min_n_samples, \n",
    "    min_n_genes = 2,\n",
    "    verbose = verbose\n",
    ")"
   ]
  },
  {
   "cell_type": "markdown",
   "metadata": {},
   "source": [
    "## Found clusters"
   ]
  },
  {
   "cell_type": "code",
   "execution_count": null,
   "metadata": {
    "scrolled": false
   },
   "outputs": [],
   "source": [
    "colors = plt.get_cmap('tab20b')\n",
    "\n",
    "style = exprs.style.background_gradient(axis=None, low=0, high=2).format('{:.3f}')\n",
    "for i, bic in enumerate(filtered_bics):\n",
    "    style = style.set_properties(**{'background-color':matplotlib.colors.to_hex(colors(i))}, subset=(bic['genes'], bic['samples']))\n",
    "style"
   ]
  },
  {
   "cell_type": "code",
   "execution_count": null,
   "metadata": {},
   "outputs": [],
   "source": []
  }
 ],
 "metadata": {
  "kernelspec": {
   "display_name": "Python 3",
   "language": "python",
   "name": "python3"
  },
  "language_info": {
   "codemirror_mode": {
    "name": "ipython",
    "version": 3
   },
   "file_extension": ".py",
   "mimetype": "text/x-python",
   "name": "python",
   "nbconvert_exporter": "python",
   "pygments_lexer": "ipython3",
   "version": "3.6.9"
  }
 },
 "nbformat": 4,
 "nbformat_minor": 2
}
