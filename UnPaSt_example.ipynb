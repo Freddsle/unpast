{
 "cells": [
  {
   "cell_type": "code",
   "execution_count": 1,
   "id": "sticky-quality",
   "metadata": {},
   "outputs": [],
   "source": [
    "import sys\n",
    "import numpy as np\n",
    "import pandas as pd\n",
    "import random\n",
    "\n",
    "sys.path.append('/home/olya/TUM/DESMOND/DESMOND2/')\n",
    "from run_unpast import run\n",
    "\n",
    "from utils.method import read_bic_table, make_consensus_biclusters2, write_bic_table, zscore"
   ]
  },
  {
   "cell_type": "markdown",
   "id": "large-messenger",
   "metadata": {},
   "source": [
    "### Input and output"
   ]
  },
  {
   "cell_type": "code",
   "execution_count": 2,
   "id": "dependent-tourism",
   "metadata": {},
   "outputs": [],
   "source": [
    "exprs_file = \"test_data_TCGA200/TCGA_200.exprs_z.tsv\" # input .tsv file; features in rows, samples in columns\n",
    "exprs = pd.read_csv(exprs_file,sep = \"\\t\",index_col=0)\n",
    "basename = 'TCGA200' # output prefix\n",
    "out_dir = \"tmp_results/\" # output folder"
   ]
  },
  {
   "cell_type": "markdown",
   "id": "crazy-taylor",
   "metadata": {},
   "source": [
    "### Running UnPaSt five times\n",
    "\n",
    "* biclusters from individual runs:\n",
    "\n",
    "\\<basename>.seed=\\<seed>.bin=kmeans,pval=0.01,clust=WGCNA,direction=DOWN-UP,ds=3,dch=0.995,max_power=10,precluster=True.biclusters.tsv\n"
   ]
  },
  {
   "cell_type": "code",
   "execution_count": 3,
   "id": "impossible-world",
   "metadata": {},
   "outputs": [
    {
     "name": "stdout",
     "output_type": "stream",
     "text": [
      "generate  5  seeds [885440, 403958, 794772, 933488, 441001]\n"
     ]
    }
   ],
   "source": [
    "n_runs = 5\n",
    "seeds = []\n",
    "cseed = 0\n",
    "random.seed(cseed)\n",
    "for i in range(n_runs):\n",
    "    seeds.append(random.randint(0,1000000))\n",
    "print(\"generate \",n_runs,\" seeds\",seeds)"
   ]
  },
  {
   "cell_type": "code",
   "execution_count": 4,
   "id": "parallel-toilet",
   "metadata": {
    "scrolled": true
   },
   "outputs": [
    {
     "name": "stdout",
     "output_type": "stream",
     "text": [
      "Read input from: test_data_TCGA200/TCGA_200.exprs_z.tsv\n",
      "\t14986 features x 200 samples\n",
      "Standardized expressions will be limited to [-3,3]:\n",
      "Mininal number of samples in a bicluster: 5\n",
      "Load binarized features from tmp_results/TCGA200.seed=885440.bin_method=kmeans.min_ns=5.binarized.tsv \n",
      "\n",
      "\n",
      "Binarization started ....\n",
      "\n"
     ]
    },
    {
     "name": "stderr",
     "output_type": "stream",
     "text": [
      "Input is standardized.\n",
      "file tmp_results/TCGA200.seed=885440.bin_method=kmeans.min_ns=5.binarized.tsv is not found and will be created\n",
      "file tmp_results/TCGA200.seed=885440.bin_method=kmeans.min_ns=5.binarization_stats.tsv is not found and will be created\n"
     ]
    },
    {
     "name": "stdout",
     "output_type": "stream",
     "text": [
      "\t\tgenes processed: 0\n",
      "\t\tgenes processed: 1000\n",
      "\t\tgenes processed: 2000\n",
      "\t\tgenes processed: 3000\n",
      "\t\tgenes processed: 4000\n",
      "\t\tgenes processed: 5000\n",
      "\t\tgenes processed: 6000\n",
      "\t\tgenes processed: 7000\n",
      "\t\tgenes processed: 8000\n",
      "\t\tgenes processed: 9000\n",
      "\t\tgenes processed: 10000\n",
      "\t\tgenes processed: 11000\n",
      "\t\tgenes processed: 12000\n",
      "\t\tgenes processed: 13000\n",
      "\t\tgenes processed: 14000\n",
      "\tBinarization for 14986 features completed in 24.35 s\n",
      "\tGenerate background distribuition of SNR depending on the bicluster size ...\n",
      "\t\ttotal samples: 200,\n",
      "\t\tnumber of samples in a bicluster: 5 - 100,\n",
      "\t\tn_permutations: 10000\n",
      "\t\tsnr pval threshold: 0.01\n"
     ]
    },
    {
     "name": "stderr",
     "output_type": "stream",
     "text": [
      "file tmp_results/TCGA200.seed=885440.n=10000.min_ns=5.background.tsv is not found and will be created\n"
     ]
    },
    {
     "name": "stdout",
     "output_type": "stream",
     "text": [
      "\tBackground ditribution generated in 0.78 s\n",
      "\t\t\tLOWESS frac= 0.09\n",
      "Binarized gene expressions are saved to tmp_results/TCGA200.seed=885440.bin_method=kmeans.min_ns=5.binarized.tsv\n",
      "Statistics is saved to tmp_results/TCGA200.seed=885440.bin_method=kmeans.min_ns=5.binarization_stats.tsv\n",
      "Background sitribution is saved to tmp_results/TCGA200.seed=885440.n=10000.min_ns=5.background.tsv\n",
      "\t\tUP-regulated features:\t863\n",
      "\t\tDOWN-regulated features:\t365\n",
      "Clustering features ...\n",
      "\n",
      "\t\tWGCNA pre-clustering: True\n",
      "\tRunning WGCNA for tmp_results/TCGA200.kmeans.pval=0.01.seed=885440.DOWN.tmpWGCNA_24.04.30_01:23:27.tsv ...\n",
      "\tR command line:\n",
      "\tRscript /home/olya/TUM/DESMOND/DESMOND2/utils/run_WGCNA.R tmp_results/TCGA200.kmeans.pval=0.01.seed=885440.DOWN.tmpWGCNA_24.04.30_01:23:27.tsv 3 0.995 signed_hybrid 10 T\n",
      "\tWGCNA runtime: modules detected in 15.93 s.\n",
      "\tmodules: 22, not clustered features 162 \n",
      "\t\tWGCNA pre-clustering: True\n",
      "\tRunning WGCNA for tmp_results/TCGA200.kmeans.pval=0.01.seed=885440.UP.tmpWGCNA_24.04.30_01:23:43.tsv ...\n",
      "\tR command line:\n",
      "\tRscript /home/olya/TUM/DESMOND/DESMOND2/utils/run_WGCNA.R tmp_results/TCGA200.kmeans.pval=0.01.seed=885440.UP.tmpWGCNA_24.04.30_01:23:43.tsv 3 0.995 signed_hybrid 10 T\n"
     ]
    },
    {
     "name": "stderr",
     "output_type": "stream",
     "text": [
      "b'Warning messages:\\n1: replacing previous import \\xe2\\x80\\x98ellipsis::check_dots_unnamed\\xe2\\x80\\x99 by \\xe2\\x80\\x98rlang::check_dots_unnamed\\xe2\\x80\\x99 when loading \\xe2\\x80\\x98tibble\\xe2\\x80\\x99 \\n2: replacing previous import \\xe2\\x80\\x98ellipsis::check_dots_used\\xe2\\x80\\x99 by \\xe2\\x80\\x98rlang::check_dots_used\\xe2\\x80\\x99 when loading \\xe2\\x80\\x98tibble\\xe2\\x80\\x99 \\n3: replacing previous import \\xe2\\x80\\x98ellipsis::check_dots_empty\\xe2\\x80\\x99 by \\xe2\\x80\\x98rlang::check_dots_empty\\xe2\\x80\\x99 when loading \\xe2\\x80\\x98tibble\\xe2\\x80\\x99 \\n4: replacing previous import \\xe2\\x80\\x98ellipsis::check_dots_unnamed\\xe2\\x80\\x99 by \\xe2\\x80\\x98rlang::check_dots_unnamed\\xe2\\x80\\x99 when loading \\xe2\\x80\\x98pillar\\xe2\\x80\\x99 \\n5: replacing previous import \\xe2\\x80\\x98ellipsis::check_dots_used\\xe2\\x80\\x99 by \\xe2\\x80\\x98rlang::check_dots_used\\xe2\\x80\\x99 when loading \\xe2\\x80\\x98pillar\\xe2\\x80\\x99 \\n6: replacing previous import \\xe2\\x80\\x98ellipsis::check_dots_empty\\xe2\\x80\\x99 by \\xe2\\x80\\x98rlang::check_dots_empty\\xe2\\x80\\x99 when loading \\xe2\\x80\\x98pillar\\xe2\\x80\\x99 \\nWarning message:\\nexecuting %dopar% sequentially: no parallel backend registered \\n'\n"
     ]
    },
    {
     "name": "stdout",
     "output_type": "stream",
     "text": [
      "\tWGCNA runtime: modules detected in 17.32 s.\n",
      "\tmodules: 106, not clustered features 313 \n"
     ]
    },
    {
     "name": "stderr",
     "output_type": "stream",
     "text": [
      "b'Warning messages:\\n1: replacing previous import \\xe2\\x80\\x98ellipsis::check_dots_unnamed\\xe2\\x80\\x99 by \\xe2\\x80\\x98rlang::check_dots_unnamed\\xe2\\x80\\x99 when loading \\xe2\\x80\\x98tibble\\xe2\\x80\\x99 \\n2: replacing previous import \\xe2\\x80\\x98ellipsis::check_dots_used\\xe2\\x80\\x99 by \\xe2\\x80\\x98rlang::check_dots_used\\xe2\\x80\\x99 when loading \\xe2\\x80\\x98tibble\\xe2\\x80\\x99 \\n3: replacing previous import \\xe2\\x80\\x98ellipsis::check_dots_empty\\xe2\\x80\\x99 by \\xe2\\x80\\x98rlang::check_dots_empty\\xe2\\x80\\x99 when loading \\xe2\\x80\\x98tibble\\xe2\\x80\\x99 \\n4: replacing previous import \\xe2\\x80\\x98ellipsis::check_dots_unnamed\\xe2\\x80\\x99 by \\xe2\\x80\\x98rlang::check_dots_unnamed\\xe2\\x80\\x99 when loading \\xe2\\x80\\x98pillar\\xe2\\x80\\x99 \\n5: replacing previous import \\xe2\\x80\\x98ellipsis::check_dots_used\\xe2\\x80\\x99 by \\xe2\\x80\\x98rlang::check_dots_used\\xe2\\x80\\x99 when loading \\xe2\\x80\\x98pillar\\xe2\\x80\\x99 \\n6: replacing previous import \\xe2\\x80\\x98ellipsis::check_dots_empty\\xe2\\x80\\x99 by \\xe2\\x80\\x98rlang::check_dots_empty\\xe2\\x80\\x99 when loading \\xe2\\x80\\x98pillar\\xe2\\x80\\x99 \\nWarning message:\\nexecuting %dopar% sequentially: no parallel backend registered \\n'\n"
     ]
    },
    {
     "name": "stdout",
     "output_type": "stream",
     "text": [
      "\tJaccard similarities for 128 features computed in 0.10 s.\n",
      "No biclusters to merge\n",
      "tmp_results/TCGA200.seed=885440.bin=kmeans,pval=0.01,clust=WGCNA,direction=DOWN-UP,ds=3,dch=0.995,max_power=10,precluster=True.biclusters.tsv\n",
      "Total runtime: 69.32 s\n",
      "Read input from: test_data_TCGA200/TCGA_200.exprs_z.tsv\n",
      "\t14986 features x 200 samples\n",
      "Standardized expressions will be limited to [-3,3]:\n",
      "Mininal number of samples in a bicluster: 5\n",
      "Load binarized features from tmp_results/TCGA200.seed=403958.bin_method=kmeans.min_ns=5.binarized.tsv \n",
      "\n",
      "\n",
      "Binarization started ....\n",
      "\n",
      "\t\tgenes processed: 0\n"
     ]
    },
    {
     "name": "stderr",
     "output_type": "stream",
     "text": [
      "Input is standardized.\n",
      "file tmp_results/TCGA200.seed=403958.bin_method=kmeans.min_ns=5.binarized.tsv is not found and will be created\n",
      "file tmp_results/TCGA200.seed=403958.bin_method=kmeans.min_ns=5.binarization_stats.tsv is not found and will be created\n"
     ]
    },
    {
     "name": "stdout",
     "output_type": "stream",
     "text": [
      "\t\tgenes processed: 1000\n",
      "\t\tgenes processed: 2000\n",
      "\t\tgenes processed: 3000\n",
      "\t\tgenes processed: 4000\n",
      "\t\tgenes processed: 5000\n",
      "\t\tgenes processed: 6000\n",
      "\t\tgenes processed: 7000\n",
      "\t\tgenes processed: 8000\n",
      "\t\tgenes processed: 9000\n",
      "\t\tgenes processed: 10000\n",
      "\t\tgenes processed: 11000\n",
      "\t\tgenes processed: 12000\n",
      "\t\tgenes processed: 13000\n",
      "\t\tgenes processed: 14000\n",
      "\tBinarization for 14986 features completed in 27.72 s\n",
      "\tGenerate background distribuition of SNR depending on the bicluster size ...\n",
      "\t\ttotal samples: 200,\n",
      "\t\tnumber of samples in a bicluster: 5 - 100,\n",
      "\t\tn_permutations: 10000\n",
      "\t\tsnr pval threshold: 0.01\n"
     ]
    },
    {
     "name": "stderr",
     "output_type": "stream",
     "text": [
      "file tmp_results/TCGA200.seed=403958.n=10000.min_ns=5.background.tsv is not found and will be created\n"
     ]
    },
    {
     "name": "stdout",
     "output_type": "stream",
     "text": [
      "\tBackground ditribution generated in 0.91 s\n",
      "\t\t\tLOWESS frac= 0.09\n",
      "Binarized gene expressions are saved to tmp_results/TCGA200.seed=403958.bin_method=kmeans.min_ns=5.binarized.tsv\n",
      "Statistics is saved to tmp_results/TCGA200.seed=403958.bin_method=kmeans.min_ns=5.binarization_stats.tsv\n",
      "Background sitribution is saved to tmp_results/TCGA200.seed=403958.n=10000.min_ns=5.background.tsv\n",
      "\t\tUP-regulated features:\t874\n",
      "\t\tDOWN-regulated features:\t366\n",
      "Clustering features ...\n",
      "\n",
      "\t\tWGCNA pre-clustering: True\n",
      "\tRunning WGCNA for tmp_results/TCGA200.kmeans.pval=0.01.seed=403958.DOWN.tmpWGCNA_24.04.30_01:24:41.tsv ...\n",
      "\tR command line:\n",
      "\tRscript /home/olya/TUM/DESMOND/DESMOND2/utils/run_WGCNA.R tmp_results/TCGA200.kmeans.pval=0.01.seed=403958.DOWN.tmpWGCNA_24.04.30_01:24:41.tsv 3 0.995 signed_hybrid 10 T\n",
      "\tWGCNA runtime: modules detected in 16.58 s.\n",
      "\tmodules: 36, not clustered features 35 \n",
      "\t\tWGCNA pre-clustering: True\n",
      "\tRunning WGCNA for tmp_results/TCGA200.kmeans.pval=0.01.seed=403958.UP.tmpWGCNA_24.04.30_01:24:58.tsv ...\n",
      "\tR command line:\n",
      "\tRscript /home/olya/TUM/DESMOND/DESMOND2/utils/run_WGCNA.R tmp_results/TCGA200.kmeans.pval=0.01.seed=403958.UP.tmpWGCNA_24.04.30_01:24:58.tsv 3 0.995 signed_hybrid 10 T\n"
     ]
    },
    {
     "name": "stderr",
     "output_type": "stream",
     "text": [
      "b'Warning messages:\\n1: replacing previous import \\xe2\\x80\\x98ellipsis::check_dots_unnamed\\xe2\\x80\\x99 by \\xe2\\x80\\x98rlang::check_dots_unnamed\\xe2\\x80\\x99 when loading \\xe2\\x80\\x98tibble\\xe2\\x80\\x99 \\n2: replacing previous import \\xe2\\x80\\x98ellipsis::check_dots_used\\xe2\\x80\\x99 by \\xe2\\x80\\x98rlang::check_dots_used\\xe2\\x80\\x99 when loading \\xe2\\x80\\x98tibble\\xe2\\x80\\x99 \\n3: replacing previous import \\xe2\\x80\\x98ellipsis::check_dots_empty\\xe2\\x80\\x99 by \\xe2\\x80\\x98rlang::check_dots_empty\\xe2\\x80\\x99 when loading \\xe2\\x80\\x98tibble\\xe2\\x80\\x99 \\n4: replacing previous import \\xe2\\x80\\x98ellipsis::check_dots_unnamed\\xe2\\x80\\x99 by \\xe2\\x80\\x98rlang::check_dots_unnamed\\xe2\\x80\\x99 when loading \\xe2\\x80\\x98pillar\\xe2\\x80\\x99 \\n5: replacing previous import \\xe2\\x80\\x98ellipsis::check_dots_used\\xe2\\x80\\x99 by \\xe2\\x80\\x98rlang::check_dots_used\\xe2\\x80\\x99 when loading \\xe2\\x80\\x98pillar\\xe2\\x80\\x99 \\n6: replacing previous import \\xe2\\x80\\x98ellipsis::check_dots_empty\\xe2\\x80\\x99 by \\xe2\\x80\\x98rlang::check_dots_empty\\xe2\\x80\\x99 when loading \\xe2\\x80\\x98pillar\\xe2\\x80\\x99 \\nWarning message:\\nexecuting %dopar% sequentially: no parallel backend registered \\n'\n"
     ]
    },
    {
     "name": "stdout",
     "output_type": "stream",
     "text": [
      "\tWGCNA runtime: modules detected in 14.42 s.\n",
      "\tmodules: 72, not clustered features 137 \n"
     ]
    },
    {
     "name": "stderr",
     "output_type": "stream",
     "text": [
      "b'Warning messages:\\n1: replacing previous import \\xe2\\x80\\x98ellipsis::check_dots_unnamed\\xe2\\x80\\x99 by \\xe2\\x80\\x98rlang::check_dots_unnamed\\xe2\\x80\\x99 when loading \\xe2\\x80\\x98tibble\\xe2\\x80\\x99 \\n2: replacing previous import \\xe2\\x80\\x98ellipsis::check_dots_used\\xe2\\x80\\x99 by \\xe2\\x80\\x98rlang::check_dots_used\\xe2\\x80\\x99 when loading \\xe2\\x80\\x98tibble\\xe2\\x80\\x99 \\n3: replacing previous import \\xe2\\x80\\x98ellipsis::check_dots_empty\\xe2\\x80\\x99 by \\xe2\\x80\\x98rlang::check_dots_empty\\xe2\\x80\\x99 when loading \\xe2\\x80\\x98tibble\\xe2\\x80\\x99 \\n4: replacing previous import \\xe2\\x80\\x98ellipsis::check_dots_unnamed\\xe2\\x80\\x99 by \\xe2\\x80\\x98rlang::check_dots_unnamed\\xe2\\x80\\x99 when loading \\xe2\\x80\\x98pillar\\xe2\\x80\\x99 \\n5: replacing previous import \\xe2\\x80\\x98ellipsis::check_dots_used\\xe2\\x80\\x99 by \\xe2\\x80\\x98rlang::check_dots_used\\xe2\\x80\\x99 when loading \\xe2\\x80\\x98pillar\\xe2\\x80\\x99 \\n6: replacing previous import \\xe2\\x80\\x98ellipsis::check_dots_empty\\xe2\\x80\\x99 by \\xe2\\x80\\x98rlang::check_dots_empty\\xe2\\x80\\x99 when loading \\xe2\\x80\\x98pillar\\xe2\\x80\\x99 \\nWarning message:\\nexecuting %dopar% sequentially: no parallel backend registered \\n'\n"
     ]
    },
    {
     "name": "stdout",
     "output_type": "stream",
     "text": [
      "\tJaccard similarities for 108 features computed in 0.08 s.\n",
      "No biclusters to merge\n",
      "tmp_results/TCGA200.seed=403958.bin=kmeans,pval=0.01,clust=WGCNA,direction=DOWN-UP,ds=3,dch=0.995,max_power=10,precluster=True.biclusters.tsv\n",
      "Total runtime: 71.21 s\n",
      "Read input from: test_data_TCGA200/TCGA_200.exprs_z.tsv\n",
      "\t14986 features x 200 samples\n",
      "Standardized expressions will be limited to [-3,3]:\n",
      "Mininal number of samples in a bicluster: 5\n",
      "Load binarized features from tmp_results/TCGA200.seed=794772.bin_method=kmeans.min_ns=5.binarized.tsv \n",
      "\n",
      "\n",
      "Binarization started ....\n",
      "\n",
      "\t\tgenes processed: 0\n"
     ]
    },
    {
     "name": "stderr",
     "output_type": "stream",
     "text": [
      "Input is standardized.\n",
      "file tmp_results/TCGA200.seed=794772.bin_method=kmeans.min_ns=5.binarized.tsv is not found and will be created\n",
      "file tmp_results/TCGA200.seed=794772.bin_method=kmeans.min_ns=5.binarization_stats.tsv is not found and will be created\n"
     ]
    },
    {
     "name": "stdout",
     "output_type": "stream",
     "text": [
      "\t\tgenes processed: 1000\n",
      "\t\tgenes processed: 2000\n",
      "\t\tgenes processed: 3000\n",
      "\t\tgenes processed: 4000\n",
      "\t\tgenes processed: 5000\n",
      "\t\tgenes processed: 6000\n",
      "\t\tgenes processed: 7000\n",
      "\t\tgenes processed: 8000\n",
      "\t\tgenes processed: 9000\n",
      "\t\tgenes processed: 10000\n",
      "\t\tgenes processed: 11000\n",
      "\t\tgenes processed: 12000\n",
      "\t\tgenes processed: 13000\n",
      "\t\tgenes processed: 14000\n",
      "\tBinarization for 14986 features completed in 36.59 s\n",
      "\tGenerate background distribuition of SNR depending on the bicluster size ...\n",
      "\t\ttotal samples: 200,\n",
      "\t\tnumber of samples in a bicluster: 5 - 100,\n",
      "\t\tn_permutations: 10000\n",
      "\t\tsnr pval threshold: 0.01\n"
     ]
    },
    {
     "name": "stderr",
     "output_type": "stream",
     "text": [
      "file tmp_results/TCGA200.seed=794772.n=10000.min_ns=5.background.tsv is not found and will be created\n"
     ]
    },
    {
     "name": "stdout",
     "output_type": "stream",
     "text": [
      "\tBackground ditribution generated in 0.80 s\n",
      "\t\t\tLOWESS frac= 0.09\n",
      "Binarized gene expressions are saved to tmp_results/TCGA200.seed=794772.bin_method=kmeans.min_ns=5.binarized.tsv\n",
      "Statistics is saved to tmp_results/TCGA200.seed=794772.bin_method=kmeans.min_ns=5.binarization_stats.tsv\n",
      "Background sitribution is saved to tmp_results/TCGA200.seed=794772.n=10000.min_ns=5.background.tsv\n",
      "\t\tUP-regulated features:\t878\n",
      "\t\tDOWN-regulated features:\t364\n",
      "Clustering features ...\n",
      "\n",
      "\t\tWGCNA pre-clustering: True\n",
      "\tRunning WGCNA for tmp_results/TCGA200.kmeans.pval=0.01.seed=794772.DOWN.tmpWGCNA_24.04.30_01:26:02.tsv ...\n",
      "\tR command line:\n",
      "\tRscript /home/olya/TUM/DESMOND/DESMOND2/utils/run_WGCNA.R tmp_results/TCGA200.kmeans.pval=0.01.seed=794772.DOWN.tmpWGCNA_24.04.30_01:26:02.tsv 3 0.995 signed_hybrid 10 T\n",
      "\tWGCNA runtime: modules detected in 15.96 s.\n",
      "\tmodules: 22, not clustered features 151 \n",
      "\t\tWGCNA pre-clustering: True\n",
      "\tRunning WGCNA for tmp_results/TCGA200.kmeans.pval=0.01.seed=794772.UP.tmpWGCNA_24.04.30_01:26:18.tsv ...\n",
      "\tR command line:\n",
      "\tRscript /home/olya/TUM/DESMOND/DESMOND2/utils/run_WGCNA.R tmp_results/TCGA200.kmeans.pval=0.01.seed=794772.UP.tmpWGCNA_24.04.30_01:26:18.tsv 3 0.995 signed_hybrid 10 T\n"
     ]
    },
    {
     "name": "stderr",
     "output_type": "stream",
     "text": [
      "b'Warning messages:\\n1: replacing previous import \\xe2\\x80\\x98ellipsis::check_dots_unnamed\\xe2\\x80\\x99 by \\xe2\\x80\\x98rlang::check_dots_unnamed\\xe2\\x80\\x99 when loading \\xe2\\x80\\x98tibble\\xe2\\x80\\x99 \\n2: replacing previous import \\xe2\\x80\\x98ellipsis::check_dots_used\\xe2\\x80\\x99 by \\xe2\\x80\\x98rlang::check_dots_used\\xe2\\x80\\x99 when loading \\xe2\\x80\\x98tibble\\xe2\\x80\\x99 \\n3: replacing previous import \\xe2\\x80\\x98ellipsis::check_dots_empty\\xe2\\x80\\x99 by \\xe2\\x80\\x98rlang::check_dots_empty\\xe2\\x80\\x99 when loading \\xe2\\x80\\x98tibble\\xe2\\x80\\x99 \\n4: replacing previous import \\xe2\\x80\\x98ellipsis::check_dots_unnamed\\xe2\\x80\\x99 by \\xe2\\x80\\x98rlang::check_dots_unnamed\\xe2\\x80\\x99 when loading \\xe2\\x80\\x98pillar\\xe2\\x80\\x99 \\n5: replacing previous import \\xe2\\x80\\x98ellipsis::check_dots_used\\xe2\\x80\\x99 by \\xe2\\x80\\x98rlang::check_dots_used\\xe2\\x80\\x99 when loading \\xe2\\x80\\x98pillar\\xe2\\x80\\x99 \\n6: replacing previous import \\xe2\\x80\\x98ellipsis::check_dots_empty\\xe2\\x80\\x99 by \\xe2\\x80\\x98rlang::check_dots_empty\\xe2\\x80\\x99 when loading \\xe2\\x80\\x98pillar\\xe2\\x80\\x99 \\nWarning message:\\nexecuting %dopar% sequentially: no parallel backend registered \\n'\n"
     ]
    },
    {
     "name": "stdout",
     "output_type": "stream",
     "text": [
      "\tWGCNA runtime: modules detected in 17.03 s.\n",
      "\tmodules: 118, not clustered features 142 \n"
     ]
    },
    {
     "name": "stderr",
     "output_type": "stream",
     "text": [
      "b'Warning messages:\\n1: replacing previous import \\xe2\\x80\\x98ellipsis::check_dots_unnamed\\xe2\\x80\\x99 by \\xe2\\x80\\x98rlang::check_dots_unnamed\\xe2\\x80\\x99 when loading \\xe2\\x80\\x98tibble\\xe2\\x80\\x99 \\n2: replacing previous import \\xe2\\x80\\x98ellipsis::check_dots_used\\xe2\\x80\\x99 by \\xe2\\x80\\x98rlang::check_dots_used\\xe2\\x80\\x99 when loading \\xe2\\x80\\x98tibble\\xe2\\x80\\x99 \\n3: replacing previous import \\xe2\\x80\\x98ellipsis::check_dots_empty\\xe2\\x80\\x99 by \\xe2\\x80\\x98rlang::check_dots_empty\\xe2\\x80\\x99 when loading \\xe2\\x80\\x98tibble\\xe2\\x80\\x99 \\n4: replacing previous import \\xe2\\x80\\x98ellipsis::check_dots_unnamed\\xe2\\x80\\x99 by \\xe2\\x80\\x98rlang::check_dots_unnamed\\xe2\\x80\\x99 when loading \\xe2\\x80\\x98pillar\\xe2\\x80\\x99 \\n5: replacing previous import \\xe2\\x80\\x98ellipsis::check_dots_used\\xe2\\x80\\x99 by \\xe2\\x80\\x98rlang::check_dots_used\\xe2\\x80\\x99 when loading \\xe2\\x80\\x98pillar\\xe2\\x80\\x99 \\n6: replacing previous import \\xe2\\x80\\x98ellipsis::check_dots_empty\\xe2\\x80\\x99 by \\xe2\\x80\\x98rlang::check_dots_empty\\xe2\\x80\\x99 when loading \\xe2\\x80\\x98pillar\\xe2\\x80\\x99 \\nWarning message:\\nexecuting %dopar% sequentially: no parallel backend registered \\n'\n"
     ]
    },
    {
     "name": "stdout",
     "output_type": "stream",
     "text": [
      "\tJaccard similarities for 140 features computed in 0.15 s.\n",
      "No biclusters to merge\n",
      "tmp_results/TCGA200.seed=794772.bin=kmeans,pval=0.01,clust=WGCNA,direction=DOWN-UP,ds=3,dch=0.995,max_power=10,precluster=True.biclusters.tsv\n",
      "Total runtime: 83.75 s\n",
      "Read input from: test_data_TCGA200/TCGA_200.exprs_z.tsv\n",
      "\t14986 features x 200 samples\n",
      "Standardized expressions will be limited to [-3,3]:\n",
      "Mininal number of samples in a bicluster: 5\n",
      "Load binarized features from tmp_results/TCGA200.seed=933488.bin_method=kmeans.min_ns=5.binarized.tsv \n",
      "\n",
      "\n",
      "Binarization started ....\n",
      "\n",
      "\t\tgenes processed: 0\n"
     ]
    },
    {
     "name": "stderr",
     "output_type": "stream",
     "text": [
      "Input is standardized.\n",
      "file tmp_results/TCGA200.seed=933488.bin_method=kmeans.min_ns=5.binarized.tsv is not found and will be created\n",
      "file tmp_results/TCGA200.seed=933488.bin_method=kmeans.min_ns=5.binarization_stats.tsv is not found and will be created\n"
     ]
    },
    {
     "name": "stdout",
     "output_type": "stream",
     "text": [
      "\t\tgenes processed: 1000\n",
      "\t\tgenes processed: 2000\n",
      "\t\tgenes processed: 3000\n",
      "\t\tgenes processed: 4000\n",
      "\t\tgenes processed: 5000\n",
      "\t\tgenes processed: 6000\n",
      "\t\tgenes processed: 7000\n",
      "\t\tgenes processed: 8000\n",
      "\t\tgenes processed: 9000\n",
      "\t\tgenes processed: 10000\n",
      "\t\tgenes processed: 11000\n",
      "\t\tgenes processed: 12000\n",
      "\t\tgenes processed: 13000\n",
      "\t\tgenes processed: 14000\n",
      "\tBinarization for 14986 features completed in 33.02 s\n",
      "\tGenerate background distribuition of SNR depending on the bicluster size ...\n",
      "\t\ttotal samples: 200,\n",
      "\t\tnumber of samples in a bicluster: 5 - 100,\n",
      "\t\tn_permutations: 10000\n",
      "\t\tsnr pval threshold: 0.01\n"
     ]
    },
    {
     "name": "stderr",
     "output_type": "stream",
     "text": [
      "file tmp_results/TCGA200.seed=933488.n=10000.min_ns=5.background.tsv is not found and will be created\n"
     ]
    },
    {
     "name": "stdout",
     "output_type": "stream",
     "text": [
      "\tBackground ditribution generated in 0.75 s\n",
      "\t\t\tLOWESS frac= 0.09\n",
      "Binarized gene expressions are saved to tmp_results/TCGA200.seed=933488.bin_method=kmeans.min_ns=5.binarized.tsv\n",
      "Statistics is saved to tmp_results/TCGA200.seed=933488.bin_method=kmeans.min_ns=5.binarization_stats.tsv\n",
      "Background sitribution is saved to tmp_results/TCGA200.seed=933488.n=10000.min_ns=5.background.tsv\n",
      "\t\tUP-regulated features:\t890\n",
      "\t\tDOWN-regulated features:\t373\n",
      "Clustering features ...\n",
      "\n",
      "\t\tWGCNA pre-clustering: True\n",
      "\tRunning WGCNA for tmp_results/TCGA200.kmeans.pval=0.01.seed=933488.DOWN.tmpWGCNA_24.04.30_01:27:21.tsv ...\n",
      "\tR command line:\n",
      "\tRscript /home/olya/TUM/DESMOND/DESMOND2/utils/run_WGCNA.R tmp_results/TCGA200.kmeans.pval=0.01.seed=933488.DOWN.tmpWGCNA_24.04.30_01:27:21.tsv 3 0.995 signed_hybrid 10 T\n",
      "\tWGCNA runtime: modules detected in 14.94 s.\n",
      "\tmodules: 38, not clustered features 42 \n",
      "\t\tWGCNA pre-clustering: True\n",
      "\tRunning WGCNA for tmp_results/TCGA200.kmeans.pval=0.01.seed=933488.UP.tmpWGCNA_24.04.30_01:27:36.tsv ...\n",
      "\tR command line:\n",
      "\tRscript /home/olya/TUM/DESMOND/DESMOND2/utils/run_WGCNA.R tmp_results/TCGA200.kmeans.pval=0.01.seed=933488.UP.tmpWGCNA_24.04.30_01:27:36.tsv 3 0.995 signed_hybrid 10 T\n"
     ]
    },
    {
     "name": "stderr",
     "output_type": "stream",
     "text": [
      "b'Warning messages:\\n1: replacing previous import \\xe2\\x80\\x98ellipsis::check_dots_unnamed\\xe2\\x80\\x99 by \\xe2\\x80\\x98rlang::check_dots_unnamed\\xe2\\x80\\x99 when loading \\xe2\\x80\\x98tibble\\xe2\\x80\\x99 \\n2: replacing previous import \\xe2\\x80\\x98ellipsis::check_dots_used\\xe2\\x80\\x99 by \\xe2\\x80\\x98rlang::check_dots_used\\xe2\\x80\\x99 when loading \\xe2\\x80\\x98tibble\\xe2\\x80\\x99 \\n3: replacing previous import \\xe2\\x80\\x98ellipsis::check_dots_empty\\xe2\\x80\\x99 by \\xe2\\x80\\x98rlang::check_dots_empty\\xe2\\x80\\x99 when loading \\xe2\\x80\\x98tibble\\xe2\\x80\\x99 \\n4: replacing previous import \\xe2\\x80\\x98ellipsis::check_dots_unnamed\\xe2\\x80\\x99 by \\xe2\\x80\\x98rlang::check_dots_unnamed\\xe2\\x80\\x99 when loading \\xe2\\x80\\x98pillar\\xe2\\x80\\x99 \\n5: replacing previous import \\xe2\\x80\\x98ellipsis::check_dots_used\\xe2\\x80\\x99 by \\xe2\\x80\\x98rlang::check_dots_used\\xe2\\x80\\x99 when loading \\xe2\\x80\\x98pillar\\xe2\\x80\\x99 \\n6: replacing previous import \\xe2\\x80\\x98ellipsis::check_dots_empty\\xe2\\x80\\x99 by \\xe2\\x80\\x98rlang::check_dots_empty\\xe2\\x80\\x99 when loading \\xe2\\x80\\x98pillar\\xe2\\x80\\x99 \\nWarning message:\\nexecuting %dopar% sequentially: no parallel backend registered \\n'\n"
     ]
    },
    {
     "name": "stdout",
     "output_type": "stream",
     "text": [
      "\tWGCNA runtime: modules detected in 16.47 s.\n",
      "\tmodules: 93, not clustered features 103 \n"
     ]
    },
    {
     "name": "stderr",
     "output_type": "stream",
     "text": [
      "b'Warning messages:\\n1: replacing previous import \\xe2\\x80\\x98ellipsis::check_dots_unnamed\\xe2\\x80\\x99 by \\xe2\\x80\\x98rlang::check_dots_unnamed\\xe2\\x80\\x99 when loading \\xe2\\x80\\x98tibble\\xe2\\x80\\x99 \\n2: replacing previous import \\xe2\\x80\\x98ellipsis::check_dots_used\\xe2\\x80\\x99 by \\xe2\\x80\\x98rlang::check_dots_used\\xe2\\x80\\x99 when loading \\xe2\\x80\\x98tibble\\xe2\\x80\\x99 \\n3: replacing previous import \\xe2\\x80\\x98ellipsis::check_dots_empty\\xe2\\x80\\x99 by \\xe2\\x80\\x98rlang::check_dots_empty\\xe2\\x80\\x99 when loading \\xe2\\x80\\x98tibble\\xe2\\x80\\x99 \\n4: replacing previous import \\xe2\\x80\\x98ellipsis::check_dots_unnamed\\xe2\\x80\\x99 by \\xe2\\x80\\x98rlang::check_dots_unnamed\\xe2\\x80\\x99 when loading \\xe2\\x80\\x98pillar\\xe2\\x80\\x99 \\n5: replacing previous import \\xe2\\x80\\x98ellipsis::check_dots_used\\xe2\\x80\\x99 by \\xe2\\x80\\x98rlang::check_dots_used\\xe2\\x80\\x99 when loading \\xe2\\x80\\x98pillar\\xe2\\x80\\x99 \\n6: replacing previous import \\xe2\\x80\\x98ellipsis::check_dots_empty\\xe2\\x80\\x99 by \\xe2\\x80\\x98rlang::check_dots_empty\\xe2\\x80\\x99 when loading \\xe2\\x80\\x98pillar\\xe2\\x80\\x99 \\nWarning message:\\nexecuting %dopar% sequentially: no parallel backend registered \\n'\n"
     ]
    },
    {
     "name": "stdout",
     "output_type": "stream",
     "text": [
      "\tJaccard similarities for 131 features computed in 0.09 s.\n",
      "No biclusters to merge\n",
      "tmp_results/TCGA200.seed=933488.bin=kmeans,pval=0.01,clust=WGCNA,direction=DOWN-UP,ds=3,dch=0.995,max_power=10,precluster=True.biclusters.tsv\n",
      "Total runtime: 76.77 s\n",
      "Read input from: test_data_TCGA200/TCGA_200.exprs_z.tsv\n",
      "\t14986 features x 200 samples\n",
      "Standardized expressions will be limited to [-3,3]:\n",
      "Mininal number of samples in a bicluster: 5\n",
      "Load binarized features from tmp_results/TCGA200.seed=441001.bin_method=kmeans.min_ns=5.binarized.tsv \n",
      "\n",
      "\n",
      "Binarization started ....\n",
      "\n",
      "\t\tgenes processed: 0\n"
     ]
    },
    {
     "name": "stderr",
     "output_type": "stream",
     "text": [
      "Input is standardized.\n",
      "file tmp_results/TCGA200.seed=441001.bin_method=kmeans.min_ns=5.binarized.tsv is not found and will be created\n",
      "file tmp_results/TCGA200.seed=441001.bin_method=kmeans.min_ns=5.binarization_stats.tsv is not found and will be created\n"
     ]
    },
    {
     "name": "stdout",
     "output_type": "stream",
     "text": [
      "\t\tgenes processed: 1000\n",
      "\t\tgenes processed: 2000\n",
      "\t\tgenes processed: 3000\n",
      "\t\tgenes processed: 4000\n",
      "\t\tgenes processed: 5000\n",
      "\t\tgenes processed: 6000\n",
      "\t\tgenes processed: 7000\n",
      "\t\tgenes processed: 8000\n",
      "\t\tgenes processed: 9000\n",
      "\t\tgenes processed: 10000\n",
      "\t\tgenes processed: 11000\n",
      "\t\tgenes processed: 12000\n",
      "\t\tgenes processed: 13000\n",
      "\t\tgenes processed: 14000\n",
      "\tBinarization for 14986 features completed in 27.38 s\n",
      "\tGenerate background distribuition of SNR depending on the bicluster size ...\n",
      "\t\ttotal samples: 200,\n",
      "\t\tnumber of samples in a bicluster: 5 - 100,\n",
      "\t\tn_permutations: 10000\n",
      "\t\tsnr pval threshold: 0.01\n"
     ]
    },
    {
     "name": "stderr",
     "output_type": "stream",
     "text": [
      "file tmp_results/TCGA200.seed=441001.n=10000.min_ns=5.background.tsv is not found and will be created\n"
     ]
    },
    {
     "name": "stdout",
     "output_type": "stream",
     "text": [
      "\tBackground ditribution generated in 0.70 s\n",
      "\t\t\tLOWESS frac= 0.09\n",
      "Binarized gene expressions are saved to tmp_results/TCGA200.seed=441001.bin_method=kmeans.min_ns=5.binarized.tsv\n",
      "Statistics is saved to tmp_results/TCGA200.seed=441001.bin_method=kmeans.min_ns=5.binarization_stats.tsv\n",
      "Background sitribution is saved to tmp_results/TCGA200.seed=441001.n=10000.min_ns=5.background.tsv\n",
      "\t\tUP-regulated features:\t867\n",
      "\t\tDOWN-regulated features:\t360\n",
      "Clustering features ...\n",
      "\n",
      "\t\tWGCNA pre-clustering: True\n",
      "\tRunning WGCNA for tmp_results/TCGA200.kmeans.pval=0.01.seed=441001.DOWN.tmpWGCNA_24.04.30_01:28:31.tsv ...\n",
      "\tR command line:\n",
      "\tRscript /home/olya/TUM/DESMOND/DESMOND2/utils/run_WGCNA.R tmp_results/TCGA200.kmeans.pval=0.01.seed=441001.DOWN.tmpWGCNA_24.04.30_01:28:31.tsv 3 0.995 signed_hybrid 10 T\n",
      "\tWGCNA runtime: modules detected in 14.57 s.\n",
      "\tmodules: 24, not clustered features 78 \n",
      "\t\tWGCNA pre-clustering: True\n",
      "\tRunning WGCNA for tmp_results/TCGA200.kmeans.pval=0.01.seed=441001.UP.tmpWGCNA_24.04.30_01:28:46.tsv ...\n",
      "\tR command line:\n",
      "\tRscript /home/olya/TUM/DESMOND/DESMOND2/utils/run_WGCNA.R tmp_results/TCGA200.kmeans.pval=0.01.seed=441001.UP.tmpWGCNA_24.04.30_01:28:46.tsv 3 0.995 signed_hybrid 10 T\n"
     ]
    },
    {
     "name": "stderr",
     "output_type": "stream",
     "text": [
      "b'Warning messages:\\n1: replacing previous import \\xe2\\x80\\x98ellipsis::check_dots_unnamed\\xe2\\x80\\x99 by \\xe2\\x80\\x98rlang::check_dots_unnamed\\xe2\\x80\\x99 when loading \\xe2\\x80\\x98tibble\\xe2\\x80\\x99 \\n2: replacing previous import \\xe2\\x80\\x98ellipsis::check_dots_used\\xe2\\x80\\x99 by \\xe2\\x80\\x98rlang::check_dots_used\\xe2\\x80\\x99 when loading \\xe2\\x80\\x98tibble\\xe2\\x80\\x99 \\n3: replacing previous import \\xe2\\x80\\x98ellipsis::check_dots_empty\\xe2\\x80\\x99 by \\xe2\\x80\\x98rlang::check_dots_empty\\xe2\\x80\\x99 when loading \\xe2\\x80\\x98tibble\\xe2\\x80\\x99 \\n4: replacing previous import \\xe2\\x80\\x98ellipsis::check_dots_unnamed\\xe2\\x80\\x99 by \\xe2\\x80\\x98rlang::check_dots_unnamed\\xe2\\x80\\x99 when loading \\xe2\\x80\\x98pillar\\xe2\\x80\\x99 \\n5: replacing previous import \\xe2\\x80\\x98ellipsis::check_dots_used\\xe2\\x80\\x99 by \\xe2\\x80\\x98rlang::check_dots_used\\xe2\\x80\\x99 when loading \\xe2\\x80\\x98pillar\\xe2\\x80\\x99 \\n6: replacing previous import \\xe2\\x80\\x98ellipsis::check_dots_empty\\xe2\\x80\\x99 by \\xe2\\x80\\x98rlang::check_dots_empty\\xe2\\x80\\x99 when loading \\xe2\\x80\\x98pillar\\xe2\\x80\\x99 \\nWarning message:\\nexecuting %dopar% sequentially: no parallel backend registered \\n'\n"
     ]
    },
    {
     "name": "stdout",
     "output_type": "stream",
     "text": [
      "\tWGCNA runtime: modules detected in 16.57 s.\n",
      "\tmodules: 86, not clustered features 118 \n"
     ]
    },
    {
     "name": "stderr",
     "output_type": "stream",
     "text": [
      "b'Warning messages:\\n1: replacing previous import \\xe2\\x80\\x98ellipsis::check_dots_unnamed\\xe2\\x80\\x99 by \\xe2\\x80\\x98rlang::check_dots_unnamed\\xe2\\x80\\x99 when loading \\xe2\\x80\\x98tibble\\xe2\\x80\\x99 \\n2: replacing previous import \\xe2\\x80\\x98ellipsis::check_dots_used\\xe2\\x80\\x99 by \\xe2\\x80\\x98rlang::check_dots_used\\xe2\\x80\\x99 when loading \\xe2\\x80\\x98tibble\\xe2\\x80\\x99 \\n3: replacing previous import \\xe2\\x80\\x98ellipsis::check_dots_empty\\xe2\\x80\\x99 by \\xe2\\x80\\x98rlang::check_dots_empty\\xe2\\x80\\x99 when loading \\xe2\\x80\\x98tibble\\xe2\\x80\\x99 \\n4: replacing previous import \\xe2\\x80\\x98ellipsis::check_dots_unnamed\\xe2\\x80\\x99 by \\xe2\\x80\\x98rlang::check_dots_unnamed\\xe2\\x80\\x99 when loading \\xe2\\x80\\x98pillar\\xe2\\x80\\x99 \\n5: replacing previous import \\xe2\\x80\\x98ellipsis::check_dots_used\\xe2\\x80\\x99 by \\xe2\\x80\\x98rlang::check_dots_used\\xe2\\x80\\x99 when loading \\xe2\\x80\\x98pillar\\xe2\\x80\\x99 \\n6: replacing previous import \\xe2\\x80\\x98ellipsis::check_dots_empty\\xe2\\x80\\x99 by \\xe2\\x80\\x98rlang::check_dots_empty\\xe2\\x80\\x99 when loading \\xe2\\x80\\x98pillar\\xe2\\x80\\x99 \\nWarning message:\\nexecuting %dopar% sequentially: no parallel backend registered \\n'\n"
     ]
    },
    {
     "name": "stdout",
     "output_type": "stream",
     "text": [
      "\tJaccard similarities for 110 features computed in 0.07 s.\n",
      "No biclusters to merge\n",
      "tmp_results/TCGA200.seed=441001.bin=kmeans,pval=0.01,clust=WGCNA,direction=DOWN-UP,ds=3,dch=0.995,max_power=10,precluster=True.biclusters.tsv\n",
      "Total runtime: 69.52 s\n"
     ]
    }
   ],
   "source": [
    "biclusters = []\n",
    "for seed in seeds:\n",
    "    # find and save biclusters\n",
    "    results = run(exprs_file, basename,\n",
    "                          out_dir=out_dir,\n",
    "                          save=True, load=True,\n",
    "                          # optional: show distributions of listed features after binarization\n",
    "                          # show_fits = [\"SEZ6\",\"SYP\",\"ESR1\",\"ERBB2\",\"FOXA1\",\"PTH2R\"], \n",
    "                          seed = seed,\n",
    "                          verbose = True)\n",
    "    results.index = [\"seed=\"+str(seed)+\"_\"+str(x) for x in results.index.values ]\n",
    "    biclusters.append(results)\n"
   ]
  },
  {
   "cell_type": "code",
   "execution_count": 5,
   "id": "sound-helping",
   "metadata": {},
   "outputs": [
    {
     "name": "stdout",
     "output_type": "stream",
     "text": [
      "seed=885440\tn_biclusters: 128\n",
      "seed=403958\tn_biclusters: 108\n",
      "seed=794772\tn_biclusters: 140\n",
      "seed=933488\tn_biclusters: 131\n",
      "seed=441001\tn_biclusters: 110\n"
     ]
    }
   ],
   "source": [
    "for i in range(len(biclusters)):\n",
    "    print(\"seed=%s\\tn_biclusters: %s\"%(seeds[i], biclusters[i].shape[0]))"
   ]
  },
  {
   "cell_type": "markdown",
   "id": "paperback-editing",
   "metadata": {},
   "source": [
    "### Consensus biclusters from 5 runs\n",
    "\n",
    "* consensus biclusters:\n",
    "\n",
    "TCGA200.consensus_seed=0.bin=kmeans,pval=0.01,clust=WGCNA,direction=DOWN-UP,ds=3,dch=0.995,max_power=10,precluster=True.biclusters.tsv\n"
   ]
  },
  {
   "cell_type": "code",
   "execution_count": 6,
   "id": "facial-ordinary",
   "metadata": {},
   "outputs": [
    {
     "data": {
      "image/png": "[encoded data removed]",
      "text/plain": [
       "<Figure size 216x216 with 4 Axes>"
      ]
     },
     "metadata": {
      "needs_background": "light"
     },
     "output_type": "display_data"
    },
    {
     "data": {
      "image/png": "[encoded data removed]",
      "text/plain": [
       "<Figure size 504x504 with 4 Axes>"
      ]
     },
     "metadata": {
      "needs_background": "light"
     },
     "output_type": "display_data"
    },
    {
     "name": "stdout",
     "output_type": "stream",
     "text": [
      "22 s for similarity matrix\n",
      "\tRunning Louvain ...\n",
      "\t\tmodularity: potts\n",
      "\tcurve type: increasing\n"
     ]
    },
    {
     "data": {
      "image/png": "[encoded data removed]",
      "text/plain": [
       "<Figure size 432x288 with 1 Axes>"
      ]
     },
     "metadata": {
      "needs_background": "light"
     },
     "output_type": "display_data"
    },
    {
     "name": "stdout",
     "output_type": "stream",
     "text": [
      "\tLouvain runtime: modules detected in 0.52 s.\n",
      "\tmodules: 129, not clustered features 83 \n",
      "\t\tsimilarity cutoff: 0.38 modularity: 0.990\n",
      "all consensus biclusters: 218\n",
      "detected 2+ times:123\n",
      "3 s for making consensus biclusters from consensus gene sets\n"
     ]
    }
   ],
   "source": [
    "consensus_biclusters = make_consensus_biclusters2(biclusters, zscore(exprs), \n",
    "                                                      seed = cseed,\n",
    "                                                      verbose = True,\n",
    "                                                      plot = True)"
   ]
  },
  {
   "cell_type": "code",
   "execution_count": 7,
   "id": "signal-income",
   "metadata": {},
   "outputs": [
    {
     "data": {
      "text/plain": [
       "'tmp_results/TCGA200.consensus_seed=0.bin=kmeans,pval=0.01,clust=WGCNA,direction=DOWN-UP,ds=3,dch=0.995,max_power=10,precluster=True.biclusters.tsv'"
      ]
     },
     "execution_count": 7,
     "metadata": {},
     "output_type": "execute_result"
    }
   ],
   "source": [
    "# save consensus biclusters\n",
    "outfile = out_dir+basename+\".consensus_seed=\"+str(cseed)+\".bin=kmeans,pval=0.01,clust=WGCNA,direction=DOWN-UP,ds=3,dch=0.995,max_power=10,precluster=True.biclusters.tsv\"\n",
    "write_bic_table(consensus_biclusters,outfile)\n",
    "outfile"
   ]
  },
  {
   "cell_type": "code",
   "execution_count": null,
   "id": "defensive-madagascar",
   "metadata": {},
   "outputs": [],
   "source": []
  },
  {
   "cell_type": "code",
   "execution_count": null,
   "id": "incident-crossing",
   "metadata": {},
   "outputs": [],
   "source": []
  },
  {
   "cell_type": "code",
   "execution_count": null,
   "id": "artificial-campus",
   "metadata": {},
   "outputs": [],
   "source": []
  },
  {
   "cell_type": "markdown",
   "id": "conditional-arcade",
   "metadata": {},
   "source": [
    "# Example biclusters "
   ]
  },
  {
   "cell_type": "code",
   "execution_count": 8,
   "id": "electric-dining",
   "metadata": {},
   "outputs": [
    {
     "data": {
      "text/html": [
       "<div>\n",
       "<style scoped>\n",
       "    .dataframe tbody tr th:only-of-type {\n",
       "        vertical-align: middle;\n",
       "    }\n",
       "\n",
       "    .dataframe tbody tr th {\n",
       "        vertical-align: top;\n",
       "    }\n",
       "\n",
       "    .dataframe thead th {\n",
       "        text-align: right;\n",
       "    }\n",
       "</style>\n",
       "<table border=\"1\" class=\"dataframe\">\n",
       "  <thead>\n",
       "    <tr style=\"text-align: right;\">\n",
       "      <th></th>\n",
       "      <th>SNR</th>\n",
       "      <th>n_genes</th>\n",
       "      <th>n_samples</th>\n",
       "      <th>genes</th>\n",
       "      <th>samples</th>\n",
       "      <th>genes_up</th>\n",
       "      <th>genes_down</th>\n",
       "      <th>gene_indexes</th>\n",
       "      <th>sample_indexes</th>\n",
       "      <th>direction</th>\n",
       "      <th>detected_n_times</th>\n",
       "    </tr>\n",
       "  </thead>\n",
       "  <tbody>\n",
       "    <tr>\n",
       "      <th>0</th>\n",
       "      <td>3.236828</td>\n",
       "      <td>211</td>\n",
       "      <td>36</td>\n",
       "      <td>{FOXD1, LMAN1L, RASGEF1C, GABBR2, CALML5, STRA...</td>\n",
       "      <td>{TCGA-E2-A1II-01, TCGA-AN-A0FL-01, TCGA-GI-A2C...</td>\n",
       "      <td>{FOXD1, LMAN1L, RASGEF1C, GABBR2, CALML5, STRA...</td>\n",
       "      <td>{AGR2, GATA3, PRR15, FOXA1, SEMA3C, TMC5, SLC4...</td>\n",
       "      <td>{9729, 12290, 3077, 5647, 7695, 1553, 3602, 11...</td>\n",
       "      <td>{128, 2, 131, 4, 7, 136, 139, 12, 13, 145, 19,...</td>\n",
       "      <td>BOTH</td>\n",
       "      <td>9</td>\n",
       "    </tr>\n",
       "    <tr>\n",
       "      <th>1</th>\n",
       "      <td>2.5962</td>\n",
       "      <td>2</td>\n",
       "      <td>12</td>\n",
       "      <td>{RIPPLY2, NTSR2}</td>\n",
       "      <td>{TCGA-E2-A1II-01, TCGA-A1-A0SO-01, TCGA-A2-A0D...</td>\n",
       "      <td>{RIPPLY2, NTSR2}</td>\n",
       "      <td>{}</td>\n",
       "      <td>{8720, 10689}</td>\n",
       "      <td>{96, 33, 2, 162, 193, 165, 198, 7, 13, 21, 86,...</td>\n",
       "      <td>UP</td>\n",
       "      <td>2</td>\n",
       "    </tr>\n",
       "    <tr>\n",
       "      <th>2</th>\n",
       "      <td>2.462216</td>\n",
       "      <td>146</td>\n",
       "      <td>47</td>\n",
       "      <td>{TMPRSS6, F7, IGFALS, SKAP1, MEIS3, SLC7A8, MY...</td>\n",
       "      <td>{TCGA-C8-A1HK-01, TCGA-E2-A1II-01, TCGA-A8-A0A...</td>\n",
       "      <td>{}</td>\n",
       "      <td>{TMPRSS6, IGFALS, F7, SKAP1, MEIS3, SLC7A8, MY...</td>\n",
       "      <td>{3596, 1529, 5647, 11795, 13331, 20, 4117, 719...</td>\n",
       "      <td>{128, 2, 131, 4, 132, 134, 7, 135, 136, 139, 1...</td>\n",
       "      <td>DOWN</td>\n",
       "      <td>6</td>\n",
       "    </tr>\n",
       "    <tr>\n",
       "      <th>3</th>\n",
       "      <td>2.241991</td>\n",
       "      <td>17</td>\n",
       "      <td>16</td>\n",
       "      <td>{VCX, TUBA3C, VCX3A, MAGEC1, XAGE1B, PAGE2, OR...</td>\n",
       "      <td>{TCGA-BH-A0H7-01, TCGA-A8-A0A7-01, TCGA-AN-A0X...</td>\n",
       "      <td>{VCX, XAGE1B, TUBA3C, VCX3A, MAGEC1, PAGE2, OR...</td>\n",
       "      <td>{}</td>\n",
       "      <td>{13696, 9732, 12326, 8873, 649, 7342, 2895, 11...</td>\n",
       "      <td>{97, 66, 39, 105, 10, 187, 46, 142, 80, 113, 6...</td>\n",
       "      <td>UP</td>\n",
       "      <td>5</td>\n",
       "    </tr>\n",
       "    <tr>\n",
       "      <th>4</th>\n",
       "      <td>2.166532</td>\n",
       "      <td>15</td>\n",
       "      <td>19</td>\n",
       "      <td>{MAGEA12, MAGEA2, MAGEB1, ZNF716, CSAG2, MAGEA...</td>\n",
       "      <td>{TCGA-A8-A0A7-01, TCGA-BH-A0HX-01, TCGA-B6-A0X...</td>\n",
       "      <td>{MAGEA12, MAGEA2, MAGEB1, GABRA3, ZNF716, CSAG...</td>\n",
       "      <td>{}</td>\n",
       "      <td>{3011, 3012, 7332, 7334, 7335, 7333, 7337, 426...</td>\n",
       "      <td>{2, 10, 12, 13, 142, 30, 36, 39, 46, 55, 187, ...</td>\n",
       "      <td>UP</td>\n",
       "      <td>5</td>\n",
       "    </tr>\n",
       "    <tr>\n",
       "      <th>5</th>\n",
       "      <td>2.142621</td>\n",
       "      <td>2</td>\n",
       "      <td>21</td>\n",
       "      <td>{PRDM13, CALCB}</td>\n",
       "      <td>{TCGA-GI-A2C9-01, TCGA-AR-A0TS-01, TCGA-BH-A0A...</td>\n",
       "      <td>{PRDM13, CALCB}</td>\n",
       "      <td>{}</td>\n",
       "      <td>{1800, 9877}</td>\n",
       "      <td>{139, 12, 13, 143, 145, 19, 22, 157, 176, 189,...</td>\n",
       "      <td>UP</td>\n",
       "      <td>2</td>\n",
       "    </tr>\n",
       "    <tr>\n",
       "      <th>6</th>\n",
       "      <td>2.033547</td>\n",
       "      <td>6</td>\n",
       "      <td>17</td>\n",
       "      <td>{CHGB, CARTPT, INSM1, VTN, GATA4, MUC2}</td>\n",
       "      <td>{TCGA-C8-A1HK-01, TCGA-A1-A0SQ-01, TCGA-E2-A15...</td>\n",
       "      <td>{CHGB, CARTPT, INSM1, VTN, GATA4, MUC2}</td>\n",
       "      <td>{}</td>\n",
       "      <td>{4978, 1875, 14133, 6201, 2491, 8060}</td>\n",
       "      <td>{0, 130, 3, 35, 162, 122, 134, 168, 77, 177, 1...</td>\n",
       "      <td>UP</td>\n",
       "      <td>7</td>\n",
       "    </tr>\n",
       "    <tr>\n",
       "      <th>7</th>\n",
       "      <td>2.013603</td>\n",
       "      <td>2</td>\n",
       "      <td>17</td>\n",
       "      <td>{ODAM, PRR27}</td>\n",
       "      <td>{TCGA-E2-A1II-01, TCGA-A1-A0SO-01, TCGA-AR-A0U...</td>\n",
       "      <td>{ODAM, PRR27}</td>\n",
       "      <td>{}</td>\n",
       "      <td>{8819, 9996}</td>\n",
       "      <td>{2, 4, 165, 102, 166, 105, 139, 78, 79, 48, 19...</td>\n",
       "      <td>UP</td>\n",
       "      <td>2</td>\n",
       "    </tr>\n",
       "    <tr>\n",
       "      <th>8</th>\n",
       "      <td>1.98849</td>\n",
       "      <td>2</td>\n",
       "      <td>54</td>\n",
       "      <td>{ZIC1, ZIC4}</td>\n",
       "      <td>{TCGA-AQ-A1H2-01, TCGA-AN-A0FL-01, TCGA-GI-A2C...</td>\n",
       "      <td>{ZIC1, ZIC4}</td>\n",
       "      <td>{}</td>\n",
       "      <td>{14540, 14543}</td>\n",
       "      <td>{1, 2, 131, 132, 5, 7, 136, 137, 139, 12, 13, ...</td>\n",
       "      <td>UP</td>\n",
       "      <td>2</td>\n",
       "    </tr>\n",
       "    <tr>\n",
       "      <th>9</th>\n",
       "      <td>1.970164</td>\n",
       "      <td>15</td>\n",
       "      <td>28</td>\n",
       "      <td>{LHX2, ATP2B3, CALCA, USH1G, TLX3, IGSF23, SLC...</td>\n",
       "      <td>{TCGA-GI-A2C9-01, TCGA-AR-A0TS-01, TCGA-BH-A0A...</td>\n",
       "      <td>{LHX2, ATP2B3, CALCA, USH1G, TLX3, IGSF23, SLC...</td>\n",
       "      <td>{}</td>\n",
       "      <td>{13952, 6080, 12997, 4774, 1799, 4778, 8589, 5...</td>\n",
       "      <td>{131, 7, 139, 13, 142, 145, 19, 147, 157, 162,...</td>\n",
       "      <td>UP</td>\n",
       "      <td>5</td>\n",
       "    </tr>\n",
       "  </tbody>\n",
       "</table>\n",
       "</div>"
      ],
      "text/plain": [
       "        SNR n_genes n_samples  \\\n",
       "0  3.236828     211        36   \n",
       "1    2.5962       2        12   \n",
       "2  2.462216     146        47   \n",
       "3  2.241991      17        16   \n",
       "4  2.166532      15        19   \n",
       "5  2.142621       2        21   \n",
       "6  2.033547       6        17   \n",
       "7  2.013603       2        17   \n",
       "8   1.98849       2        54   \n",
       "9  1.970164      15        28   \n",
       "\n",
       "                                               genes  \\\n",
       "0  {FOXD1, LMAN1L, RASGEF1C, GABBR2, CALML5, STRA...   \n",
       "1                                   {RIPPLY2, NTSR2}   \n",
       "2  {TMPRSS6, F7, IGFALS, SKAP1, MEIS3, SLC7A8, MY...   \n",
       "3  {VCX, TUBA3C, VCX3A, MAGEC1, XAGE1B, PAGE2, OR...   \n",
       "4  {MAGEA12, MAGEA2, MAGEB1, ZNF716, CSAG2, MAGEA...   \n",
       "5                                    {PRDM13, CALCB}   \n",
       "6            {CHGB, CARTPT, INSM1, VTN, GATA4, MUC2}   \n",
       "7                                      {ODAM, PRR27}   \n",
       "8                                       {ZIC1, ZIC4}   \n",
       "9  {LHX2, ATP2B3, CALCA, USH1G, TLX3, IGSF23, SLC...   \n",
       "\n",
       "                                             samples  \\\n",
       "0  {TCGA-E2-A1II-01, TCGA-AN-A0FL-01, TCGA-GI-A2C...   \n",
       "1  {TCGA-E2-A1II-01, TCGA-A1-A0SO-01, TCGA-A2-A0D...   \n",
       "2  {TCGA-C8-A1HK-01, TCGA-E2-A1II-01, TCGA-A8-A0A...   \n",
       "3  {TCGA-BH-A0H7-01, TCGA-A8-A0A7-01, TCGA-AN-A0X...   \n",
       "4  {TCGA-A8-A0A7-01, TCGA-BH-A0HX-01, TCGA-B6-A0X...   \n",
       "5  {TCGA-GI-A2C9-01, TCGA-AR-A0TS-01, TCGA-BH-A0A...   \n",
       "6  {TCGA-C8-A1HK-01, TCGA-A1-A0SQ-01, TCGA-E2-A15...   \n",
       "7  {TCGA-E2-A1II-01, TCGA-A1-A0SO-01, TCGA-AR-A0U...   \n",
       "8  {TCGA-AQ-A1H2-01, TCGA-AN-A0FL-01, TCGA-GI-A2C...   \n",
       "9  {TCGA-GI-A2C9-01, TCGA-AR-A0TS-01, TCGA-BH-A0A...   \n",
       "\n",
       "                                            genes_up  \\\n",
       "0  {FOXD1, LMAN1L, RASGEF1C, GABBR2, CALML5, STRA...   \n",
       "1                                   {RIPPLY2, NTSR2}   \n",
       "2                                                 {}   \n",
       "3  {VCX, XAGE1B, TUBA3C, VCX3A, MAGEC1, PAGE2, OR...   \n",
       "4  {MAGEA12, MAGEA2, MAGEB1, GABRA3, ZNF716, CSAG...   \n",
       "5                                    {PRDM13, CALCB}   \n",
       "6            {CHGB, CARTPT, INSM1, VTN, GATA4, MUC2}   \n",
       "7                                      {ODAM, PRR27}   \n",
       "8                                       {ZIC1, ZIC4}   \n",
       "9  {LHX2, ATP2B3, CALCA, USH1G, TLX3, IGSF23, SLC...   \n",
       "\n",
       "                                          genes_down  \\\n",
       "0  {AGR2, GATA3, PRR15, FOXA1, SEMA3C, TMC5, SLC4...   \n",
       "1                                                 {}   \n",
       "2  {TMPRSS6, IGFALS, F7, SKAP1, MEIS3, SLC7A8, MY...   \n",
       "3                                                 {}   \n",
       "4                                                 {}   \n",
       "5                                                 {}   \n",
       "6                                                 {}   \n",
       "7                                                 {}   \n",
       "8                                                 {}   \n",
       "9                                                 {}   \n",
       "\n",
       "                                        gene_indexes  \\\n",
       "0  {9729, 12290, 3077, 5647, 7695, 1553, 3602, 11...   \n",
       "1                                      {8720, 10689}   \n",
       "2  {3596, 1529, 5647, 11795, 13331, 20, 4117, 719...   \n",
       "3  {13696, 9732, 12326, 8873, 649, 7342, 2895, 11...   \n",
       "4  {3011, 3012, 7332, 7334, 7335, 7333, 7337, 426...   \n",
       "5                                       {1800, 9877}   \n",
       "6              {4978, 1875, 14133, 6201, 2491, 8060}   \n",
       "7                                       {8819, 9996}   \n",
       "8                                     {14540, 14543}   \n",
       "9  {13952, 6080, 12997, 4774, 1799, 4778, 8589, 5...   \n",
       "\n",
       "                                      sample_indexes direction  \\\n",
       "0  {128, 2, 131, 4, 7, 136, 139, 12, 13, 145, 19,...      BOTH   \n",
       "1  {96, 33, 2, 162, 193, 165, 198, 7, 13, 21, 86,...        UP   \n",
       "2  {128, 2, 131, 4, 132, 134, 7, 135, 136, 139, 1...      DOWN   \n",
       "3  {97, 66, 39, 105, 10, 187, 46, 142, 80, 113, 6...        UP   \n",
       "4  {2, 10, 12, 13, 142, 30, 36, 39, 46, 55, 187, ...        UP   \n",
       "5  {139, 12, 13, 143, 145, 19, 22, 157, 176, 189,...        UP   \n",
       "6  {0, 130, 3, 35, 162, 122, 134, 168, 77, 177, 1...        UP   \n",
       "7  {2, 4, 165, 102, 166, 105, 139, 78, 79, 48, 19...        UP   \n",
       "8  {1, 2, 131, 132, 5, 7, 136, 137, 139, 12, 13, ...        UP   \n",
       "9  {131, 7, 139, 13, 142, 145, 19, 147, 157, 162,...        UP   \n",
       "\n",
       "   detected_n_times  \n",
       "0                 9  \n",
       "1                 2  \n",
       "2                 6  \n",
       "3                 5  \n",
       "4                 5  \n",
       "5                 2  \n",
       "6                 7  \n",
       "7                 2  \n",
       "8                 2  \n",
       "9                 5  "
      ]
     },
     "execution_count": 8,
     "metadata": {},
     "output_type": "execute_result"
    }
   ],
   "source": [
    "consensus_biclusters.head(10)"
   ]
  },
  {
   "cell_type": "code",
   "execution_count": 9,
   "id": "resistant-short",
   "metadata": {},
   "outputs": [
    {
     "data": {
      "text/html": [
       "<div>\n",
       "<style scoped>\n",
       "    .dataframe tbody tr th:only-of-type {\n",
       "        vertical-align: middle;\n",
       "    }\n",
       "\n",
       "    .dataframe tbody tr th {\n",
       "        vertical-align: top;\n",
       "    }\n",
       "\n",
       "    .dataframe thead th {\n",
       "        text-align: right;\n",
       "    }\n",
       "</style>\n",
       "<table border=\"1\" class=\"dataframe\">\n",
       "  <thead>\n",
       "    <tr style=\"text-align: right;\">\n",
       "      <th></th>\n",
       "      <th>SNR</th>\n",
       "      <th>n_genes</th>\n",
       "      <th>n_samples</th>\n",
       "      <th>genes</th>\n",
       "      <th>samples</th>\n",
       "      <th>genes_up</th>\n",
       "      <th>genes_down</th>\n",
       "      <th>gene_indexes</th>\n",
       "      <th>sample_indexes</th>\n",
       "      <th>direction</th>\n",
       "      <th>detected_n_times</th>\n",
       "    </tr>\n",
       "  </thead>\n",
       "  <tbody>\n",
       "    <tr>\n",
       "      <th>22</th>\n",
       "      <td>1.749853</td>\n",
       "      <td>15</td>\n",
       "      <td>20</td>\n",
       "      <td>{NXPH1, STARD3, KRT24, DMRTC2, ERBB2, PGAP3, Z...</td>\n",
       "      <td>{TCGA-C8-A1HK-01, TCGA-A8-A0A7-01, TCGA-B6-A0I...</td>\n",
       "      <td>{NXPH1, STARD3, DMRTC2, KRT24, ERBB2, PGAP3, Z...</td>\n",
       "      <td>{}</td>\n",
       "      <td>{3552, 14946, 10075, 12099, 13254, 11338, 1287...</td>\n",
       "      <td>{129, 132, 134, 149, 28, 29, 39, 46, 47, 54, 6...</td>\n",
       "      <td>UP</td>\n",
       "      <td>5</td>\n",
       "    </tr>\n",
       "  </tbody>\n",
       "</table>\n",
       "</div>"
      ],
      "text/plain": [
       "         SNR n_genes n_samples  \\\n",
       "22  1.749853      15        20   \n",
       "\n",
       "                                                genes  \\\n",
       "22  {NXPH1, STARD3, KRT24, DMRTC2, ERBB2, PGAP3, Z...   \n",
       "\n",
       "                                              samples  \\\n",
       "22  {TCGA-C8-A1HK-01, TCGA-A8-A0A7-01, TCGA-B6-A0I...   \n",
       "\n",
       "                                             genes_up genes_down  \\\n",
       "22  {NXPH1, STARD3, DMRTC2, KRT24, ERBB2, PGAP3, Z...         {}   \n",
       "\n",
       "                                         gene_indexes  \\\n",
       "22  {3552, 14946, 10075, 12099, 13254, 11338, 1287...   \n",
       "\n",
       "                                       sample_indexes direction  \\\n",
       "22  {129, 132, 134, 149, 28, 29, 39, 46, 47, 54, 6...        UP   \n",
       "\n",
       "    detected_n_times  \n",
       "22                 5  "
      ]
     },
     "execution_count": 9,
     "metadata": {},
     "output_type": "execute_result"
    }
   ],
   "source": [
    "g = \"ERBB2\"\n",
    "b= consensus_biclusters\n",
    "b[b[\"genes\"].apply(lambda x: g in x)]"
   ]
  },
  {
   "cell_type": "code",
   "execution_count": 10,
   "id": "magnetic-small",
   "metadata": {},
   "outputs": [
    {
     "data": {
      "text/html": [
       "<div>\n",
       "<style scoped>\n",
       "    .dataframe tbody tr th:only-of-type {\n",
       "        vertical-align: middle;\n",
       "    }\n",
       "\n",
       "    .dataframe tbody tr th {\n",
       "        vertical-align: top;\n",
       "    }\n",
       "\n",
       "    .dataframe thead th {\n",
       "        text-align: right;\n",
       "    }\n",
       "</style>\n",
       "<table border=\"1\" class=\"dataframe\">\n",
       "  <thead>\n",
       "    <tr style=\"text-align: right;\">\n",
       "      <th></th>\n",
       "      <th>SNR</th>\n",
       "      <th>n_genes</th>\n",
       "      <th>n_samples</th>\n",
       "      <th>genes</th>\n",
       "      <th>samples</th>\n",
       "      <th>genes_up</th>\n",
       "      <th>genes_down</th>\n",
       "      <th>gene_indexes</th>\n",
       "      <th>sample_indexes</th>\n",
       "      <th>direction</th>\n",
       "      <th>detected_n_times</th>\n",
       "    </tr>\n",
       "  </thead>\n",
       "  <tbody>\n",
       "    <tr>\n",
       "      <th>2</th>\n",
       "      <td>2.462216</td>\n",
       "      <td>146</td>\n",
       "      <td>47</td>\n",
       "      <td>{TMPRSS6, F7, IGFALS, SKAP1, MEIS3, SLC7A8, MY...</td>\n",
       "      <td>{TCGA-C8-A1HK-01, TCGA-E2-A1II-01, TCGA-A8-A0A...</td>\n",
       "      <td>{}</td>\n",
       "      <td>{TMPRSS6, IGFALS, F7, SKAP1, MEIS3, SLC7A8, MY...</td>\n",
       "      <td>{3596, 1529, 5647, 11795, 13331, 20, 4117, 719...</td>\n",
       "      <td>{128, 2, 131, 4, 132, 134, 7, 135, 136, 139, 1...</td>\n",
       "      <td>DOWN</td>\n",
       "      <td>6</td>\n",
       "    </tr>\n",
       "  </tbody>\n",
       "</table>\n",
       "</div>"
      ],
      "text/plain": [
       "        SNR n_genes n_samples  \\\n",
       "2  2.462216     146        47   \n",
       "\n",
       "                                               genes  \\\n",
       "2  {TMPRSS6, F7, IGFALS, SKAP1, MEIS3, SLC7A8, MY...   \n",
       "\n",
       "                                             samples genes_up  \\\n",
       "2  {TCGA-C8-A1HK-01, TCGA-E2-A1II-01, TCGA-A8-A0A...       {}   \n",
       "\n",
       "                                          genes_down  \\\n",
       "2  {TMPRSS6, IGFALS, F7, SKAP1, MEIS3, SLC7A8, MY...   \n",
       "\n",
       "                                        gene_indexes  \\\n",
       "2  {3596, 1529, 5647, 11795, 13331, 20, 4117, 719...   \n",
       "\n",
       "                                      sample_indexes direction  \\\n",
       "2  {128, 2, 131, 4, 132, 134, 7, 135, 136, 139, 1...      DOWN   \n",
       "\n",
       "   detected_n_times  \n",
       "2                 6  "
      ]
     },
     "execution_count": 10,
     "metadata": {},
     "output_type": "execute_result"
    }
   ],
   "source": [
    "g = \"ESR1\"\n",
    "b[b[\"genes\"].apply(lambda x: g in x)]"
   ]
  },
  {
   "cell_type": "code",
   "execution_count": 11,
   "id": "living-london",
   "metadata": {},
   "outputs": [
    {
     "data": {
      "text/html": [
       "<div>\n",
       "<style scoped>\n",
       "    .dataframe tbody tr th:only-of-type {\n",
       "        vertical-align: middle;\n",
       "    }\n",
       "\n",
       "    .dataframe tbody tr th {\n",
       "        vertical-align: top;\n",
       "    }\n",
       "\n",
       "    .dataframe thead th {\n",
       "        text-align: right;\n",
       "    }\n",
       "</style>\n",
       "<table border=\"1\" class=\"dataframe\">\n",
       "  <thead>\n",
       "    <tr style=\"text-align: right;\">\n",
       "      <th></th>\n",
       "      <th>SNR</th>\n",
       "      <th>n_genes</th>\n",
       "      <th>n_samples</th>\n",
       "      <th>genes</th>\n",
       "      <th>samples</th>\n",
       "      <th>genes_up</th>\n",
       "      <th>genes_down</th>\n",
       "      <th>gene_indexes</th>\n",
       "      <th>sample_indexes</th>\n",
       "      <th>direction</th>\n",
       "      <th>detected_n_times</th>\n",
       "    </tr>\n",
       "  </thead>\n",
       "  <tbody>\n",
       "    <tr>\n",
       "      <th>0</th>\n",
       "      <td>3.236828</td>\n",
       "      <td>211</td>\n",
       "      <td>36</td>\n",
       "      <td>{FOXD1, LMAN1L, RASGEF1C, GABBR2, CALML5, STRA...</td>\n",
       "      <td>{TCGA-E2-A1II-01, TCGA-AN-A0FL-01, TCGA-GI-A2C...</td>\n",
       "      <td>{FOXD1, LMAN1L, RASGEF1C, GABBR2, CALML5, STRA...</td>\n",
       "      <td>{AGR2, GATA3, PRR15, FOXA1, SEMA3C, TMC5, SLC4...</td>\n",
       "      <td>{9729, 12290, 3077, 5647, 7695, 1553, 3602, 11...</td>\n",
       "      <td>{128, 2, 131, 4, 7, 136, 139, 12, 13, 145, 19,...</td>\n",
       "      <td>BOTH</td>\n",
       "      <td>9</td>\n",
       "    </tr>\n",
       "    <tr>\n",
       "      <th>2</th>\n",
       "      <td>2.462216</td>\n",
       "      <td>146</td>\n",
       "      <td>47</td>\n",
       "      <td>{TMPRSS6, F7, IGFALS, SKAP1, MEIS3, SLC7A8, MY...</td>\n",
       "      <td>{TCGA-C8-A1HK-01, TCGA-E2-A1II-01, TCGA-A8-A0A...</td>\n",
       "      <td>{}</td>\n",
       "      <td>{TMPRSS6, IGFALS, F7, SKAP1, MEIS3, SLC7A8, MY...</td>\n",
       "      <td>{3596, 1529, 5647, 11795, 13331, 20, 4117, 719...</td>\n",
       "      <td>{128, 2, 131, 4, 132, 134, 7, 135, 136, 139, 1...</td>\n",
       "      <td>DOWN</td>\n",
       "      <td>6</td>\n",
       "    </tr>\n",
       "  </tbody>\n",
       "</table>\n",
       "</div>"
      ],
      "text/plain": [
       "        SNR n_genes n_samples  \\\n",
       "0  3.236828     211        36   \n",
       "2  2.462216     146        47   \n",
       "\n",
       "                                               genes  \\\n",
       "0  {FOXD1, LMAN1L, RASGEF1C, GABBR2, CALML5, STRA...   \n",
       "2  {TMPRSS6, F7, IGFALS, SKAP1, MEIS3, SLC7A8, MY...   \n",
       "\n",
       "                                             samples  \\\n",
       "0  {TCGA-E2-A1II-01, TCGA-AN-A0FL-01, TCGA-GI-A2C...   \n",
       "2  {TCGA-C8-A1HK-01, TCGA-E2-A1II-01, TCGA-A8-A0A...   \n",
       "\n",
       "                                            genes_up  \\\n",
       "0  {FOXD1, LMAN1L, RASGEF1C, GABBR2, CALML5, STRA...   \n",
       "2                                                 {}   \n",
       "\n",
       "                                          genes_down  \\\n",
       "0  {AGR2, GATA3, PRR15, FOXA1, SEMA3C, TMC5, SLC4...   \n",
       "2  {TMPRSS6, IGFALS, F7, SKAP1, MEIS3, SLC7A8, MY...   \n",
       "\n",
       "                                        gene_indexes  \\\n",
       "0  {9729, 12290, 3077, 5647, 7695, 1553, 3602, 11...   \n",
       "2  {3596, 1529, 5647, 11795, 13331, 20, 4117, 719...   \n",
       "\n",
       "                                      sample_indexes direction  \\\n",
       "0  {128, 2, 131, 4, 7, 136, 139, 12, 13, 145, 19,...      BOTH   \n",
       "2  {128, 2, 131, 4, 132, 134, 7, 135, 136, 139, 1...      DOWN   \n",
       "\n",
       "   detected_n_times  \n",
       "0                 9  \n",
       "2                 6  "
      ]
     },
     "execution_count": 11,
     "metadata": {},
     "output_type": "execute_result"
    }
   ],
   "source": [
    "g = \"FOXA1\"\n",
    "b= consensus_biclusters\n",
    "b[b[\"genes\"].apply(lambda x: g in x)]"
   ]
  },
  {
   "cell_type": "code",
   "execution_count": 12,
   "id": "tested-consideration",
   "metadata": {},
   "outputs": [
    {
     "data": {
      "text/html": [
       "<div>\n",
       "<style scoped>\n",
       "    .dataframe tbody tr th:only-of-type {\n",
       "        vertical-align: middle;\n",
       "    }\n",
       "\n",
       "    .dataframe tbody tr th {\n",
       "        vertical-align: top;\n",
       "    }\n",
       "\n",
       "    .dataframe thead th {\n",
       "        text-align: right;\n",
       "    }\n",
       "</style>\n",
       "<table border=\"1\" class=\"dataframe\">\n",
       "  <thead>\n",
       "    <tr style=\"text-align: right;\">\n",
       "      <th></th>\n",
       "      <th>SNR</th>\n",
       "      <th>n_genes</th>\n",
       "      <th>n_samples</th>\n",
       "      <th>genes</th>\n",
       "      <th>samples</th>\n",
       "      <th>genes_up</th>\n",
       "      <th>genes_down</th>\n",
       "      <th>gene_indexes</th>\n",
       "      <th>sample_indexes</th>\n",
       "      <th>direction</th>\n",
       "      <th>detected_n_times</th>\n",
       "    </tr>\n",
       "  </thead>\n",
       "  <tbody>\n",
       "    <tr>\n",
       "      <th>28</th>\n",
       "      <td>1.72422</td>\n",
       "      <td>10</td>\n",
       "      <td>10</td>\n",
       "      <td>{LRTM2, CARTPT, PCSK2, KCNH6, LIN28A, SEZ6, CP...</td>\n",
       "      <td>{TCGA-C8-A1HK-01, TCGA-E2-A15S-01, TCGA-E2-A56...</td>\n",
       "      <td>{LRTM2, CARTPT, PCSK2, KCNH6, LIN28A, SEZ6, CP...</td>\n",
       "      <td>{}</td>\n",
       "      <td>{11392, 2913, 12579, 6442, 12523, 1875, 9140, ...</td>\n",
       "      <td>{33, 162, 134, 168, 17, 177, 178, 21, 122, 188}</td>\n",
       "      <td>UP</td>\n",
       "      <td>8</td>\n",
       "    </tr>\n",
       "  </tbody>\n",
       "</table>\n",
       "</div>"
      ],
      "text/plain": [
       "        SNR n_genes n_samples  \\\n",
       "28  1.72422      10        10   \n",
       "\n",
       "                                                genes  \\\n",
       "28  {LRTM2, CARTPT, PCSK2, KCNH6, LIN28A, SEZ6, CP...   \n",
       "\n",
       "                                              samples  \\\n",
       "28  {TCGA-C8-A1HK-01, TCGA-E2-A15S-01, TCGA-E2-A56...   \n",
       "\n",
       "                                             genes_up genes_down  \\\n",
       "28  {LRTM2, CARTPT, PCSK2, KCNH6, LIN28A, SEZ6, CP...         {}   \n",
       "\n",
       "                                         gene_indexes  \\\n",
       "28  {11392, 2913, 12579, 6442, 12523, 1875, 9140, ...   \n",
       "\n",
       "                                     sample_indexes direction  \\\n",
       "28  {33, 162, 134, 168, 17, 177, 178, 21, 122, 188}        UP   \n",
       "\n",
       "    detected_n_times  \n",
       "28                 8  "
      ]
     },
     "execution_count": 12,
     "metadata": {},
     "output_type": "execute_result"
    }
   ],
   "source": [
    "g = \"SEZ6\"\n",
    "b= consensus_biclusters\n",
    "b[b[\"genes\"].apply(lambda x: g in x)]"
   ]
  },
  {
   "cell_type": "code",
   "execution_count": 13,
   "id": "practical-mauritius",
   "metadata": {},
   "outputs": [],
   "source": [
    "from utils.figs import draw_heatmap2,draw_heatmap\n",
    "from utils.method import zscore"
   ]
  },
  {
   "cell_type": "code",
   "execution_count": 15,
   "id": "neither-pontiac",
   "metadata": {},
   "outputs": [
    {
     "name": "stdout",
     "output_type": "stream",
     "text": [
      "genes in  [4, 28, 22]   : 40\n"
     ]
    },
    {
     "data": {
      "image/png": "[encoded data removed]",
      "text/plain": [
       "<Figure size 1080x504 with 5 Axes>"
      ]
     },
     "metadata": {
      "needs_background": "light"
     },
     "output_type": "display_data"
    }
   ],
   "source": [
    "i = [4,28,22]\n",
    "b = consensus_biclusters.loc[i,:]\n",
    "\n",
    "show_genes = []\n",
    "for j in b.index.values:\n",
    "    show_genes += sorted(b.loc[j,\"genes_down\"])+sorted(b.loc[j,\"genes_up\"])\n",
    "show_genes= sorted(set(show_genes))\n",
    "print(\"genes in \",i,\"  :\",len(show_genes))\n",
    "tmp = draw_heatmap2(zscore(exprs.loc[show_genes,:]),b,cluster_rows=False,\n",
    "                    col_labels = False,row_labels = True,\n",
    "                    figsize = (15,7),bic_prefix = \"bic.\")"
   ]
  },
  {
   "cell_type": "code",
   "execution_count": null,
   "id": "polished-recovery",
   "metadata": {},
   "outputs": [],
   "source": []
  },
  {
   "cell_type": "code",
   "execution_count": null,
   "id": "married-tactics",
   "metadata": {},
   "outputs": [],
   "source": []
  },
  {
   "cell_type": "code",
   "execution_count": null,
   "id": "australian-indonesia",
   "metadata": {},
   "outputs": [],
   "source": []
  }
 ],
 "metadata": {
  "kernelspec": {
   "display_name": "Python 3",
   "language": "python",
   "name": "python3"
  },
  "language_info": {
   "codemirror_mode": {
    "name": "ipython",
    "version": 3
   },
   "file_extension": ".py",
   "mimetype": "text/x-python",
   "name": "python",
   "nbconvert_exporter": "python",
   "pygments_lexer": "ipython3",
   "version": "3.8.3"
  }
 },
 "nbformat": 4,
 "nbformat_minor": 5
}
